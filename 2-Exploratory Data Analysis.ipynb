{
 "cells": [
  {
   "cell_type": "markdown",
   "metadata": {},
   "source": [
    "# Research on car sales ads"
   ]
  },
  {
   "cell_type": "markdown",
   "metadata": {},
   "source": [
    "As analysts at Crankshaft List where hundreds of free advertisements for vehicles are published on our site every day, we have studied the data collected over the last few years in order to determine which factors influence the price of a vehicle. In this project, we will follow the methodology as following:\n",
    "- Open the data file and study the general information.\n",
    "- Data preprocessing including handling missing values and converting data to required types.\n",
    "- Add calculations and necessary columns as required for the analysis.\n",
    "- Carry exploratory data analysis following the project instruction.\n",
    "- Final conclusion."
   ]
  },
  {
   "cell_type": "markdown",
   "metadata": {},
   "source": [
    "## Open the data file and study the general information. "
   ]
  },
  {
   "cell_type": "code",
   "execution_count": 1,
   "metadata": {},
   "outputs": [],
   "source": [
    "#Libraries and project environment setup:\n",
    "\n",
    "##Pandas and numpy for data preprocessing and manipulation\n",
    "import pandas as pd\n",
    "import numpy as np\n",
    "\n",
    "##Matplotlib for visualization\n",
    "import matplotlib.pyplot as plt\n",
    "\n",
    "##Remove warnings\n",
    "import sys\n",
    "import warnings\n",
    "if not sys.warnoptions:\n",
    "    warnings.simplefilter(\"ignore\");"
   ]
  },
  {
   "cell_type": "code",
   "execution_count": 2,
   "metadata": {},
   "outputs": [
    {
     "data": {
      "text/html": [
       "<div>\n",
       "<style scoped>\n",
       "    .dataframe tbody tr th:only-of-type {\n",
       "        vertical-align: middle;\n",
       "    }\n",
       "\n",
       "    .dataframe tbody tr th {\n",
       "        vertical-align: top;\n",
       "    }\n",
       "\n",
       "    .dataframe thead th {\n",
       "        text-align: right;\n",
       "    }\n",
       "</style>\n",
       "<table border=\"1\" class=\"dataframe\">\n",
       "  <thead>\n",
       "    <tr style=\"text-align: right;\">\n",
       "      <th></th>\n",
       "      <th>price</th>\n",
       "      <th>model_year</th>\n",
       "      <th>model</th>\n",
       "      <th>condition</th>\n",
       "      <th>cylinders</th>\n",
       "      <th>fuel</th>\n",
       "      <th>odometer</th>\n",
       "      <th>transmission</th>\n",
       "      <th>type</th>\n",
       "      <th>paint_color</th>\n",
       "      <th>is_4wd</th>\n",
       "      <th>date_posted</th>\n",
       "      <th>days_listed</th>\n",
       "    </tr>\n",
       "  </thead>\n",
       "  <tbody>\n",
       "    <tr>\n",
       "      <th>0</th>\n",
       "      <td>9400</td>\n",
       "      <td>2011.0</td>\n",
       "      <td>bmw x5</td>\n",
       "      <td>good</td>\n",
       "      <td>6.0</td>\n",
       "      <td>gas</td>\n",
       "      <td>145000.0</td>\n",
       "      <td>automatic</td>\n",
       "      <td>SUV</td>\n",
       "      <td>NaN</td>\n",
       "      <td>1.0</td>\n",
       "      <td>2018-06-23</td>\n",
       "      <td>19</td>\n",
       "    </tr>\n",
       "    <tr>\n",
       "      <th>1</th>\n",
       "      <td>25500</td>\n",
       "      <td>NaN</td>\n",
       "      <td>ford f-150</td>\n",
       "      <td>good</td>\n",
       "      <td>6.0</td>\n",
       "      <td>gas</td>\n",
       "      <td>88705.0</td>\n",
       "      <td>automatic</td>\n",
       "      <td>pickup</td>\n",
       "      <td>white</td>\n",
       "      <td>1.0</td>\n",
       "      <td>2018-10-19</td>\n",
       "      <td>50</td>\n",
       "    </tr>\n",
       "    <tr>\n",
       "      <th>2</th>\n",
       "      <td>5500</td>\n",
       "      <td>2013.0</td>\n",
       "      <td>hyundai sonata</td>\n",
       "      <td>like new</td>\n",
       "      <td>4.0</td>\n",
       "      <td>gas</td>\n",
       "      <td>110000.0</td>\n",
       "      <td>automatic</td>\n",
       "      <td>sedan</td>\n",
       "      <td>red</td>\n",
       "      <td>NaN</td>\n",
       "      <td>2019-02-07</td>\n",
       "      <td>79</td>\n",
       "    </tr>\n",
       "    <tr>\n",
       "      <th>3</th>\n",
       "      <td>1500</td>\n",
       "      <td>2003.0</td>\n",
       "      <td>ford f-150</td>\n",
       "      <td>fair</td>\n",
       "      <td>8.0</td>\n",
       "      <td>gas</td>\n",
       "      <td>NaN</td>\n",
       "      <td>automatic</td>\n",
       "      <td>pickup</td>\n",
       "      <td>NaN</td>\n",
       "      <td>NaN</td>\n",
       "      <td>2019-03-22</td>\n",
       "      <td>9</td>\n",
       "    </tr>\n",
       "    <tr>\n",
       "      <th>4</th>\n",
       "      <td>14900</td>\n",
       "      <td>2017.0</td>\n",
       "      <td>chrysler 200</td>\n",
       "      <td>excellent</td>\n",
       "      <td>4.0</td>\n",
       "      <td>gas</td>\n",
       "      <td>80903.0</td>\n",
       "      <td>automatic</td>\n",
       "      <td>sedan</td>\n",
       "      <td>black</td>\n",
       "      <td>NaN</td>\n",
       "      <td>2019-04-02</td>\n",
       "      <td>28</td>\n",
       "    </tr>\n",
       "    <tr>\n",
       "      <th>...</th>\n",
       "      <td>...</td>\n",
       "      <td>...</td>\n",
       "      <td>...</td>\n",
       "      <td>...</td>\n",
       "      <td>...</td>\n",
       "      <td>...</td>\n",
       "      <td>...</td>\n",
       "      <td>...</td>\n",
       "      <td>...</td>\n",
       "      <td>...</td>\n",
       "      <td>...</td>\n",
       "      <td>...</td>\n",
       "      <td>...</td>\n",
       "    </tr>\n",
       "    <tr>\n",
       "      <th>51520</th>\n",
       "      <td>9249</td>\n",
       "      <td>2013.0</td>\n",
       "      <td>nissan maxima</td>\n",
       "      <td>like new</td>\n",
       "      <td>6.0</td>\n",
       "      <td>gas</td>\n",
       "      <td>88136.0</td>\n",
       "      <td>automatic</td>\n",
       "      <td>sedan</td>\n",
       "      <td>black</td>\n",
       "      <td>NaN</td>\n",
       "      <td>2018-10-03</td>\n",
       "      <td>37</td>\n",
       "    </tr>\n",
       "    <tr>\n",
       "      <th>51521</th>\n",
       "      <td>2700</td>\n",
       "      <td>2002.0</td>\n",
       "      <td>honda civic</td>\n",
       "      <td>salvage</td>\n",
       "      <td>4.0</td>\n",
       "      <td>gas</td>\n",
       "      <td>181500.0</td>\n",
       "      <td>automatic</td>\n",
       "      <td>sedan</td>\n",
       "      <td>white</td>\n",
       "      <td>NaN</td>\n",
       "      <td>2018-11-14</td>\n",
       "      <td>22</td>\n",
       "    </tr>\n",
       "    <tr>\n",
       "      <th>51522</th>\n",
       "      <td>3950</td>\n",
       "      <td>2009.0</td>\n",
       "      <td>hyundai sonata</td>\n",
       "      <td>excellent</td>\n",
       "      <td>4.0</td>\n",
       "      <td>gas</td>\n",
       "      <td>128000.0</td>\n",
       "      <td>automatic</td>\n",
       "      <td>sedan</td>\n",
       "      <td>blue</td>\n",
       "      <td>NaN</td>\n",
       "      <td>2018-11-15</td>\n",
       "      <td>32</td>\n",
       "    </tr>\n",
       "    <tr>\n",
       "      <th>51523</th>\n",
       "      <td>7455</td>\n",
       "      <td>2013.0</td>\n",
       "      <td>toyota corolla</td>\n",
       "      <td>good</td>\n",
       "      <td>4.0</td>\n",
       "      <td>gas</td>\n",
       "      <td>139573.0</td>\n",
       "      <td>automatic</td>\n",
       "      <td>sedan</td>\n",
       "      <td>black</td>\n",
       "      <td>NaN</td>\n",
       "      <td>2018-07-02</td>\n",
       "      <td>71</td>\n",
       "    </tr>\n",
       "    <tr>\n",
       "      <th>51524</th>\n",
       "      <td>6300</td>\n",
       "      <td>2014.0</td>\n",
       "      <td>nissan altima</td>\n",
       "      <td>good</td>\n",
       "      <td>4.0</td>\n",
       "      <td>gas</td>\n",
       "      <td>NaN</td>\n",
       "      <td>automatic</td>\n",
       "      <td>sedan</td>\n",
       "      <td>NaN</td>\n",
       "      <td>NaN</td>\n",
       "      <td>2018-06-05</td>\n",
       "      <td>10</td>\n",
       "    </tr>\n",
       "  </tbody>\n",
       "</table>\n",
       "<p>51525 rows × 13 columns</p>\n",
       "</div>"
      ],
      "text/plain": [
       "       price  model_year           model  condition  cylinders fuel  odometer  \\\n",
       "0       9400      2011.0          bmw x5       good        6.0  gas  145000.0   \n",
       "1      25500         NaN      ford f-150       good        6.0  gas   88705.0   \n",
       "2       5500      2013.0  hyundai sonata   like new        4.0  gas  110000.0   \n",
       "3       1500      2003.0      ford f-150       fair        8.0  gas       NaN   \n",
       "4      14900      2017.0    chrysler 200  excellent        4.0  gas   80903.0   \n",
       "...      ...         ...             ...        ...        ...  ...       ...   \n",
       "51520   9249      2013.0   nissan maxima   like new        6.0  gas   88136.0   \n",
       "51521   2700      2002.0     honda civic    salvage        4.0  gas  181500.0   \n",
       "51522   3950      2009.0  hyundai sonata  excellent        4.0  gas  128000.0   \n",
       "51523   7455      2013.0  toyota corolla       good        4.0  gas  139573.0   \n",
       "51524   6300      2014.0   nissan altima       good        4.0  gas       NaN   \n",
       "\n",
       "      transmission    type paint_color  is_4wd date_posted  days_listed  \n",
       "0        automatic     SUV         NaN     1.0  2018-06-23           19  \n",
       "1        automatic  pickup       white     1.0  2018-10-19           50  \n",
       "2        automatic   sedan         red     NaN  2019-02-07           79  \n",
       "3        automatic  pickup         NaN     NaN  2019-03-22            9  \n",
       "4        automatic   sedan       black     NaN  2019-04-02           28  \n",
       "...            ...     ...         ...     ...         ...          ...  \n",
       "51520    automatic   sedan       black     NaN  2018-10-03           37  \n",
       "51521    automatic   sedan       white     NaN  2018-11-14           22  \n",
       "51522    automatic   sedan        blue     NaN  2018-11-15           32  \n",
       "51523    automatic   sedan       black     NaN  2018-07-02           71  \n",
       "51524    automatic   sedan         NaN     NaN  2018-06-05           10  \n",
       "\n",
       "[51525 rows x 13 columns]"
      ]
     },
     "execution_count": 2,
     "metadata": {},
     "output_type": "execute_result"
    }
   ],
   "source": [
    "#csv file read\n",
    "##We use try-except to handle unexpected errors\n",
    "try:\n",
    "    df = pd.read_csv('/datasets/vehicles_us.csv')\n",
    "except: \n",
    "    df = pd.read_csv('https://code.s3.yandex.net/datasets/vehicles_us.csv')\n",
    "df"
   ]
  },
  {
   "cell_type": "code",
   "execution_count": 3,
   "metadata": {},
   "outputs": [],
   "source": [
    "#New addition- to guarantee efficiency we immediately dropping row-based duplicates in the begining\n",
    "df.drop_duplicates(inplace=True,keep='first')\n",
    "df.reset_index(drop=True, inplace=True)"
   ]
  },
  {
   "cell_type": "code",
   "execution_count": 4,
   "metadata": {},
   "outputs": [
    {
     "name": "stdout",
     "output_type": "stream",
     "text": [
      "<class 'pandas.core.frame.DataFrame'>\n",
      "RangeIndex: 51525 entries, 0 to 51524\n",
      "Data columns (total 13 columns):\n",
      " #   Column        Non-Null Count  Dtype  \n",
      "---  ------        --------------  -----  \n",
      " 0   price         51525 non-null  int64  \n",
      " 1   model_year    47906 non-null  float64\n",
      " 2   model         51525 non-null  object \n",
      " 3   condition     51525 non-null  object \n",
      " 4   cylinders     46265 non-null  float64\n",
      " 5   fuel          51525 non-null  object \n",
      " 6   odometer      43633 non-null  float64\n",
      " 7   transmission  51525 non-null  object \n",
      " 8   type          51525 non-null  object \n",
      " 9   paint_color   42258 non-null  object \n",
      " 10  is_4wd        25572 non-null  float64\n",
      " 11  date_posted   51525 non-null  object \n",
      " 12  days_listed   51525 non-null  int64  \n",
      "dtypes: float64(4), int64(2), object(7)\n",
      "memory usage: 5.1+ MB\n"
     ]
    }
   ],
   "source": [
    "#General file examination\n",
    "df.info()"
   ]
  },
  {
   "cell_type": "markdown",
   "metadata": {},
   "source": [
    "- Results show column names are accurate to the project data description.\n",
    "- Dataset includes 51525 entries and 13 columns.\n",
    "- **Price** column is the target variable and the other 12 columns are features.\n",
    "- 9 columns are categorical, 3 are quantical and **is_4wd** contains quantical labels rather than quantical values.\n",
    "- There are 3 data types: 4 floats, 7 objects and 2 integers. Floats should be changed to integers.\n",
    "- **Date_posted** column should be converted to a date_time format.\n",
    "- Values are missing in **model_year, cylinders, odometer, paint_color** columns, while in the **is_4wd** column almost a half is missing."
   ]
  },
  {
   "cell_type": "code",
   "execution_count": 5,
   "metadata": {},
   "outputs": [
    {
     "data": {
      "text/html": [
       "<div>\n",
       "<style scoped>\n",
       "    .dataframe tbody tr th:only-of-type {\n",
       "        vertical-align: middle;\n",
       "    }\n",
       "\n",
       "    .dataframe tbody tr th {\n",
       "        vertical-align: top;\n",
       "    }\n",
       "\n",
       "    .dataframe thead th {\n",
       "        text-align: right;\n",
       "    }\n",
       "</style>\n",
       "<table border=\"1\" class=\"dataframe\">\n",
       "  <thead>\n",
       "    <tr style=\"text-align: right;\">\n",
       "      <th></th>\n",
       "      <th>price</th>\n",
       "      <th>model_year</th>\n",
       "      <th>model</th>\n",
       "      <th>condition</th>\n",
       "      <th>cylinders</th>\n",
       "      <th>fuel</th>\n",
       "      <th>odometer</th>\n",
       "      <th>transmission</th>\n",
       "      <th>type</th>\n",
       "      <th>paint_color</th>\n",
       "      <th>is_4wd</th>\n",
       "      <th>date_posted</th>\n",
       "      <th>days_listed</th>\n",
       "    </tr>\n",
       "  </thead>\n",
       "  <tbody>\n",
       "    <tr>\n",
       "      <th>count</th>\n",
       "      <td>51525.000000</td>\n",
       "      <td>47906.000000</td>\n",
       "      <td>51525</td>\n",
       "      <td>51525</td>\n",
       "      <td>46265.000000</td>\n",
       "      <td>51525</td>\n",
       "      <td>43633.000000</td>\n",
       "      <td>51525</td>\n",
       "      <td>51525</td>\n",
       "      <td>42258</td>\n",
       "      <td>25572.0</td>\n",
       "      <td>51525</td>\n",
       "      <td>51525.00000</td>\n",
       "    </tr>\n",
       "    <tr>\n",
       "      <th>unique</th>\n",
       "      <td>NaN</td>\n",
       "      <td>NaN</td>\n",
       "      <td>100</td>\n",
       "      <td>6</td>\n",
       "      <td>NaN</td>\n",
       "      <td>5</td>\n",
       "      <td>NaN</td>\n",
       "      <td>3</td>\n",
       "      <td>13</td>\n",
       "      <td>12</td>\n",
       "      <td>NaN</td>\n",
       "      <td>354</td>\n",
       "      <td>NaN</td>\n",
       "    </tr>\n",
       "    <tr>\n",
       "      <th>top</th>\n",
       "      <td>NaN</td>\n",
       "      <td>NaN</td>\n",
       "      <td>ford f-150</td>\n",
       "      <td>excellent</td>\n",
       "      <td>NaN</td>\n",
       "      <td>gas</td>\n",
       "      <td>NaN</td>\n",
       "      <td>automatic</td>\n",
       "      <td>SUV</td>\n",
       "      <td>white</td>\n",
       "      <td>NaN</td>\n",
       "      <td>2019-03-17</td>\n",
       "      <td>NaN</td>\n",
       "    </tr>\n",
       "    <tr>\n",
       "      <th>freq</th>\n",
       "      <td>NaN</td>\n",
       "      <td>NaN</td>\n",
       "      <td>2796</td>\n",
       "      <td>24773</td>\n",
       "      <td>NaN</td>\n",
       "      <td>47288</td>\n",
       "      <td>NaN</td>\n",
       "      <td>46902</td>\n",
       "      <td>12405</td>\n",
       "      <td>10029</td>\n",
       "      <td>NaN</td>\n",
       "      <td>186</td>\n",
       "      <td>NaN</td>\n",
       "    </tr>\n",
       "    <tr>\n",
       "      <th>mean</th>\n",
       "      <td>12132.464920</td>\n",
       "      <td>2009.750470</td>\n",
       "      <td>NaN</td>\n",
       "      <td>NaN</td>\n",
       "      <td>6.125235</td>\n",
       "      <td>NaN</td>\n",
       "      <td>115553.461738</td>\n",
       "      <td>NaN</td>\n",
       "      <td>NaN</td>\n",
       "      <td>NaN</td>\n",
       "      <td>1.0</td>\n",
       "      <td>NaN</td>\n",
       "      <td>39.55476</td>\n",
       "    </tr>\n",
       "    <tr>\n",
       "      <th>std</th>\n",
       "      <td>10040.803015</td>\n",
       "      <td>6.282065</td>\n",
       "      <td>NaN</td>\n",
       "      <td>NaN</td>\n",
       "      <td>1.660360</td>\n",
       "      <td>NaN</td>\n",
       "      <td>65094.611341</td>\n",
       "      <td>NaN</td>\n",
       "      <td>NaN</td>\n",
       "      <td>NaN</td>\n",
       "      <td>0.0</td>\n",
       "      <td>NaN</td>\n",
       "      <td>28.20427</td>\n",
       "    </tr>\n",
       "    <tr>\n",
       "      <th>min</th>\n",
       "      <td>1.000000</td>\n",
       "      <td>1908.000000</td>\n",
       "      <td>NaN</td>\n",
       "      <td>NaN</td>\n",
       "      <td>3.000000</td>\n",
       "      <td>NaN</td>\n",
       "      <td>0.000000</td>\n",
       "      <td>NaN</td>\n",
       "      <td>NaN</td>\n",
       "      <td>NaN</td>\n",
       "      <td>1.0</td>\n",
       "      <td>NaN</td>\n",
       "      <td>0.00000</td>\n",
       "    </tr>\n",
       "    <tr>\n",
       "      <th>25%</th>\n",
       "      <td>5000.000000</td>\n",
       "      <td>2006.000000</td>\n",
       "      <td>NaN</td>\n",
       "      <td>NaN</td>\n",
       "      <td>4.000000</td>\n",
       "      <td>NaN</td>\n",
       "      <td>70000.000000</td>\n",
       "      <td>NaN</td>\n",
       "      <td>NaN</td>\n",
       "      <td>NaN</td>\n",
       "      <td>1.0</td>\n",
       "      <td>NaN</td>\n",
       "      <td>19.00000</td>\n",
       "    </tr>\n",
       "    <tr>\n",
       "      <th>50%</th>\n",
       "      <td>9000.000000</td>\n",
       "      <td>2011.000000</td>\n",
       "      <td>NaN</td>\n",
       "      <td>NaN</td>\n",
       "      <td>6.000000</td>\n",
       "      <td>NaN</td>\n",
       "      <td>113000.000000</td>\n",
       "      <td>NaN</td>\n",
       "      <td>NaN</td>\n",
       "      <td>NaN</td>\n",
       "      <td>1.0</td>\n",
       "      <td>NaN</td>\n",
       "      <td>33.00000</td>\n",
       "    </tr>\n",
       "    <tr>\n",
       "      <th>75%</th>\n",
       "      <td>16839.000000</td>\n",
       "      <td>2014.000000</td>\n",
       "      <td>NaN</td>\n",
       "      <td>NaN</td>\n",
       "      <td>8.000000</td>\n",
       "      <td>NaN</td>\n",
       "      <td>155000.000000</td>\n",
       "      <td>NaN</td>\n",
       "      <td>NaN</td>\n",
       "      <td>NaN</td>\n",
       "      <td>1.0</td>\n",
       "      <td>NaN</td>\n",
       "      <td>53.00000</td>\n",
       "    </tr>\n",
       "    <tr>\n",
       "      <th>max</th>\n",
       "      <td>375000.000000</td>\n",
       "      <td>2019.000000</td>\n",
       "      <td>NaN</td>\n",
       "      <td>NaN</td>\n",
       "      <td>12.000000</td>\n",
       "      <td>NaN</td>\n",
       "      <td>990000.000000</td>\n",
       "      <td>NaN</td>\n",
       "      <td>NaN</td>\n",
       "      <td>NaN</td>\n",
       "      <td>1.0</td>\n",
       "      <td>NaN</td>\n",
       "      <td>271.00000</td>\n",
       "    </tr>\n",
       "  </tbody>\n",
       "</table>\n",
       "</div>"
      ],
      "text/plain": [
       "                price    model_year       model  condition     cylinders  \\\n",
       "count    51525.000000  47906.000000       51525      51525  46265.000000   \n",
       "unique            NaN           NaN         100          6           NaN   \n",
       "top               NaN           NaN  ford f-150  excellent           NaN   \n",
       "freq              NaN           NaN        2796      24773           NaN   \n",
       "mean     12132.464920   2009.750470         NaN        NaN      6.125235   \n",
       "std      10040.803015      6.282065         NaN        NaN      1.660360   \n",
       "min          1.000000   1908.000000         NaN        NaN      3.000000   \n",
       "25%       5000.000000   2006.000000         NaN        NaN      4.000000   \n",
       "50%       9000.000000   2011.000000         NaN        NaN      6.000000   \n",
       "75%      16839.000000   2014.000000         NaN        NaN      8.000000   \n",
       "max     375000.000000   2019.000000         NaN        NaN     12.000000   \n",
       "\n",
       "         fuel       odometer transmission   type paint_color   is_4wd  \\\n",
       "count   51525   43633.000000        51525  51525       42258  25572.0   \n",
       "unique      5            NaN            3     13          12      NaN   \n",
       "top       gas            NaN    automatic    SUV       white      NaN   \n",
       "freq    47288            NaN        46902  12405       10029      NaN   \n",
       "mean      NaN  115553.461738          NaN    NaN         NaN      1.0   \n",
       "std       NaN   65094.611341          NaN    NaN         NaN      0.0   \n",
       "min       NaN       0.000000          NaN    NaN         NaN      1.0   \n",
       "25%       NaN   70000.000000          NaN    NaN         NaN      1.0   \n",
       "50%       NaN  113000.000000          NaN    NaN         NaN      1.0   \n",
       "75%       NaN  155000.000000          NaN    NaN         NaN      1.0   \n",
       "max       NaN  990000.000000          NaN    NaN         NaN      1.0   \n",
       "\n",
       "       date_posted  days_listed  \n",
       "count        51525  51525.00000  \n",
       "unique         354          NaN  \n",
       "top     2019-03-17          NaN  \n",
       "freq           186          NaN  \n",
       "mean           NaN     39.55476  \n",
       "std            NaN     28.20427  \n",
       "min            NaN      0.00000  \n",
       "25%            NaN     19.00000  \n",
       "50%            NaN     33.00000  \n",
       "75%            NaN     53.00000  \n",
       "max            NaN    271.00000  "
      ]
     },
     "execution_count": 5,
     "metadata": {},
     "output_type": "execute_result"
    }
   ],
   "source": [
    "#Integrated display of the columns\n",
    "df.describe(include='all')"
   ]
  },
  {
   "cell_type": "markdown",
   "metadata": {},
   "source": [
    "- The minimum **price** value is **1**, which is too low for a vehicle.\n",
    "- In the **price** column the mean is higher than the median value suggesting that the distribution has a long tail of large values.\n",
    "- **Is_4wd** column only contains one value **'1.0'**, meaning this is a boolean, where '1' is 'True' and '0' is 'False'. Therefore all the missing values in **is_4wd** should be replaced with '0'\n",
    "- Minimum **model_year** is **1908**, seems quite old and will need further investigating to see if this is an error."
   ]
  },
  {
   "cell_type": "markdown",
   "metadata": {},
   "source": [
    "### Conclusion"
   ]
  },
  {
   "cell_type": "markdown",
   "metadata": {},
   "source": [
    "In this first phase we opened the data file and studied the dataset' general information. Now we are ready to begin the data processing."
   ]
  },
  {
   "cell_type": "markdown",
   "metadata": {},
   "source": [
    "## Data preprocessing"
   ]
  },
  {
   "cell_type": "markdown",
   "metadata": {},
   "source": [
    "In this second phase we start by identifying the missing data and evaluate their impact on the dataset data reliability in order to decide whether to fill in or drop these entries.\n",
    "Additionally, we'll find errors and correct them.\n",
    "Next, replace the data type of all floats to integers in order to make further processing easier.\n",
    "Then, drop duplicated entries."
   ]
  },
  {
   "cell_type": "markdown",
   "metadata": {},
   "source": [
    "We already determined there are missing values, dealing with them includes the following procedure:\n",
    "- We determine how significant are the missing values, if below 5-10% we drop them.\n",
    "- We determine if missing values belong to categorical or quantitative variables, and handle them accordingly."
   ]
  },
  {
   "cell_type": "code",
   "execution_count": 6,
   "metadata": {
    "scrolled": true
   },
   "outputs": [
    {
     "data": {
      "text/plain": [
       "price            0.000000\n",
       "model_year       7.023775\n",
       "model            0.000000\n",
       "condition        0.000000\n",
       "cylinders       10.208637\n",
       "fuel             0.000000\n",
       "odometer        15.316836\n",
       "transmission     0.000000\n",
       "type             0.000000\n",
       "paint_color     17.985444\n",
       "is_4wd          50.369723\n",
       "date_posted      0.000000\n",
       "days_listed      0.000000\n",
       "dtype: float64"
      ]
     },
     "execution_count": 6,
     "metadata": {},
     "output_type": "execute_result"
    }
   ],
   "source": [
    "#Before we start, we look at the percentage of missing values in all the columns\n",
    "df.isna().sum()*100/len(df)\n",
    "pd.DataFrame(round((df.isna().mean()*100),2)).style.background_gradient('coolwarm')\n",
    "df.isna().mean() * 100"
   ]
  },
  {
   "cell_type": "markdown",
   "metadata": {},
   "source": [
    "A rule of thumb is that we don't drop more than 5%-10% of the data.\n",
    "Percentages of missing values in **cylinders, odometer, paint_color** and **is_4wd** columns are all over 10%, therefore must be filled in.\n",
    "In **model_year** column 7% is missing, yet we choose to fill in these values as well as not to lose any valuable data."
   ]
  },
  {
   "cell_type": "code",
   "execution_count": 7,
   "metadata": {},
   "outputs": [
    {
     "data": {
      "text/plain": [
       "0.7704997573993208"
      ]
     },
     "execution_count": 7,
     "metadata": {},
     "output_type": "execute_result"
    }
   ],
   "source": [
    "#We fill in missing **odometer** values with median of groups based on price and \n",
    "#condition- the lower the price and worse the condition the higher the odometer values, \n",
    "#given the vehicle drove more.\n",
    "df['odometer'] = df['odometer'] = df.groupby(['price', 'condition'])['odometer'].apply(lambda x: x.fillna(x.median()))\n",
    "df['odometer'].isna().sum()/51525*100"
   ]
  },
  {
   "cell_type": "code",
   "execution_count": 8,
   "metadata": {},
   "outputs": [],
   "source": [
    "#We see there is less than 1% of missing data that doesn't have a median to be filled in \n",
    "#with and since it's only 1%, we drop it\n",
    "df = df.dropna(subset=['odometer'])\n",
    "df.reset_index(drop=True, inplace=True)"
   ]
  },
  {
   "cell_type": "code",
   "execution_count": 9,
   "metadata": {},
   "outputs": [
    {
     "data": {
      "text/plain": [
       "3.4274623968947115"
      ]
     },
     "execution_count": 9,
     "metadata": {},
     "output_type": "execute_result"
    }
   ],
   "source": [
    "#We assume cars of the same model and odometer values have been manufactured and driven for \n",
    "#the same time.\n",
    "##We fill missing **model_year** values with the median value of groups based on model and odometer\n",
    "df['model_year'] = df.groupby(['model', 'odometer'])['model_year'].apply(lambda x: x.fillna(x.median()))\n",
    "df['model_year'].isna().sum()/51525*100"
   ]
  },
  {
   "cell_type": "code",
   "execution_count": 10,
   "metadata": {},
   "outputs": [],
   "source": [
    "#We see there is less than 4% of missing data that doesn't have a median to be filled in \n",
    "#with and since it's less than 5%, we drop it\n",
    "df = df.dropna(subset=['model_year'])\n",
    "df.reset_index(drop=True, inplace=True)"
   ]
  },
  {
   "cell_type": "code",
   "execution_count": 11,
   "metadata": {},
   "outputs": [],
   "source": [
    "#We assume cars of the same model have the same number of cylinders since their engines \n",
    "#were designed for the same purposes.\n",
    "##We fill missing **cylinders** values with the median value of every model group\n",
    "df['cylinders'] = df.groupby(['model'])['cylinders'].apply(lambda x: x.fillna(x.median()))"
   ]
  },
  {
   "cell_type": "code",
   "execution_count": 12,
   "metadata": {},
   "outputs": [],
   "source": [
    "#Since color is completely random and can't be grouped we fill in missing values with the \n",
    "#word 'missing'\n",
    "df['paint_color'] = df['paint_color'].fillna('other')"
   ]
  },
  {
   "cell_type": "code",
   "execution_count": 13,
   "metadata": {},
   "outputs": [],
   "source": [
    "#We only have 1 and NaN values, changed NaN to **0** as in 1=true 0=false\n",
    "df['is_4wd'] = df['is_4wd'].fillna(0)"
   ]
  },
  {
   "cell_type": "code",
   "execution_count": 14,
   "metadata": {
    "scrolled": true
   },
   "outputs": [
    {
     "data": {
      "text/plain": [
       "price           0\n",
       "model_year      0\n",
       "model           0\n",
       "condition       0\n",
       "cylinders       0\n",
       "fuel            0\n",
       "odometer        0\n",
       "transmission    0\n",
       "type            0\n",
       "paint_color     0\n",
       "is_4wd          0\n",
       "date_posted     0\n",
       "days_listed     0\n",
       "dtype: int64"
      ]
     },
     "execution_count": 14,
     "metadata": {},
     "output_type": "execute_result"
    }
   ],
   "source": [
    "#Printing sum of missing values per column to verify that they were all dropped/filled\n",
    "df.isna().sum()"
   ]
  },
  {
   "cell_type": "markdown",
   "metadata": {},
   "source": [
    "As we see above, there are no more missing values. Now we move on to fixing errors in the dataset."
   ]
  },
  {
   "cell_type": "code",
   "execution_count": 15,
   "metadata": {
    "scrolled": true
   },
   "outputs": [
    {
     "data": {
      "text/plain": [
       "1        795\n",
       "6995     703\n",
       "5995     638\n",
       "4995     610\n",
       "3500     598\n",
       "        ... \n",
       "8343       1\n",
       "14484      1\n",
       "36993      1\n",
       "16475      1\n",
       "3790       1\n",
       "Name: price, Length: 3133, dtype: int64"
      ]
     },
     "execution_count": 15,
     "metadata": {},
     "output_type": "execute_result"
    }
   ],
   "source": [
    "#Print value counts to get a general look at the column\n",
    "df['price'].value_counts()"
   ]
  },
  {
   "cell_type": "code",
   "execution_count": 16,
   "metadata": {
    "scrolled": true
   },
   "outputs": [
    {
     "data": {
      "text/plain": [
       "2.765285037073052"
      ]
     },
     "execution_count": 16,
     "metadata": {},
     "output_type": "execute_result"
    }
   ],
   "source": [
    "#Any price under 1000$ is unlikely, therefore we'll consider dropping these values\n",
    "#We check the percentage of these values in order to measure their impact\n",
    "sum(df['price'] < 1000)/len(df)*100"
   ]
  },
  {
   "cell_type": "code",
   "execution_count": 17,
   "metadata": {},
   "outputs": [
    {
     "data": {
      "text/plain": [
       "6995     703\n",
       "5995     638\n",
       "4995     610\n",
       "3500     598\n",
       "7995     597\n",
       "        ... \n",
       "10754      1\n",
       "1550       1\n",
       "3575       1\n",
       "5588       1\n",
       "19680      1\n",
       "Name: price, Length: 3027, dtype: int64"
      ]
     },
     "execution_count": 17,
     "metadata": {},
     "output_type": "execute_result"
    }
   ],
   "source": [
    "#If the car is highly priced it may be for reasons not specified in any column such as \n",
    "#collector's item/upgrades/scams and so we leave the max of 375000$ untouched\n",
    "#We choose not to drop these values since it's better to drop ~2.7% of data than to \n",
    "#replace with inaccurate median values when **price** column is the main focus\n",
    "#Then we reset index\n",
    "df.drop(df[df['price'] < 1000].index, inplace=True)\n",
    "df.reset_index(drop=True, inplace=True)\n",
    "df['price'].value_counts()"
   ]
  },
  {
   "cell_type": "code",
   "execution_count": 18,
   "metadata": {},
   "outputs": [
    {
     "data": {
      "text/plain": [
       "2013.0    3634\n",
       "2012.0    3537\n",
       "2011.0    3440\n",
       "2014.0    3440\n",
       "2015.0    3320\n",
       "          ... \n",
       "1997.5       1\n",
       "1954.0       1\n",
       "1999.5       1\n",
       "1998.5       1\n",
       "1986.5       1\n",
       "Name: model_year, Length: 92, dtype: int64"
      ]
     },
     "execution_count": 18,
     "metadata": {},
     "output_type": "execute_result"
    }
   ],
   "source": [
    "#Print value counts to get a general look at the column\n",
    "df['model_year'].value_counts()"
   ]
  },
  {
   "cell_type": "code",
   "execution_count": 19,
   "metadata": {},
   "outputs": [],
   "source": [
    "#We leave the outliers since they might make sense for collector's items or spare parts \n",
    "#The min year is 1908 which as said may make sense, the max is 2019 which seems ok\n",
    "#To be on the safe side we'll turn this column into integer type later on (all columns together)"
   ]
  },
  {
   "cell_type": "code",
   "execution_count": 20,
   "metadata": {},
   "outputs": [
    {
     "data": {
      "text/plain": [
       "ford f-150                           2626\n",
       "chevrolet silverado 1500             2059\n",
       "ram 1500                             1634\n",
       "chevrolet silverado                  1207\n",
       "ram 2500                             1028\n",
       "                                     ... \n",
       "chrysler 200                          225\n",
       "ford f-250 super duty                 223\n",
       "dodge dakota                          219\n",
       "nissan murano                         214\n",
       "mercedes-benz benze sprinter 2500      41\n",
       "Name: model, Length: 100, dtype: int64"
      ]
     },
     "execution_count": 20,
     "metadata": {},
     "output_type": "execute_result"
    }
   ],
   "source": [
    "#Print value counts to get a general look at the column\n",
    "df['model'].value_counts()"
   ]
  },
  {
   "cell_type": "code",
   "execution_count": 21,
   "metadata": {},
   "outputs": [],
   "source": [
    "#We see various models, assuming they exist, \n",
    "#all that is left to do is to make this column all lower case to avoid duplicates and \n",
    "#be on the safe side\n",
    "df['model']=df['model'].str.lower()"
   ]
  },
  {
   "cell_type": "code",
   "execution_count": 22,
   "metadata": {},
   "outputs": [
    {
     "data": {
      "text/plain": [
       "excellent    22827\n",
       "good         19226\n",
       "like new      4394\n",
       "fair          1356\n",
       "new            119\n",
       "salvage         75\n",
       "Name: condition, dtype: int64"
      ]
     },
     "execution_count": 22,
     "metadata": {},
     "output_type": "execute_result"
    }
   ],
   "source": [
    "#Print value counts to get a general look at the column\n",
    "df['condition'].value_counts()"
   ]
  },
  {
   "cell_type": "code",
   "execution_count": 23,
   "metadata": {},
   "outputs": [],
   "source": [
    "#Seems good"
   ]
  },
  {
   "cell_type": "code",
   "execution_count": 24,
   "metadata": {},
   "outputs": [
    {
     "data": {
      "text/plain": [
       "8.0     16741\n",
       "6.0     16350\n",
       "4.0     14354\n",
       "5.0       273\n",
       "10.0      246\n",
       "3.0        31\n",
       "12.0        2\n",
       "Name: cylinders, dtype: int64"
      ]
     },
     "execution_count": 24,
     "metadata": {},
     "output_type": "execute_result"
    }
   ],
   "source": [
    "#Print value counts to get a general look at the column\n",
    "df['cylinders'].value_counts()"
   ]
  },
  {
   "cell_type": "code",
   "execution_count": 25,
   "metadata": {},
   "outputs": [],
   "source": [
    "#After some googling, all good!"
   ]
  },
  {
   "cell_type": "code",
   "execution_count": 26,
   "metadata": {},
   "outputs": [
    {
     "data": {
      "text/plain": [
       "gas         43984\n",
       "diesel       3532\n",
       "hybrid        376\n",
       "other         100\n",
       "electric        5\n",
       "Name: fuel, dtype: int64"
      ]
     },
     "execution_count": 26,
     "metadata": {},
     "output_type": "execute_result"
    }
   ],
   "source": [
    "#Print value counts to get a general look at the column\n",
    "df['fuel'].value_counts()"
   ]
  },
  {
   "cell_type": "code",
   "execution_count": 27,
   "metadata": {},
   "outputs": [],
   "source": [
    "#Other is suspicious, but giving benefit of the doubt, it might be due to people not being \n",
    "#certain of their car's fuel type, we choose to leave it"
   ]
  },
  {
   "cell_type": "code",
   "execution_count": 28,
   "metadata": {},
   "outputs": [
    {
     "data": {
      "text/plain": [
       "170000.0    272\n",
       "120000.0    206\n",
       "140000.0    202\n",
       "130000.0    194\n",
       "0.0         179\n",
       "           ... \n",
       "161850.0      1\n",
       "150103.0      1\n",
       "12300.0       1\n",
       "62196.0       1\n",
       "269527.0      1\n",
       "Name: odometer, Length: 17039, dtype: int64"
      ]
     },
     "execution_count": 28,
     "metadata": {},
     "output_type": "execute_result"
    }
   ],
   "source": [
    "#Print value counts to get a general look at the column\n",
    "df['odometer'].value_counts()"
   ]
  },
  {
   "cell_type": "code",
   "execution_count": 29,
   "metadata": {},
   "outputs": [],
   "source": [
    "#All number may be true, 0 is tricky, but it may be due to brand new car, reset or tampering "
   ]
  },
  {
   "cell_type": "code",
   "execution_count": 30,
   "metadata": {},
   "outputs": [
    {
     "data": {
      "text/plain": [
       "automatic    43885\n",
       "manual        2619\n",
       "other         1493\n",
       "Name: transmission, dtype: int64"
      ]
     },
     "execution_count": 30,
     "metadata": {},
     "output_type": "execute_result"
    }
   ],
   "source": [
    "#Print value counts to get a general look at the column\n",
    "df['transmission'].value_counts()"
   ]
  },
  {
   "cell_type": "code",
   "execution_count": 31,
   "metadata": {},
   "outputs": [],
   "source": [
    "#Other is suspicious, but giving benefit of the doubt,\n",
    "#it might be due to people not being certain of their car's transmission type,\n",
    "#we choose to leave it"
   ]
  },
  {
   "cell_type": "code",
   "execution_count": 32,
   "metadata": {
    "scrolled": true
   },
   "outputs": [
    {
     "data": {
      "text/plain": [
       "truck          11540\n",
       "SUV            11474\n",
       "sedan          11190\n",
       "pickup          6679\n",
       "coupe           2138\n",
       "wagon           1454\n",
       "mini-van        1093\n",
       "hatchback        962\n",
       "van              583\n",
       "convertible      417\n",
       "other            238\n",
       "offroad          205\n",
       "bus               24\n",
       "Name: type, dtype: int64"
      ]
     },
     "execution_count": 32,
     "metadata": {},
     "output_type": "execute_result"
    }
   ],
   "source": [
    "#Print value counts to get a general look at the column\n",
    "df['type'].value_counts()"
   ]
  },
  {
   "cell_type": "code",
   "execution_count": 33,
   "metadata": {},
   "outputs": [],
   "source": [
    "#Once again, other is suspicious, but giving benefit of the doubt,\n",
    "#it might be due to people not being certain of their car's type,\n",
    "#we choose to leave it"
   ]
  },
  {
   "cell_type": "code",
   "execution_count": 34,
   "metadata": {},
   "outputs": [
    {
     "data": {
      "text/plain": [
       "white     9410\n",
       "other     8597\n",
       "black     7136\n",
       "silver    5834\n",
       "grey      4715\n",
       "blue      4164\n",
       "red       4141\n",
       "green     1287\n",
       "brown     1141\n",
       "custom    1026\n",
       "yellow     241\n",
       "orange     209\n",
       "purple      96\n",
       "Name: paint_color, dtype: int64"
      ]
     },
     "execution_count": 34,
     "metadata": {},
     "output_type": "execute_result"
    }
   ],
   "source": [
    "#Print value counts to get a general look at the column\n",
    "df['paint_color'].value_counts()"
   ]
  },
  {
   "cell_type": "code",
   "execution_count": 35,
   "metadata": {},
   "outputs": [],
   "source": [
    "#All good, as we recall **other** is of our data manipulation"
   ]
  },
  {
   "cell_type": "code",
   "execution_count": 36,
   "metadata": {},
   "outputs": [
    {
     "data": {
      "text/plain": [
       "0.0    24306\n",
       "1.0    23691\n",
       "Name: is_4wd, dtype: int64"
      ]
     },
     "execution_count": 36,
     "metadata": {},
     "output_type": "execute_result"
    }
   ],
   "source": [
    "#Print value counts to get a general look at the column\n",
    "df['is_4wd'].value_counts()"
   ]
  },
  {
   "cell_type": "code",
   "execution_count": 37,
   "metadata": {},
   "outputs": [],
   "source": [
    "#Great! All values 1/0, as in true/false"
   ]
  },
  {
   "cell_type": "code",
   "execution_count": 38,
   "metadata": {},
   "outputs": [
    {
     "data": {
      "text/plain": [
       "2019-03-17    174\n",
       "2018-10-09    169\n",
       "2019-01-05    168\n",
       "2018-07-29    163\n",
       "2019-04-10    162\n",
       "             ... \n",
       "2018-05-01    112\n",
       "2018-07-18    109\n",
       "2018-06-18    107\n",
       "2019-01-11    106\n",
       "2019-01-04    105\n",
       "Name: date_posted, Length: 354, dtype: int64"
      ]
     },
     "execution_count": 38,
     "metadata": {},
     "output_type": "execute_result"
    }
   ],
   "source": [
    "#Print value counts to get a general look at the column\n",
    "df['date_posted'].value_counts()"
   ]
  },
  {
   "cell_type": "code",
   "execution_count": 39,
   "metadata": {},
   "outputs": [],
   "source": [
    "#At first look seems ok, to be on the safe side, we covert dates to same format using datetime\n",
    "df['date_posted'] = pd.to_datetime(df['date_posted'], format='%Y-%m-%d')"
   ]
  },
  {
   "cell_type": "code",
   "execution_count": 40,
   "metadata": {},
   "outputs": [
    {
     "name": "stdout",
     "output_type": "stream",
     "text": [
      "Empty DataFrame\n",
      "Columns: [price, model_year, model, condition, cylinders, fuel, odometer, transmission, type, paint_color, is_4wd, date_posted, days_listed]\n",
      "Index: []\n"
     ]
    }
   ],
   "source": [
    "#We want to make sure all dates posted aren't in the future, which is impossible\n",
    "print(df.query('date_posted>=2021'))"
   ]
  },
  {
   "cell_type": "code",
   "execution_count": 41,
   "metadata": {},
   "outputs": [
    {
     "name": "stdout",
     "output_type": "stream",
     "text": [
      "       price  model_year           model  condition  cylinders fuel  odometer  \\\n",
      "0       9400      2011.0          bmw x5       good        6.0  gas  145000.0   \n",
      "1      25500      2014.0      ford f-150       good        6.0  gas   88705.0   \n",
      "2       5500      2013.0  hyundai sonata   like new        4.0  gas  110000.0   \n",
      "3       1500      2003.0      ford f-150       fair        8.0  gas  182000.0   \n",
      "4      14900      2017.0    chrysler 200  excellent        4.0  gas   80903.0   \n",
      "...      ...         ...             ...        ...        ...  ...       ...   \n",
      "47992   9249      2013.0   nissan maxima   like new        6.0  gas   88136.0   \n",
      "47993   2700      2002.0     honda civic    salvage        4.0  gas  181500.0   \n",
      "47994   3950      2009.0  hyundai sonata  excellent        4.0  gas  128000.0   \n",
      "47995   7455      2013.0  toyota corolla       good        4.0  gas  139573.0   \n",
      "47996   6300      2014.0   nissan altima       good        4.0  gas  154000.0   \n",
      "\n",
      "      transmission    type paint_color  is_4wd date_posted  days_listed  \n",
      "0        automatic     SUV       other     1.0  2018-06-23           19  \n",
      "1        automatic  pickup       white     1.0  2018-10-19           50  \n",
      "2        automatic   sedan         red     0.0  2019-02-07           79  \n",
      "3        automatic  pickup       other     0.0  2019-03-22            9  \n",
      "4        automatic   sedan       black     0.0  2019-04-02           28  \n",
      "...            ...     ...         ...     ...         ...          ...  \n",
      "47992    automatic   sedan       black     0.0  2018-10-03           37  \n",
      "47993    automatic   sedan       white     0.0  2018-11-14           22  \n",
      "47994    automatic   sedan        blue     0.0  2018-11-15           32  \n",
      "47995    automatic   sedan       black     0.0  2018-07-02           71  \n",
      "47996    automatic   sedan       other     0.0  2018-06-05           10  \n",
      "\n",
      "[47997 rows x 13 columns]\n"
     ]
    }
   ],
   "source": [
    "#No dates are in 2021 or in afterwards, we now check the past to be sure it's not just an error in code\n",
    "print(df.query('date_posted<2021'))"
   ]
  },
  {
   "cell_type": "code",
   "execution_count": 42,
   "metadata": {},
   "outputs": [],
   "source": [
    "#All good"
   ]
  },
  {
   "cell_type": "code",
   "execution_count": 43,
   "metadata": {},
   "outputs": [
    {
     "data": {
      "text/plain": [
       "18     891\n",
       "19     886\n",
       "24     876\n",
       "22     876\n",
       "20     864\n",
       "      ... \n",
       "244      1\n",
       "188      1\n",
       "252      1\n",
       "261      1\n",
       "223      1\n",
       "Name: days_listed, Length: 223, dtype: int64"
      ]
     },
     "execution_count": 43,
     "metadata": {},
     "output_type": "execute_result"
    }
   ],
   "source": [
    "#Print value counts to get a general look at the column\n",
    "df['days_listed'].value_counts()"
   ]
  },
  {
   "cell_type": "code",
   "execution_count": 44,
   "metadata": {},
   "outputs": [],
   "source": [
    "#Min value is 0 assuming it means post is less than full day old/regret about \n",
    "#selling/system error/quick sale, we leave it to be on the safe side\n",
    "#Max seems alright\n",
    "#We see some low numbers of days probably meaning the table isn't up to date with \n",
    "#today - and that's ok"
   ]
  },
  {
   "cell_type": "code",
   "execution_count": 45,
   "metadata": {},
   "outputs": [
    {
     "name": "stdout",
     "output_type": "stream",
     "text": [
      "<class 'pandas.core.frame.DataFrame'>\n",
      "RangeIndex: 47997 entries, 0 to 47996\n",
      "Data columns (total 13 columns):\n",
      " #   Column        Non-Null Count  Dtype         \n",
      "---  ------        --------------  -----         \n",
      " 0   price         47997 non-null  int64         \n",
      " 1   model_year    47997 non-null  float64       \n",
      " 2   model         47997 non-null  object        \n",
      " 3   condition     47997 non-null  object        \n",
      " 4   cylinders     47997 non-null  float64       \n",
      " 5   fuel          47997 non-null  object        \n",
      " 6   odometer      47997 non-null  float64       \n",
      " 7   transmission  47997 non-null  object        \n",
      " 8   type          47997 non-null  object        \n",
      " 9   paint_color   47997 non-null  object        \n",
      " 10  is_4wd        47997 non-null  float64       \n",
      " 11  date_posted   47997 non-null  datetime64[ns]\n",
      " 12  days_listed   47997 non-null  int64         \n",
      "dtypes: datetime64[ns](1), float64(4), int64(2), object(6)\n",
      "memory usage: 4.8+ MB\n"
     ]
    }
   ],
   "source": [
    "#Now we check data types in order to change them if necessary\n",
    "df.info()"
   ]
  },
  {
   "cell_type": "code",
   "execution_count": 46,
   "metadata": {},
   "outputs": [
    {
     "name": "stdout",
     "output_type": "stream",
     "text": [
      "<class 'pandas.core.frame.DataFrame'>\n",
      "RangeIndex: 47997 entries, 0 to 47996\n",
      "Data columns (total 13 columns):\n",
      " #   Column        Non-Null Count  Dtype         \n",
      "---  ------        --------------  -----         \n",
      " 0   price         47997 non-null  int64         \n",
      " 1   model_year    47997 non-null  int64         \n",
      " 2   model         47997 non-null  object        \n",
      " 3   condition     47997 non-null  object        \n",
      " 4   cylinders     47997 non-null  int64         \n",
      " 5   fuel          47997 non-null  object        \n",
      " 6   odometer      47997 non-null  int64         \n",
      " 7   transmission  47997 non-null  object        \n",
      " 8   type          47997 non-null  object        \n",
      " 9   paint_color   47997 non-null  object        \n",
      " 10  is_4wd        47997 non-null  int64         \n",
      " 11  date_posted   47997 non-null  datetime64[ns]\n",
      " 12  days_listed   47997 non-null  int64         \n",
      "dtypes: datetime64[ns](1), int64(6), object(6)\n",
      "memory usage: 4.8+ MB\n"
     ]
    }
   ],
   "source": [
    "#Based on info function results above, we can tell 4 columns are in float form, 6 object, \n",
    "#2 integer, 1 datetime (changed above)\n",
    "#Model_year, cylinders, odometer and is_4wd(boolean), logically should be integers.\n",
    "#As such we convert these floats to integers. \n",
    "#We use the astype function as method to change the data type.\n",
    "df[['model_year','cylinders', 'odometer', 'is_4wd']] = df[['model_year','cylinders', 'odometer', 'is_4wd']].astype(int)\n",
    "df.info()"
   ]
  },
  {
   "cell_type": "markdown",
   "metadata": {},
   "source": [
    "Well done! All data types are correct. We can move on."
   ]
  },
  {
   "cell_type": "code",
   "execution_count": 47,
   "metadata": {},
   "outputs": [
    {
     "data": {
      "text/plain": [
       "0"
      ]
     },
     "execution_count": 47,
     "metadata": {},
     "output_type": "execute_result"
    }
   ],
   "source": [
    "#After fixing the data for further analysis in previous phases,\n",
    "#here we check for duplicate enteries in the dataset.\n",
    "#We'll remove duplicates only if the entire data entery is the same. Since there is no car number/seller ID, we assume if all columns are alike then it is a definite duplicate.\n",
    "#We assume that the possible reasons for the appearance of duplicates in the data are human error and technical malfunction of the site system.\n",
    "df.duplicated().sum()"
   ]
  },
  {
   "cell_type": "markdown",
   "metadata": {},
   "source": [
    "Wow! Wonderful surprise- no dupicates! Moving on..."
   ]
  },
  {
   "cell_type": "markdown",
   "metadata": {},
   "source": [
    "In this second phase we start by identifying the missing data and evaluate their impact on the dataset data reliability in order to decide whether to fill in or drop these entries. Additionally, we identified errors and correct them. Next, we replaced the data type of all floats to integers in order to make further processing easier. Then, we dropped duplicated entries.\n",
    "We choose not to categorize and create a new df since every column impacts the car's price and we wouldn't want to lose any valuable data."
   ]
  },
  {
   "cell_type": "markdown",
   "metadata": {},
   "source": [
    "## Make calculations and add them to the table"
   ]
  },
  {
   "cell_type": "code",
   "execution_count": 48,
   "metadata": {},
   "outputs": [
    {
     "data": {
      "text/plain": [
       "2018    33226\n",
       "2019    14771\n",
       "Name: year, dtype: int64"
      ]
     },
     "execution_count": 48,
     "metadata": {},
     "output_type": "execute_result"
    }
   ],
   "source": [
    "#Year the ad was placed\n",
    "df['year'] = pd.DatetimeIndex(df['date_posted']).year\n",
    "df['year'].value_counts()"
   ]
  },
  {
   "cell_type": "code",
   "execution_count": 49,
   "metadata": {},
   "outputs": [],
   "source": [
    "#Great!"
   ]
  },
  {
   "cell_type": "code",
   "execution_count": 50,
   "metadata": {},
   "outputs": [
    {
     "data": {
      "text/plain": [
       "10    4315\n",
       "12    4251\n",
       "3     4235\n",
       "5     4180\n",
       "7     4175\n",
       "1     4171\n",
       "8     4164\n",
       "9     4144\n",
       "11    4072\n",
       "6     3925\n",
       "2     3735\n",
       "4     2630\n",
       "Name: month, dtype: int64"
      ]
     },
     "execution_count": 50,
     "metadata": {},
     "output_type": "execute_result"
    }
   ],
   "source": [
    "#Month the ad was placed\n",
    "df['month'] = pd.DatetimeIndex(df['date_posted']).month\n",
    "df['month'].value_counts()"
   ]
  },
  {
   "cell_type": "code",
   "execution_count": 51,
   "metadata": {},
   "outputs": [],
   "source": [
    "#Done!"
   ]
  },
  {
   "cell_type": "code",
   "execution_count": 52,
   "metadata": {},
   "outputs": [
    {
     "data": {
      "text/plain": [
       "Thursday     6990\n",
       "Saturday     6870\n",
       "Sunday       6845\n",
       "Friday       6835\n",
       "Monday       6829\n",
       "Wednesday    6817\n",
       "Tuesday      6811\n",
       "Name: day, dtype: int64"
      ]
     },
     "execution_count": 52,
     "metadata": {},
     "output_type": "execute_result"
    }
   ],
   "source": [
    "#Day the ad was placed\n",
    "df['day'] = pd.DatetimeIndex(df['date_posted']).day_name()\n",
    "df['day'].value_counts()"
   ]
  },
  {
   "cell_type": "code",
   "execution_count": 53,
   "metadata": {},
   "outputs": [],
   "source": [
    "#Excellent!"
   ]
  },
  {
   "cell_type": "code",
   "execution_count": 54,
   "metadata": {
    "scrolled": false
   },
   "outputs": [
    {
     "data": {
      "text/plain": [
       "5     3579\n",
       "7     3532\n",
       "6     3530\n",
       "4     3459\n",
       "3     3128\n",
       "      ... \n",
       "65       1\n",
       "43       1\n",
       "69       1\n",
       "71       1\n",
       "63       1\n",
       "Name: vehicle_age, Length: 69, dtype: int64"
      ]
     },
     "execution_count": 54,
     "metadata": {},
     "output_type": "execute_result"
    }
   ],
   "source": [
    "#Age in years when the ad was placed\n",
    "df['vehicle_age'] = df['year'] - df['model_year']\n",
    "df['vehicle_age'].value_counts()"
   ]
  },
  {
   "cell_type": "code",
   "execution_count": 55,
   "metadata": {
    "scrolled": false
   },
   "outputs": [
    {
     "data": {
      "text/plain": [
       "count    47997.000000\n",
       "mean         8.630602\n",
       "std          6.224601\n",
       "min         -1.000000\n",
       "25%          4.000000\n",
       "50%          8.000000\n",
       "75%         12.000000\n",
       "max        110.000000\n",
       "Name: vehicle_age, dtype: float64"
      ]
     },
     "execution_count": 55,
     "metadata": {},
     "output_type": "execute_result"
    }
   ],
   "source": [
    "df.vehicle_age.describe()"
   ]
  },
  {
   "cell_type": "code",
   "execution_count": 56,
   "metadata": {
    "scrolled": false
   },
   "outputs": [
    {
     "data": {
      "text/plain": [
       "count    47997.000000\n",
       "mean         8.630727\n",
       "std          6.224428\n",
       "min          0.000000\n",
       "25%          4.000000\n",
       "50%          8.000000\n",
       "75%         12.000000\n",
       "max        110.000000\n",
       "Name: vehicle_age, dtype: float64"
      ]
     },
     "execution_count": 56,
     "metadata": {},
     "output_type": "execute_result"
    }
   ],
   "source": [
    "#Min value is negative therefore we assume it's a mistake and convert it to it's abs value\n",
    "df['vehicle_age']=df['vehicle_age'].abs()\n",
    "df.vehicle_age.describe()"
   ]
  },
  {
   "cell_type": "code",
   "execution_count": 57,
   "metadata": {},
   "outputs": [],
   "source": [
    "#Age column has a couple of outliers - as mentioned before probably older vehicles.."
   ]
  },
  {
   "cell_type": "code",
   "execution_count": 58,
   "metadata": {
    "scrolled": false
   },
   "outputs": [
    {
     "data": {
      "text/plain": [
       "inf             1818\n",
       "0.000000e+00     177\n",
       "1.500000e+04     144\n",
       "1.400000e+04     136\n",
       "1.300000e+04     135\n",
       "                ... \n",
       "9.744062e+03       1\n",
       "1.318788e+04       1\n",
       "8.220250e+03       1\n",
       "1.110452e+04       1\n",
       "1.989750e+03       1\n",
       "Name: avg_miles_per_year, Length: 23565, dtype: int64"
      ]
     },
     "execution_count": 58,
     "metadata": {},
     "output_type": "execute_result"
    }
   ],
   "source": [
    "#Average mileage per year\n",
    "df['avg_miles_per_year'] = df['odometer']/df['vehicle_age']\n",
    "df['avg_miles_per_year'].value_counts()"
   ]
  },
  {
   "cell_type": "code",
   "execution_count": 59,
   "metadata": {},
   "outputs": [
    {
     "data": {
      "text/plain": [
       "inf      1818\n",
       "0         177\n",
       "15000     144\n",
       "14000     136\n",
       "13000     135\n",
       "         ... \n",
       "9744        1\n",
       "13188       1\n",
       "8220        1\n",
       "11105       1\n",
       "1990        1\n",
       "Name: avg_miles_per_year, Length: 23565, dtype: int64"
      ]
     },
     "execution_count": 59,
     "metadata": {},
     "output_type": "execute_result"
    }
   ],
   "source": [
    "#Numbers aren't pretty, so in order to round the numbers we use lambda\n",
    "pd.set_option('display.float_format', lambda x: '%.0f' % x)\n",
    "df['avg_miles_per_year'].value_counts()"
   ]
  },
  {
   "cell_type": "code",
   "execution_count": 60,
   "metadata": {},
   "outputs": [
    {
     "data": {
      "text/plain": [
       "count   47995\n",
       "mean      inf\n",
       "std       NaN\n",
       "min         0\n",
       "25%     10706\n",
       "50%     15273\n",
       "75%     22500\n",
       "max       inf\n",
       "Name: avg_miles_per_year, dtype: float64"
      ]
     },
     "execution_count": 60,
     "metadata": {},
     "output_type": "execute_result"
    }
   ],
   "source": [
    "df.avg_miles_per_year.describe()"
   ]
  },
  {
   "cell_type": "code",
   "execution_count": 61,
   "metadata": {
    "scrolled": false
   },
   "outputs": [
    {
     "data": {
      "text/plain": [
       "count    46647\n",
       "mean     18107\n",
       "std      13687\n",
       "min          0\n",
       "25%      10568\n",
       "50%      14976\n",
       "75%      21478\n",
       "max     279365\n",
       "Name: avg_miles_per_year, dtype: float64"
      ]
     },
     "execution_count": 61,
     "metadata": {},
     "output_type": "execute_result"
    }
   ],
   "source": [
    "#Inf is unmeasurable so we replace these values with 'NaN' and then fill in these values \n",
    "#with the median of grouped columns odometer and model_year\n",
    "df['avg_miles_per_year'].replace([np.inf, -np.inf], np.nan, inplace=True)\n",
    "df['avg_miles_per_year'] = df.groupby(['odometer', 'model_year'])['avg_miles_per_year'].apply(lambda x: x.fillna(x.median()))\n",
    "df.avg_miles_per_year.describe()"
   ]
  },
  {
   "cell_type": "code",
   "execution_count": 62,
   "metadata": {},
   "outputs": [
    {
     "data": {
      "text/plain": [
       "2.8126757922370147"
      ]
     },
     "execution_count": 62,
     "metadata": {},
     "output_type": "execute_result"
    }
   ],
   "source": [
    "#We get an error due to NaN/inf values when trying to change type to int - since we got \n",
    "#rid of inf it must be missing values\n",
    "#so we calculate the percentage of missing values- if les than 5% we drop\n",
    "df['avg_miles_per_year'].isna().sum()/len(df)*100"
   ]
  },
  {
   "cell_type": "code",
   "execution_count": 63,
   "metadata": {},
   "outputs": [],
   "source": [
    "#Given it is ~3% of missing values - we now drop them\n",
    "df=df.dropna(subset=['avg_miles_per_year'], axis=0)\n",
    "df.reset_index(drop=True, inplace=True)"
   ]
  },
  {
   "cell_type": "code",
   "execution_count": 64,
   "metadata": {},
   "outputs": [],
   "source": [
    "#Let's try again\n",
    "#We convert average miles per year column to int\n",
    "df[['avg_miles_per_year']]=df[['avg_miles_per_year']].astype(int)"
   ]
  },
  {
   "cell_type": "code",
   "execution_count": 65,
   "metadata": {},
   "outputs": [
    {
     "name": "stdout",
     "output_type": "stream",
     "text": [
      "<class 'pandas.core.frame.DataFrame'>\n",
      "RangeIndex: 46647 entries, 0 to 46646\n",
      "Data columns (total 18 columns):\n",
      " #   Column              Non-Null Count  Dtype         \n",
      "---  ------              --------------  -----         \n",
      " 0   price               46647 non-null  int64         \n",
      " 1   model_year          46647 non-null  int64         \n",
      " 2   model               46647 non-null  object        \n",
      " 3   condition           46647 non-null  object        \n",
      " 4   cylinders           46647 non-null  int64         \n",
      " 5   fuel                46647 non-null  object        \n",
      " 6   odometer            46647 non-null  int64         \n",
      " 7   transmission        46647 non-null  object        \n",
      " 8   type                46647 non-null  object        \n",
      " 9   paint_color         46647 non-null  object        \n",
      " 10  is_4wd              46647 non-null  int64         \n",
      " 11  date_posted         46647 non-null  datetime64[ns]\n",
      " 12  days_listed         46647 non-null  int64         \n",
      " 13  year                46647 non-null  int64         \n",
      " 14  month               46647 non-null  int64         \n",
      " 15  day                 46647 non-null  object        \n",
      " 16  vehicle_age         46647 non-null  int64         \n",
      " 17  avg_miles_per_year  46647 non-null  int64         \n",
      "dtypes: datetime64[ns](1), int64(10), object(7)\n",
      "memory usage: 6.4+ MB\n"
     ]
    }
   ],
   "source": [
    "#Getting a better look with info\n",
    "df.info()"
   ]
  },
  {
   "cell_type": "code",
   "execution_count": 66,
   "metadata": {},
   "outputs": [],
   "source": [
    "#Looking much better!"
   ]
  },
  {
   "cell_type": "code",
   "execution_count": 67,
   "metadata": {},
   "outputs": [
    {
     "data": {
      "text/plain": [
       "3    22233\n",
       "2    18880\n",
       "4     4046\n",
       "1     1356\n",
       "0       73\n",
       "5       59\n",
       "Name: condition, dtype: int64"
      ]
     },
     "execution_count": 67,
     "metadata": {},
     "output_type": "execute_result"
    }
   ],
   "source": [
    "#In the condition column, we now replace string values with a numeric scale\n",
    "df['condition'] = df['condition'].replace(to_replace=('new', 'like new', 'excellent', 'good', 'fair', 'salvage'), value=(5, 4, 3, 2, 1, 0))\n",
    "df['condition'].value_counts()"
   ]
  },
  {
   "cell_type": "markdown",
   "metadata": {},
   "source": [
    "OKay.. we finalized phase three, calculated and added new columns to the table, as detailed above per each column. \n",
    "All in all, looking good! We move on to the next phase."
   ]
  },
  {
   "cell_type": "markdown",
   "metadata": {},
   "source": [
    "## Carry out exploratory data analysis"
   ]
  },
  {
   "cell_type": "markdown",
   "metadata": {},
   "source": [
    "Studying the following parameters: price, vehicle's age when the ad was placed, mileage, number of cylinders, and condition.\n",
    "We do this by plotting histograms for each of these parameters.\n",
    "Then we study how outliers affect the form and readability of the histograms."
   ]
  },
  {
   "cell_type": "code",
   "execution_count": 68,
   "metadata": {},
   "outputs": [
    {
     "data": {
      "text/plain": [
       "count    46647\n",
       "mean     11976\n",
       "std       9325\n",
       "min       1000\n",
       "25%       5381\n",
       "50%       9000\n",
       "75%      16000\n",
       "max     375000\n",
       "Name: price, dtype: float64"
      ]
     },
     "execution_count": 68,
     "metadata": {},
     "output_type": "execute_result"
    }
   ],
   "source": [
    "#First we take a look at the general description of the price column\n",
    "df.price.describe()"
   ]
  },
  {
   "cell_type": "code",
   "execution_count": 69,
   "metadata": {},
   "outputs": [
    {
     "data": {
      "image/png": "[encoded data removed]",
      "text/plain": [
       "<Figure size 432x288 with 1 Axes>"
      ]
     },
     "metadata": {
      "needs_background": "light"
     },
     "output_type": "display_data"
    }
   ],
   "source": [
    "#Plotting histogram for price\n",
    "df.hist('price', bins=50)\n",
    "plt.title('Price')\n",
    "plt.xlabel('Price');"
   ]
  },
  {
   "cell_type": "markdown",
   "metadata": {},
   "source": [
    "The above histogram depicts the price distribution. \n",
    "This kind of distribution is positively skewed since it has a large number of occurrences\n",
    "in the lower value cells (left side) and few in the upper value cells (right side). \n",
    "The large amount of entries in the range of 1000-50,000 is clearly noted.\n",
    "However, signal entries of larger price values, e.g. 375,000, are not clearly seen.\n",
    "At first, we thought it's a problem in dataframe, yet the histogram resolution, explains it. "
   ]
  },
  {
   "cell_type": "code",
   "execution_count": 70,
   "metadata": {},
   "outputs": [
    {
     "data": {
      "text/plain": [
       "count   46647\n",
       "mean        9\n",
       "std         6\n",
       "min         0\n",
       "25%         4\n",
       "50%         8\n",
       "75%        12\n",
       "max       110\n",
       "Name: vehicle_age, dtype: float64"
      ]
     },
     "execution_count": 70,
     "metadata": {},
     "output_type": "execute_result"
    }
   ],
   "source": [
    "#First we take a look at the general description of the vehicle_age column\n",
    "df.vehicle_age.describe()"
   ]
  },
  {
   "cell_type": "code",
   "execution_count": 71,
   "metadata": {},
   "outputs": [
    {
     "data": {
      "image/png": "[encoded data removed]",
      "text/plain": [
       "<Figure size 720x360 with 1 Axes>"
      ]
     },
     "metadata": {
      "needs_background": "light"
     },
     "output_type": "display_data"
    }
   ],
   "source": [
    "#Plotting histogram for vehicle's age when the ad was placed\n",
    "df.hist('vehicle_age', bins=50, figsize=(10,5))\n",
    "plt.title('Vehicle age')\n",
    "plt.xlabel('Vehicle age');"
   ]
  },
  {
   "cell_type": "markdown",
   "metadata": {},
   "source": [
    "The above histogram depicts the vehicle_age distribution. \n",
    "This kind of distribution is positively skewed since it has a large number of occurrences\n",
    "in the lower value cells (left side) and few in the upper value cells (right side). \n",
    "Mostly, vehicle age is between approx. 0-12 as depicted above.\n",
    "Outliers "
   ]
  },
  {
   "cell_type": "code",
   "execution_count": 72,
   "metadata": {},
   "outputs": [
    {
     "data": {
      "text/plain": [
       "count    46647\n",
       "mean    118803\n",
       "std      60294\n",
       "min          0\n",
       "25%      79000\n",
       "50%     116786\n",
       "75%     154303\n",
       "max     990000\n",
       "Name: odometer, dtype: float64"
      ]
     },
     "execution_count": 72,
     "metadata": {},
     "output_type": "execute_result"
    }
   ],
   "source": [
    "#First we take a look at the general description of the odometer column\n",
    "df.odometer.describe()"
   ]
  },
  {
   "cell_type": "code",
   "execution_count": 73,
   "metadata": {},
   "outputs": [
    {
     "data": {
      "image/png": "[encoded data removed]",
      "text/plain": [
       "<Figure size 432x288 with 1 Axes>"
      ]
     },
     "metadata": {
      "needs_background": "light"
     },
     "output_type": "display_data"
    }
   ],
   "source": [
    "#Plotting histogram for mileage\n",
    "df.hist('odometer', bins=50)\n",
    "plt.title('Mileage')\n",
    "plt.xlabel('Mileage');"
   ]
  },
  {
   "cell_type": "markdown",
   "metadata": {},
   "source": [
    "The above histogram depicts the mileage distribution. \n",
    "This kind of distribution is positively skewed since it has a large number of occurrences\n",
    "in the lower value cells (left side) and few in the upper value cells (right side). \n",
    "The amount of entries in the range of 0-40 is clearly noted."
   ]
  },
  {
   "cell_type": "code",
   "execution_count": 74,
   "metadata": {},
   "outputs": [
    {
     "data": {
      "text/plain": [
       "count   46647\n",
       "mean        6\n",
       "std         2\n",
       "min         3\n",
       "25%         4\n",
       "50%         6\n",
       "75%         8\n",
       "max        12\n",
       "Name: cylinders, dtype: float64"
      ]
     },
     "execution_count": 74,
     "metadata": {},
     "output_type": "execute_result"
    }
   ],
   "source": [
    "#First we take a look at the general description of the cylinders column\n",
    "df.cylinders.describe()"
   ]
  },
  {
   "cell_type": "code",
   "execution_count": 75,
   "metadata": {},
   "outputs": [
    {
     "data": {
      "image/png": "[encoded data removed]",
      "text/plain": [
       "<Figure size 432x288 with 1 Axes>"
      ]
     },
     "metadata": {
      "needs_background": "light"
     },
     "output_type": "display_data"
    }
   ],
   "source": [
    "#Plotting histogram for number of cylinders\n",
    "df.hist('cylinders', bins=10)\n",
    "plt.title('Cylinders')\n",
    "plt.xlabel('Cylinders');"
   ]
  },
  {
   "cell_type": "markdown",
   "metadata": {},
   "source": [
    "The above histogram depicts the cylinders distribution. \n",
    "This kind of distribution is normal for number of cylinders, mostly vehicles have an even number anywhere between 4-8, and exceptional vehicles which are a few have more or an odd number of cylinders."
   ]
  },
  {
   "cell_type": "code",
   "execution_count": 76,
   "metadata": {},
   "outputs": [
    {
     "data": {
      "text/plain": [
       "3    22233\n",
       "2    18880\n",
       "4     4046\n",
       "1     1356\n",
       "0       73\n",
       "5       59\n",
       "Name: condition, dtype: int64"
      ]
     },
     "execution_count": 76,
     "metadata": {},
     "output_type": "execute_result"
    }
   ],
   "source": [
    "#First we take a look at the general description of the condition column\n",
    "df.condition.value_counts()"
   ]
  },
  {
   "cell_type": "code",
   "execution_count": 77,
   "metadata": {},
   "outputs": [
    {
     "data": {
      "image/png": "[encoded data removed]",
      "text/plain": [
       "<Figure size 432x288 with 1 Axes>"
      ]
     },
     "metadata": {
      "needs_background": "light"
     },
     "output_type": "display_data"
    }
   ],
   "source": [
    "#Plotting histogram for condition\n",
    "df.hist('condition', bins=5)\n",
    "plt.title('Condition')\n",
    "plt.xlabel('Condition score (0 - worst, 5 - best)');"
   ]
  },
  {
   "cell_type": "markdown",
   "metadata": {},
   "source": [
    "The above histogram depicts the condition distribution. \n",
    "This kind of distribution is skewed to the left since it has a large number of occurrences in the upper value cells (right side) and few in the lower value cells (left side), since the majority of vehicles in the dataset are in 'like new' or 'excellent' conditions."
   ]
  },
  {
   "cell_type": "code",
   "execution_count": 78,
   "metadata": {},
   "outputs": [],
   "source": [
    "#Creating a for-loop to find the upper limits of outliers from the columns we created histograms for\n",
    "filter = np.zeros(len(df), dtype=bool) + True\n",
    "for feature in ['price', 'condition', 'cylinders', 'odometer', 'vehicle_age']:\n",
    "    Q25 = df[feature].quantile(0.25)\n",
    "    Q75 = df[feature].quantile(0.75)\n",
    "    IQR = Q75 - Q25\n",
    "    #Calculating the cut off and upper limit \n",
    "    cut_off = IQR * 1.5\n",
    "    upper = Q75 + cut_off\n",
    "    filter[np.where(df[feature]>upper)] = False"
   ]
  },
  {
   "cell_type": "code",
   "execution_count": 79,
   "metadata": {},
   "outputs": [],
   "source": [
    "#Now we create a new filtered dataframe leaving the outliers in the original one\n",
    "df_filtered = df[filter]\n",
    "df_filtered.dropna(how='all', inplace=True)\n",
    "df_filtered.reset_index(drop=True, inplace=True)"
   ]
  },
  {
   "cell_type": "code",
   "execution_count": 80,
   "metadata": {},
   "outputs": [
    {
     "data": {
      "text/plain": [
       "(46647, 18)"
      ]
     },
     "execution_count": 80,
     "metadata": {},
     "output_type": "execute_result"
    }
   ],
   "source": [
    "#To check the removal of outliers, we first print the shape of the original dataframe\n",
    "df.shape"
   ]
  },
  {
   "cell_type": "code",
   "execution_count": 81,
   "metadata": {},
   "outputs": [
    {
     "data": {
      "text/plain": [
       "(43693, 18)"
      ]
     },
     "execution_count": 81,
     "metadata": {},
     "output_type": "execute_result"
    }
   ],
   "source": [
    "#Next, we print the shape of the filtered dataframe.\n",
    "df_filtered.shape"
   ]
  },
  {
   "cell_type": "markdown",
   "metadata": {},
   "source": [
    "We see fewer entries in the filtered df than in the original one.\n",
    "Upper limits of outliers successfully removed!"
   ]
  },
  {
   "cell_type": "code",
   "execution_count": 82,
   "metadata": {},
   "outputs": [],
   "source": [
    "#Moving on to plotting the new filtered histograms and comparing them with the unfiltered ones"
   ]
  },
  {
   "cell_type": "code",
   "execution_count": 83,
   "metadata": {
    "scrolled": true
   },
   "outputs": [
    {
     "data": {
      "image/png": "[encoded data removed]",
      "text/plain": [
       "<Figure size 432x288 with 2 Axes>"
      ]
     },
     "metadata": {
      "needs_background": "light"
     },
     "output_type": "display_data"
    }
   ],
   "source": [
    "#Here we compare the original with the filltered price histograms\n",
    "fig, axes = plt.subplots(1, 2)\n",
    "\n",
    "df.hist('price', bins=50, ax=axes[0])\n",
    "df_filtered.hist('price', bins=50, ax=axes[1]);"
   ]
  },
  {
   "cell_type": "markdown",
   "metadata": {},
   "source": [
    "We see above the compared original vs filtered price histograms. Without the outliers it seems like a zoom out of the significant data in the filtered histogram (on the right). "
   ]
  },
  {
   "cell_type": "code",
   "execution_count": 84,
   "metadata": {},
   "outputs": [
    {
     "data": {
      "image/png": "[encoded data removed]",
      "text/plain": [
       "<Figure size 432x288 with 2 Axes>"
      ]
     },
     "metadata": {
      "needs_background": "light"
     },
     "output_type": "display_data"
    }
   ],
   "source": [
    "#Here we compare the original with the filltered vehicle_age histograms\n",
    "fig, axes = plt.subplots(1, 2)\n",
    "\n",
    "df.hist('vehicle_age', bins=50, ax=axes[0])\n",
    "df_filtered.hist('vehicle_age', bins=50, ax=axes[1]);"
   ]
  },
  {
   "cell_type": "markdown",
   "metadata": {},
   "source": [
    "We see above the compared original vs filltered vehicle_age histograms. Without the outliers it seems like a zoom out of the significant data in the filtered histogram (on the right). "
   ]
  },
  {
   "cell_type": "code",
   "execution_count": 85,
   "metadata": {},
   "outputs": [
    {
     "data": {
      "image/png": "[encoded data removed]",
      "text/plain": [
       "<Figure size 432x288 with 2 Axes>"
      ]
     },
     "metadata": {
      "needs_background": "light"
     },
     "output_type": "display_data"
    }
   ],
   "source": [
    "#Here we compare the original with the filtered mileage histograms\n",
    "fig, axes = plt.subplots(1, 2)\n",
    "\n",
    "df.hist('odometer', bins=50, ax=axes[0])\n",
    "df_filtered.hist('odometer', bins=50, ax=axes[1]);"
   ]
  },
  {
   "cell_type": "markdown",
   "metadata": {},
   "source": [
    "We see above the compared original vs filtered mileage histograms. Without the outliers it seems like a zoom out of the significant data in the filtered histogram (on the right). "
   ]
  },
  {
   "cell_type": "code",
   "execution_count": 86,
   "metadata": {},
   "outputs": [
    {
     "data": {
      "image/png": "[encoded data removed]",
      "text/plain": [
       "<Figure size 432x288 with 2 Axes>"
      ]
     },
     "metadata": {
      "needs_background": "light"
     },
     "output_type": "display_data"
    }
   ],
   "source": [
    "#Here we compare the original with the filltered cylinders histograms\n",
    "fig, axes = plt.subplots(1, 2)\n",
    "\n",
    "df.hist('cylinders', bins=50, ax=axes[0])\n",
    "df_filtered.hist('cylinders', bins=50, ax=axes[1]);"
   ]
  },
  {
   "cell_type": "markdown",
   "metadata": {},
   "source": [
    "We see above the compared original vs filtered cylinders histograms. Without the outliers it seems like a zoom out of the significant data in the filtered histogram (on the right). In the filtered dataset the 8 cylinders' vehicle amount has notably decreased."
   ]
  },
  {
   "cell_type": "code",
   "execution_count": 87,
   "metadata": {},
   "outputs": [
    {
     "data": {
      "image/png": "[encoded data removed]",
      "text/plain": [
       "<Figure size 432x288 with 2 Axes>"
      ]
     },
     "metadata": {
      "needs_background": "light"
     },
     "output_type": "display_data"
    }
   ],
   "source": [
    "#Here we compare the original with the filtered condition histograms\n",
    "fig, axes = plt.subplots(1, 2)\n",
    "\n",
    "df.hist('condition', bins=50, ax=axes[0])\n",
    "df_filtered.hist('condition', bins=50, ax=axes[1]);"
   ]
  },
  {
   "cell_type": "markdown",
   "metadata": {},
   "source": [
    "We see above the compared original vs filtered condition histograms. Without the outliers all seems alike with the exception of condition 5 which is an outlier and hence totally removed."
   ]
  },
  {
   "cell_type": "code",
   "execution_count": 88,
   "metadata": {},
   "outputs": [
    {
     "data": {
      "image/png": "[encoded data removed]",
      "text/plain": [
       "<Figure size 432x288 with 1 Axes>"
      ]
     },
     "metadata": {
      "needs_background": "light"
     },
     "output_type": "display_data"
    }
   ],
   "source": [
    "#Plotting days_listed histogram\n",
    "df.hist('days_listed', bins=100);"
   ]
  },
  {
   "cell_type": "code",
   "execution_count": 89,
   "metadata": {},
   "outputs": [
    {
     "data": {
      "text/plain": [
       "'39.60'"
      ]
     },
     "execution_count": 89,
     "metadata": {},
     "output_type": "execute_result"
    }
   ],
   "source": [
    "#Calculating the mean\n",
    "'{:0.2f}'.format(df['days_listed'].mean())"
   ]
  },
  {
   "cell_type": "code",
   "execution_count": 90,
   "metadata": {},
   "outputs": [
    {
     "data": {
      "text/plain": [
       "'33.00'"
      ]
     },
     "execution_count": 90,
     "metadata": {},
     "output_type": "execute_result"
    }
   ],
   "source": [
    "#Calculating the median\n",
    "'{:0.2f}'.format(df['days_listed'].median())"
   ]
  },
  {
   "cell_type": "code",
   "execution_count": 91,
   "metadata": {},
   "outputs": [
    {
     "data": {
      "text/plain": [
       "count   46647\n",
       "mean       40\n",
       "std        28\n",
       "min         0\n",
       "25%        19\n",
       "50%        33\n",
       "75%        53\n",
       "max       271\n",
       "Name: days_listed, dtype: float64"
      ]
     },
     "execution_count": 91,
     "metadata": {},
     "output_type": "execute_result"
    }
   ],
   "source": [
    "df.days_listed.describe()"
   ]
  },
  {
   "cell_type": "markdown",
   "metadata": {},
   "source": [
    "We studied how many days advertisements were displayed (days_listed) by plotting a histogram, and calculating the mean and median. \n",
    "The typical lifetime of an ad is anywhere between 19 to 33. \n",
    "Now let's determine when ads were removed quickly, as in rows where days_listed=0,\n",
    "and when they were listed for an abnormally long time hence have not been sold quickly/sold yet."
   ]
  },
  {
   "cell_type": "code",
   "execution_count": 92,
   "metadata": {},
   "outputs": [
    {
     "data": {
      "text/plain": [
       "48"
      ]
     },
     "execution_count": 92,
     "metadata": {},
     "output_type": "execute_result"
    }
   ],
   "source": [
    "#Ads removed quickly are displayed in the histogram above as equal to 0 days.\n",
    "#We now find how many there are.\n",
    "len(df[df['days_listed'] == 0])"
   ]
  },
  {
   "cell_type": "code",
   "execution_count": 93,
   "metadata": {},
   "outputs": [
    {
     "data": {
      "text/html": [
       "<div>\n",
       "<style scoped>\n",
       "    .dataframe tbody tr th:only-of-type {\n",
       "        vertical-align: middle;\n",
       "    }\n",
       "\n",
       "    .dataframe tbody tr th {\n",
       "        vertical-align: top;\n",
       "    }\n",
       "\n",
       "    .dataframe thead th {\n",
       "        text-align: right;\n",
       "    }\n",
       "</style>\n",
       "<table border=\"1\" class=\"dataframe\">\n",
       "  <thead>\n",
       "    <tr style=\"text-align: right;\">\n",
       "      <th></th>\n",
       "      <th>price</th>\n",
       "      <th>model_year</th>\n",
       "      <th>model</th>\n",
       "      <th>condition</th>\n",
       "      <th>cylinders</th>\n",
       "      <th>fuel</th>\n",
       "      <th>odometer</th>\n",
       "      <th>transmission</th>\n",
       "      <th>type</th>\n",
       "      <th>paint_color</th>\n",
       "      <th>is_4wd</th>\n",
       "      <th>date_posted</th>\n",
       "      <th>days_listed</th>\n",
       "      <th>year</th>\n",
       "      <th>month</th>\n",
       "      <th>day</th>\n",
       "      <th>vehicle_age</th>\n",
       "      <th>avg_miles_per_year</th>\n",
       "    </tr>\n",
       "  </thead>\n",
       "  <tbody>\n",
       "    <tr>\n",
       "      <th>1144</th>\n",
       "      <td>14995</td>\n",
       "      <td>2008</td>\n",
       "      <td>chevrolet silverado 1500</td>\n",
       "      <td>3</td>\n",
       "      <td>8</td>\n",
       "      <td>gas</td>\n",
       "      <td>93300</td>\n",
       "      <td>automatic</td>\n",
       "      <td>truck</td>\n",
       "      <td>grey</td>\n",
       "      <td>1</td>\n",
       "      <td>2018-05-15</td>\n",
       "      <td>0</td>\n",
       "      <td>2018</td>\n",
       "      <td>5</td>\n",
       "      <td>Tuesday</td>\n",
       "      <td>10</td>\n",
       "      <td>9330</td>\n",
       "    </tr>\n",
       "    <tr>\n",
       "      <th>1809</th>\n",
       "      <td>14000</td>\n",
       "      <td>1999</td>\n",
       "      <td>ford f250</td>\n",
       "      <td>3</td>\n",
       "      <td>8</td>\n",
       "      <td>diesel</td>\n",
       "      <td>137500</td>\n",
       "      <td>automatic</td>\n",
       "      <td>truck</td>\n",
       "      <td>red</td>\n",
       "      <td>1</td>\n",
       "      <td>2018-09-27</td>\n",
       "      <td>0</td>\n",
       "      <td>2018</td>\n",
       "      <td>9</td>\n",
       "      <td>Thursday</td>\n",
       "      <td>19</td>\n",
       "      <td>7236</td>\n",
       "    </tr>\n",
       "    <tr>\n",
       "      <th>2638</th>\n",
       "      <td>4000</td>\n",
       "      <td>2004</td>\n",
       "      <td>ram 1500</td>\n",
       "      <td>3</td>\n",
       "      <td>8</td>\n",
       "      <td>gas</td>\n",
       "      <td>250000</td>\n",
       "      <td>automatic</td>\n",
       "      <td>truck</td>\n",
       "      <td>brown</td>\n",
       "      <td>1</td>\n",
       "      <td>2018-08-13</td>\n",
       "      <td>0</td>\n",
       "      <td>2018</td>\n",
       "      <td>8</td>\n",
       "      <td>Monday</td>\n",
       "      <td>14</td>\n",
       "      <td>17857</td>\n",
       "    </tr>\n",
       "    <tr>\n",
       "      <th>3633</th>\n",
       "      <td>16750</td>\n",
       "      <td>1985</td>\n",
       "      <td>chevrolet corvette</td>\n",
       "      <td>4</td>\n",
       "      <td>8</td>\n",
       "      <td>gas</td>\n",
       "      <td>24540</td>\n",
       "      <td>automatic</td>\n",
       "      <td>hatchback</td>\n",
       "      <td>white</td>\n",
       "      <td>0</td>\n",
       "      <td>2018-10-14</td>\n",
       "      <td>0</td>\n",
       "      <td>2018</td>\n",
       "      <td>10</td>\n",
       "      <td>Sunday</td>\n",
       "      <td>33</td>\n",
       "      <td>743</td>\n",
       "    </tr>\n",
       "    <tr>\n",
       "      <th>4171</th>\n",
       "      <td>5000</td>\n",
       "      <td>2007</td>\n",
       "      <td>toyota corolla</td>\n",
       "      <td>2</td>\n",
       "      <td>4</td>\n",
       "      <td>gas</td>\n",
       "      <td>223000</td>\n",
       "      <td>manual</td>\n",
       "      <td>sedan</td>\n",
       "      <td>silver</td>\n",
       "      <td>0</td>\n",
       "      <td>2018-07-11</td>\n",
       "      <td>0</td>\n",
       "      <td>2018</td>\n",
       "      <td>7</td>\n",
       "      <td>Wednesday</td>\n",
       "      <td>11</td>\n",
       "      <td>20272</td>\n",
       "    </tr>\n",
       "    <tr>\n",
       "      <th>4475</th>\n",
       "      <td>12500</td>\n",
       "      <td>2001</td>\n",
       "      <td>ram 1500</td>\n",
       "      <td>2</td>\n",
       "      <td>8</td>\n",
       "      <td>gas</td>\n",
       "      <td>99892</td>\n",
       "      <td>automatic</td>\n",
       "      <td>truck</td>\n",
       "      <td>black</td>\n",
       "      <td>1</td>\n",
       "      <td>2018-05-11</td>\n",
       "      <td>0</td>\n",
       "      <td>2018</td>\n",
       "      <td>5</td>\n",
       "      <td>Friday</td>\n",
       "      <td>17</td>\n",
       "      <td>5876</td>\n",
       "    </tr>\n",
       "    <tr>\n",
       "      <th>5974</th>\n",
       "      <td>4800</td>\n",
       "      <td>2007</td>\n",
       "      <td>honda odyssey</td>\n",
       "      <td>2</td>\n",
       "      <td>6</td>\n",
       "      <td>gas</td>\n",
       "      <td>152400</td>\n",
       "      <td>automatic</td>\n",
       "      <td>mini-van</td>\n",
       "      <td>brown</td>\n",
       "      <td>0</td>\n",
       "      <td>2018-09-25</td>\n",
       "      <td>0</td>\n",
       "      <td>2018</td>\n",
       "      <td>9</td>\n",
       "      <td>Tuesday</td>\n",
       "      <td>11</td>\n",
       "      <td>13854</td>\n",
       "    </tr>\n",
       "    <tr>\n",
       "      <th>6422</th>\n",
       "      <td>5900</td>\n",
       "      <td>2007</td>\n",
       "      <td>jeep grand cherokee laredo</td>\n",
       "      <td>3</td>\n",
       "      <td>6</td>\n",
       "      <td>gas</td>\n",
       "      <td>134800</td>\n",
       "      <td>automatic</td>\n",
       "      <td>SUV</td>\n",
       "      <td>grey</td>\n",
       "      <td>1</td>\n",
       "      <td>2018-07-21</td>\n",
       "      <td>0</td>\n",
       "      <td>2018</td>\n",
       "      <td>7</td>\n",
       "      <td>Saturday</td>\n",
       "      <td>11</td>\n",
       "      <td>12254</td>\n",
       "    </tr>\n",
       "    <tr>\n",
       "      <th>8723</th>\n",
       "      <td>4999</td>\n",
       "      <td>2012</td>\n",
       "      <td>nissan sentra</td>\n",
       "      <td>3</td>\n",
       "      <td>4</td>\n",
       "      <td>gas</td>\n",
       "      <td>125000</td>\n",
       "      <td>automatic</td>\n",
       "      <td>sedan</td>\n",
       "      <td>silver</td>\n",
       "      <td>0</td>\n",
       "      <td>2019-03-26</td>\n",
       "      <td>0</td>\n",
       "      <td>2019</td>\n",
       "      <td>3</td>\n",
       "      <td>Tuesday</td>\n",
       "      <td>7</td>\n",
       "      <td>17857</td>\n",
       "    </tr>\n",
       "    <tr>\n",
       "      <th>8841</th>\n",
       "      <td>15000</td>\n",
       "      <td>2003</td>\n",
       "      <td>ford f-150</td>\n",
       "      <td>2</td>\n",
       "      <td>8</td>\n",
       "      <td>gas</td>\n",
       "      <td>90048</td>\n",
       "      <td>automatic</td>\n",
       "      <td>truck</td>\n",
       "      <td>black</td>\n",
       "      <td>0</td>\n",
       "      <td>2018-09-21</td>\n",
       "      <td>0</td>\n",
       "      <td>2018</td>\n",
       "      <td>9</td>\n",
       "      <td>Friday</td>\n",
       "      <td>15</td>\n",
       "      <td>6003</td>\n",
       "    </tr>\n",
       "    <tr>\n",
       "      <th>9730</th>\n",
       "      <td>3100</td>\n",
       "      <td>2000</td>\n",
       "      <td>chevrolet silverado</td>\n",
       "      <td>2</td>\n",
       "      <td>8</td>\n",
       "      <td>gas</td>\n",
       "      <td>211000</td>\n",
       "      <td>automatic</td>\n",
       "      <td>truck</td>\n",
       "      <td>white</td>\n",
       "      <td>0</td>\n",
       "      <td>2018-07-06</td>\n",
       "      <td>0</td>\n",
       "      <td>2018</td>\n",
       "      <td>7</td>\n",
       "      <td>Friday</td>\n",
       "      <td>18</td>\n",
       "      <td>11722</td>\n",
       "    </tr>\n",
       "    <tr>\n",
       "      <th>11538</th>\n",
       "      <td>21997</td>\n",
       "      <td>2014</td>\n",
       "      <td>honda pilot</td>\n",
       "      <td>3</td>\n",
       "      <td>6</td>\n",
       "      <td>gas</td>\n",
       "      <td>37093</td>\n",
       "      <td>automatic</td>\n",
       "      <td>SUV</td>\n",
       "      <td>silver</td>\n",
       "      <td>1</td>\n",
       "      <td>2019-03-04</td>\n",
       "      <td>0</td>\n",
       "      <td>2019</td>\n",
       "      <td>3</td>\n",
       "      <td>Monday</td>\n",
       "      <td>5</td>\n",
       "      <td>7418</td>\n",
       "    </tr>\n",
       "    <tr>\n",
       "      <th>12586</th>\n",
       "      <td>10500</td>\n",
       "      <td>2005</td>\n",
       "      <td>gmc sierra 1500</td>\n",
       "      <td>3</td>\n",
       "      <td>8</td>\n",
       "      <td>gas</td>\n",
       "      <td>103000</td>\n",
       "      <td>automatic</td>\n",
       "      <td>pickup</td>\n",
       "      <td>black</td>\n",
       "      <td>1</td>\n",
       "      <td>2019-02-06</td>\n",
       "      <td>0</td>\n",
       "      <td>2019</td>\n",
       "      <td>2</td>\n",
       "      <td>Wednesday</td>\n",
       "      <td>14</td>\n",
       "      <td>7357</td>\n",
       "    </tr>\n",
       "    <tr>\n",
       "      <th>12860</th>\n",
       "      <td>17995</td>\n",
       "      <td>2011</td>\n",
       "      <td>ford f250</td>\n",
       "      <td>2</td>\n",
       "      <td>8</td>\n",
       "      <td>gas</td>\n",
       "      <td>75465</td>\n",
       "      <td>automatic</td>\n",
       "      <td>truck</td>\n",
       "      <td>white</td>\n",
       "      <td>1</td>\n",
       "      <td>2018-09-09</td>\n",
       "      <td>0</td>\n",
       "      <td>2018</td>\n",
       "      <td>9</td>\n",
       "      <td>Sunday</td>\n",
       "      <td>7</td>\n",
       "      <td>10780</td>\n",
       "    </tr>\n",
       "    <tr>\n",
       "      <th>14257</th>\n",
       "      <td>8200</td>\n",
       "      <td>2014</td>\n",
       "      <td>honda accord</td>\n",
       "      <td>3</td>\n",
       "      <td>4</td>\n",
       "      <td>gas</td>\n",
       "      <td>121000</td>\n",
       "      <td>automatic</td>\n",
       "      <td>sedan</td>\n",
       "      <td>silver</td>\n",
       "      <td>0</td>\n",
       "      <td>2018-05-31</td>\n",
       "      <td>0</td>\n",
       "      <td>2018</td>\n",
       "      <td>5</td>\n",
       "      <td>Thursday</td>\n",
       "      <td>4</td>\n",
       "      <td>30250</td>\n",
       "    </tr>\n",
       "    <tr>\n",
       "      <th>14339</th>\n",
       "      <td>3650</td>\n",
       "      <td>2013</td>\n",
       "      <td>kia soul</td>\n",
       "      <td>2</td>\n",
       "      <td>4</td>\n",
       "      <td>gas</td>\n",
       "      <td>141162</td>\n",
       "      <td>manual</td>\n",
       "      <td>hatchback</td>\n",
       "      <td>grey</td>\n",
       "      <td>0</td>\n",
       "      <td>2019-01-27</td>\n",
       "      <td>0</td>\n",
       "      <td>2019</td>\n",
       "      <td>1</td>\n",
       "      <td>Sunday</td>\n",
       "      <td>6</td>\n",
       "      <td>23527</td>\n",
       "    </tr>\n",
       "    <tr>\n",
       "      <th>14399</th>\n",
       "      <td>13995</td>\n",
       "      <td>2008</td>\n",
       "      <td>toyota 4runner</td>\n",
       "      <td>3</td>\n",
       "      <td>6</td>\n",
       "      <td>gas</td>\n",
       "      <td>99915</td>\n",
       "      <td>automatic</td>\n",
       "      <td>SUV</td>\n",
       "      <td>other</td>\n",
       "      <td>1</td>\n",
       "      <td>2018-07-17</td>\n",
       "      <td>0</td>\n",
       "      <td>2018</td>\n",
       "      <td>7</td>\n",
       "      <td>Tuesday</td>\n",
       "      <td>10</td>\n",
       "      <td>9991</td>\n",
       "    </tr>\n",
       "    <tr>\n",
       "      <th>15335</th>\n",
       "      <td>7800</td>\n",
       "      <td>2009</td>\n",
       "      <td>gmc sierra</td>\n",
       "      <td>3</td>\n",
       "      <td>6</td>\n",
       "      <td>gas</td>\n",
       "      <td>142000</td>\n",
       "      <td>automatic</td>\n",
       "      <td>truck</td>\n",
       "      <td>red</td>\n",
       "      <td>0</td>\n",
       "      <td>2018-07-05</td>\n",
       "      <td>0</td>\n",
       "      <td>2018</td>\n",
       "      <td>7</td>\n",
       "      <td>Thursday</td>\n",
       "      <td>9</td>\n",
       "      <td>15777</td>\n",
       "    </tr>\n",
       "    <tr>\n",
       "      <th>15890</th>\n",
       "      <td>14995</td>\n",
       "      <td>2008</td>\n",
       "      <td>ford f350 super duty</td>\n",
       "      <td>3</td>\n",
       "      <td>8</td>\n",
       "      <td>gas</td>\n",
       "      <td>126650</td>\n",
       "      <td>automatic</td>\n",
       "      <td>truck</td>\n",
       "      <td>white</td>\n",
       "      <td>0</td>\n",
       "      <td>2019-03-15</td>\n",
       "      <td>0</td>\n",
       "      <td>2019</td>\n",
       "      <td>3</td>\n",
       "      <td>Friday</td>\n",
       "      <td>11</td>\n",
       "      <td>11513</td>\n",
       "    </tr>\n",
       "    <tr>\n",
       "      <th>16928</th>\n",
       "      <td>29999</td>\n",
       "      <td>2011</td>\n",
       "      <td>ford econoline</td>\n",
       "      <td>4</td>\n",
       "      <td>10</td>\n",
       "      <td>gas</td>\n",
       "      <td>117000</td>\n",
       "      <td>automatic</td>\n",
       "      <td>van</td>\n",
       "      <td>white</td>\n",
       "      <td>0</td>\n",
       "      <td>2018-08-07</td>\n",
       "      <td>0</td>\n",
       "      <td>2018</td>\n",
       "      <td>8</td>\n",
       "      <td>Tuesday</td>\n",
       "      <td>7</td>\n",
       "      <td>16714</td>\n",
       "    </tr>\n",
       "    <tr>\n",
       "      <th>18536</th>\n",
       "      <td>11886</td>\n",
       "      <td>2017</td>\n",
       "      <td>ford fusion se</td>\n",
       "      <td>3</td>\n",
       "      <td>4</td>\n",
       "      <td>gas</td>\n",
       "      <td>72000</td>\n",
       "      <td>automatic</td>\n",
       "      <td>sedan</td>\n",
       "      <td>other</td>\n",
       "      <td>0</td>\n",
       "      <td>2018-10-16</td>\n",
       "      <td>0</td>\n",
       "      <td>2018</td>\n",
       "      <td>10</td>\n",
       "      <td>Tuesday</td>\n",
       "      <td>1</td>\n",
       "      <td>72000</td>\n",
       "    </tr>\n",
       "    <tr>\n",
       "      <th>19461</th>\n",
       "      <td>2950</td>\n",
       "      <td>2009</td>\n",
       "      <td>chevrolet malibu</td>\n",
       "      <td>2</td>\n",
       "      <td>4</td>\n",
       "      <td>gas</td>\n",
       "      <td>140000</td>\n",
       "      <td>automatic</td>\n",
       "      <td>sedan</td>\n",
       "      <td>other</td>\n",
       "      <td>0</td>\n",
       "      <td>2018-08-27</td>\n",
       "      <td>0</td>\n",
       "      <td>2018</td>\n",
       "      <td>8</td>\n",
       "      <td>Monday</td>\n",
       "      <td>9</td>\n",
       "      <td>15555</td>\n",
       "    </tr>\n",
       "    <tr>\n",
       "      <th>20719</th>\n",
       "      <td>7995</td>\n",
       "      <td>2013</td>\n",
       "      <td>toyota corolla</td>\n",
       "      <td>3</td>\n",
       "      <td>4</td>\n",
       "      <td>gas</td>\n",
       "      <td>102466</td>\n",
       "      <td>automatic</td>\n",
       "      <td>sedan</td>\n",
       "      <td>silver</td>\n",
       "      <td>0</td>\n",
       "      <td>2019-03-09</td>\n",
       "      <td>0</td>\n",
       "      <td>2019</td>\n",
       "      <td>3</td>\n",
       "      <td>Saturday</td>\n",
       "      <td>6</td>\n",
       "      <td>17077</td>\n",
       "    </tr>\n",
       "    <tr>\n",
       "      <th>22616</th>\n",
       "      <td>9950</td>\n",
       "      <td>2008</td>\n",
       "      <td>toyota tundra</td>\n",
       "      <td>2</td>\n",
       "      <td>6</td>\n",
       "      <td>gas</td>\n",
       "      <td>229000</td>\n",
       "      <td>automatic</td>\n",
       "      <td>truck</td>\n",
       "      <td>red</td>\n",
       "      <td>0</td>\n",
       "      <td>2019-04-16</td>\n",
       "      <td>0</td>\n",
       "      <td>2019</td>\n",
       "      <td>4</td>\n",
       "      <td>Tuesday</td>\n",
       "      <td>11</td>\n",
       "      <td>20818</td>\n",
       "    </tr>\n",
       "    <tr>\n",
       "      <th>23995</th>\n",
       "      <td>9995</td>\n",
       "      <td>2006</td>\n",
       "      <td>ram 1500</td>\n",
       "      <td>3</td>\n",
       "      <td>8</td>\n",
       "      <td>gas</td>\n",
       "      <td>101750</td>\n",
       "      <td>automatic</td>\n",
       "      <td>truck</td>\n",
       "      <td>black</td>\n",
       "      <td>1</td>\n",
       "      <td>2018-08-11</td>\n",
       "      <td>0</td>\n",
       "      <td>2018</td>\n",
       "      <td>8</td>\n",
       "      <td>Saturday</td>\n",
       "      <td>12</td>\n",
       "      <td>8479</td>\n",
       "    </tr>\n",
       "    <tr>\n",
       "      <th>24045</th>\n",
       "      <td>8950</td>\n",
       "      <td>2005</td>\n",
       "      <td>chevrolet silverado 1500</td>\n",
       "      <td>2</td>\n",
       "      <td>8</td>\n",
       "      <td>gas</td>\n",
       "      <td>175788</td>\n",
       "      <td>automatic</td>\n",
       "      <td>truck</td>\n",
       "      <td>custom</td>\n",
       "      <td>1</td>\n",
       "      <td>2019-02-09</td>\n",
       "      <td>0</td>\n",
       "      <td>2019</td>\n",
       "      <td>2</td>\n",
       "      <td>Saturday</td>\n",
       "      <td>14</td>\n",
       "      <td>12556</td>\n",
       "    </tr>\n",
       "    <tr>\n",
       "      <th>24278</th>\n",
       "      <td>10995</td>\n",
       "      <td>2010</td>\n",
       "      <td>chevrolet silverado 1500</td>\n",
       "      <td>2</td>\n",
       "      <td>8</td>\n",
       "      <td>gas</td>\n",
       "      <td>165178</td>\n",
       "      <td>automatic</td>\n",
       "      <td>truck</td>\n",
       "      <td>grey</td>\n",
       "      <td>1</td>\n",
       "      <td>2019-03-18</td>\n",
       "      <td>0</td>\n",
       "      <td>2019</td>\n",
       "      <td>3</td>\n",
       "      <td>Monday</td>\n",
       "      <td>9</td>\n",
       "      <td>18353</td>\n",
       "    </tr>\n",
       "    <tr>\n",
       "      <th>24931</th>\n",
       "      <td>2900</td>\n",
       "      <td>2009</td>\n",
       "      <td>honda civic</td>\n",
       "      <td>3</td>\n",
       "      <td>4</td>\n",
       "      <td>gas</td>\n",
       "      <td>190222</td>\n",
       "      <td>automatic</td>\n",
       "      <td>sedan</td>\n",
       "      <td>silver</td>\n",
       "      <td>0</td>\n",
       "      <td>2018-12-17</td>\n",
       "      <td>0</td>\n",
       "      <td>2018</td>\n",
       "      <td>12</td>\n",
       "      <td>Monday</td>\n",
       "      <td>9</td>\n",
       "      <td>21135</td>\n",
       "    </tr>\n",
       "    <tr>\n",
       "      <th>26305</th>\n",
       "      <td>9450</td>\n",
       "      <td>2014</td>\n",
       "      <td>kia sorento</td>\n",
       "      <td>3</td>\n",
       "      <td>4</td>\n",
       "      <td>gas</td>\n",
       "      <td>91776</td>\n",
       "      <td>automatic</td>\n",
       "      <td>SUV</td>\n",
       "      <td>silver</td>\n",
       "      <td>1</td>\n",
       "      <td>2018-08-27</td>\n",
       "      <td>0</td>\n",
       "      <td>2018</td>\n",
       "      <td>8</td>\n",
       "      <td>Monday</td>\n",
       "      <td>4</td>\n",
       "      <td>22944</td>\n",
       "    </tr>\n",
       "    <tr>\n",
       "      <th>27059</th>\n",
       "      <td>9995</td>\n",
       "      <td>2006</td>\n",
       "      <td>chevrolet silverado 1500</td>\n",
       "      <td>3</td>\n",
       "      <td>8</td>\n",
       "      <td>gas</td>\n",
       "      <td>115000</td>\n",
       "      <td>automatic</td>\n",
       "      <td>pickup</td>\n",
       "      <td>grey</td>\n",
       "      <td>1</td>\n",
       "      <td>2019-04-11</td>\n",
       "      <td>0</td>\n",
       "      <td>2019</td>\n",
       "      <td>4</td>\n",
       "      <td>Thursday</td>\n",
       "      <td>13</td>\n",
       "      <td>8846</td>\n",
       "    </tr>\n",
       "    <tr>\n",
       "      <th>27485</th>\n",
       "      <td>14995</td>\n",
       "      <td>2010</td>\n",
       "      <td>jeep wrangler unlimited</td>\n",
       "      <td>2</td>\n",
       "      <td>6</td>\n",
       "      <td>gas</td>\n",
       "      <td>162</td>\n",
       "      <td>automatic</td>\n",
       "      <td>convertible</td>\n",
       "      <td>silver</td>\n",
       "      <td>1</td>\n",
       "      <td>2018-07-13</td>\n",
       "      <td>0</td>\n",
       "      <td>2018</td>\n",
       "      <td>7</td>\n",
       "      <td>Friday</td>\n",
       "      <td>8</td>\n",
       "      <td>20</td>\n",
       "    </tr>\n",
       "    <tr>\n",
       "      <th>28009</th>\n",
       "      <td>26900</td>\n",
       "      <td>2014</td>\n",
       "      <td>chevrolet silverado 1500 crew</td>\n",
       "      <td>2</td>\n",
       "      <td>8</td>\n",
       "      <td>gas</td>\n",
       "      <td>68607</td>\n",
       "      <td>automatic</td>\n",
       "      <td>pickup</td>\n",
       "      <td>black</td>\n",
       "      <td>1</td>\n",
       "      <td>2018-12-31</td>\n",
       "      <td>0</td>\n",
       "      <td>2018</td>\n",
       "      <td>12</td>\n",
       "      <td>Monday</td>\n",
       "      <td>4</td>\n",
       "      <td>17151</td>\n",
       "    </tr>\n",
       "    <tr>\n",
       "      <th>28093</th>\n",
       "      <td>6200</td>\n",
       "      <td>2014</td>\n",
       "      <td>volkswagen jetta</td>\n",
       "      <td>4</td>\n",
       "      <td>4</td>\n",
       "      <td>gas</td>\n",
       "      <td>54000</td>\n",
       "      <td>manual</td>\n",
       "      <td>sedan</td>\n",
       "      <td>other</td>\n",
       "      <td>0</td>\n",
       "      <td>2018-09-03</td>\n",
       "      <td>0</td>\n",
       "      <td>2018</td>\n",
       "      <td>9</td>\n",
       "      <td>Monday</td>\n",
       "      <td>4</td>\n",
       "      <td>13500</td>\n",
       "    </tr>\n",
       "    <tr>\n",
       "      <th>28978</th>\n",
       "      <td>12500</td>\n",
       "      <td>2013</td>\n",
       "      <td>chrysler town &amp; country</td>\n",
       "      <td>4</td>\n",
       "      <td>6</td>\n",
       "      <td>gas</td>\n",
       "      <td>63778</td>\n",
       "      <td>automatic</td>\n",
       "      <td>mini-van</td>\n",
       "      <td>other</td>\n",
       "      <td>0</td>\n",
       "      <td>2018-09-23</td>\n",
       "      <td>0</td>\n",
       "      <td>2018</td>\n",
       "      <td>9</td>\n",
       "      <td>Sunday</td>\n",
       "      <td>5</td>\n",
       "      <td>12755</td>\n",
       "    </tr>\n",
       "    <tr>\n",
       "      <th>30368</th>\n",
       "      <td>6995</td>\n",
       "      <td>2009</td>\n",
       "      <td>gmc acadia</td>\n",
       "      <td>2</td>\n",
       "      <td>6</td>\n",
       "      <td>gas</td>\n",
       "      <td>177676</td>\n",
       "      <td>automatic</td>\n",
       "      <td>SUV</td>\n",
       "      <td>custom</td>\n",
       "      <td>0</td>\n",
       "      <td>2018-09-16</td>\n",
       "      <td>0</td>\n",
       "      <td>2018</td>\n",
       "      <td>9</td>\n",
       "      <td>Sunday</td>\n",
       "      <td>9</td>\n",
       "      <td>19741</td>\n",
       "    </tr>\n",
       "    <tr>\n",
       "      <th>31966</th>\n",
       "      <td>1500</td>\n",
       "      <td>1992</td>\n",
       "      <td>honda accord</td>\n",
       "      <td>2</td>\n",
       "      <td>4</td>\n",
       "      <td>gas</td>\n",
       "      <td>239199</td>\n",
       "      <td>automatic</td>\n",
       "      <td>sedan</td>\n",
       "      <td>red</td>\n",
       "      <td>0</td>\n",
       "      <td>2018-08-02</td>\n",
       "      <td>0</td>\n",
       "      <td>2018</td>\n",
       "      <td>8</td>\n",
       "      <td>Thursday</td>\n",
       "      <td>26</td>\n",
       "      <td>9199</td>\n",
       "    </tr>\n",
       "    <tr>\n",
       "      <th>32581</th>\n",
       "      <td>24500</td>\n",
       "      <td>2018</td>\n",
       "      <td>chevrolet silverado</td>\n",
       "      <td>3</td>\n",
       "      <td>8</td>\n",
       "      <td>gas</td>\n",
       "      <td>30000</td>\n",
       "      <td>automatic</td>\n",
       "      <td>pickup</td>\n",
       "      <td>silver</td>\n",
       "      <td>1</td>\n",
       "      <td>2019-01-21</td>\n",
       "      <td>0</td>\n",
       "      <td>2019</td>\n",
       "      <td>1</td>\n",
       "      <td>Monday</td>\n",
       "      <td>1</td>\n",
       "      <td>30000</td>\n",
       "    </tr>\n",
       "    <tr>\n",
       "      <th>35129</th>\n",
       "      <td>1900</td>\n",
       "      <td>2005</td>\n",
       "      <td>toyota prius</td>\n",
       "      <td>1</td>\n",
       "      <td>4</td>\n",
       "      <td>gas</td>\n",
       "      <td>188000</td>\n",
       "      <td>automatic</td>\n",
       "      <td>hatchback</td>\n",
       "      <td>grey</td>\n",
       "      <td>0</td>\n",
       "      <td>2018-05-29</td>\n",
       "      <td>0</td>\n",
       "      <td>2018</td>\n",
       "      <td>5</td>\n",
       "      <td>Tuesday</td>\n",
       "      <td>13</td>\n",
       "      <td>14461</td>\n",
       "    </tr>\n",
       "    <tr>\n",
       "      <th>35363</th>\n",
       "      <td>21100</td>\n",
       "      <td>2017</td>\n",
       "      <td>chevrolet camaro lt coupe 2d</td>\n",
       "      <td>2</td>\n",
       "      <td>6</td>\n",
       "      <td>gas</td>\n",
       "      <td>24510</td>\n",
       "      <td>other</td>\n",
       "      <td>coupe</td>\n",
       "      <td>red</td>\n",
       "      <td>0</td>\n",
       "      <td>2019-03-23</td>\n",
       "      <td>0</td>\n",
       "      <td>2019</td>\n",
       "      <td>3</td>\n",
       "      <td>Saturday</td>\n",
       "      <td>2</td>\n",
       "      <td>12255</td>\n",
       "    </tr>\n",
       "    <tr>\n",
       "      <th>36102</th>\n",
       "      <td>5995</td>\n",
       "      <td>2003</td>\n",
       "      <td>jeep grand cherokee laredo</td>\n",
       "      <td>2</td>\n",
       "      <td>6</td>\n",
       "      <td>gas</td>\n",
       "      <td>137252</td>\n",
       "      <td>automatic</td>\n",
       "      <td>SUV</td>\n",
       "      <td>blue</td>\n",
       "      <td>1</td>\n",
       "      <td>2018-07-31</td>\n",
       "      <td>0</td>\n",
       "      <td>2018</td>\n",
       "      <td>7</td>\n",
       "      <td>Tuesday</td>\n",
       "      <td>15</td>\n",
       "      <td>9150</td>\n",
       "    </tr>\n",
       "    <tr>\n",
       "      <th>37275</th>\n",
       "      <td>2200</td>\n",
       "      <td>2000</td>\n",
       "      <td>toyota sienna</td>\n",
       "      <td>4</td>\n",
       "      <td>6</td>\n",
       "      <td>gas</td>\n",
       "      <td>152600</td>\n",
       "      <td>automatic</td>\n",
       "      <td>van</td>\n",
       "      <td>custom</td>\n",
       "      <td>0</td>\n",
       "      <td>2018-11-30</td>\n",
       "      <td>0</td>\n",
       "      <td>2018</td>\n",
       "      <td>11</td>\n",
       "      <td>Friday</td>\n",
       "      <td>18</td>\n",
       "      <td>8477</td>\n",
       "    </tr>\n",
       "    <tr>\n",
       "      <th>37814</th>\n",
       "      <td>1800</td>\n",
       "      <td>2002</td>\n",
       "      <td>honda civic</td>\n",
       "      <td>2</td>\n",
       "      <td>4</td>\n",
       "      <td>gas</td>\n",
       "      <td>238155</td>\n",
       "      <td>automatic</td>\n",
       "      <td>sedan</td>\n",
       "      <td>silver</td>\n",
       "      <td>0</td>\n",
       "      <td>2018-09-28</td>\n",
       "      <td>0</td>\n",
       "      <td>2018</td>\n",
       "      <td>9</td>\n",
       "      <td>Friday</td>\n",
       "      <td>16</td>\n",
       "      <td>14884</td>\n",
       "    </tr>\n",
       "    <tr>\n",
       "      <th>39310</th>\n",
       "      <td>12900</td>\n",
       "      <td>1987</td>\n",
       "      <td>chevrolet camaro</td>\n",
       "      <td>3</td>\n",
       "      <td>8</td>\n",
       "      <td>gas</td>\n",
       "      <td>107000</td>\n",
       "      <td>manual</td>\n",
       "      <td>coupe</td>\n",
       "      <td>black</td>\n",
       "      <td>0</td>\n",
       "      <td>2018-07-30</td>\n",
       "      <td>0</td>\n",
       "      <td>2018</td>\n",
       "      <td>7</td>\n",
       "      <td>Monday</td>\n",
       "      <td>31</td>\n",
       "      <td>3451</td>\n",
       "    </tr>\n",
       "    <tr>\n",
       "      <th>39318</th>\n",
       "      <td>2800</td>\n",
       "      <td>2003</td>\n",
       "      <td>ford mustang</td>\n",
       "      <td>1</td>\n",
       "      <td>6</td>\n",
       "      <td>gas</td>\n",
       "      <td>181000</td>\n",
       "      <td>automatic</td>\n",
       "      <td>coupe</td>\n",
       "      <td>silver</td>\n",
       "      <td>0</td>\n",
       "      <td>2018-10-23</td>\n",
       "      <td>0</td>\n",
       "      <td>2018</td>\n",
       "      <td>10</td>\n",
       "      <td>Tuesday</td>\n",
       "      <td>15</td>\n",
       "      <td>12066</td>\n",
       "    </tr>\n",
       "    <tr>\n",
       "      <th>39782</th>\n",
       "      <td>28699</td>\n",
       "      <td>2013</td>\n",
       "      <td>jeep wrangler unlimited</td>\n",
       "      <td>4</td>\n",
       "      <td>6</td>\n",
       "      <td>gas</td>\n",
       "      <td>34000</td>\n",
       "      <td>automatic</td>\n",
       "      <td>SUV</td>\n",
       "      <td>white</td>\n",
       "      <td>1</td>\n",
       "      <td>2018-08-12</td>\n",
       "      <td>0</td>\n",
       "      <td>2018</td>\n",
       "      <td>8</td>\n",
       "      <td>Sunday</td>\n",
       "      <td>5</td>\n",
       "      <td>6800</td>\n",
       "    </tr>\n",
       "    <tr>\n",
       "      <th>40584</th>\n",
       "      <td>7600</td>\n",
       "      <td>2017</td>\n",
       "      <td>hyundai elantra</td>\n",
       "      <td>3</td>\n",
       "      <td>4</td>\n",
       "      <td>gas</td>\n",
       "      <td>108000</td>\n",
       "      <td>automatic</td>\n",
       "      <td>sedan</td>\n",
       "      <td>blue</td>\n",
       "      <td>0</td>\n",
       "      <td>2018-10-30</td>\n",
       "      <td>0</td>\n",
       "      <td>2018</td>\n",
       "      <td>10</td>\n",
       "      <td>Tuesday</td>\n",
       "      <td>1</td>\n",
       "      <td>108000</td>\n",
       "    </tr>\n",
       "    <tr>\n",
       "      <th>44213</th>\n",
       "      <td>12000</td>\n",
       "      <td>2015</td>\n",
       "      <td>toyota rav4</td>\n",
       "      <td>3</td>\n",
       "      <td>4</td>\n",
       "      <td>gas</td>\n",
       "      <td>116000</td>\n",
       "      <td>automatic</td>\n",
       "      <td>hatchback</td>\n",
       "      <td>blue</td>\n",
       "      <td>1</td>\n",
       "      <td>2018-08-19</td>\n",
       "      <td>0</td>\n",
       "      <td>2018</td>\n",
       "      <td>8</td>\n",
       "      <td>Sunday</td>\n",
       "      <td>3</td>\n",
       "      <td>38666</td>\n",
       "    </tr>\n",
       "    <tr>\n",
       "      <th>46495</th>\n",
       "      <td>2999</td>\n",
       "      <td>2004</td>\n",
       "      <td>ford taurus</td>\n",
       "      <td>2</td>\n",
       "      <td>6</td>\n",
       "      <td>gas</td>\n",
       "      <td>136000</td>\n",
       "      <td>automatic</td>\n",
       "      <td>sedan</td>\n",
       "      <td>other</td>\n",
       "      <td>0</td>\n",
       "      <td>2018-10-22</td>\n",
       "      <td>0</td>\n",
       "      <td>2018</td>\n",
       "      <td>10</td>\n",
       "      <td>Monday</td>\n",
       "      <td>14</td>\n",
       "      <td>9714</td>\n",
       "    </tr>\n",
       "  </tbody>\n",
       "</table>\n",
       "</div>"
      ],
      "text/plain": [
       "       price  model_year                          model  condition  cylinders  \\\n",
       "1144   14995        2008       chevrolet silverado 1500          3          8   \n",
       "1809   14000        1999                      ford f250          3          8   \n",
       "2638    4000        2004                       ram 1500          3          8   \n",
       "3633   16750        1985             chevrolet corvette          4          8   \n",
       "4171    5000        2007                 toyota corolla          2          4   \n",
       "4475   12500        2001                       ram 1500          2          8   \n",
       "5974    4800        2007                  honda odyssey          2          6   \n",
       "6422    5900        2007     jeep grand cherokee laredo          3          6   \n",
       "8723    4999        2012                  nissan sentra          3          4   \n",
       "8841   15000        2003                     ford f-150          2          8   \n",
       "9730    3100        2000            chevrolet silverado          2          8   \n",
       "11538  21997        2014                    honda pilot          3          6   \n",
       "12586  10500        2005                gmc sierra 1500          3          8   \n",
       "12860  17995        2011                      ford f250          2          8   \n",
       "14257   8200        2014                   honda accord          3          4   \n",
       "14339   3650        2013                       kia soul          2          4   \n",
       "14399  13995        2008                 toyota 4runner          3          6   \n",
       "15335   7800        2009                     gmc sierra          3          6   \n",
       "15890  14995        2008           ford f350 super duty          3          8   \n",
       "16928  29999        2011                 ford econoline          4         10   \n",
       "18536  11886        2017                 ford fusion se          3          4   \n",
       "19461   2950        2009               chevrolet malibu          2          4   \n",
       "20719   7995        2013                 toyota corolla          3          4   \n",
       "22616   9950        2008                  toyota tundra          2          6   \n",
       "23995   9995        2006                       ram 1500          3          8   \n",
       "24045   8950        2005       chevrolet silverado 1500          2          8   \n",
       "24278  10995        2010       chevrolet silverado 1500          2          8   \n",
       "24931   2900        2009                    honda civic          3          4   \n",
       "26305   9450        2014                    kia sorento          3          4   \n",
       "27059   9995        2006       chevrolet silverado 1500          3          8   \n",
       "27485  14995        2010        jeep wrangler unlimited          2          6   \n",
       "28009  26900        2014  chevrolet silverado 1500 crew          2          8   \n",
       "28093   6200        2014               volkswagen jetta          4          4   \n",
       "28978  12500        2013        chrysler town & country          4          6   \n",
       "30368   6995        2009                     gmc acadia          2          6   \n",
       "31966   1500        1992                   honda accord          2          4   \n",
       "32581  24500        2018            chevrolet silverado          3          8   \n",
       "35129   1900        2005                   toyota prius          1          4   \n",
       "35363  21100        2017   chevrolet camaro lt coupe 2d          2          6   \n",
       "36102   5995        2003     jeep grand cherokee laredo          2          6   \n",
       "37275   2200        2000                  toyota sienna          4          6   \n",
       "37814   1800        2002                    honda civic          2          4   \n",
       "39310  12900        1987               chevrolet camaro          3          8   \n",
       "39318   2800        2003                   ford mustang          1          6   \n",
       "39782  28699        2013        jeep wrangler unlimited          4          6   \n",
       "40584   7600        2017                hyundai elantra          3          4   \n",
       "44213  12000        2015                    toyota rav4          3          4   \n",
       "46495   2999        2004                    ford taurus          2          6   \n",
       "\n",
       "         fuel  odometer transmission         type paint_color  is_4wd  \\\n",
       "1144      gas     93300    automatic        truck        grey       1   \n",
       "1809   diesel    137500    automatic        truck         red       1   \n",
       "2638      gas    250000    automatic        truck       brown       1   \n",
       "3633      gas     24540    automatic    hatchback       white       0   \n",
       "4171      gas    223000       manual        sedan      silver       0   \n",
       "4475      gas     99892    automatic        truck       black       1   \n",
       "5974      gas    152400    automatic     mini-van       brown       0   \n",
       "6422      gas    134800    automatic          SUV        grey       1   \n",
       "8723      gas    125000    automatic        sedan      silver       0   \n",
       "8841      gas     90048    automatic        truck       black       0   \n",
       "9730      gas    211000    automatic        truck       white       0   \n",
       "11538     gas     37093    automatic          SUV      silver       1   \n",
       "12586     gas    103000    automatic       pickup       black       1   \n",
       "12860     gas     75465    automatic        truck       white       1   \n",
       "14257     gas    121000    automatic        sedan      silver       0   \n",
       "14339     gas    141162       manual    hatchback        grey       0   \n",
       "14399     gas     99915    automatic          SUV       other       1   \n",
       "15335     gas    142000    automatic        truck         red       0   \n",
       "15890     gas    126650    automatic        truck       white       0   \n",
       "16928     gas    117000    automatic          van       white       0   \n",
       "18536     gas     72000    automatic        sedan       other       0   \n",
       "19461     gas    140000    automatic        sedan       other       0   \n",
       "20719     gas    102466    automatic        sedan      silver       0   \n",
       "22616     gas    229000    automatic        truck         red       0   \n",
       "23995     gas    101750    automatic        truck       black       1   \n",
       "24045     gas    175788    automatic        truck      custom       1   \n",
       "24278     gas    165178    automatic        truck        grey       1   \n",
       "24931     gas    190222    automatic        sedan      silver       0   \n",
       "26305     gas     91776    automatic          SUV      silver       1   \n",
       "27059     gas    115000    automatic       pickup        grey       1   \n",
       "27485     gas       162    automatic  convertible      silver       1   \n",
       "28009     gas     68607    automatic       pickup       black       1   \n",
       "28093     gas     54000       manual        sedan       other       0   \n",
       "28978     gas     63778    automatic     mini-van       other       0   \n",
       "30368     gas    177676    automatic          SUV      custom       0   \n",
       "31966     gas    239199    automatic        sedan         red       0   \n",
       "32581     gas     30000    automatic       pickup      silver       1   \n",
       "35129     gas    188000    automatic    hatchback        grey       0   \n",
       "35363     gas     24510        other        coupe         red       0   \n",
       "36102     gas    137252    automatic          SUV        blue       1   \n",
       "37275     gas    152600    automatic          van      custom       0   \n",
       "37814     gas    238155    automatic        sedan      silver       0   \n",
       "39310     gas    107000       manual        coupe       black       0   \n",
       "39318     gas    181000    automatic        coupe      silver       0   \n",
       "39782     gas     34000    automatic          SUV       white       1   \n",
       "40584     gas    108000    automatic        sedan        blue       0   \n",
       "44213     gas    116000    automatic    hatchback        blue       1   \n",
       "46495     gas    136000    automatic        sedan       other       0   \n",
       "\n",
       "      date_posted  days_listed  year  month        day  vehicle_age  \\\n",
       "1144   2018-05-15            0  2018      5    Tuesday           10   \n",
       "1809   2018-09-27            0  2018      9   Thursday           19   \n",
       "2638   2018-08-13            0  2018      8     Monday           14   \n",
       "3633   2018-10-14            0  2018     10     Sunday           33   \n",
       "4171   2018-07-11            0  2018      7  Wednesday           11   \n",
       "4475   2018-05-11            0  2018      5     Friday           17   \n",
       "5974   2018-09-25            0  2018      9    Tuesday           11   \n",
       "6422   2018-07-21            0  2018      7   Saturday           11   \n",
       "8723   2019-03-26            0  2019      3    Tuesday            7   \n",
       "8841   2018-09-21            0  2018      9     Friday           15   \n",
       "9730   2018-07-06            0  2018      7     Friday           18   \n",
       "11538  2019-03-04            0  2019      3     Monday            5   \n",
       "12586  2019-02-06            0  2019      2  Wednesday           14   \n",
       "12860  2018-09-09            0  2018      9     Sunday            7   \n",
       "14257  2018-05-31            0  2018      5   Thursday            4   \n",
       "14339  2019-01-27            0  2019      1     Sunday            6   \n",
       "14399  2018-07-17            0  2018      7    Tuesday           10   \n",
       "15335  2018-07-05            0  2018      7   Thursday            9   \n",
       "15890  2019-03-15            0  2019      3     Friday           11   \n",
       "16928  2018-08-07            0  2018      8    Tuesday            7   \n",
       "18536  2018-10-16            0  2018     10    Tuesday            1   \n",
       "19461  2018-08-27            0  2018      8     Monday            9   \n",
       "20719  2019-03-09            0  2019      3   Saturday            6   \n",
       "22616  2019-04-16            0  2019      4    Tuesday           11   \n",
       "23995  2018-08-11            0  2018      8   Saturday           12   \n",
       "24045  2019-02-09            0  2019      2   Saturday           14   \n",
       "24278  2019-03-18            0  2019      3     Monday            9   \n",
       "24931  2018-12-17            0  2018     12     Monday            9   \n",
       "26305  2018-08-27            0  2018      8     Monday            4   \n",
       "27059  2019-04-11            0  2019      4   Thursday           13   \n",
       "27485  2018-07-13            0  2018      7     Friday            8   \n",
       "28009  2018-12-31            0  2018     12     Monday            4   \n",
       "28093  2018-09-03            0  2018      9     Monday            4   \n",
       "28978  2018-09-23            0  2018      9     Sunday            5   \n",
       "30368  2018-09-16            0  2018      9     Sunday            9   \n",
       "31966  2018-08-02            0  2018      8   Thursday           26   \n",
       "32581  2019-01-21            0  2019      1     Monday            1   \n",
       "35129  2018-05-29            0  2018      5    Tuesday           13   \n",
       "35363  2019-03-23            0  2019      3   Saturday            2   \n",
       "36102  2018-07-31            0  2018      7    Tuesday           15   \n",
       "37275  2018-11-30            0  2018     11     Friday           18   \n",
       "37814  2018-09-28            0  2018      9     Friday           16   \n",
       "39310  2018-07-30            0  2018      7     Monday           31   \n",
       "39318  2018-10-23            0  2018     10    Tuesday           15   \n",
       "39782  2018-08-12            0  2018      8     Sunday            5   \n",
       "40584  2018-10-30            0  2018     10    Tuesday            1   \n",
       "44213  2018-08-19            0  2018      8     Sunday            3   \n",
       "46495  2018-10-22            0  2018     10     Monday           14   \n",
       "\n",
       "       avg_miles_per_year  \n",
       "1144                 9330  \n",
       "1809                 7236  \n",
       "2638                17857  \n",
       "3633                  743  \n",
       "4171                20272  \n",
       "4475                 5876  \n",
       "5974                13854  \n",
       "6422                12254  \n",
       "8723                17857  \n",
       "8841                 6003  \n",
       "9730                11722  \n",
       "11538                7418  \n",
       "12586                7357  \n",
       "12860               10780  \n",
       "14257               30250  \n",
       "14339               23527  \n",
       "14399                9991  \n",
       "15335               15777  \n",
       "15890               11513  \n",
       "16928               16714  \n",
       "18536               72000  \n",
       "19461               15555  \n",
       "20719               17077  \n",
       "22616               20818  \n",
       "23995                8479  \n",
       "24045               12556  \n",
       "24278               18353  \n",
       "24931               21135  \n",
       "26305               22944  \n",
       "27059                8846  \n",
       "27485                  20  \n",
       "28009               17151  \n",
       "28093               13500  \n",
       "28978               12755  \n",
       "30368               19741  \n",
       "31966                9199  \n",
       "32581               30000  \n",
       "35129               14461  \n",
       "35363               12255  \n",
       "36102                9150  \n",
       "37275                8477  \n",
       "37814               14884  \n",
       "39310                3451  \n",
       "39318               12066  \n",
       "39782                6800  \n",
       "40584              108000  \n",
       "44213               38666  \n",
       "46495                9714  "
      ]
     },
     "execution_count": 93,
     "metadata": {},
     "output_type": "execute_result"
    }
   ],
   "source": [
    "#We print these entries in order to see if there is any distinct reason for quick ad removal.\n",
    "df[df['days_listed'] == 0]"
   ]
  },
  {
   "cell_type": "markdown",
   "metadata": {},
   "source": [
    "There are 48 ads listed for 0 days.\n",
    "We see there is no visible pattern or issue with these entries as previously explained.\n",
    "And so, we determine ads were removed quickly at 0 days listed and keep these entries as we did in the preprocessing phase."
   ]
  },
  {
   "cell_type": "code",
   "execution_count": 94,
   "metadata": {},
   "outputs": [
    {
     "name": "stdout",
     "output_type": "stream",
     "text": [
      "104.0\n"
     ]
    }
   ],
   "source": [
    "#To find ads listed for an abnormally long time,\n",
    "#we create another for-loop to find the upper limits of outliers in the days_listed column\n",
    "#And then print the value than any number above it is an upper limit outlier\n",
    "filter = np.zeros(len(df), dtype=bool) + True\n",
    "for feature in ['days_listed']:\n",
    "    Q25 = df[feature].quantile(0.25)\n",
    "    Q75 = df[feature].quantile(0.75)\n",
    "    IQR = Q75 - Q25\n",
    "    #Calculating the cut off and upper limit \n",
    "    cut_off = IQR * 1.5\n",
    "    upper = Q75 + cut_off\n",
    "    filter[np.where(df[feature]>upper)] = False\n",
    "print(upper)\n",
    "#Now we create add this column to the filtered dataframe, once again, leaving the outliers in the original one\n",
    "df_filtered = df[filter]\n",
    "df_filtered.dropna(how='all', inplace=True)\n",
    "df_filtered.reset_index(drop=True, inplace=True)"
   ]
  },
  {
   "cell_type": "code",
   "execution_count": 95,
   "metadata": {},
   "outputs": [
    {
     "data": {
      "text/plain": [
       "count   46647\n",
       "mean       40\n",
       "std        28\n",
       "min         0\n",
       "25%        19\n",
       "50%        33\n",
       "75%        53\n",
       "max       271\n",
       "Name: days_listed, dtype: float64"
      ]
     },
     "execution_count": 95,
     "metadata": {},
     "output_type": "execute_result"
    }
   ],
   "source": [
    "df.days_listed.describe()"
   ]
  },
  {
   "cell_type": "markdown",
   "metadata": {},
   "source": [
    "We determine ads listed for an abnormally long time are ads listed for over 104 days and up to the max of 271 days"
   ]
  },
  {
   "cell_type": "code",
   "execution_count": 96,
   "metadata": {
    "scrolled": true
   },
   "outputs": [
    {
     "data": {
      "text/html": [
       "<div>\n",
       "<style scoped>\n",
       "    .dataframe tbody tr th:only-of-type {\n",
       "        vertical-align: middle;\n",
       "    }\n",
       "\n",
       "    .dataframe tbody tr th {\n",
       "        vertical-align: top;\n",
       "    }\n",
       "\n",
       "    .dataframe thead tr th {\n",
       "        text-align: left;\n",
       "    }\n",
       "\n",
       "    .dataframe thead tr:last-of-type th {\n",
       "        text-align: right;\n",
       "    }\n",
       "</style>\n",
       "<table border=\"1\" class=\"dataframe\">\n",
       "  <thead>\n",
       "    <tr>\n",
       "      <th></th>\n",
       "      <th>count</th>\n",
       "      <th>mean</th>\n",
       "    </tr>\n",
       "    <tr>\n",
       "      <th></th>\n",
       "      <th>price</th>\n",
       "      <th>price</th>\n",
       "    </tr>\n",
       "    <tr>\n",
       "      <th>type</th>\n",
       "      <th></th>\n",
       "      <th></th>\n",
       "    </tr>\n",
       "  </thead>\n",
       "  <tbody>\n",
       "    <tr>\n",
       "      <th>SUV</th>\n",
       "      <td>10803</td>\n",
       "      <td>10993</td>\n",
       "    </tr>\n",
       "    <tr>\n",
       "      <th>bus</th>\n",
       "      <td>24</td>\n",
       "      <td>17136</td>\n",
       "    </tr>\n",
       "    <tr>\n",
       "      <th>convertible</th>\n",
       "      <td>396</td>\n",
       "      <td>14714</td>\n",
       "    </tr>\n",
       "    <tr>\n",
       "      <th>coupe</th>\n",
       "      <td>2005</td>\n",
       "      <td>14518</td>\n",
       "    </tr>\n",
       "    <tr>\n",
       "      <th>hatchback</th>\n",
       "      <td>918</td>\n",
       "      <td>6898</td>\n",
       "    </tr>\n",
       "    <tr>\n",
       "      <th>mini-van</th>\n",
       "      <td>1029</td>\n",
       "      <td>7873</td>\n",
       "    </tr>\n",
       "    <tr>\n",
       "      <th>offroad</th>\n",
       "      <td>194</td>\n",
       "      <td>14288</td>\n",
       "    </tr>\n",
       "    <tr>\n",
       "      <th>other</th>\n",
       "      <td>220</td>\n",
       "      <td>10612</td>\n",
       "    </tr>\n",
       "    <tr>\n",
       "      <th>pickup</th>\n",
       "      <td>6218</td>\n",
       "      <td>15668</td>\n",
       "    </tr>\n",
       "    <tr>\n",
       "      <th>sedan</th>\n",
       "      <td>10613</td>\n",
       "      <td>7007</td>\n",
       "    </tr>\n",
       "    <tr>\n",
       "      <th>truck</th>\n",
       "      <td>10828</td>\n",
       "      <td>16398</td>\n",
       "    </tr>\n",
       "    <tr>\n",
       "      <th>van</th>\n",
       "      <td>543</td>\n",
       "      <td>10809</td>\n",
       "    </tr>\n",
       "    <tr>\n",
       "      <th>wagon</th>\n",
       "      <td>1382</td>\n",
       "      <td>9177</td>\n",
       "    </tr>\n",
       "  </tbody>\n",
       "</table>\n",
       "</div>"
      ],
      "text/plain": [
       "             count  mean\n",
       "             price price\n",
       "type                    \n",
       "SUV          10803 10993\n",
       "bus             24 17136\n",
       "convertible    396 14714\n",
       "coupe         2005 14518\n",
       "hatchback      918  6898\n",
       "mini-van      1029  7873\n",
       "offroad        194 14288\n",
       "other          220 10612\n",
       "pickup        6218 15668\n",
       "sedan        10613  7007\n",
       "truck        10828 16398\n",
       "van            543 10809\n",
       "wagon         1382  9177"
      ]
     },
     "execution_count": 96,
     "metadata": {},
     "output_type": "execute_result"
    }
   ],
   "source": [
    "#Here we analyze the number of ads and the average price for each type of vehicle by creating a pivot table\n",
    "type_grouped = df_filtered.pivot_table(index='type', values='price', aggfunc=['count','mean'])\n",
    "type_grouped"
   ]
  },
  {
   "cell_type": "markdown",
   "metadata": {},
   "source": [
    "The pivot table above shows the number of ads and the average price for each type of vehicle.\n",
    "Next, we will plot a graph showing the dependence of the number of ads on the vehicle type and select the two types with the greatest number of ads."
   ]
  },
  {
   "cell_type": "code",
   "execution_count": 97,
   "metadata": {},
   "outputs": [
    {
     "data": {
      "image/png": "[encoded data removed]",
      "text/plain": [
       "<Figure size 432x288 with 1 Axes>"
      ]
     },
     "metadata": {
      "needs_background": "light"
     },
     "output_type": "display_data"
    }
   ],
   "source": [
    "#Plotting a graph showing the dependence of the number of ads on the vehicle type\n",
    "type_grouped['count'].sort_values(by='price', ascending=False).plot(kind='bar')\n",
    "plt.title('Number of ads per vehicle type')\n",
    "plt.ylabel('Number of ads per vehicle type');"
   ]
  },
  {
   "cell_type": "markdown",
   "metadata": {},
   "source": [
    "Based on the graph above we see the two types with the greatest number of ads are truck (10828) and then SUV (10803). Done!"
   ]
  },
  {
   "cell_type": "markdown",
   "metadata": {},
   "source": [
    "Now we move on to checking what factors impact price the most.\n",
    "First we take the 2 most popular vehicle types in the dataset (truck and SUV) and subset our dataframe based on these 2 types.\n",
    "Then we will verify that the categorical variables (transmission and paint_color) have at least 50 ads, otherwise, their parameters won't be valid for analysis.\n",
    "All this so we can study whether the price depends on age, mileage, condition, transmission type, and color. \n",
    "For categorical variables (transmission type and color), we will plot box-and-whisker charts and create scatterplots for the rest. "
   ]
  },
  {
   "cell_type": "code",
   "execution_count": 98,
   "metadata": {
    "scrolled": true
   },
   "outputs": [
    {
     "data": {
      "text/html": [
       "<div>\n",
       "<style scoped>\n",
       "    .dataframe tbody tr th:only-of-type {\n",
       "        vertical-align: middle;\n",
       "    }\n",
       "\n",
       "    .dataframe tbody tr th {\n",
       "        vertical-align: top;\n",
       "    }\n",
       "\n",
       "    .dataframe thead th {\n",
       "        text-align: right;\n",
       "    }\n",
       "</style>\n",
       "<table border=\"1\" class=\"dataframe\">\n",
       "  <thead>\n",
       "    <tr style=\"text-align: right;\">\n",
       "      <th></th>\n",
       "      <th>price</th>\n",
       "      <th>model_year</th>\n",
       "      <th>model</th>\n",
       "      <th>condition</th>\n",
       "      <th>cylinders</th>\n",
       "      <th>fuel</th>\n",
       "      <th>odometer</th>\n",
       "      <th>transmission</th>\n",
       "      <th>type</th>\n",
       "      <th>paint_color</th>\n",
       "      <th>is_4wd</th>\n",
       "      <th>date_posted</th>\n",
       "      <th>days_listed</th>\n",
       "      <th>year</th>\n",
       "      <th>month</th>\n",
       "      <th>day</th>\n",
       "      <th>vehicle_age</th>\n",
       "      <th>avg_miles_per_year</th>\n",
       "    </tr>\n",
       "  </thead>\n",
       "  <tbody>\n",
       "    <tr>\n",
       "      <th>0</th>\n",
       "      <td>9400</td>\n",
       "      <td>2011</td>\n",
       "      <td>bmw x5</td>\n",
       "      <td>2</td>\n",
       "      <td>6</td>\n",
       "      <td>gas</td>\n",
       "      <td>145000</td>\n",
       "      <td>automatic</td>\n",
       "      <td>SUV</td>\n",
       "      <td>other</td>\n",
       "      <td>1</td>\n",
       "      <td>2018-06-23</td>\n",
       "      <td>19</td>\n",
       "      <td>2018</td>\n",
       "      <td>6</td>\n",
       "      <td>Saturday</td>\n",
       "      <td>7</td>\n",
       "      <td>20714</td>\n",
       "    </tr>\n",
       "    <tr>\n",
       "      <th>7</th>\n",
       "      <td>15990</td>\n",
       "      <td>2013</td>\n",
       "      <td>honda pilot</td>\n",
       "      <td>3</td>\n",
       "      <td>6</td>\n",
       "      <td>gas</td>\n",
       "      <td>109473</td>\n",
       "      <td>automatic</td>\n",
       "      <td>SUV</td>\n",
       "      <td>black</td>\n",
       "      <td>1</td>\n",
       "      <td>2019-01-07</td>\n",
       "      <td>68</td>\n",
       "      <td>2019</td>\n",
       "      <td>1</td>\n",
       "      <td>Monday</td>\n",
       "      <td>6</td>\n",
       "      <td>18245</td>\n",
       "    </tr>\n",
       "    <tr>\n",
       "      <th>8</th>\n",
       "      <td>11500</td>\n",
       "      <td>2012</td>\n",
       "      <td>kia sorento</td>\n",
       "      <td>3</td>\n",
       "      <td>4</td>\n",
       "      <td>gas</td>\n",
       "      <td>104174</td>\n",
       "      <td>automatic</td>\n",
       "      <td>SUV</td>\n",
       "      <td>other</td>\n",
       "      <td>1</td>\n",
       "      <td>2018-07-16</td>\n",
       "      <td>19</td>\n",
       "      <td>2018</td>\n",
       "      <td>7</td>\n",
       "      <td>Monday</td>\n",
       "      <td>6</td>\n",
       "      <td>17362</td>\n",
       "    </tr>\n",
       "    <tr>\n",
       "      <th>9</th>\n",
       "      <td>9200</td>\n",
       "      <td>2008</td>\n",
       "      <td>honda pilot</td>\n",
       "      <td>3</td>\n",
       "      <td>6</td>\n",
       "      <td>gas</td>\n",
       "      <td>147191</td>\n",
       "      <td>automatic</td>\n",
       "      <td>SUV</td>\n",
       "      <td>blue</td>\n",
       "      <td>1</td>\n",
       "      <td>2019-02-15</td>\n",
       "      <td>17</td>\n",
       "      <td>2019</td>\n",
       "      <td>2</td>\n",
       "      <td>Friday</td>\n",
       "      <td>11</td>\n",
       "      <td>13381</td>\n",
       "    </tr>\n",
       "    <tr>\n",
       "      <th>14</th>\n",
       "      <td>12990</td>\n",
       "      <td>2009</td>\n",
       "      <td>gmc yukon</td>\n",
       "      <td>3</td>\n",
       "      <td>8</td>\n",
       "      <td>gas</td>\n",
       "      <td>132285</td>\n",
       "      <td>automatic</td>\n",
       "      <td>SUV</td>\n",
       "      <td>black</td>\n",
       "      <td>1</td>\n",
       "      <td>2019-01-31</td>\n",
       "      <td>24</td>\n",
       "      <td>2019</td>\n",
       "      <td>1</td>\n",
       "      <td>Thursday</td>\n",
       "      <td>10</td>\n",
       "      <td>13228</td>\n",
       "    </tr>\n",
       "    <tr>\n",
       "      <th>...</th>\n",
       "      <td>...</td>\n",
       "      <td>...</td>\n",
       "      <td>...</td>\n",
       "      <td>...</td>\n",
       "      <td>...</td>\n",
       "      <td>...</td>\n",
       "      <td>...</td>\n",
       "      <td>...</td>\n",
       "      <td>...</td>\n",
       "      <td>...</td>\n",
       "      <td>...</td>\n",
       "      <td>...</td>\n",
       "      <td>...</td>\n",
       "      <td>...</td>\n",
       "      <td>...</td>\n",
       "      <td>...</td>\n",
       "      <td>...</td>\n",
       "      <td>...</td>\n",
       "    </tr>\n",
       "    <tr>\n",
       "      <th>45144</th>\n",
       "      <td>7999</td>\n",
       "      <td>2009</td>\n",
       "      <td>chevrolet equinox</td>\n",
       "      <td>3</td>\n",
       "      <td>6</td>\n",
       "      <td>gas</td>\n",
       "      <td>95021</td>\n",
       "      <td>automatic</td>\n",
       "      <td>SUV</td>\n",
       "      <td>silver</td>\n",
       "      <td>1</td>\n",
       "      <td>2019-01-03</td>\n",
       "      <td>8</td>\n",
       "      <td>2019</td>\n",
       "      <td>1</td>\n",
       "      <td>Thursday</td>\n",
       "      <td>10</td>\n",
       "      <td>9502</td>\n",
       "    </tr>\n",
       "    <tr>\n",
       "      <th>45145</th>\n",
       "      <td>9500</td>\n",
       "      <td>2012</td>\n",
       "      <td>chevrolet traverse</td>\n",
       "      <td>2</td>\n",
       "      <td>6</td>\n",
       "      <td>gas</td>\n",
       "      <td>144500</td>\n",
       "      <td>automatic</td>\n",
       "      <td>SUV</td>\n",
       "      <td>other</td>\n",
       "      <td>1</td>\n",
       "      <td>2019-03-05</td>\n",
       "      <td>1</td>\n",
       "      <td>2019</td>\n",
       "      <td>3</td>\n",
       "      <td>Tuesday</td>\n",
       "      <td>7</td>\n",
       "      <td>20642</td>\n",
       "    </tr>\n",
       "    <tr>\n",
       "      <th>45146</th>\n",
       "      <td>4999</td>\n",
       "      <td>2002</td>\n",
       "      <td>toyota 4runner</td>\n",
       "      <td>3</td>\n",
       "      <td>6</td>\n",
       "      <td>gas</td>\n",
       "      <td>177901</td>\n",
       "      <td>automatic</td>\n",
       "      <td>SUV</td>\n",
       "      <td>other</td>\n",
       "      <td>1</td>\n",
       "      <td>2018-05-26</td>\n",
       "      <td>59</td>\n",
       "      <td>2018</td>\n",
       "      <td>5</td>\n",
       "      <td>Saturday</td>\n",
       "      <td>16</td>\n",
       "      <td>11118</td>\n",
       "    </tr>\n",
       "    <tr>\n",
       "      <th>45150</th>\n",
       "      <td>6995</td>\n",
       "      <td>2012</td>\n",
       "      <td>buick enclave</td>\n",
       "      <td>3</td>\n",
       "      <td>6</td>\n",
       "      <td>gas</td>\n",
       "      <td>157000</td>\n",
       "      <td>automatic</td>\n",
       "      <td>SUV</td>\n",
       "      <td>white</td>\n",
       "      <td>1</td>\n",
       "      <td>2018-08-04</td>\n",
       "      <td>17</td>\n",
       "      <td>2018</td>\n",
       "      <td>8</td>\n",
       "      <td>Saturday</td>\n",
       "      <td>6</td>\n",
       "      <td>26166</td>\n",
       "    </tr>\n",
       "    <tr>\n",
       "      <th>45164</th>\n",
       "      <td>8999</td>\n",
       "      <td>2011</td>\n",
       "      <td>jeep grand cherokee</td>\n",
       "      <td>2</td>\n",
       "      <td>6</td>\n",
       "      <td>gas</td>\n",
       "      <td>105036</td>\n",
       "      <td>automatic</td>\n",
       "      <td>SUV</td>\n",
       "      <td>white</td>\n",
       "      <td>1</td>\n",
       "      <td>2018-11-01</td>\n",
       "      <td>51</td>\n",
       "      <td>2018</td>\n",
       "      <td>11</td>\n",
       "      <td>Thursday</td>\n",
       "      <td>7</td>\n",
       "      <td>15005</td>\n",
       "    </tr>\n",
       "  </tbody>\n",
       "</table>\n",
       "<p>10803 rows × 18 columns</p>\n",
       "</div>"
      ],
      "text/plain": [
       "       price  model_year                model  condition  cylinders fuel  \\\n",
       "0       9400        2011               bmw x5          2          6  gas   \n",
       "7      15990        2013          honda pilot          3          6  gas   \n",
       "8      11500        2012          kia sorento          3          4  gas   \n",
       "9       9200        2008          honda pilot          3          6  gas   \n",
       "14     12990        2009            gmc yukon          3          8  gas   \n",
       "...      ...         ...                  ...        ...        ...  ...   \n",
       "45144   7999        2009    chevrolet equinox          3          6  gas   \n",
       "45145   9500        2012   chevrolet traverse          2          6  gas   \n",
       "45146   4999        2002       toyota 4runner          3          6  gas   \n",
       "45150   6995        2012        buick enclave          3          6  gas   \n",
       "45164   8999        2011  jeep grand cherokee          2          6  gas   \n",
       "\n",
       "       odometer transmission type paint_color  is_4wd date_posted  \\\n",
       "0        145000    automatic  SUV       other       1  2018-06-23   \n",
       "7        109473    automatic  SUV       black       1  2019-01-07   \n",
       "8        104174    automatic  SUV       other       1  2018-07-16   \n",
       "9        147191    automatic  SUV        blue       1  2019-02-15   \n",
       "14       132285    automatic  SUV       black       1  2019-01-31   \n",
       "...         ...          ...  ...         ...     ...         ...   \n",
       "45144     95021    automatic  SUV      silver       1  2019-01-03   \n",
       "45145    144500    automatic  SUV       other       1  2019-03-05   \n",
       "45146    177901    automatic  SUV       other       1  2018-05-26   \n",
       "45150    157000    automatic  SUV       white       1  2018-08-04   \n",
       "45164    105036    automatic  SUV       white       1  2018-11-01   \n",
       "\n",
       "       days_listed  year  month       day  vehicle_age  avg_miles_per_year  \n",
       "0               19  2018      6  Saturday            7               20714  \n",
       "7               68  2019      1    Monday            6               18245  \n",
       "8               19  2018      7    Monday            6               17362  \n",
       "9               17  2019      2    Friday           11               13381  \n",
       "14              24  2019      1  Thursday           10               13228  \n",
       "...            ...   ...    ...       ...          ...                 ...  \n",
       "45144            8  2019      1  Thursday           10                9502  \n",
       "45145            1  2019      3   Tuesday            7               20642  \n",
       "45146           59  2018      5  Saturday           16               11118  \n",
       "45150           17  2018      8  Saturday            6               26166  \n",
       "45164           51  2018     11  Thursday            7               15005  \n",
       "\n",
       "[10803 rows x 18 columns]"
      ]
     },
     "execution_count": 98,
     "metadata": {},
     "output_type": "execute_result"
    }
   ],
   "source": [
    "#We start with SUVs\n",
    "#Step 1- subset\n",
    "popular_type_suv = df_filtered[df_filtered['type'].isin(['SUV'])]\n",
    "popular_type_suv"
   ]
  },
  {
   "cell_type": "code",
   "execution_count": 99,
   "metadata": {},
   "outputs": [
    {
     "data": {
      "text/plain": [
       "automatic    10263\n",
       "manual         452\n",
       "other           88\n",
       "Name: transmission, dtype: int64"
      ]
     },
     "execution_count": 99,
     "metadata": {},
     "output_type": "execute_result"
    }
   ],
   "source": [
    "#Looks good!\n",
    "#Let's check whether each category for SUV type has at least 50 ads.\n",
    "#If so, we'll plot box-and-whisker charts for transmission type and color variables\n",
    "#First transmission\n",
    "popular_type_suv.transmission.value_counts()"
   ]
  },
  {
   "cell_type": "code",
   "execution_count": 100,
   "metadata": {
    "scrolled": false
   },
   "outputs": [
    {
     "data": {
      "image/png": "[encoded data removed]",
      "text/plain": [
       "<Figure size 432x288 with 1 Axes>"
      ]
     },
     "metadata": {
      "needs_background": "light"
     },
     "output_type": "display_data"
    }
   ],
   "source": [
    "#Great! SUV variables' transmission categories have over 50 ads each\n",
    "#Onto plotting\n",
    "popular_type_suv.boxplot(by='transmission', column='price')\n",
    "plt.suptitle('')\n",
    "plt.title('Link between price and transmission type of a SUV vehicle');"
   ]
  },
  {
   "cell_type": "markdown",
   "metadata": {},
   "source": [
    "Above we see the distribution of automatic, manual and other transmission types.\n",
    "The price of other type of transmission is slightly more expensive. This can be explained by the fact that other transmission type vehicles are rare and hence more expensive.\n",
    "We can conclude that transmission type impacts price."
   ]
  },
  {
   "cell_type": "code",
   "execution_count": 101,
   "metadata": {},
   "outputs": [
    {
     "data": {
      "text/plain": [
       "other     1927\n",
       "black     1922\n",
       "white     1707\n",
       "silver    1364\n",
       "grey      1059\n",
       "blue       909\n",
       "red        802\n",
       "green      386\n",
       "brown      319\n",
       "custom     256\n",
       "orange      74\n",
       "yellow      41\n",
       "purple      37\n",
       "Name: paint_color, dtype: int64"
      ]
     },
     "execution_count": 101,
     "metadata": {},
     "output_type": "execute_result"
    }
   ],
   "source": [
    "#Now SUV paint color\n",
    "popular_type_suv.paint_color.value_counts()"
   ]
  },
  {
   "cell_type": "code",
   "execution_count": 102,
   "metadata": {},
   "outputs": [
    {
     "data": {
      "text/plain": [
       "other     1927\n",
       "black     1922\n",
       "white     1707\n",
       "silver    1364\n",
       "grey      1059\n",
       "blue       909\n",
       "red        802\n",
       "green      386\n",
       "brown      319\n",
       "custom     256\n",
       "orange      74\n",
       "Name: paint_color, dtype: int64"
      ]
     },
     "execution_count": 102,
     "metadata": {},
     "output_type": "execute_result"
    }
   ],
   "source": [
    "#SUV variables' paint color categories must have over 50 ads each,\n",
    "#otherwise, their parameters won't be valid for analysis, so we drop them\n",
    "popular_type_suv=popular_type_suv[popular_type_suv['paint_color']!='yellow']\n",
    "popular_type_suv=popular_type_suv[popular_type_suv['paint_color']!='purple']\n",
    "popular_type_suv.reset_index(drop=True, inplace=True)\n",
    "popular_type_suv.paint_color.value_counts()"
   ]
  },
  {
   "cell_type": "code",
   "execution_count": 103,
   "metadata": {},
   "outputs": [
    {
     "data": {
      "image/png": "[encoded data removed]",
      "text/plain": [
       "<Figure size 720x360 with 1 Axes>"
      ]
     },
     "metadata": {
      "needs_background": "light"
     },
     "output_type": "display_data"
    }
   ],
   "source": [
    "#Excellent! Now, SUV variables' paint color categories have over 50 ads each\n",
    "#Onto plotting\n",
    "popular_type_suv.boxplot(by='paint_color', column='price', figsize=(10,5))\n",
    "plt.suptitle('')\n",
    "plt.title('Link between price and paint color of a SUV vehicle');"
   ]
  },
  {
   "cell_type": "markdown",
   "metadata": {},
   "source": [
    "Looking at the plot above we can conclude there is no direct correlation between vehicle paint color and it's price, we can assume that is a subjective preference of the individual. "
   ]
  },
  {
   "cell_type": "markdown",
   "metadata": {},
   "source": [
    "Now onto the quantical variables (age, mileage and condition) and scatterplots."
   ]
  },
  {
   "cell_type": "code",
   "execution_count": 104,
   "metadata": {},
   "outputs": [
    {
     "data": {
      "image/png": "[encoded data removed]",
      "text/plain": [
       "<Figure size 432x288 with 1 Axes>"
      ]
     },
     "metadata": {
      "needs_background": "light"
     },
     "output_type": "display_data"
    }
   ],
   "source": [
    "#SUV age scatterplot\n",
    "popular_type_suv.plot.scatter(x='vehicle_age', y='price', alpha=.25)\n",
    "plt.title('Link between price and age of a SUV vehicle');"
   ]
  },
  {
   "cell_type": "markdown",
   "metadata": {},
   "source": [
    "Above we see that the older the vehicle the lower the price. This is reasonable. There is indeed a clear correlation between vehicle age and price."
   ]
  },
  {
   "cell_type": "code",
   "execution_count": 105,
   "metadata": {},
   "outputs": [
    {
     "data": {
      "image/png": "[encoded data removed]",
      "text/plain": [
       "<Figure size 432x288 with 1 Axes>"
      ]
     },
     "metadata": {
      "needs_background": "light"
     },
     "output_type": "display_data"
    }
   ],
   "source": [
    "#SUV mileage scatterplot\n",
    "popular_type_suv.plot.scatter(x='odometer', y='price', alpha=.25)\n",
    "plt.title('Link between price and mileage of a SUV vehicle');"
   ]
  },
  {
   "cell_type": "markdown",
   "metadata": {},
   "source": [
    "Above we see that the lower the mileage the higher the price. This is reasonable in real life since it indicates the car is newer less used and in better condition. There is indeed a clear correlation between mileage and price."
   ]
  },
  {
   "cell_type": "code",
   "execution_count": 106,
   "metadata": {
    "scrolled": false
   },
   "outputs": [
    {
     "data": {
      "image/png": "[encoded data removed]",
      "text/plain": [
       "<Figure size 432x288 with 1 Axes>"
      ]
     },
     "metadata": {
      "needs_background": "light"
     },
     "output_type": "display_data"
    }
   ],
   "source": [
    "#SUV condition scatterplot\n",
    "popular_type_suv.plot.scatter(x='condition', y='price', alpha=.50)\n",
    "plt.title('Link between price and condition of a SUV vehicle');"
   ]
  },
  {
   "cell_type": "code",
   "execution_count": 107,
   "metadata": {},
   "outputs": [
    {
     "data": {
      "image/png": "[encoded data removed]",
      "text/plain": [
       "<Figure size 432x288 with 1 Axes>"
      ]
     },
     "metadata": {
      "needs_background": "light"
     },
     "output_type": "display_data"
    }
   ],
   "source": [
    "popular_type_suv.boxplot(by='condition', column='price')\n",
    "plt.suptitle('')\n",
    "plt.title('Link between price and condition of a SUV vehicle');"
   ]
  },
  {
   "cell_type": "code",
   "execution_count": 108,
   "metadata": {},
   "outputs": [
    {
     "data": {
      "text/plain": [
       "3    5627\n",
       "2    3877\n",
       "4     949\n",
       "1     255\n",
       "0       9\n",
       "5       8\n",
       "Name: condition, dtype: int64"
      ]
     },
     "execution_count": 108,
     "metadata": {},
     "output_type": "execute_result"
    }
   ],
   "source": [
    "popular_type_suv.condition.value_counts()"
   ]
  },
  {
   "cell_type": "markdown",
   "metadata": {},
   "source": [
    "Above in the scatterplot we see that although condition does impact price there is no significant correlation.\n",
    "For good condition (2) there is a wide range of prices given it a subjective condition description. Salvage condition (0) prices are lowest which makes sense. Other than that, the scatterplot isn't too clear and is even confusing, therefore, we also create a boxplot.\n",
    "At first we saw no significant correlation but then the boxplot clearly showed that there is in fact a correlation between condition and price, the newer and better condition the car is in the higher the price and vice versa. Brand new condition vehicles (5) prices are lower than like new (4) and excellent (3), that may be due to low number of vehicles in this condition."
   ]
  },
  {
   "cell_type": "markdown",
   "metadata": {},
   "source": [
    "In conclusion, vehicle age, mileage and condition factors tremendously impact the vehicle's price, transmission also has an impact just not as significant and paint color is just a preference and therefore has no impact at all on the vehicle's price."
   ]
  },
  {
   "cell_type": "code",
   "execution_count": 109,
   "metadata": {},
   "outputs": [
    {
     "data": {
      "text/html": [
       "<div>\n",
       "<style scoped>\n",
       "    .dataframe tbody tr th:only-of-type {\n",
       "        vertical-align: middle;\n",
       "    }\n",
       "\n",
       "    .dataframe tbody tr th {\n",
       "        vertical-align: top;\n",
       "    }\n",
       "\n",
       "    .dataframe thead th {\n",
       "        text-align: right;\n",
       "    }\n",
       "</style>\n",
       "<table border=\"1\" class=\"dataframe\">\n",
       "  <thead>\n",
       "    <tr style=\"text-align: right;\">\n",
       "      <th></th>\n",
       "      <th>price</th>\n",
       "      <th>model_year</th>\n",
       "      <th>model</th>\n",
       "      <th>condition</th>\n",
       "      <th>cylinders</th>\n",
       "      <th>fuel</th>\n",
       "      <th>odometer</th>\n",
       "      <th>transmission</th>\n",
       "      <th>type</th>\n",
       "      <th>paint_color</th>\n",
       "      <th>is_4wd</th>\n",
       "      <th>date_posted</th>\n",
       "      <th>days_listed</th>\n",
       "      <th>year</th>\n",
       "      <th>month</th>\n",
       "      <th>day</th>\n",
       "      <th>vehicle_age</th>\n",
       "      <th>avg_miles_per_year</th>\n",
       "    </tr>\n",
       "  </thead>\n",
       "  <tbody>\n",
       "    <tr>\n",
       "      <th>21</th>\n",
       "      <td>7500</td>\n",
       "      <td>2004</td>\n",
       "      <td>chevrolet silverado</td>\n",
       "      <td>4</td>\n",
       "      <td>8</td>\n",
       "      <td>gas</td>\n",
       "      <td>180000</td>\n",
       "      <td>automatic</td>\n",
       "      <td>truck</td>\n",
       "      <td>red</td>\n",
       "      <td>1</td>\n",
       "      <td>2019-01-05</td>\n",
       "      <td>64</td>\n",
       "      <td>2019</td>\n",
       "      <td>1</td>\n",
       "      <td>Saturday</td>\n",
       "      <td>15</td>\n",
       "      <td>12000</td>\n",
       "    </tr>\n",
       "    <tr>\n",
       "      <th>37</th>\n",
       "      <td>8000</td>\n",
       "      <td>2009</td>\n",
       "      <td>ford f-150</td>\n",
       "      <td>2</td>\n",
       "      <td>8</td>\n",
       "      <td>gas</td>\n",
       "      <td>234000</td>\n",
       "      <td>automatic</td>\n",
       "      <td>truck</td>\n",
       "      <td>black</td>\n",
       "      <td>1</td>\n",
       "      <td>2019-03-31</td>\n",
       "      <td>1</td>\n",
       "      <td>2019</td>\n",
       "      <td>3</td>\n",
       "      <td>Sunday</td>\n",
       "      <td>10</td>\n",
       "      <td>23400</td>\n",
       "    </tr>\n",
       "    <tr>\n",
       "      <th>48</th>\n",
       "      <td>6200</td>\n",
       "      <td>2006</td>\n",
       "      <td>ford f-150</td>\n",
       "      <td>3</td>\n",
       "      <td>6</td>\n",
       "      <td>gas</td>\n",
       "      <td>69698</td>\n",
       "      <td>automatic</td>\n",
       "      <td>truck</td>\n",
       "      <td>custom</td>\n",
       "      <td>0</td>\n",
       "      <td>2018-05-03</td>\n",
       "      <td>50</td>\n",
       "      <td>2018</td>\n",
       "      <td>5</td>\n",
       "      <td>Thursday</td>\n",
       "      <td>12</td>\n",
       "      <td>5808</td>\n",
       "    </tr>\n",
       "    <tr>\n",
       "      <th>50</th>\n",
       "      <td>10400</td>\n",
       "      <td>2012</td>\n",
       "      <td>chevrolet colorado</td>\n",
       "      <td>3</td>\n",
       "      <td>5</td>\n",
       "      <td>gas</td>\n",
       "      <td>111871</td>\n",
       "      <td>automatic</td>\n",
       "      <td>truck</td>\n",
       "      <td>red</td>\n",
       "      <td>1</td>\n",
       "      <td>2019-01-30</td>\n",
       "      <td>27</td>\n",
       "      <td>2019</td>\n",
       "      <td>1</td>\n",
       "      <td>Wednesday</td>\n",
       "      <td>7</td>\n",
       "      <td>15981</td>\n",
       "    </tr>\n",
       "    <tr>\n",
       "      <th>57</th>\n",
       "      <td>13000</td>\n",
       "      <td>2005</td>\n",
       "      <td>ram 1500</td>\n",
       "      <td>2</td>\n",
       "      <td>8</td>\n",
       "      <td>gas</td>\n",
       "      <td>146000</td>\n",
       "      <td>automatic</td>\n",
       "      <td>truck</td>\n",
       "      <td>grey</td>\n",
       "      <td>1</td>\n",
       "      <td>2019-03-14</td>\n",
       "      <td>26</td>\n",
       "      <td>2019</td>\n",
       "      <td>3</td>\n",
       "      <td>Thursday</td>\n",
       "      <td>14</td>\n",
       "      <td>10428</td>\n",
       "    </tr>\n",
       "    <tr>\n",
       "      <th>...</th>\n",
       "      <td>...</td>\n",
       "      <td>...</td>\n",
       "      <td>...</td>\n",
       "      <td>...</td>\n",
       "      <td>...</td>\n",
       "      <td>...</td>\n",
       "      <td>...</td>\n",
       "      <td>...</td>\n",
       "      <td>...</td>\n",
       "      <td>...</td>\n",
       "      <td>...</td>\n",
       "      <td>...</td>\n",
       "      <td>...</td>\n",
       "      <td>...</td>\n",
       "      <td>...</td>\n",
       "      <td>...</td>\n",
       "      <td>...</td>\n",
       "      <td>...</td>\n",
       "    </tr>\n",
       "    <tr>\n",
       "      <th>45134</th>\n",
       "      <td>13900</td>\n",
       "      <td>2006</td>\n",
       "      <td>chevrolet silverado 1500</td>\n",
       "      <td>3</td>\n",
       "      <td>8</td>\n",
       "      <td>gas</td>\n",
       "      <td>152000</td>\n",
       "      <td>automatic</td>\n",
       "      <td>truck</td>\n",
       "      <td>other</td>\n",
       "      <td>1</td>\n",
       "      <td>2018-05-08</td>\n",
       "      <td>33</td>\n",
       "      <td>2018</td>\n",
       "      <td>5</td>\n",
       "      <td>Tuesday</td>\n",
       "      <td>12</td>\n",
       "      <td>12666</td>\n",
       "    </tr>\n",
       "    <tr>\n",
       "      <th>45139</th>\n",
       "      <td>21900</td>\n",
       "      <td>2008</td>\n",
       "      <td>chevrolet silverado 3500hd</td>\n",
       "      <td>3</td>\n",
       "      <td>8</td>\n",
       "      <td>diesel</td>\n",
       "      <td>203000</td>\n",
       "      <td>automatic</td>\n",
       "      <td>truck</td>\n",
       "      <td>white</td>\n",
       "      <td>1</td>\n",
       "      <td>2018-12-27</td>\n",
       "      <td>37</td>\n",
       "      <td>2018</td>\n",
       "      <td>12</td>\n",
       "      <td>Thursday</td>\n",
       "      <td>10</td>\n",
       "      <td>20300</td>\n",
       "    </tr>\n",
       "    <tr>\n",
       "      <th>45147</th>\n",
       "      <td>2995</td>\n",
       "      <td>2001</td>\n",
       "      <td>ford f150</td>\n",
       "      <td>2</td>\n",
       "      <td>8</td>\n",
       "      <td>gas</td>\n",
       "      <td>206257</td>\n",
       "      <td>automatic</td>\n",
       "      <td>truck</td>\n",
       "      <td>red</td>\n",
       "      <td>0</td>\n",
       "      <td>2018-12-02</td>\n",
       "      <td>12</td>\n",
       "      <td>2018</td>\n",
       "      <td>12</td>\n",
       "      <td>Sunday</td>\n",
       "      <td>17</td>\n",
       "      <td>12132</td>\n",
       "    </tr>\n",
       "    <tr>\n",
       "      <th>45148</th>\n",
       "      <td>15900</td>\n",
       "      <td>2011</td>\n",
       "      <td>gmc sierra 1500</td>\n",
       "      <td>3</td>\n",
       "      <td>8</td>\n",
       "      <td>gas</td>\n",
       "      <td>117500</td>\n",
       "      <td>automatic</td>\n",
       "      <td>truck</td>\n",
       "      <td>other</td>\n",
       "      <td>1</td>\n",
       "      <td>2019-01-25</td>\n",
       "      <td>69</td>\n",
       "      <td>2019</td>\n",
       "      <td>1</td>\n",
       "      <td>Friday</td>\n",
       "      <td>8</td>\n",
       "      <td>14687</td>\n",
       "    </tr>\n",
       "    <tr>\n",
       "      <th>45153</th>\n",
       "      <td>2000</td>\n",
       "      <td>2000</td>\n",
       "      <td>ford f150</td>\n",
       "      <td>2</td>\n",
       "      <td>6</td>\n",
       "      <td>gas</td>\n",
       "      <td>122000</td>\n",
       "      <td>automatic</td>\n",
       "      <td>truck</td>\n",
       "      <td>white</td>\n",
       "      <td>0</td>\n",
       "      <td>2019-01-22</td>\n",
       "      <td>15</td>\n",
       "      <td>2019</td>\n",
       "      <td>1</td>\n",
       "      <td>Tuesday</td>\n",
       "      <td>19</td>\n",
       "      <td>6421</td>\n",
       "    </tr>\n",
       "  </tbody>\n",
       "</table>\n",
       "<p>10828 rows × 18 columns</p>\n",
       "</div>"
      ],
      "text/plain": [
       "       price  model_year                       model  condition  cylinders  \\\n",
       "21      7500        2004         chevrolet silverado          4          8   \n",
       "37      8000        2009                  ford f-150          2          8   \n",
       "48      6200        2006                  ford f-150          3          6   \n",
       "50     10400        2012          chevrolet colorado          3          5   \n",
       "57     13000        2005                    ram 1500          2          8   \n",
       "...      ...         ...                         ...        ...        ...   \n",
       "45134  13900        2006    chevrolet silverado 1500          3          8   \n",
       "45139  21900        2008  chevrolet silverado 3500hd          3          8   \n",
       "45147   2995        2001                   ford f150          2          8   \n",
       "45148  15900        2011             gmc sierra 1500          3          8   \n",
       "45153   2000        2000                   ford f150          2          6   \n",
       "\n",
       "         fuel  odometer transmission   type paint_color  is_4wd date_posted  \\\n",
       "21        gas    180000    automatic  truck         red       1  2019-01-05   \n",
       "37        gas    234000    automatic  truck       black       1  2019-03-31   \n",
       "48        gas     69698    automatic  truck      custom       0  2018-05-03   \n",
       "50        gas    111871    automatic  truck         red       1  2019-01-30   \n",
       "57        gas    146000    automatic  truck        grey       1  2019-03-14   \n",
       "...       ...       ...          ...    ...         ...     ...         ...   \n",
       "45134     gas    152000    automatic  truck       other       1  2018-05-08   \n",
       "45139  diesel    203000    automatic  truck       white       1  2018-12-27   \n",
       "45147     gas    206257    automatic  truck         red       0  2018-12-02   \n",
       "45148     gas    117500    automatic  truck       other       1  2019-01-25   \n",
       "45153     gas    122000    automatic  truck       white       0  2019-01-22   \n",
       "\n",
       "       days_listed  year  month        day  vehicle_age  avg_miles_per_year  \n",
       "21              64  2019      1   Saturday           15               12000  \n",
       "37               1  2019      3     Sunday           10               23400  \n",
       "48              50  2018      5   Thursday           12                5808  \n",
       "50              27  2019      1  Wednesday            7               15981  \n",
       "57              26  2019      3   Thursday           14               10428  \n",
       "...            ...   ...    ...        ...          ...                 ...  \n",
       "45134           33  2018      5    Tuesday           12               12666  \n",
       "45139           37  2018     12   Thursday           10               20300  \n",
       "45147           12  2018     12     Sunday           17               12132  \n",
       "45148           69  2019      1     Friday            8               14687  \n",
       "45153           15  2019      1    Tuesday           19                6421  \n",
       "\n",
       "[10828 rows x 18 columns]"
      ]
     },
     "execution_count": 109,
     "metadata": {},
     "output_type": "execute_result"
    }
   ],
   "source": [
    "#Now, onto truck\n",
    "#Step 1- subset\n",
    "popular_type_truck = df_filtered[df_filtered['type'].isin(['truck'])]\n",
    "popular_type_truck"
   ]
  },
  {
   "cell_type": "code",
   "execution_count": 110,
   "metadata": {},
   "outputs": [
    {
     "data": {
      "text/plain": [
       "automatic    10341\n",
       "manual         401\n",
       "other           86\n",
       "Name: transmission, dtype: int64"
      ]
     },
     "execution_count": 110,
     "metadata": {},
     "output_type": "execute_result"
    }
   ],
   "source": [
    "#Looks good!\n",
    "#Let's check whether each category for truck type has at least 50 ads.\n",
    "#If so, we'll plot box-and-whisker charts for transmission type and color variables\n",
    "#First transmission\n",
    "popular_type_truck.transmission.value_counts()"
   ]
  },
  {
   "cell_type": "code",
   "execution_count": 111,
   "metadata": {},
   "outputs": [
    {
     "data": {
      "image/png": "[encoded data removed]",
      "text/plain": [
       "<Figure size 432x288 with 1 Axes>"
      ]
     },
     "metadata": {
      "needs_background": "light"
     },
     "output_type": "display_data"
    }
   ],
   "source": [
    "#Great! Truck variables' categories have over 50 ads each\n",
    "#Onto plotting\n",
    "popular_type_truck.boxplot(by='transmission', column='price')\n",
    "plt.suptitle('')\n",
    "plt.title('Link between price and transmission type of a truck vehicle');"
   ]
  },
  {
   "cell_type": "markdown",
   "metadata": {},
   "source": [
    "Above we see the distribution of automatic, manual and other transmission types.\n",
    "The price of other type of transmission is slightly more expensive. This can be explained by the fact that other transmission type vehicles are rare and hence more expensive.\n",
    "We can conclude that transmission type impacts price."
   ]
  },
  {
   "cell_type": "code",
   "execution_count": 112,
   "metadata": {},
   "outputs": [
    {
     "data": {
      "text/plain": [
       "white     3268\n",
       "other     1876\n",
       "black     1354\n",
       "red        947\n",
       "silver     906\n",
       "grey       831\n",
       "blue       769\n",
       "custom     275\n",
       "green      246\n",
       "brown      231\n",
       "yellow      63\n",
       "orange      46\n",
       "purple      16\n",
       "Name: paint_color, dtype: int64"
      ]
     },
     "execution_count": 112,
     "metadata": {},
     "output_type": "execute_result"
    }
   ],
   "source": [
    "#Now truck paint color\n",
    "popular_type_truck.paint_color.value_counts()"
   ]
  },
  {
   "cell_type": "code",
   "execution_count": 113,
   "metadata": {},
   "outputs": [
    {
     "data": {
      "text/plain": [
       "white     3268\n",
       "other     1876\n",
       "black     1354\n",
       "red        947\n",
       "silver     906\n",
       "grey       831\n",
       "blue       769\n",
       "custom     275\n",
       "green      246\n",
       "brown      231\n",
       "yellow      63\n",
       "Name: paint_color, dtype: int64"
      ]
     },
     "execution_count": 113,
     "metadata": {},
     "output_type": "execute_result"
    }
   ],
   "source": [
    "#Truck variables' paint color categories must have over 50 ads each,\n",
    "#otherwise, their parameters won't be valid for analysis, so we drop them\n",
    "popular_type_truck=popular_type_truck[popular_type_truck['paint_color']!='orange']\n",
    "popular_type_truck=popular_type_truck[popular_type_truck['paint_color']!='purple']\n",
    "popular_type_truck.reset_index(drop=True, inplace=True)\n",
    "popular_type_truck.paint_color.value_counts()"
   ]
  },
  {
   "cell_type": "code",
   "execution_count": 114,
   "metadata": {},
   "outputs": [
    {
     "data": {
      "image/png": "[encoded data removed]",
      "text/plain": [
       "<Figure size 720x360 with 1 Axes>"
      ]
     },
     "metadata": {
      "needs_background": "light"
     },
     "output_type": "display_data"
    }
   ],
   "source": [
    "#Excellent! Now, truck variables' categories have over 50 ads each\n",
    "#Onto plotting\n",
    "popular_type_truck.boxplot(by='paint_color', column='price', figsize=(10,5))\n",
    "plt.suptitle('')\n",
    "plt.title('Link between price and paint color of a truck vehicle');"
   ]
  },
  {
   "cell_type": "markdown",
   "metadata": {},
   "source": [
    "Looking at the plot above we can conclude there is no direct correlation between vehicle paint color and it's price, we can assume that is a subjective preference of the individual. "
   ]
  },
  {
   "cell_type": "markdown",
   "metadata": {},
   "source": [
    "Now onto the quantical variables (age, mileage and condition) and scatterplots."
   ]
  },
  {
   "cell_type": "code",
   "execution_count": 115,
   "metadata": {},
   "outputs": [
    {
     "data": {
      "image/png": "[encoded data removed]",
      "text/plain": [
       "<Figure size 432x288 with 1 Axes>"
      ]
     },
     "metadata": {
      "needs_background": "light"
     },
     "output_type": "display_data"
    }
   ],
   "source": [
    "#Truck age scatterplot\n",
    "popular_type_truck.plot.scatter(x='vehicle_age', y='price', alpha=.25)\n",
    "plt.title('Link between price and age of a truck vehicle');"
   ]
  },
  {
   "cell_type": "markdown",
   "metadata": {},
   "source": [
    "Above we see that the older the vehicle the lower the price. This is reasonable. There is indeed a clear correlation between vehicle age and price."
   ]
  },
  {
   "cell_type": "code",
   "execution_count": 116,
   "metadata": {},
   "outputs": [
    {
     "data": {
      "image/png": "[encoded data removed]",
      "text/plain": [
       "<Figure size 432x288 with 1 Axes>"
      ]
     },
     "metadata": {
      "needs_background": "light"
     },
     "output_type": "display_data"
    }
   ],
   "source": [
    "#Truck mileage scatterplot\n",
    "popular_type_truck.plot.scatter(x='odometer', y='price', alpha=.25)\n",
    "plt.title('Link between price and mileage of a truck vehicle');"
   ]
  },
  {
   "cell_type": "markdown",
   "metadata": {},
   "source": [
    "Above we see that the lower the mileage the higher the price. This is reasonable in real life since it indicates the car is newer less used and in better condition. There is indeed a clear correlation between mileage and price."
   ]
  },
  {
   "cell_type": "code",
   "execution_count": 117,
   "metadata": {},
   "outputs": [
    {
     "data": {
      "image/png": "[encoded data removed]",
      "text/plain": [
       "<Figure size 432x288 with 1 Axes>"
      ]
     },
     "metadata": {
      "needs_background": "light"
     },
     "output_type": "display_data"
    }
   ],
   "source": [
    "#Truck condition scatterplot\n",
    "popular_type_truck.plot.scatter(x='condition', y='price', alpha=.50)\n",
    "plt.title('Link between price and condition of a truck vehicle');"
   ]
  },
  {
   "cell_type": "code",
   "execution_count": 118,
   "metadata": {},
   "outputs": [
    {
     "data": {
      "image/png": "[encoded data removed]",
      "text/plain": [
       "<Figure size 432x288 with 1 Axes>"
      ]
     },
     "metadata": {
      "needs_background": "light"
     },
     "output_type": "display_data"
    }
   ],
   "source": [
    "popular_type_truck.boxplot(by='condition', column='price')\n",
    "plt.suptitle('')\n",
    "plt.title('Link between price and condition of a truck vehicle');"
   ]
  },
  {
   "cell_type": "code",
   "execution_count": 119,
   "metadata": {},
   "outputs": [
    {
     "data": {
      "text/plain": [
       "2    4885\n",
       "3    4650\n",
       "4     847\n",
       "1     364\n",
       "5      12\n",
       "0       8\n",
       "Name: condition, dtype: int64"
      ]
     },
     "execution_count": 119,
     "metadata": {},
     "output_type": "execute_result"
    }
   ],
   "source": [
    "popular_type_truck.condition.value_counts()"
   ]
  },
  {
   "cell_type": "markdown",
   "metadata": {},
   "source": [
    "Above in the scatterplot we see that although condition does impact price there is no significant correlation.\n",
    "For good condition (2) there is a wide range of prices given it a subjective condition description. Salvage condition (0) prices are lowest which makes sense. Other than that, the scatterplot isn't too clear and is even confusing, therefore, we also create a boxplot.\n",
    "At first we saw no significant correlation but then the boxplot clearly showed that there is in fact a correlation between condition and price, the newer and better condition the car is in the higher the price and vice versa. Brand new condition vehicles (5) prices are lower than like new (4) and excellent (3), that may be due to low number of vehicles in this condition."
   ]
  },
  {
   "cell_type": "markdown",
   "metadata": {},
   "source": [
    "In conclusion, vehicle age, mileage and condition factors tremendously impact the vehicle's price, transmission also has an impact just not as significant and paint color is just a preference and therefore has no impact at all on the vehicle's price."
   ]
  },
  {
   "cell_type": "markdown",
   "metadata": {},
   "source": [
    "All in all, SUV and truck vehicle types share similar impacts of the same factors on the vehicle prices."
   ]
  },
  {
   "cell_type": "markdown",
   "metadata": {},
   "source": [
    "## Overall conclusion"
   ]
  },
  {
   "cell_type": "markdown",
   "metadata": {},
   "source": [
    "As analysts at Crankshaft List where hundreds of free advertisements for vehicles are published on our site every day, we have studied the data collected over the last few years in order to determine which factors influence the price of a vehicle.\n",
    "In this project, we followed the methodology as following:\n",
    "\n",
    "- Open the data file and study the general information.\n",
    "- Data preprocessing including handling missing values and converting data to required types.\n",
    "- Add calculations and necessary columns as required for the analysis.\n",
    "- Carry exploratory data analysis following the project instruction.\n",
    "- Final conclusion.\n",
    "\n",
    "For each phase of the project we drew conclusions and finally here we provide an overall conclusion as following.\n",
    "\n",
    "For the analysis of factors significantly influencing vehicle prices, we used only the most popular vehicle types (truck and SUV). Based on our analysis, these are the project's final conclusions:\n",
    "\n",
    "- Generally, the older a vehicle is, the lower the price.\n",
    "- Generally, the higher the mileage, the lower the price.\n",
    "- Generally, the better the condition, the higher the price.\n",
    "- Vehicles with 'other' transmission type are more expensive, generally.\n",
    "- Color, being a subjective preference, revealed no significant correlation to price."
   ]
  }
 ],
 "metadata": {
  "ExecuteTimeLog": [
   {
    "duration": 634,
    "start_time": "2021-10-23T10:01:43.602Z"
   },
   {
    "duration": 882,
    "start_time": "2021-10-23T10:01:48.965Z"
   },
   {
    "duration": 178,
    "start_time": "2021-10-23T10:01:57.110Z"
   },
   {
    "duration": 143,
    "start_time": "2021-10-23T10:04:49.376Z"
   },
   {
    "duration": 27,
    "start_time": "2021-10-23T10:05:01.006Z"
   },
   {
    "duration": 120,
    "start_time": "2021-10-23T10:26:15.237Z"
   },
   {
    "duration": 52,
    "start_time": "2021-10-23T10:45:29.003Z"
   },
   {
    "duration": 203,
    "start_time": "2021-10-23T10:45:33.521Z"
   },
   {
    "duration": 765,
    "start_time": "2021-10-23T11:02:26.318Z"
   },
   {
    "duration": 17,
    "start_time": "2021-10-23T11:26:55.132Z"
   },
   {
    "duration": 59,
    "start_time": "2021-10-23T11:27:06.676Z"
   },
   {
    "duration": 44,
    "start_time": "2021-10-23T11:27:25.993Z"
   },
   {
    "duration": 23,
    "start_time": "2021-10-23T11:27:33.792Z"
   },
   {
    "duration": 54,
    "start_time": "2021-10-23T11:30:21.425Z"
   },
   {
    "duration": 19,
    "start_time": "2021-10-23T11:31:19.219Z"
   },
   {
    "duration": 32,
    "start_time": "2021-10-23T11:44:53.751Z"
   },
   {
    "duration": 810,
    "start_time": "2021-10-23T11:45:07.374Z"
   },
   {
    "duration": 151,
    "start_time": "2021-10-23T11:45:08.186Z"
   },
   {
    "duration": 30,
    "start_time": "2021-10-23T11:45:08.341Z"
   },
   {
    "duration": 150,
    "start_time": "2021-10-23T11:45:08.374Z"
   },
   {
    "duration": 653,
    "start_time": "2021-10-23T11:45:08.527Z"
   },
   {
    "duration": 21,
    "start_time": "2021-10-23T11:45:09.183Z"
   },
   {
    "duration": 47,
    "start_time": "2021-10-23T11:45:09.207Z"
   },
   {
    "duration": 25,
    "start_time": "2021-10-23T11:45:09.257Z"
   },
   {
    "duration": 884,
    "start_time": "2021-10-23T11:45:29.726Z"
   },
   {
    "duration": 153,
    "start_time": "2021-10-23T11:45:30.613Z"
   },
   {
    "duration": 27,
    "start_time": "2021-10-23T11:45:30.769Z"
   },
   {
    "duration": 217,
    "start_time": "2021-10-23T11:45:30.800Z"
   },
   {
    "duration": 752,
    "start_time": "2021-10-23T11:45:31.023Z"
   },
   {
    "duration": 44,
    "start_time": "2021-10-23T11:45:31.778Z"
   },
   {
    "duration": 17,
    "start_time": "2021-10-23T11:45:31.825Z"
   },
   {
    "duration": 22,
    "start_time": "2021-10-23T11:45:31.845Z"
   },
   {
    "duration": 91,
    "start_time": "2021-10-23T11:56:07.971Z"
   },
   {
    "duration": 23,
    "start_time": "2021-10-23T11:56:17.872Z"
   },
   {
    "duration": 88,
    "start_time": "2021-10-23T11:58:28.705Z"
   },
   {
    "duration": 1061,
    "start_time": "2021-10-23T13:17:08.088Z"
   },
   {
    "duration": 217,
    "start_time": "2021-10-23T13:17:09.153Z"
   },
   {
    "duration": 52,
    "start_time": "2021-10-23T13:17:09.374Z"
   },
   {
    "duration": 163,
    "start_time": "2021-10-23T13:17:09.429Z"
   },
   {
    "duration": 1488,
    "start_time": "2021-10-23T13:17:09.595Z"
   },
   {
    "duration": 148,
    "start_time": "2021-10-23T13:17:11.086Z"
   },
   {
    "duration": 22323,
    "start_time": "2021-10-23T13:17:11.247Z"
   },
   {
    "duration": 362,
    "start_time": "2021-10-23T13:17:33.574Z"
   },
   {
    "duration": -99,
    "start_time": "2021-10-23T13:17:34.039Z"
   },
   {
    "duration": -100,
    "start_time": "2021-10-23T13:17:34.042Z"
   },
   {
    "duration": -101,
    "start_time": "2021-10-23T13:17:34.046Z"
   },
   {
    "duration": -102,
    "start_time": "2021-10-23T13:17:34.049Z"
   },
   {
    "duration": 21548,
    "start_time": "2021-10-23T13:18:36.266Z"
   },
   {
    "duration": 3,
    "start_time": "2021-10-23T13:22:04.739Z"
   },
   {
    "duration": 28753,
    "start_time": "2021-10-23T13:22:28.003Z"
   },
   {
    "duration": 17906,
    "start_time": "2021-10-23T13:23:04.664Z"
   },
   {
    "duration": 956,
    "start_time": "2021-10-23T13:23:52.132Z"
   },
   {
    "duration": 214,
    "start_time": "2021-10-23T13:23:53.091Z"
   },
   {
    "duration": 49,
    "start_time": "2021-10-23T13:23:53.309Z"
   },
   {
    "duration": 137,
    "start_time": "2021-10-23T13:23:53.361Z"
   },
   {
    "duration": 718,
    "start_time": "2021-10-23T13:23:53.500Z"
   },
   {
    "duration": 102,
    "start_time": "2021-10-23T13:23:54.220Z"
   },
   {
    "duration": 14583,
    "start_time": "2021-10-23T13:23:54.325Z"
   },
   {
    "duration": 4,
    "start_time": "2021-10-23T13:24:08.911Z"
   },
   {
    "duration": 303,
    "start_time": "2021-10-23T13:24:08.917Z"
   },
   {
    "duration": -595,
    "start_time": "2021-10-23T13:24:09.818Z"
   },
   {
    "duration": -595,
    "start_time": "2021-10-23T13:24:09.820Z"
   },
   {
    "duration": 24,
    "start_time": "2021-10-23T13:24:43.565Z"
   },
   {
    "duration": 96,
    "start_time": "2021-10-23T13:34:13.945Z"
   },
   {
    "duration": 109,
    "start_time": "2021-10-23T13:35:41.082Z"
   },
   {
    "duration": 91,
    "start_time": "2021-10-23T13:36:02.376Z"
   },
   {
    "duration": 92,
    "start_time": "2021-10-23T13:37:22.400Z"
   },
   {
    "duration": 100,
    "start_time": "2021-10-23T13:37:26.745Z"
   },
   {
    "duration": 99,
    "start_time": "2021-10-23T13:38:08.314Z"
   },
   {
    "duration": 111,
    "start_time": "2021-10-23T13:38:27.656Z"
   },
   {
    "duration": 6856,
    "start_time": "2021-10-23T13:41:15.264Z"
   },
   {
    "duration": 265,
    "start_time": "2021-10-23T13:41:38.023Z"
   },
   {
    "duration": 21,
    "start_time": "2021-10-23T13:41:50.402Z"
   },
   {
    "duration": 269,
    "start_time": "2021-10-23T13:42:23.069Z"
   },
   {
    "duration": 284,
    "start_time": "2021-10-23T13:42:31.392Z"
   },
   {
    "duration": 23,
    "start_time": "2021-10-23T13:42:39.230Z"
   },
   {
    "duration": 27,
    "start_time": "2021-10-23T13:42:52.464Z"
   },
   {
    "duration": 25,
    "start_time": "2021-10-23T13:43:59.015Z"
   },
   {
    "duration": 864,
    "start_time": "2021-10-23T13:45:08.685Z"
   },
   {
    "duration": 153,
    "start_time": "2021-10-23T13:45:09.552Z"
   },
   {
    "duration": 30,
    "start_time": "2021-10-23T13:45:09.708Z"
   },
   {
    "duration": 142,
    "start_time": "2021-10-23T13:45:09.741Z"
   },
   {
    "duration": 660,
    "start_time": "2021-10-23T13:45:09.885Z"
   },
   {
    "duration": 26,
    "start_time": "2021-10-23T13:45:10.549Z"
   },
   {
    "duration": 21059,
    "start_time": "2021-10-23T13:45:10.578Z"
   },
   {
    "duration": 105,
    "start_time": "2021-10-23T13:45:31.640Z"
   },
   {
    "duration": 4,
    "start_time": "2021-10-23T13:45:31.748Z"
   },
   {
    "duration": 98,
    "start_time": "2021-10-23T13:45:31.756Z"
   },
   {
    "duration": -72,
    "start_time": "2021-10-23T13:45:31.929Z"
   },
   {
    "duration": -80,
    "start_time": "2021-10-23T13:45:31.939Z"
   },
   {
    "duration": 1489,
    "start_time": "2021-10-23T13:47:26.844Z"
   },
   {
    "duration": 32,
    "start_time": "2021-10-23T13:47:38.517Z"
   },
   {
    "duration": 42,
    "start_time": "2021-10-23T13:49:07.830Z"
   },
   {
    "duration": 22,
    "start_time": "2021-10-23T13:52:47.601Z"
   },
   {
    "duration": 815,
    "start_time": "2021-10-23T14:13:21.268Z"
   },
   {
    "duration": 22534,
    "start_time": "2021-10-23T14:14:46.471Z"
   },
   {
    "duration": 4,
    "start_time": "2021-10-23T14:23:30.282Z"
   },
   {
    "duration": 8,
    "start_time": "2021-10-23T14:23:51.155Z"
   },
   {
    "duration": 19300,
    "start_time": "2021-10-23T14:23:51.167Z"
   },
   {
    "duration": 23601,
    "start_time": "2021-10-23T14:24:33.286Z"
   },
   {
    "duration": 22329,
    "start_time": "2021-10-23T14:25:15.370Z"
   },
   {
    "duration": 5,
    "start_time": "2021-10-23T14:26:06.490Z"
   },
   {
    "duration": 958,
    "start_time": "2021-10-23T14:26:44.495Z"
   },
   {
    "duration": 160,
    "start_time": "2021-10-23T14:26:45.456Z"
   },
   {
    "duration": 38,
    "start_time": "2021-10-23T14:26:45.622Z"
   },
   {
    "duration": 172,
    "start_time": "2021-10-23T14:26:45.664Z"
   },
   {
    "duration": 841,
    "start_time": "2021-10-23T14:26:45.838Z"
   },
   {
    "duration": 21680,
    "start_time": "2021-10-23T14:26:46.681Z"
   },
   {
    "duration": 428,
    "start_time": "2021-10-23T14:27:08.363Z"
   },
   {
    "duration": -83,
    "start_time": "2021-10-23T14:27:08.877Z"
   },
   {
    "duration": -84,
    "start_time": "2021-10-23T14:27:08.880Z"
   },
   {
    "duration": -84,
    "start_time": "2021-10-23T14:27:08.881Z"
   },
   {
    "duration": -193,
    "start_time": "2021-10-23T14:27:08.992Z"
   },
   {
    "duration": -195,
    "start_time": "2021-10-23T14:27:08.995Z"
   },
   {
    "duration": 8,
    "start_time": "2021-10-23T14:28:30.740Z"
   },
   {
    "duration": 21551,
    "start_time": "2021-10-23T14:28:32.875Z"
   },
   {
    "duration": 8,
    "start_time": "2021-10-23T14:28:54.428Z"
   },
   {
    "duration": 22801,
    "start_time": "2021-10-23T14:30:05.309Z"
   },
   {
    "duration": 14,
    "start_time": "2021-10-23T14:30:28.113Z"
   },
   {
    "duration": 22337,
    "start_time": "2021-10-23T14:30:34.942Z"
   },
   {
    "duration": 7,
    "start_time": "2021-10-23T14:30:57.281Z"
   },
   {
    "duration": 21499,
    "start_time": "2021-10-23T14:31:14.954Z"
   },
   {
    "duration": 8,
    "start_time": "2021-10-23T14:31:36.456Z"
   },
   {
    "duration": 284,
    "start_time": "2021-10-23T14:32:04.072Z"
   },
   {
    "duration": 258,
    "start_time": "2021-10-23T14:35:27.254Z"
   },
   {
    "duration": 6156,
    "start_time": "2021-10-23T14:36:05.873Z"
   },
   {
    "duration": 15637,
    "start_time": "2021-10-23T14:36:49.817Z"
   },
   {
    "duration": 15381,
    "start_time": "2021-10-23T14:37:19.398Z"
   },
   {
    "duration": 8850,
    "start_time": "2021-10-23T14:37:35.626Z"
   },
   {
    "duration": 8613,
    "start_time": "2021-10-23T14:37:44.677Z"
   },
   {
    "duration": 16156,
    "start_time": "2021-10-23T14:38:03.755Z"
   },
   {
    "duration": 15744,
    "start_time": "2021-10-23T14:38:26.416Z"
   },
   {
    "duration": 15620,
    "start_time": "2021-10-23T14:38:46.463Z"
   },
   {
    "duration": 4372,
    "start_time": "2021-10-23T14:41:37.655Z"
   },
   {
    "duration": 3866,
    "start_time": "2021-10-23T14:44:06.816Z"
   },
   {
    "duration": 3890,
    "start_time": "2021-10-23T14:45:07.533Z"
   },
   {
    "duration": 3961,
    "start_time": "2021-10-23T14:45:37.306Z"
   },
   {
    "duration": 10,
    "start_time": "2021-10-23T14:47:29.467Z"
   },
   {
    "duration": 26,
    "start_time": "2021-10-23T14:47:37.482Z"
   },
   {
    "duration": 21832,
    "start_time": "2021-10-23T14:47:47.659Z"
   },
   {
    "duration": 29,
    "start_time": "2021-10-23T14:48:09.494Z"
   },
   {
    "duration": 22934,
    "start_time": "2021-10-23T14:48:10.337Z"
   },
   {
    "duration": 28,
    "start_time": "2021-10-23T14:48:33.274Z"
   },
   {
    "duration": 93,
    "start_time": "2021-10-23T14:49:36.890Z"
   },
   {
    "duration": 24,
    "start_time": "2021-10-23T14:49:39.070Z"
   },
   {
    "duration": 19,
    "start_time": "2021-10-23T14:50:25.129Z"
   },
   {
    "duration": 101,
    "start_time": "2021-10-23T14:50:27.634Z"
   },
   {
    "duration": 24,
    "start_time": "2021-10-23T14:50:31.772Z"
   },
   {
    "duration": 3641,
    "start_time": "2021-10-23T14:50:42.188Z"
   },
   {
    "duration": 21,
    "start_time": "2021-10-23T14:50:45.833Z"
   },
   {
    "duration": 952,
    "start_time": "2021-10-23T14:51:03.129Z"
   },
   {
    "duration": 152,
    "start_time": "2021-10-23T14:51:04.084Z"
   },
   {
    "duration": 26,
    "start_time": "2021-10-23T14:51:04.239Z"
   },
   {
    "duration": 155,
    "start_time": "2021-10-23T14:51:04.267Z"
   },
   {
    "duration": 1435,
    "start_time": "2021-10-23T14:51:04.425Z"
   },
   {
    "duration": 4526,
    "start_time": "2021-10-23T14:51:05.863Z"
   },
   {
    "duration": 29,
    "start_time": "2021-10-23T14:51:10.393Z"
   },
   {
    "duration": 24447,
    "start_time": "2021-10-23T14:51:10.425Z"
   },
   {
    "duration": 112,
    "start_time": "2021-10-23T14:51:34.875Z"
   },
   {
    "duration": 172,
    "start_time": "2021-10-23T14:51:34.990Z"
   },
   {
    "duration": -234,
    "start_time": "2021-10-23T14:51:35.398Z"
   },
   {
    "duration": -234,
    "start_time": "2021-10-23T14:51:35.400Z"
   },
   {
    "duration": 23,
    "start_time": "2021-10-23T14:51:45.540Z"
   },
   {
    "duration": 19,
    "start_time": "2021-10-23T14:52:34.293Z"
   },
   {
    "duration": 92,
    "start_time": "2021-10-23T14:52:38.314Z"
   },
   {
    "duration": 24,
    "start_time": "2021-10-23T14:52:40.587Z"
   },
   {
    "duration": 283,
    "start_time": "2021-10-24T13:24:22.232Z"
   },
   {
    "duration": 756,
    "start_time": "2021-10-24T13:24:43.032Z"
   },
   {
    "duration": 115,
    "start_time": "2021-10-24T13:24:43.790Z"
   },
   {
    "duration": 20,
    "start_time": "2021-10-24T13:24:43.907Z"
   },
   {
    "duration": 117,
    "start_time": "2021-10-24T13:24:43.929Z"
   },
   {
    "duration": 487,
    "start_time": "2021-10-24T13:24:44.048Z"
   },
   {
    "duration": 2307,
    "start_time": "2021-10-24T13:24:44.537Z"
   },
   {
    "duration": 17,
    "start_time": "2021-10-24T13:24:46.846Z"
   },
   {
    "duration": 13878,
    "start_time": "2021-10-24T13:24:46.866Z"
   },
   {
    "duration": 26,
    "start_time": "2021-10-24T13:25:00.745Z"
   },
   {
    "duration": 59,
    "start_time": "2021-10-24T13:25:00.772Z"
   },
   {
    "duration": 88,
    "start_time": "2021-10-24T13:25:00.833Z"
   },
   {
    "duration": -82,
    "start_time": "2021-10-24T13:25:01.005Z"
   },
   {
    "duration": -84,
    "start_time": "2021-10-24T13:25:01.007Z"
   },
   {
    "duration": 401,
    "start_time": "2021-10-25T15:40:05.947Z"
   },
   {
    "duration": 587,
    "start_time": "2021-10-25T15:40:21.112Z"
   },
   {
    "duration": 295,
    "start_time": "2021-10-25T15:40:27.623Z"
   },
   {
    "duration": 1052,
    "start_time": "2021-10-25T15:40:39.983Z"
   },
   {
    "duration": 165,
    "start_time": "2021-10-25T15:40:41.038Z"
   },
   {
    "duration": 28,
    "start_time": "2021-10-25T15:40:41.207Z"
   },
   {
    "duration": 160,
    "start_time": "2021-10-25T15:40:41.241Z"
   },
   {
    "duration": 781,
    "start_time": "2021-10-25T15:40:41.403Z"
   },
   {
    "duration": 4586,
    "start_time": "2021-10-25T15:40:42.186Z"
   },
   {
    "duration": 24,
    "start_time": "2021-10-25T15:40:46.774Z"
   },
   {
    "duration": 24740,
    "start_time": "2021-10-25T15:40:46.803Z"
   },
   {
    "duration": 18,
    "start_time": "2021-10-25T15:41:11.545Z"
   },
   {
    "duration": 122,
    "start_time": "2021-10-25T15:41:11.565Z"
   },
   {
    "duration": 10,
    "start_time": "2021-10-25T15:41:11.691Z"
   },
   {
    "duration": 110,
    "start_time": "2021-10-25T15:41:11.704Z"
   },
   {
    "duration": -773,
    "start_time": "2021-10-25T15:41:12.589Z"
   },
   {
    "duration": 5,
    "start_time": "2021-10-25T15:55:44.937Z"
   },
   {
    "duration": 23,
    "start_time": "2021-10-25T15:55:49.399Z"
   },
   {
    "duration": 11,
    "start_time": "2021-10-25T15:57:39.375Z"
   },
   {
    "duration": 8,
    "start_time": "2021-10-25T15:57:54.725Z"
   },
   {
    "duration": 9,
    "start_time": "2021-10-25T15:58:24.854Z"
   },
   {
    "duration": 8,
    "start_time": "2021-10-25T16:15:19.095Z"
   },
   {
    "duration": 9,
    "start_time": "2021-10-25T16:16:04.481Z"
   },
   {
    "duration": 10,
    "start_time": "2021-10-25T16:16:35.544Z"
   },
   {
    "duration": 733,
    "start_time": "2021-10-25T16:17:56.204Z"
   },
   {
    "duration": 348,
    "start_time": "2021-10-25T16:18:04.971Z"
   },
   {
    "duration": 343,
    "start_time": "2021-10-25T16:22:53.769Z"
   },
   {
    "duration": 13,
    "start_time": "2021-10-25T16:23:00.803Z"
   },
   {
    "duration": 30,
    "start_time": "2021-10-25T16:23:21.543Z"
   },
   {
    "duration": 471,
    "start_time": "2021-10-25T16:28:44.845Z"
   },
   {
    "duration": 352,
    "start_time": "2021-10-25T16:28:50.775Z"
   },
   {
    "duration": 347,
    "start_time": "2021-10-25T16:28:56.203Z"
   },
   {
    "duration": 292,
    "start_time": "2021-10-25T16:29:03.712Z"
   },
   {
    "duration": 16,
    "start_time": "2021-10-25T16:29:14.260Z"
   },
   {
    "duration": 13,
    "start_time": "2021-10-25T16:29:23.766Z"
   },
   {
    "duration": 328,
    "start_time": "2021-10-25T16:29:28.027Z"
   },
   {
    "duration": 883,
    "start_time": "2021-10-25T16:29:29.964Z"
   },
   {
    "duration": 11,
    "start_time": "2021-10-25T16:29:39.001Z"
   },
   {
    "duration": 407,
    "start_time": "2021-10-25T16:32:51.594Z"
   },
   {
    "duration": 12,
    "start_time": "2021-10-25T16:33:05.118Z"
   },
   {
    "duration": 12,
    "start_time": "2021-10-25T16:33:23.508Z"
   },
   {
    "duration": 33,
    "start_time": "2021-10-25T16:34:36.283Z"
   },
   {
    "duration": 757,
    "start_time": "2021-10-25T16:35:11.974Z"
   },
   {
    "duration": 1040,
    "start_time": "2021-10-25T16:36:09.416Z"
   },
   {
    "duration": 213,
    "start_time": "2021-10-25T16:36:25.016Z"
   },
   {
    "duration": 12,
    "start_time": "2021-10-25T16:36:35.049Z"
   },
   {
    "duration": 345,
    "start_time": "2021-10-25T16:37:13.393Z"
   },
   {
    "duration": 16,
    "start_time": "2021-10-25T16:40:01.484Z"
   },
   {
    "duration": 291,
    "start_time": "2021-10-25T16:40:13.254Z"
   },
   {
    "duration": 8,
    "start_time": "2021-10-25T16:40:22.722Z"
   },
   {
    "duration": 12,
    "start_time": "2021-10-25T16:43:06.343Z"
   },
   {
    "duration": 16,
    "start_time": "2021-10-25T16:43:09.989Z"
   },
   {
    "duration": 333,
    "start_time": "2021-10-25T16:43:31.524Z"
   },
   {
    "duration": 321,
    "start_time": "2021-10-25T16:43:56.704Z"
   },
   {
    "duration": 107,
    "start_time": "2021-10-25T16:44:07.532Z"
   },
   {
    "duration": 102,
    "start_time": "2021-10-25T16:44:18.691Z"
   },
   {
    "duration": 950,
    "start_time": "2021-10-25T16:44:27.612Z"
   },
   {
    "duration": 104,
    "start_time": "2021-10-25T16:44:44.473Z"
   },
   {
    "duration": 110,
    "start_time": "2021-10-25T16:44:52.648Z"
   },
   {
    "duration": 12,
    "start_time": "2021-10-25T16:44:56.666Z"
   },
   {
    "duration": 13,
    "start_time": "2021-10-25T16:45:11.063Z"
   },
   {
    "duration": 766,
    "start_time": "2021-10-25T16:45:22.696Z"
   },
   {
    "duration": 790,
    "start_time": "2021-10-25T16:45:31.628Z"
   },
   {
    "duration": 12,
    "start_time": "2021-10-25T16:45:41.144Z"
   },
   {
    "duration": 13,
    "start_time": "2021-10-25T16:45:48.505Z"
   },
   {
    "duration": 12,
    "start_time": "2021-10-25T16:45:54.267Z"
   },
   {
    "duration": 12,
    "start_time": "2021-10-25T16:46:06.163Z"
   },
   {
    "duration": 11,
    "start_time": "2021-10-25T16:46:18.759Z"
   },
   {
    "duration": 12,
    "start_time": "2021-10-25T16:46:22.506Z"
   },
   {
    "duration": 8,
    "start_time": "2021-10-25T16:48:43.848Z"
   },
   {
    "duration": 8,
    "start_time": "2021-10-25T16:48:50.805Z"
   },
   {
    "duration": 9,
    "start_time": "2021-10-25T16:51:48.430Z"
   },
   {
    "duration": 14,
    "start_time": "2021-10-25T16:52:02.369Z"
   },
   {
    "duration": 113,
    "start_time": "2021-10-25T17:09:01.952Z"
   },
   {
    "duration": 292,
    "start_time": "2021-10-25T17:09:07.405Z"
   },
   {
    "duration": 1037,
    "start_time": "2021-10-25T17:10:03.704Z"
   },
   {
    "duration": 2060,
    "start_time": "2021-10-25T17:10:20.983Z"
   },
   {
    "duration": 795,
    "start_time": "2021-10-25T17:10:52.427Z"
   },
   {
    "duration": 827,
    "start_time": "2021-10-25T17:12:28.289Z"
   },
   {
    "duration": 389,
    "start_time": "2021-10-25T17:14:09.842Z"
   },
   {
    "duration": 394,
    "start_time": "2021-10-25T17:14:23.975Z"
   },
   {
    "duration": 332,
    "start_time": "2021-10-25T17:15:07.730Z"
   },
   {
    "duration": 1632,
    "start_time": "2021-10-25T17:24:23.939Z"
   },
   {
    "duration": 849,
    "start_time": "2021-10-25T17:24:48.511Z"
   },
   {
    "duration": 147,
    "start_time": "2021-10-25T17:24:49.363Z"
   },
   {
    "duration": 26,
    "start_time": "2021-10-25T17:24:49.513Z"
   },
   {
    "duration": 142,
    "start_time": "2021-10-25T17:24:49.541Z"
   },
   {
    "duration": 1101,
    "start_time": "2021-10-25T17:24:49.686Z"
   },
   {
    "duration": 4020,
    "start_time": "2021-10-25T17:24:50.790Z"
   },
   {
    "duration": 17,
    "start_time": "2021-10-25T17:24:54.813Z"
   },
   {
    "duration": 22697,
    "start_time": "2021-10-25T17:24:54.832Z"
   },
   {
    "duration": 20,
    "start_time": "2021-10-25T17:25:17.534Z"
   },
   {
    "duration": 109,
    "start_time": "2021-10-25T17:25:17.557Z"
   },
   {
    "duration": 15,
    "start_time": "2021-10-25T17:25:17.669Z"
   },
   {
    "duration": 7,
    "start_time": "2021-10-25T17:25:17.687Z"
   },
   {
    "duration": 24,
    "start_time": "2021-10-25T17:25:17.696Z"
   },
   {
    "duration": 8,
    "start_time": "2021-10-25T17:25:17.723Z"
   },
   {
    "duration": 8,
    "start_time": "2021-10-25T17:25:17.733Z"
   },
   {
    "duration": 1759,
    "start_time": "2021-10-25T17:25:17.744Z"
   },
   {
    "duration": -461,
    "start_time": "2021-10-25T17:25:19.967Z"
   },
   {
    "duration": -462,
    "start_time": "2021-10-25T17:25:19.969Z"
   },
   {
    "duration": -463,
    "start_time": "2021-10-25T17:25:19.972Z"
   },
   {
    "duration": -464,
    "start_time": "2021-10-25T17:25:19.974Z"
   },
   {
    "duration": -464,
    "start_time": "2021-10-25T17:25:19.976Z"
   },
   {
    "duration": -464,
    "start_time": "2021-10-25T17:25:19.978Z"
   },
   {
    "duration": -465,
    "start_time": "2021-10-25T17:25:19.980Z"
   },
   {
    "duration": -465,
    "start_time": "2021-10-25T17:25:19.982Z"
   },
   {
    "duration": -466,
    "start_time": "2021-10-25T17:25:19.984Z"
   },
   {
    "duration": -467,
    "start_time": "2021-10-25T17:25:19.987Z"
   },
   {
    "duration": -468,
    "start_time": "2021-10-25T17:25:19.989Z"
   },
   {
    "duration": 36,
    "start_time": "2021-10-25T17:26:03.026Z"
   },
   {
    "duration": 39,
    "start_time": "2021-10-25T17:26:09.928Z"
   },
   {
    "duration": 325,
    "start_time": "2021-10-25T17:27:55.604Z"
   },
   {
    "duration": 1881,
    "start_time": "2021-10-25T17:28:12.356Z"
   },
   {
    "duration": 679,
    "start_time": "2021-10-25T17:28:44.400Z"
   },
   {
    "duration": 309,
    "start_time": "2021-10-25T17:28:55.027Z"
   },
   {
    "duration": 648,
    "start_time": "2021-10-25T17:28:57.818Z"
   },
   {
    "duration": 428,
    "start_time": "2021-10-25T17:29:21.647Z"
   },
   {
    "duration": 396,
    "start_time": "2021-10-25T17:29:36.648Z"
   },
   {
    "duration": 591,
    "start_time": "2021-10-25T17:29:41.949Z"
   },
   {
    "duration": 34,
    "start_time": "2021-10-25T17:30:01.654Z"
   },
   {
    "duration": 17,
    "start_time": "2021-10-25T17:30:26.930Z"
   },
   {
    "duration": 860,
    "start_time": "2021-10-25T17:30:37.289Z"
   },
   {
    "duration": 146,
    "start_time": "2021-10-25T17:30:38.152Z"
   },
   {
    "duration": 26,
    "start_time": "2021-10-25T17:30:38.300Z"
   },
   {
    "duration": 138,
    "start_time": "2021-10-25T17:30:38.329Z"
   },
   {
    "duration": 737,
    "start_time": "2021-10-25T17:30:38.469Z"
   },
   {
    "duration": 3929,
    "start_time": "2021-10-25T17:30:39.208Z"
   },
   {
    "duration": 18,
    "start_time": "2021-10-25T17:30:43.139Z"
   },
   {
    "duration": 23308,
    "start_time": "2021-10-25T17:30:43.160Z"
   },
   {
    "duration": 26,
    "start_time": "2021-10-25T17:31:06.471Z"
   },
   {
    "duration": 103,
    "start_time": "2021-10-25T17:31:06.500Z"
   },
   {
    "duration": 9,
    "start_time": "2021-10-25T17:31:06.606Z"
   },
   {
    "duration": 9,
    "start_time": "2021-10-25T17:31:06.617Z"
   },
   {
    "duration": 27,
    "start_time": "2021-10-25T17:31:06.628Z"
   },
   {
    "duration": 29,
    "start_time": "2021-10-25T17:31:06.657Z"
   },
   {
    "duration": 9,
    "start_time": "2021-10-25T17:31:06.688Z"
   },
   {
    "duration": 11,
    "start_time": "2021-10-25T17:31:06.699Z"
   },
   {
    "duration": 35,
    "start_time": "2021-10-25T17:31:06.712Z"
   },
   {
    "duration": 14,
    "start_time": "2021-10-25T17:31:06.782Z"
   },
   {
    "duration": 13,
    "start_time": "2021-10-25T17:31:06.798Z"
   },
   {
    "duration": 15,
    "start_time": "2021-10-25T17:31:06.813Z"
   },
   {
    "duration": 20,
    "start_time": "2021-10-25T17:31:06.830Z"
   },
   {
    "duration": 41,
    "start_time": "2021-10-25T17:31:06.852Z"
   },
   {
    "duration": 12,
    "start_time": "2021-10-25T17:31:06.898Z"
   },
   {
    "duration": 12,
    "start_time": "2021-10-25T17:31:06.913Z"
   },
   {
    "duration": 14,
    "start_time": "2021-10-25T17:31:06.927Z"
   },
   {
    "duration": 8,
    "start_time": "2021-10-25T17:31:06.982Z"
   },
   {
    "duration": 13,
    "start_time": "2021-10-25T17:31:06.993Z"
   },
   {
    "duration": 10,
    "start_time": "2021-10-25T17:31:07.008Z"
   },
   {
    "duration": 11,
    "start_time": "2021-10-25T17:31:27.949Z"
   },
   {
    "duration": 12,
    "start_time": "2021-10-25T17:31:35.020Z"
   },
   {
    "duration": 41,
    "start_time": "2021-10-25T17:31:36.518Z"
   },
   {
    "duration": 13,
    "start_time": "2021-10-25T17:31:39.072Z"
   },
   {
    "duration": 10,
    "start_time": "2021-10-25T17:31:43.531Z"
   },
   {
    "duration": 12,
    "start_time": "2021-10-25T17:31:45.741Z"
   },
   {
    "duration": 1058,
    "start_time": "2021-10-25T17:31:57.939Z"
   },
   {
    "duration": 144,
    "start_time": "2021-10-25T17:31:59.001Z"
   },
   {
    "duration": 43,
    "start_time": "2021-10-25T17:31:59.148Z"
   },
   {
    "duration": 133,
    "start_time": "2021-10-25T17:31:59.194Z"
   },
   {
    "duration": 741,
    "start_time": "2021-10-25T17:31:59.329Z"
   },
   {
    "duration": 4056,
    "start_time": "2021-10-25T17:32:00.072Z"
   },
   {
    "duration": 16,
    "start_time": "2021-10-25T17:32:04.130Z"
   },
   {
    "duration": 24485,
    "start_time": "2021-10-25T17:32:04.148Z"
   },
   {
    "duration": 21,
    "start_time": "2021-10-25T17:32:28.636Z"
   },
   {
    "duration": 121,
    "start_time": "2021-10-25T17:32:28.661Z"
   },
   {
    "duration": 10,
    "start_time": "2021-10-25T17:32:28.785Z"
   },
   {
    "duration": 14,
    "start_time": "2021-10-25T17:32:28.798Z"
   },
   {
    "duration": 26,
    "start_time": "2021-10-25T17:32:28.815Z"
   },
   {
    "duration": 9,
    "start_time": "2021-10-25T17:32:28.844Z"
   },
   {
    "duration": 10,
    "start_time": "2021-10-25T17:32:28.883Z"
   },
   {
    "duration": 13,
    "start_time": "2021-10-25T17:32:28.895Z"
   },
   {
    "duration": 13,
    "start_time": "2021-10-25T17:32:28.910Z"
   },
   {
    "duration": 14,
    "start_time": "2021-10-25T17:32:28.925Z"
   },
   {
    "duration": 51,
    "start_time": "2021-10-25T17:32:28.941Z"
   },
   {
    "duration": 10,
    "start_time": "2021-10-25T17:32:28.995Z"
   },
   {
    "duration": 13,
    "start_time": "2021-10-25T17:32:29.008Z"
   },
   {
    "duration": 17,
    "start_time": "2021-10-25T17:32:29.023Z"
   },
   {
    "duration": 49,
    "start_time": "2021-10-25T17:32:29.042Z"
   },
   {
    "duration": 16,
    "start_time": "2021-10-25T17:32:29.093Z"
   },
   {
    "duration": 15,
    "start_time": "2021-10-25T17:32:29.111Z"
   },
   {
    "duration": 16,
    "start_time": "2021-10-25T17:32:29.129Z"
   },
   {
    "duration": 44,
    "start_time": "2021-10-25T17:32:29.151Z"
   },
   {
    "duration": 12,
    "start_time": "2021-10-25T17:32:29.198Z"
   },
   {
    "duration": 6,
    "start_time": "2021-10-25T17:46:22.111Z"
   },
   {
    "duration": 42,
    "start_time": "2021-10-25T19:33:31.199Z"
   },
   {
    "duration": 10,
    "start_time": "2021-10-25T19:33:39.744Z"
   },
   {
    "duration": 1265,
    "start_time": "2021-10-25T19:33:51.236Z"
   },
   {
    "duration": 786,
    "start_time": "2021-10-25T19:33:52.503Z"
   },
   {
    "duration": 25,
    "start_time": "2021-10-25T19:33:53.292Z"
   },
   {
    "duration": 151,
    "start_time": "2021-10-25T19:33:53.320Z"
   },
   {
    "duration": 1078,
    "start_time": "2021-10-25T19:33:53.474Z"
   },
   {
    "duration": 3999,
    "start_time": "2021-10-25T19:33:54.554Z"
   },
   {
    "duration": 28,
    "start_time": "2021-10-25T19:33:58.555Z"
   },
   {
    "duration": 22942,
    "start_time": "2021-10-25T19:33:58.587Z"
   },
   {
    "duration": 18,
    "start_time": "2021-10-25T19:34:21.532Z"
   },
   {
    "duration": 105,
    "start_time": "2021-10-25T19:34:21.553Z"
   },
   {
    "duration": 7,
    "start_time": "2021-10-25T19:34:21.661Z"
   },
   {
    "duration": 6,
    "start_time": "2021-10-25T19:34:21.682Z"
   },
   {
    "duration": 41,
    "start_time": "2021-10-25T19:34:21.690Z"
   },
   {
    "duration": 10,
    "start_time": "2021-10-25T19:34:21.734Z"
   },
   {
    "duration": 42,
    "start_time": "2021-10-25T19:34:21.746Z"
   },
   {
    "duration": 26,
    "start_time": "2021-10-25T19:34:21.790Z"
   },
   {
    "duration": 10,
    "start_time": "2021-10-25T19:34:21.818Z"
   },
   {
    "duration": 13,
    "start_time": "2021-10-25T19:34:21.830Z"
   },
   {
    "duration": 12,
    "start_time": "2021-10-25T19:34:21.883Z"
   },
   {
    "duration": 9,
    "start_time": "2021-10-25T19:34:21.898Z"
   },
   {
    "duration": 12,
    "start_time": "2021-10-25T19:34:21.909Z"
   },
   {
    "duration": 12,
    "start_time": "2021-10-25T19:34:21.923Z"
   },
   {
    "duration": 13,
    "start_time": "2021-10-25T19:34:21.983Z"
   },
   {
    "duration": 16,
    "start_time": "2021-10-25T19:34:21.998Z"
   },
   {
    "duration": 11,
    "start_time": "2021-10-25T19:34:22.017Z"
   },
   {
    "duration": 10,
    "start_time": "2021-10-25T19:34:22.031Z"
   },
   {
    "duration": 50,
    "start_time": "2021-10-25T19:34:22.043Z"
   },
   {
    "duration": 10,
    "start_time": "2021-10-25T19:34:22.096Z"
   },
   {
    "duration": 1039,
    "start_time": "2021-10-25T19:34:48.108Z"
   },
   {
    "duration": 145,
    "start_time": "2021-10-25T19:34:49.150Z"
   },
   {
    "duration": 25,
    "start_time": "2021-10-25T19:34:49.298Z"
   },
   {
    "duration": 143,
    "start_time": "2021-10-25T19:34:49.326Z"
   },
   {
    "duration": 1802,
    "start_time": "2021-10-25T19:34:49.472Z"
   },
   {
    "duration": 4039,
    "start_time": "2021-10-25T19:34:51.276Z"
   },
   {
    "duration": 17,
    "start_time": "2021-10-25T19:34:55.317Z"
   },
   {
    "duration": 24928,
    "start_time": "2021-10-25T19:34:55.338Z"
   },
   {
    "duration": 28,
    "start_time": "2021-10-25T19:35:20.269Z"
   },
   {
    "duration": 109,
    "start_time": "2021-10-25T19:35:20.300Z"
   },
   {
    "duration": 8,
    "start_time": "2021-10-25T19:35:20.411Z"
   },
   {
    "duration": 9,
    "start_time": "2021-10-25T19:35:20.421Z"
   },
   {
    "duration": 30,
    "start_time": "2021-10-25T19:35:20.432Z"
   },
   {
    "duration": 26,
    "start_time": "2021-10-25T19:35:20.464Z"
   },
   {
    "duration": 12,
    "start_time": "2021-10-25T19:35:20.493Z"
   },
   {
    "duration": 34,
    "start_time": "2021-10-25T19:35:20.508Z"
   },
   {
    "duration": 43,
    "start_time": "2021-10-25T19:35:20.545Z"
   },
   {
    "duration": 15,
    "start_time": "2021-10-25T19:35:20.591Z"
   },
   {
    "duration": 15,
    "start_time": "2021-10-25T19:35:20.609Z"
   },
   {
    "duration": 12,
    "start_time": "2021-10-25T19:35:20.627Z"
   },
   {
    "duration": 14,
    "start_time": "2021-10-25T19:35:20.682Z"
   },
   {
    "duration": 15,
    "start_time": "2021-10-25T19:35:20.698Z"
   },
   {
    "duration": 13,
    "start_time": "2021-10-25T19:35:20.718Z"
   },
   {
    "duration": 53,
    "start_time": "2021-10-25T19:35:20.734Z"
   },
   {
    "duration": 12,
    "start_time": "2021-10-25T19:35:20.790Z"
   },
   {
    "duration": 26,
    "start_time": "2021-10-25T19:35:20.804Z"
   },
   {
    "duration": 13,
    "start_time": "2021-10-25T19:35:20.832Z"
   },
   {
    "duration": 35,
    "start_time": "2021-10-25T19:35:20.849Z"
   },
   {
    "duration": 24,
    "start_time": "2021-10-25T19:42:05.706Z"
   },
   {
    "duration": 13,
    "start_time": "2021-10-25T19:42:38.119Z"
   },
   {
    "duration": 857,
    "start_time": "2021-10-25T19:58:39.679Z"
   },
   {
    "duration": 145,
    "start_time": "2021-10-25T19:58:40.538Z"
   },
   {
    "duration": 27,
    "start_time": "2021-10-25T19:58:40.686Z"
   },
   {
    "duration": 145,
    "start_time": "2021-10-25T19:58:40.715Z"
   },
   {
    "duration": 698,
    "start_time": "2021-10-25T19:58:40.863Z"
   },
   {
    "duration": 3922,
    "start_time": "2021-10-25T19:58:41.563Z"
   },
   {
    "duration": 17,
    "start_time": "2021-10-25T19:58:45.488Z"
   },
   {
    "duration": 24367,
    "start_time": "2021-10-25T19:58:45.508Z"
   },
   {
    "duration": 17,
    "start_time": "2021-10-25T19:59:09.881Z"
   },
   {
    "duration": 107,
    "start_time": "2021-10-25T19:59:09.901Z"
   },
   {
    "duration": 8,
    "start_time": "2021-10-25T19:59:10.010Z"
   },
   {
    "duration": 13,
    "start_time": "2021-10-25T19:59:10.020Z"
   },
   {
    "duration": 27,
    "start_time": "2021-10-25T19:59:10.036Z"
   },
   {
    "duration": 25,
    "start_time": "2021-10-25T19:59:10.065Z"
   },
   {
    "duration": 13,
    "start_time": "2021-10-25T19:59:10.093Z"
   },
   {
    "duration": 33,
    "start_time": "2021-10-25T19:59:10.109Z"
   },
   {
    "duration": 39,
    "start_time": "2021-10-25T19:59:10.145Z"
   },
   {
    "duration": 3,
    "start_time": "2021-10-25T19:59:10.186Z"
   },
   {
    "duration": 20,
    "start_time": "2021-10-25T19:59:10.192Z"
   },
   {
    "duration": 29,
    "start_time": "2021-10-25T19:59:10.214Z"
   },
   {
    "duration": 39,
    "start_time": "2021-10-25T19:59:10.245Z"
   },
   {
    "duration": 10,
    "start_time": "2021-10-25T19:59:10.286Z"
   },
   {
    "duration": 10,
    "start_time": "2021-10-25T19:59:10.301Z"
   },
   {
    "duration": 2,
    "start_time": "2021-10-25T19:59:10.314Z"
   },
   {
    "duration": 14,
    "start_time": "2021-10-25T19:59:10.318Z"
   },
   {
    "duration": 10,
    "start_time": "2021-10-25T19:59:10.334Z"
   },
   {
    "duration": 16,
    "start_time": "2021-10-25T19:59:10.382Z"
   },
   {
    "duration": 3,
    "start_time": "2021-10-25T19:59:10.400Z"
   },
   {
    "duration": 13,
    "start_time": "2021-10-25T19:59:10.405Z"
   },
   {
    "duration": 19,
    "start_time": "2021-10-25T19:59:10.420Z"
   },
   {
    "duration": 41,
    "start_time": "2021-10-25T19:59:10.442Z"
   },
   {
    "duration": 4,
    "start_time": "2021-10-25T19:59:10.486Z"
   },
   {
    "duration": 28,
    "start_time": "2021-10-25T19:59:10.493Z"
   },
   {
    "duration": 14,
    "start_time": "2021-10-25T19:59:10.523Z"
   },
   {
    "duration": 19,
    "start_time": "2021-10-25T19:59:10.539Z"
   },
   {
    "duration": 27,
    "start_time": "2021-10-25T19:59:10.560Z"
   },
   {
    "duration": 15,
    "start_time": "2021-10-25T19:59:10.589Z"
   },
   {
    "duration": 26,
    "start_time": "2021-10-25T20:04:29.033Z"
   },
   {
    "duration": 13,
    "start_time": "2021-10-25T20:04:34.693Z"
   },
   {
    "duration": 14,
    "start_time": "2021-10-25T20:07:17.623Z"
   },
   {
    "duration": 9,
    "start_time": "2021-10-25T20:07:24.016Z"
   },
   {
    "duration": 10,
    "start_time": "2021-10-25T20:07:26.216Z"
   },
   {
    "duration": 9,
    "start_time": "2021-10-25T20:07:29.943Z"
   },
   {
    "duration": 24,
    "start_time": "2021-10-25T20:07:33.599Z"
   },
   {
    "duration": 9,
    "start_time": "2021-10-25T20:07:51.446Z"
   },
   {
    "duration": 14,
    "start_time": "2021-10-25T20:07:54.160Z"
   },
   {
    "duration": 5688,
    "start_time": "2021-10-25T20:08:14.322Z"
   },
   {
    "duration": 9,
    "start_time": "2021-10-25T20:09:35.724Z"
   },
   {
    "duration": 31,
    "start_time": "2021-10-25T20:09:53.146Z"
   },
   {
    "duration": 30,
    "start_time": "2021-10-25T20:10:00.159Z"
   },
   {
    "duration": 378,
    "start_time": "2021-10-25T20:11:46.785Z"
   },
   {
    "duration": 365,
    "start_time": "2021-10-25T20:12:07.252Z"
   },
   {
    "duration": 12,
    "start_time": "2021-10-25T20:12:20.574Z"
   },
   {
    "duration": 9,
    "start_time": "2021-10-25T20:13:09.418Z"
   },
   {
    "duration": 7,
    "start_time": "2021-10-25T20:13:11.761Z"
   },
   {
    "duration": 341,
    "start_time": "2021-10-25T20:13:22.243Z"
   },
   {
    "duration": 8,
    "start_time": "2021-10-25T20:13:26.413Z"
   },
   {
    "duration": 9,
    "start_time": "2021-10-25T20:15:03.684Z"
   },
   {
    "duration": 280,
    "start_time": "2021-10-25T20:21:10.813Z"
   },
   {
    "duration": 978,
    "start_time": "2021-10-25T20:21:25.792Z"
   },
   {
    "duration": 153,
    "start_time": "2021-10-25T20:21:26.772Z"
   },
   {
    "duration": 28,
    "start_time": "2021-10-25T20:21:26.929Z"
   },
   {
    "duration": 156,
    "start_time": "2021-10-25T20:21:26.960Z"
   },
   {
    "duration": 877,
    "start_time": "2021-10-25T20:21:27.118Z"
   },
   {
    "duration": 3913,
    "start_time": "2021-10-25T20:21:27.999Z"
   },
   {
    "duration": 18,
    "start_time": "2021-10-25T20:21:31.915Z"
   },
   {
    "duration": 23123,
    "start_time": "2021-10-25T20:21:31.936Z"
   },
   {
    "duration": 32,
    "start_time": "2021-10-25T20:21:55.062Z"
   },
   {
    "duration": 101,
    "start_time": "2021-10-25T20:21:55.096Z"
   },
   {
    "duration": 8,
    "start_time": "2021-10-25T20:21:55.200Z"
   },
   {
    "duration": 7,
    "start_time": "2021-10-25T20:21:55.211Z"
   },
   {
    "duration": 25,
    "start_time": "2021-10-25T20:21:55.220Z"
   },
   {
    "duration": 9,
    "start_time": "2021-10-25T20:21:55.247Z"
   },
   {
    "duration": 13,
    "start_time": "2021-10-25T20:21:55.283Z"
   },
   {
    "duration": 30,
    "start_time": "2021-10-25T20:21:55.298Z"
   },
   {
    "duration": 8,
    "start_time": "2021-10-25T20:21:55.331Z"
   },
   {
    "duration": 3,
    "start_time": "2021-10-25T20:21:55.342Z"
   },
   {
    "duration": 13,
    "start_time": "2021-10-25T20:21:55.382Z"
   },
   {
    "duration": 27,
    "start_time": "2021-10-25T20:21:55.397Z"
   },
   {
    "duration": 13,
    "start_time": "2021-10-25T20:21:55.426Z"
   },
   {
    "duration": 9,
    "start_time": "2021-10-25T20:21:55.441Z"
   },
   {
    "duration": 9,
    "start_time": "2021-10-25T20:21:55.486Z"
   },
   {
    "duration": 4,
    "start_time": "2021-10-25T20:21:55.498Z"
   },
   {
    "duration": 22,
    "start_time": "2021-10-25T20:21:55.504Z"
   },
   {
    "duration": 6,
    "start_time": "2021-10-25T20:21:55.529Z"
   },
   {
    "duration": 17,
    "start_time": "2021-10-25T20:21:55.537Z"
   },
   {
    "duration": 3,
    "start_time": "2021-10-25T20:21:55.583Z"
   },
   {
    "duration": 22,
    "start_time": "2021-10-25T20:21:55.588Z"
   },
   {
    "duration": 7,
    "start_time": "2021-10-25T20:21:55.613Z"
   },
   {
    "duration": 14,
    "start_time": "2021-10-25T20:21:55.623Z"
   },
   {
    "duration": 4,
    "start_time": "2021-10-25T20:21:55.640Z"
   },
   {
    "duration": 41,
    "start_time": "2021-10-25T20:21:55.646Z"
   },
   {
    "duration": 6,
    "start_time": "2021-10-25T20:21:55.689Z"
   },
   {
    "duration": 12,
    "start_time": "2021-10-25T20:21:55.697Z"
   },
   {
    "duration": 3,
    "start_time": "2021-10-25T20:21:55.711Z"
   },
   {
    "duration": 19,
    "start_time": "2021-10-25T20:21:55.716Z"
   },
   {
    "duration": 56,
    "start_time": "2021-10-25T20:21:55.738Z"
   },
   {
    "duration": 9,
    "start_time": "2021-10-25T20:21:55.797Z"
   },
   {
    "duration": 30,
    "start_time": "2021-10-25T20:21:55.808Z"
   },
   {
    "duration": 3,
    "start_time": "2021-10-25T20:21:55.841Z"
   },
   {
    "duration": 38,
    "start_time": "2021-10-25T20:21:55.846Z"
   },
   {
    "duration": 3,
    "start_time": "2021-10-25T20:21:55.886Z"
   },
   {
    "duration": 415,
    "start_time": "2021-10-25T20:21:55.892Z"
   },
   {
    "duration": -261,
    "start_time": "2021-10-25T20:21:56.571Z"
   },
   {
    "duration": 290,
    "start_time": "2021-10-25T20:22:13.198Z"
   },
   {
    "duration": 353,
    "start_time": "2021-10-25T20:22:49.739Z"
   },
   {
    "duration": 24,
    "start_time": "2021-10-25T20:22:55.124Z"
   },
   {
    "duration": 367,
    "start_time": "2021-10-25T20:28:28.727Z"
   },
   {
    "duration": 337,
    "start_time": "2021-10-25T20:28:43.588Z"
   },
   {
    "duration": 30,
    "start_time": "2021-10-25T20:28:46.932Z"
   },
   {
    "duration": 40,
    "start_time": "2021-10-25T20:29:42.634Z"
   },
   {
    "duration": 549,
    "start_time": "2021-10-26T17:15:56.683Z"
   },
   {
    "duration": 824,
    "start_time": "2021-10-26T17:16:08.125Z"
   },
   {
    "duration": 111,
    "start_time": "2021-10-26T17:16:08.951Z"
   },
   {
    "duration": 38,
    "start_time": "2021-10-26T17:16:09.064Z"
   },
   {
    "duration": 106,
    "start_time": "2021-10-26T17:16:09.104Z"
   },
   {
    "duration": 1213,
    "start_time": "2021-10-26T17:16:09.212Z"
   },
   {
    "duration": 2397,
    "start_time": "2021-10-26T17:16:10.427Z"
   },
   {
    "duration": 12,
    "start_time": "2021-10-26T17:16:12.826Z"
   },
   {
    "duration": 15076,
    "start_time": "2021-10-26T17:16:12.840Z"
   },
   {
    "duration": 13,
    "start_time": "2021-10-26T17:16:27.919Z"
   },
   {
    "duration": 93,
    "start_time": "2021-10-26T17:16:27.934Z"
   },
   {
    "duration": 8,
    "start_time": "2021-10-26T17:16:28.030Z"
   },
   {
    "duration": 4,
    "start_time": "2021-10-26T17:16:28.040Z"
   },
   {
    "duration": 39,
    "start_time": "2021-10-26T17:16:28.046Z"
   },
   {
    "duration": 9,
    "start_time": "2021-10-26T17:16:28.087Z"
   },
   {
    "duration": 10,
    "start_time": "2021-10-26T17:16:28.098Z"
   },
   {
    "duration": 17,
    "start_time": "2021-10-26T17:16:28.110Z"
   },
   {
    "duration": 8,
    "start_time": "2021-10-26T17:16:28.130Z"
   },
   {
    "duration": 3,
    "start_time": "2021-10-26T17:16:28.140Z"
   },
   {
    "duration": 14,
    "start_time": "2021-10-26T17:16:28.179Z"
   },
   {
    "duration": 21,
    "start_time": "2021-10-26T17:16:28.195Z"
   },
   {
    "duration": 11,
    "start_time": "2021-10-26T17:16:28.218Z"
   },
   {
    "duration": 5,
    "start_time": "2021-10-26T17:16:28.231Z"
   },
   {
    "duration": 44,
    "start_time": "2021-10-26T17:16:28.240Z"
   },
   {
    "duration": 3,
    "start_time": "2021-10-26T17:16:28.287Z"
   },
   {
    "duration": 16,
    "start_time": "2021-10-26T17:16:28.292Z"
   },
   {
    "duration": 3,
    "start_time": "2021-10-26T17:16:28.310Z"
   },
   {
    "duration": 12,
    "start_time": "2021-10-26T17:16:28.314Z"
   },
   {
    "duration": 2,
    "start_time": "2021-10-26T17:16:28.328Z"
   },
   {
    "duration": 11,
    "start_time": "2021-10-26T17:16:28.332Z"
   },
   {
    "duration": 37,
    "start_time": "2021-10-26T17:16:28.345Z"
   },
   {
    "duration": 15,
    "start_time": "2021-10-26T17:16:28.388Z"
   },
   {
    "duration": 5,
    "start_time": "2021-10-26T17:16:28.405Z"
   },
   {
    "duration": 12,
    "start_time": "2021-10-26T17:16:28.412Z"
   },
   {
    "duration": 6,
    "start_time": "2021-10-26T17:16:28.425Z"
   },
   {
    "duration": 9,
    "start_time": "2021-10-26T17:16:28.433Z"
   },
   {
    "duration": 2,
    "start_time": "2021-10-26T17:16:28.444Z"
   },
   {
    "duration": 42,
    "start_time": "2021-10-26T17:16:28.448Z"
   },
   {
    "duration": 22,
    "start_time": "2021-10-26T17:16:28.493Z"
   },
   {
    "duration": 8,
    "start_time": "2021-10-26T17:16:28.517Z"
   },
   {
    "duration": 29,
    "start_time": "2021-10-26T17:16:28.527Z"
   },
   {
    "duration": 5,
    "start_time": "2021-10-26T17:16:28.576Z"
   },
   {
    "duration": 16,
    "start_time": "2021-10-26T17:16:28.583Z"
   },
   {
    "duration": 5,
    "start_time": "2021-10-26T17:16:28.601Z"
   },
   {
    "duration": 24,
    "start_time": "2021-10-26T17:16:28.608Z"
   },
   {
    "duration": 52,
    "start_time": "2021-10-26T17:16:28.634Z"
   },
   {
    "duration": 35,
    "start_time": "2021-10-26T17:16:28.688Z"
   },
   {
    "duration": 3,
    "start_time": "2021-10-26T17:16:28.724Z"
   },
   {
    "duration": 747,
    "start_time": "2021-10-26T17:16:28.729Z"
   },
   {
    "duration": -359,
    "start_time": "2021-10-26T17:16:29.837Z"
   },
   {
    "duration": -360,
    "start_time": "2021-10-26T17:16:29.840Z"
   },
   {
    "duration": -361,
    "start_time": "2021-10-26T17:16:29.843Z"
   },
   {
    "duration": -362,
    "start_time": "2021-10-26T17:16:29.845Z"
   },
   {
    "duration": 11,
    "start_time": "2021-10-26T17:17:51.329Z"
   },
   {
    "duration": 11,
    "start_time": "2021-10-26T17:18:34.988Z"
   },
   {
    "duration": 12,
    "start_time": "2021-10-26T17:19:07.537Z"
   },
   {
    "duration": 31,
    "start_time": "2021-10-26T17:19:13.666Z"
   },
   {
    "duration": 10,
    "start_time": "2021-10-26T17:19:48.319Z"
   },
   {
    "duration": 379,
    "start_time": "2021-10-26T17:20:27.890Z"
   },
   {
    "duration": 14,
    "start_time": "2021-10-26T17:20:57.041Z"
   },
   {
    "duration": 14,
    "start_time": "2021-10-26T17:22:13.102Z"
   },
   {
    "duration": 3188,
    "start_time": "2021-10-26T17:23:05.236Z"
   },
   {
    "duration": 353,
    "start_time": "2021-10-26T17:24:03.378Z"
   },
   {
    "duration": 369,
    "start_time": "2021-10-26T17:24:06.810Z"
   },
   {
    "duration": 3126,
    "start_time": "2021-10-26T17:24:44.518Z"
   },
   {
    "duration": 10,
    "start_time": "2021-10-26T17:25:55.609Z"
   },
   {
    "duration": 401,
    "start_time": "2021-10-26T17:26:08.828Z"
   },
   {
    "duration": 766,
    "start_time": "2021-10-26T17:26:45.475Z"
   },
   {
    "duration": 111,
    "start_time": "2021-10-26T17:26:46.243Z"
   },
   {
    "duration": 39,
    "start_time": "2021-10-26T17:26:46.356Z"
   },
   {
    "duration": 99,
    "start_time": "2021-10-26T17:26:46.397Z"
   },
   {
    "duration": 848,
    "start_time": "2021-10-26T17:26:46.497Z"
   },
   {
    "duration": 2438,
    "start_time": "2021-10-26T17:26:47.347Z"
   },
   {
    "duration": 12,
    "start_time": "2021-10-26T17:26:49.787Z"
   },
   {
    "duration": 13998,
    "start_time": "2021-10-26T17:26:49.802Z"
   },
   {
    "duration": 11,
    "start_time": "2021-10-26T17:27:03.802Z"
   },
   {
    "duration": 70,
    "start_time": "2021-10-26T17:27:03.814Z"
   },
   {
    "duration": 10,
    "start_time": "2021-10-26T17:27:03.886Z"
   },
   {
    "duration": 6,
    "start_time": "2021-10-26T17:27:03.898Z"
   },
   {
    "duration": 22,
    "start_time": "2021-10-26T17:27:03.906Z"
   },
   {
    "duration": 7,
    "start_time": "2021-10-26T17:27:03.930Z"
   },
   {
    "duration": 9,
    "start_time": "2021-10-26T17:27:03.938Z"
   },
   {
    "duration": 42,
    "start_time": "2021-10-26T17:27:03.949Z"
   },
   {
    "duration": 7,
    "start_time": "2021-10-26T17:27:03.994Z"
   },
   {
    "duration": 2,
    "start_time": "2021-10-26T17:27:04.003Z"
   },
   {
    "duration": 13,
    "start_time": "2021-10-26T17:27:04.006Z"
   },
   {
    "duration": 18,
    "start_time": "2021-10-26T17:27:04.020Z"
   },
   {
    "duration": 46,
    "start_time": "2021-10-26T17:27:04.040Z"
   },
   {
    "duration": 3,
    "start_time": "2021-10-26T17:27:04.088Z"
   },
   {
    "duration": 6,
    "start_time": "2021-10-26T17:27:04.095Z"
   },
   {
    "duration": 2,
    "start_time": "2021-10-26T17:27:04.104Z"
   },
   {
    "duration": 10,
    "start_time": "2021-10-26T17:27:04.108Z"
   },
   {
    "duration": 12,
    "start_time": "2021-10-26T17:27:04.120Z"
   },
   {
    "duration": 13,
    "start_time": "2021-10-26T17:27:04.134Z"
   },
   {
    "duration": 4,
    "start_time": "2021-10-26T17:27:04.149Z"
   },
   {
    "duration": 11,
    "start_time": "2021-10-26T17:27:04.182Z"
   },
   {
    "duration": 3,
    "start_time": "2021-10-26T17:27:04.195Z"
   },
   {
    "duration": 14,
    "start_time": "2021-10-26T17:27:04.199Z"
   },
   {
    "duration": 6,
    "start_time": "2021-10-26T17:27:04.215Z"
   },
   {
    "duration": 12,
    "start_time": "2021-10-26T17:27:04.222Z"
   },
   {
    "duration": 3,
    "start_time": "2021-10-26T17:27:04.237Z"
   },
   {
    "duration": 44,
    "start_time": "2021-10-26T17:27:04.242Z"
   },
   {
    "duration": 2,
    "start_time": "2021-10-26T17:27:04.288Z"
   },
   {
    "duration": 12,
    "start_time": "2021-10-26T17:27:04.292Z"
   },
   {
    "duration": 23,
    "start_time": "2021-10-26T17:27:04.306Z"
   },
   {
    "duration": 8,
    "start_time": "2021-10-26T17:27:04.331Z"
   },
   {
    "duration": 24,
    "start_time": "2021-10-26T17:27:04.341Z"
   },
   {
    "duration": 3,
    "start_time": "2021-10-26T17:27:04.377Z"
   },
   {
    "duration": 17,
    "start_time": "2021-10-26T17:27:04.382Z"
   },
   {
    "duration": 3,
    "start_time": "2021-10-26T17:27:04.401Z"
   },
   {
    "duration": 26,
    "start_time": "2021-10-26T17:27:04.405Z"
   },
   {
    "duration": 24,
    "start_time": "2021-10-26T17:27:04.433Z"
   },
   {
    "duration": 50,
    "start_time": "2021-10-26T17:27:04.458Z"
   },
   {
    "duration": 3,
    "start_time": "2021-10-26T17:27:04.510Z"
   },
   {
    "duration": 15,
    "start_time": "2021-10-26T17:27:04.514Z"
   },
   {
    "duration": 12,
    "start_time": "2021-10-26T17:27:04.531Z"
   },
   {
    "duration": 58,
    "start_time": "2021-10-26T17:27:04.545Z"
   },
   {
    "duration": 11,
    "start_time": "2021-10-26T17:27:04.605Z"
   },
   {
    "duration": 7,
    "start_time": "2021-10-26T17:27:04.618Z"
   },
   {
    "duration": 11,
    "start_time": "2021-10-26T17:27:04.627Z"
   },
   {
    "duration": 9005,
    "start_time": "2021-10-26T17:59:01.593Z"
   },
   {
    "duration": 8,
    "start_time": "2021-10-26T17:59:22.467Z"
   },
   {
    "duration": 10936,
    "start_time": "2021-10-26T17:59:24.557Z"
   },
   {
    "duration": 10,
    "start_time": "2021-10-26T17:59:38.322Z"
   },
   {
    "duration": 11,
    "start_time": "2021-10-26T17:59:41.428Z"
   },
   {
    "duration": 3,
    "start_time": "2021-10-26T18:02:01.907Z"
   },
   {
    "duration": 10,
    "start_time": "2021-10-26T18:02:07.434Z"
   },
   {
    "duration": 9,
    "start_time": "2021-10-26T18:02:20.542Z"
   },
   {
    "duration": 9,
    "start_time": "2021-10-26T18:02:25.745Z"
   },
   {
    "duration": 22,
    "start_time": "2021-10-26T18:05:51.239Z"
   },
   {
    "duration": 372,
    "start_time": "2021-10-26T18:05:54.593Z"
   },
   {
    "duration": 353,
    "start_time": "2021-10-26T18:06:05.821Z"
   },
   {
    "duration": 368,
    "start_time": "2021-10-26T18:06:35.334Z"
   },
   {
    "duration": 721,
    "start_time": "2021-10-26T18:06:51.900Z"
   },
   {
    "duration": 109,
    "start_time": "2021-10-26T18:06:52.623Z"
   },
   {
    "duration": 20,
    "start_time": "2021-10-26T18:06:52.734Z"
   },
   {
    "duration": 107,
    "start_time": "2021-10-26T18:06:52.756Z"
   },
   {
    "duration": 578,
    "start_time": "2021-10-26T18:06:52.865Z"
   },
   {
    "duration": 2370,
    "start_time": "2021-10-26T18:06:53.445Z"
   },
   {
    "duration": 11,
    "start_time": "2021-10-26T18:06:55.817Z"
   },
   {
    "duration": 14122,
    "start_time": "2021-10-26T18:06:55.830Z"
   },
   {
    "duration": 25,
    "start_time": "2021-10-26T18:07:09.955Z"
   },
   {
    "duration": 56,
    "start_time": "2021-10-26T18:07:09.983Z"
   },
   {
    "duration": 5,
    "start_time": "2021-10-26T18:07:10.041Z"
   },
   {
    "duration": 5,
    "start_time": "2021-10-26T18:07:10.048Z"
   },
   {
    "duration": 42,
    "start_time": "2021-10-26T18:07:10.055Z"
   },
   {
    "duration": 8,
    "start_time": "2021-10-26T18:07:10.099Z"
   },
   {
    "duration": 8,
    "start_time": "2021-10-26T18:07:10.109Z"
   },
   {
    "duration": 17,
    "start_time": "2021-10-26T18:07:10.119Z"
   },
   {
    "duration": 37,
    "start_time": "2021-10-26T18:07:10.139Z"
   },
   {
    "duration": 5,
    "start_time": "2021-10-26T18:07:10.178Z"
   },
   {
    "duration": 13,
    "start_time": "2021-10-26T18:07:10.185Z"
   },
   {
    "duration": 18,
    "start_time": "2021-10-26T18:07:10.200Z"
   },
   {
    "duration": 13,
    "start_time": "2021-10-26T18:07:10.219Z"
   },
   {
    "duration": 3,
    "start_time": "2021-10-26T18:07:10.234Z"
   },
   {
    "duration": 9,
    "start_time": "2021-10-26T18:07:10.239Z"
   },
   {
    "duration": 30,
    "start_time": "2021-10-26T18:07:10.249Z"
   },
   {
    "duration": 13,
    "start_time": "2021-10-26T18:07:10.282Z"
   },
   {
    "duration": 3,
    "start_time": "2021-10-26T18:07:10.297Z"
   },
   {
    "duration": 10,
    "start_time": "2021-10-26T18:07:10.303Z"
   },
   {
    "duration": 2,
    "start_time": "2021-10-26T18:07:10.315Z"
   },
   {
    "duration": 11,
    "start_time": "2021-10-26T18:07:10.319Z"
   },
   {
    "duration": 4,
    "start_time": "2021-10-26T18:07:10.331Z"
   },
   {
    "duration": 40,
    "start_time": "2021-10-26T18:07:10.337Z"
   },
   {
    "duration": 3,
    "start_time": "2021-10-26T18:07:10.378Z"
   },
   {
    "duration": 13,
    "start_time": "2021-10-26T18:07:10.383Z"
   },
   {
    "duration": 5,
    "start_time": "2021-10-26T18:07:10.398Z"
   },
   {
    "duration": 8,
    "start_time": "2021-10-26T18:07:10.405Z"
   },
   {
    "duration": 2,
    "start_time": "2021-10-26T18:07:10.414Z"
   },
   {
    "duration": 11,
    "start_time": "2021-10-26T18:07:10.418Z"
   },
   {
    "duration": 54,
    "start_time": "2021-10-26T18:07:10.431Z"
   },
   {
    "duration": 9,
    "start_time": "2021-10-26T18:07:10.487Z"
   },
   {
    "duration": 30,
    "start_time": "2021-10-26T18:07:10.497Z"
   },
   {
    "duration": 2,
    "start_time": "2021-10-26T18:07:10.529Z"
   },
   {
    "duration": 8,
    "start_time": "2021-10-26T18:07:10.533Z"
   },
   {
    "duration": 2,
    "start_time": "2021-10-26T18:07:10.543Z"
   },
   {
    "duration": 41,
    "start_time": "2021-10-26T18:07:10.547Z"
   },
   {
    "duration": 23,
    "start_time": "2021-10-26T18:07:10.590Z"
   },
   {
    "duration": 28,
    "start_time": "2021-10-26T18:07:10.614Z"
   },
   {
    "duration": 2,
    "start_time": "2021-10-26T18:07:10.644Z"
   },
   {
    "duration": 35,
    "start_time": "2021-10-26T18:07:10.648Z"
   },
   {
    "duration": 13,
    "start_time": "2021-10-26T18:07:10.685Z"
   },
   {
    "duration": 27,
    "start_time": "2021-10-26T18:07:10.700Z"
   },
   {
    "duration": 9,
    "start_time": "2021-10-26T18:07:10.729Z"
   },
   {
    "duration": 43,
    "start_time": "2021-10-26T18:07:10.740Z"
   },
   {
    "duration": 11,
    "start_time": "2021-10-26T18:07:10.785Z"
   },
   {
    "duration": 14,
    "start_time": "2021-10-26T18:07:10.797Z"
   },
   {
    "duration": 20,
    "start_time": "2021-10-26T18:07:54.780Z"
   },
   {
    "duration": 4,
    "start_time": "2021-10-27T15:06:05.650Z"
   },
   {
    "duration": 439,
    "start_time": "2021-10-27T15:12:08.859Z"
   },
   {
    "duration": 867,
    "start_time": "2021-10-27T15:22:09.507Z"
   },
   {
    "duration": 209,
    "start_time": "2021-10-27T15:22:10.377Z"
   },
   {
    "duration": 41,
    "start_time": "2021-10-27T15:22:10.590Z"
   },
   {
    "duration": 222,
    "start_time": "2021-10-27T15:22:10.635Z"
   },
   {
    "duration": 891,
    "start_time": "2021-10-27T15:22:10.860Z"
   },
   {
    "duration": 3854,
    "start_time": "2021-10-27T15:22:11.753Z"
   },
   {
    "duration": 15,
    "start_time": "2021-10-27T15:22:15.610Z"
   },
   {
    "duration": 23356,
    "start_time": "2021-10-27T15:22:15.629Z"
   },
   {
    "duration": 18,
    "start_time": "2021-10-27T15:22:38.988Z"
   },
   {
    "duration": 111,
    "start_time": "2021-10-27T15:22:39.008Z"
   },
   {
    "duration": 8,
    "start_time": "2021-10-27T15:22:39.121Z"
   },
   {
    "duration": 11,
    "start_time": "2021-10-27T15:22:39.132Z"
   },
   {
    "duration": 28,
    "start_time": "2021-10-27T15:22:39.146Z"
   },
   {
    "duration": 22,
    "start_time": "2021-10-27T15:22:39.176Z"
   },
   {
    "duration": 12,
    "start_time": "2021-10-27T15:22:39.200Z"
   },
   {
    "duration": 49,
    "start_time": "2021-10-27T15:22:39.215Z"
   },
   {
    "duration": 9,
    "start_time": "2021-10-27T15:22:39.266Z"
   },
   {
    "duration": 3,
    "start_time": "2021-10-27T15:22:39.277Z"
   },
   {
    "duration": 14,
    "start_time": "2021-10-27T15:22:39.283Z"
   },
   {
    "duration": 59,
    "start_time": "2021-10-27T15:22:39.299Z"
   },
   {
    "duration": 12,
    "start_time": "2021-10-27T15:22:39.360Z"
   },
   {
    "duration": 4,
    "start_time": "2021-10-27T15:22:39.375Z"
   },
   {
    "duration": 9,
    "start_time": "2021-10-27T15:22:39.385Z"
   },
   {
    "duration": 4,
    "start_time": "2021-10-27T15:22:39.398Z"
   },
   {
    "duration": 53,
    "start_time": "2021-10-27T15:22:39.404Z"
   },
   {
    "duration": 3,
    "start_time": "2021-10-27T15:22:39.459Z"
   },
   {
    "duration": 17,
    "start_time": "2021-10-27T15:22:39.465Z"
   },
   {
    "duration": 3,
    "start_time": "2021-10-27T15:22:39.484Z"
   },
   {
    "duration": 15,
    "start_time": "2021-10-27T15:22:39.490Z"
   },
   {
    "duration": 5,
    "start_time": "2021-10-27T15:22:39.507Z"
   },
   {
    "duration": 50,
    "start_time": "2021-10-27T15:22:39.514Z"
   },
   {
    "duration": 4,
    "start_time": "2021-10-27T15:22:39.567Z"
   },
   {
    "duration": 17,
    "start_time": "2021-10-27T15:22:39.573Z"
   },
   {
    "duration": 5,
    "start_time": "2021-10-27T15:22:39.593Z"
   },
   {
    "duration": 15,
    "start_time": "2021-10-27T15:22:39.600Z"
   },
   {
    "duration": 3,
    "start_time": "2021-10-27T15:22:39.617Z"
   },
   {
    "duration": 54,
    "start_time": "2021-10-27T15:22:39.622Z"
   },
   {
    "duration": 34,
    "start_time": "2021-10-27T15:22:39.679Z"
   },
   {
    "duration": 13,
    "start_time": "2021-10-27T15:22:39.717Z"
   },
   {
    "duration": 43,
    "start_time": "2021-10-27T15:22:39.757Z"
   },
   {
    "duration": 3,
    "start_time": "2021-10-27T15:22:39.804Z"
   },
   {
    "duration": 10,
    "start_time": "2021-10-27T15:22:39.810Z"
   },
   {
    "duration": 3,
    "start_time": "2021-10-27T15:22:39.822Z"
   },
   {
    "duration": 22,
    "start_time": "2021-10-27T15:22:39.857Z"
   },
   {
    "duration": 28,
    "start_time": "2021-10-27T15:22:39.882Z"
   },
   {
    "duration": 70,
    "start_time": "2021-10-27T15:22:39.913Z"
   },
   {
    "duration": 3,
    "start_time": "2021-10-27T15:22:39.985Z"
   },
   {
    "duration": 19,
    "start_time": "2021-10-27T15:22:39.990Z"
   },
   {
    "duration": 3,
    "start_time": "2021-10-27T15:22:40.011Z"
   },
   {
    "duration": 52,
    "start_time": "2021-10-27T15:22:40.016Z"
   },
   {
    "duration": 3,
    "start_time": "2021-10-27T15:22:40.070Z"
   },
   {
    "duration": 39,
    "start_time": "2021-10-27T15:22:40.075Z"
   },
   {
    "duration": 4,
    "start_time": "2021-10-27T15:22:40.116Z"
   },
   {
    "duration": 36,
    "start_time": "2021-10-27T15:22:40.122Z"
   },
   {
    "duration": 3,
    "start_time": "2021-10-27T15:22:40.160Z"
   },
   {
    "duration": 16,
    "start_time": "2021-10-27T15:22:40.166Z"
   },
   {
    "duration": 13,
    "start_time": "2021-10-27T15:22:40.184Z"
   },
   {
    "duration": 2,
    "start_time": "2021-10-27T15:22:40.199Z"
   },
   {
    "duration": 63,
    "start_time": "2021-10-27T15:22:40.203Z"
   },
   {
    "duration": 3,
    "start_time": "2021-10-27T15:22:40.268Z"
   },
   {
    "duration": 6,
    "start_time": "2021-10-27T15:22:40.273Z"
   },
   {
    "duration": 129,
    "start_time": "2021-10-27T15:22:40.282Z"
   },
   {
    "duration": 366,
    "start_time": "2021-10-27T15:31:07.701Z"
   },
   {
    "duration": 347,
    "start_time": "2021-10-27T15:32:04.618Z"
   },
   {
    "duration": 408,
    "start_time": "2021-10-27T15:32:15.611Z"
   },
   {
    "duration": 309,
    "start_time": "2021-10-27T15:32:22.252Z"
   },
   {
    "duration": 424,
    "start_time": "2021-10-27T15:32:37.151Z"
   },
   {
    "duration": 282,
    "start_time": "2021-10-27T15:33:10.396Z"
   },
   {
    "duration": 327,
    "start_time": "2021-10-27T15:33:22.416Z"
   },
   {
    "duration": 239,
    "start_time": "2021-10-27T15:33:30.925Z"
   },
   {
    "duration": 420,
    "start_time": "2021-10-27T15:33:40.217Z"
   },
   {
    "duration": 9,
    "start_time": "2021-10-27T15:34:13.179Z"
   },
   {
    "duration": 8,
    "start_time": "2021-10-27T15:34:24.253Z"
   },
   {
    "duration": 6,
    "start_time": "2021-10-27T15:34:32.082Z"
   },
   {
    "duration": 278,
    "start_time": "2021-10-27T15:35:07.717Z"
   },
   {
    "duration": 274,
    "start_time": "2021-10-27T15:35:15.127Z"
   },
   {
    "duration": 471,
    "start_time": "2021-10-27T15:35:24.600Z"
   },
   {
    "duration": 415,
    "start_time": "2021-10-27T15:35:32.831Z"
   },
   {
    "duration": 291,
    "start_time": "2021-10-27T15:35:41.047Z"
   },
   {
    "duration": 284,
    "start_time": "2021-10-27T15:35:47.706Z"
   },
   {
    "duration": 289,
    "start_time": "2021-10-27T15:37:27.852Z"
   },
   {
    "duration": 298,
    "start_time": "2021-10-27T15:39:32.122Z"
   },
   {
    "duration": 290,
    "start_time": "2021-10-27T15:39:43.777Z"
   },
   {
    "duration": 987,
    "start_time": "2021-10-27T15:39:53.631Z"
   },
   {
    "duration": 147,
    "start_time": "2021-10-27T15:39:54.621Z"
   },
   {
    "duration": 27,
    "start_time": "2021-10-27T15:39:54.773Z"
   },
   {
    "duration": 145,
    "start_time": "2021-10-27T15:39:54.803Z"
   },
   {
    "duration": 873,
    "start_time": "2021-10-27T15:39:54.958Z"
   },
   {
    "duration": 3942,
    "start_time": "2021-10-27T15:39:55.833Z"
   },
   {
    "duration": 16,
    "start_time": "2021-10-27T15:39:59.777Z"
   },
   {
    "duration": 22563,
    "start_time": "2021-10-27T15:39:59.796Z"
   },
   {
    "duration": 20,
    "start_time": "2021-10-27T15:40:22.363Z"
   },
   {
    "duration": 120,
    "start_time": "2021-10-27T15:40:22.386Z"
   },
   {
    "duration": 10,
    "start_time": "2021-10-27T15:40:22.509Z"
   },
   {
    "duration": 8,
    "start_time": "2021-10-27T15:40:22.522Z"
   },
   {
    "duration": 44,
    "start_time": "2021-10-27T15:40:22.532Z"
   },
   {
    "duration": 11,
    "start_time": "2021-10-27T15:40:22.579Z"
   },
   {
    "duration": 15,
    "start_time": "2021-10-27T15:40:22.593Z"
   },
   {
    "duration": 65,
    "start_time": "2021-10-27T15:40:22.611Z"
   },
   {
    "duration": 8,
    "start_time": "2021-10-27T15:40:22.679Z"
   },
   {
    "duration": 3,
    "start_time": "2021-10-27T15:40:22.690Z"
   },
   {
    "duration": 15,
    "start_time": "2021-10-27T15:40:22.695Z"
   },
   {
    "duration": 61,
    "start_time": "2021-10-27T15:40:22.712Z"
   },
   {
    "duration": 12,
    "start_time": "2021-10-27T15:40:22.776Z"
   },
   {
    "duration": 4,
    "start_time": "2021-10-27T15:40:22.790Z"
   },
   {
    "duration": 9,
    "start_time": "2021-10-27T15:40:22.800Z"
   },
   {
    "duration": 3,
    "start_time": "2021-10-27T15:40:22.812Z"
   },
   {
    "duration": 46,
    "start_time": "2021-10-27T15:40:22.817Z"
   },
   {
    "duration": 4,
    "start_time": "2021-10-27T15:40:22.866Z"
   },
   {
    "duration": 17,
    "start_time": "2021-10-27T15:40:22.872Z"
   },
   {
    "duration": 4,
    "start_time": "2021-10-27T15:40:22.892Z"
   },
   {
    "duration": 20,
    "start_time": "2021-10-27T15:40:22.899Z"
   },
   {
    "duration": 37,
    "start_time": "2021-10-27T15:40:22.922Z"
   },
   {
    "duration": 16,
    "start_time": "2021-10-27T15:40:22.961Z"
   },
   {
    "duration": 11,
    "start_time": "2021-10-27T15:40:22.980Z"
   },
   {
    "duration": 17,
    "start_time": "2021-10-27T15:40:22.993Z"
   },
   {
    "duration": 14,
    "start_time": "2021-10-27T15:40:23.013Z"
   },
   {
    "duration": 26,
    "start_time": "2021-10-27T15:40:23.029Z"
   },
   {
    "duration": 19,
    "start_time": "2021-10-27T15:40:23.057Z"
   },
   {
    "duration": 24,
    "start_time": "2021-10-27T15:40:23.078Z"
   },
   {
    "duration": 39,
    "start_time": "2021-10-27T15:40:23.104Z"
   },
   {
    "duration": 10,
    "start_time": "2021-10-27T15:40:23.145Z"
   },
   {
    "duration": 38,
    "start_time": "2021-10-27T15:40:23.158Z"
   },
   {
    "duration": 3,
    "start_time": "2021-10-27T15:40:23.199Z"
   },
   {
    "duration": 23,
    "start_time": "2021-10-27T15:40:23.204Z"
   },
   {
    "duration": 3,
    "start_time": "2021-10-27T15:40:23.229Z"
   },
   {
    "duration": 43,
    "start_time": "2021-10-27T15:40:23.235Z"
   },
   {
    "duration": 28,
    "start_time": "2021-10-27T15:40:23.280Z"
   },
   {
    "duration": 66,
    "start_time": "2021-10-27T15:40:23.310Z"
   },
   {
    "duration": 4,
    "start_time": "2021-10-27T15:40:23.378Z"
   },
   {
    "duration": 19,
    "start_time": "2021-10-27T15:40:23.384Z"
   },
   {
    "duration": 3,
    "start_time": "2021-10-27T15:40:23.406Z"
   },
   {
    "duration": 46,
    "start_time": "2021-10-27T15:40:23.411Z"
   },
   {
    "duration": 3,
    "start_time": "2021-10-27T15:40:23.461Z"
   },
   {
    "duration": 39,
    "start_time": "2021-10-27T15:40:23.467Z"
   },
   {
    "duration": 2,
    "start_time": "2021-10-27T15:40:23.509Z"
   },
   {
    "duration": 47,
    "start_time": "2021-10-27T15:40:23.514Z"
   },
   {
    "duration": 4,
    "start_time": "2021-10-27T15:40:23.563Z"
   },
   {
    "duration": 18,
    "start_time": "2021-10-27T15:40:23.570Z"
   },
   {
    "duration": 15,
    "start_time": "2021-10-27T15:40:23.590Z"
   },
   {
    "duration": 4,
    "start_time": "2021-10-27T15:40:23.607Z"
   },
   {
    "duration": 69,
    "start_time": "2021-10-27T15:40:23.613Z"
   },
   {
    "duration": 3,
    "start_time": "2021-10-27T15:40:23.686Z"
   },
   {
    "duration": 5,
    "start_time": "2021-10-27T15:40:23.693Z"
   },
   {
    "duration": 338,
    "start_time": "2021-10-27T15:40:23.701Z"
   },
   {
    "duration": 7,
    "start_time": "2021-10-27T15:43:52.354Z"
   },
   {
    "duration": 1069,
    "start_time": "2021-10-27T15:48:11.932Z"
   },
   {
    "duration": 128,
    "start_time": "2021-10-27T15:48:20.172Z"
   },
   {
    "duration": 136,
    "start_time": "2021-10-27T15:48:24.834Z"
   },
   {
    "duration": 285,
    "start_time": "2021-10-27T15:48:32.104Z"
   },
   {
    "duration": 290,
    "start_time": "2021-10-27T15:48:47.472Z"
   },
   {
    "duration": 296,
    "start_time": "2021-10-27T15:48:56.861Z"
   },
   {
    "duration": 338,
    "start_time": "2021-10-27T15:49:15.881Z"
   },
   {
    "duration": 522,
    "start_time": "2021-10-27T15:49:42.661Z"
   },
   {
    "duration": 277,
    "start_time": "2021-10-27T15:49:52.987Z"
   },
   {
    "duration": 3172,
    "start_time": "2021-10-27T15:50:30.182Z"
   },
   {
    "duration": 543,
    "start_time": "2021-10-27T15:50:45.552Z"
   },
   {
    "duration": 427,
    "start_time": "2021-10-27T15:50:51.341Z"
   },
   {
    "duration": 12,
    "start_time": "2021-10-27T15:52:52.909Z"
   },
   {
    "duration": 413,
    "start_time": "2021-10-27T16:03:14.105Z"
   },
   {
    "duration": 12,
    "start_time": "2021-10-27T16:05:26.439Z"
   },
   {
    "duration": 932,
    "start_time": "2021-10-27T16:06:33.840Z"
   },
   {
    "duration": 140,
    "start_time": "2021-10-27T16:06:34.775Z"
   },
   {
    "duration": 26,
    "start_time": "2021-10-27T16:06:34.918Z"
   },
   {
    "duration": 128,
    "start_time": "2021-10-27T16:06:34.958Z"
   },
   {
    "duration": 748,
    "start_time": "2021-10-27T16:06:35.089Z"
   },
   {
    "duration": 4045,
    "start_time": "2021-10-27T16:06:35.839Z"
   },
   {
    "duration": 16,
    "start_time": "2021-10-27T16:06:39.887Z"
   },
   {
    "duration": 23285,
    "start_time": "2021-10-27T16:06:39.907Z"
   },
   {
    "duration": 18,
    "start_time": "2021-10-27T16:07:03.195Z"
   },
   {
    "duration": 107,
    "start_time": "2021-10-27T16:07:03.216Z"
   },
   {
    "duration": 8,
    "start_time": "2021-10-27T16:07:03.326Z"
   },
   {
    "duration": 15,
    "start_time": "2021-10-27T16:07:03.336Z"
   },
   {
    "duration": 41,
    "start_time": "2021-10-27T16:07:03.354Z"
   },
   {
    "duration": 9,
    "start_time": "2021-10-27T16:07:03.398Z"
   },
   {
    "duration": 20,
    "start_time": "2021-10-27T16:07:03.410Z"
   },
   {
    "duration": 39,
    "start_time": "2021-10-27T16:07:03.432Z"
   },
   {
    "duration": 8,
    "start_time": "2021-10-27T16:07:03.473Z"
   },
   {
    "duration": 17,
    "start_time": "2021-10-27T16:07:03.483Z"
   },
   {
    "duration": 23,
    "start_time": "2021-10-27T16:07:03.502Z"
   },
   {
    "duration": 34,
    "start_time": "2021-10-27T16:07:03.527Z"
   },
   {
    "duration": 19,
    "start_time": "2021-10-27T16:07:03.563Z"
   },
   {
    "duration": 21,
    "start_time": "2021-10-27T16:07:03.585Z"
   },
   {
    "duration": 18,
    "start_time": "2021-10-27T16:07:03.613Z"
   },
   {
    "duration": 10,
    "start_time": "2021-10-27T16:07:03.637Z"
   },
   {
    "duration": 26,
    "start_time": "2021-10-27T16:07:03.650Z"
   },
   {
    "duration": 12,
    "start_time": "2021-10-27T16:07:03.679Z"
   },
   {
    "duration": 29,
    "start_time": "2021-10-27T16:07:03.694Z"
   },
   {
    "duration": 3,
    "start_time": "2021-10-27T16:07:03.726Z"
   },
   {
    "duration": 21,
    "start_time": "2021-10-27T16:07:03.731Z"
   },
   {
    "duration": 22,
    "start_time": "2021-10-27T16:07:03.754Z"
   },
   {
    "duration": 23,
    "start_time": "2021-10-27T16:07:03.778Z"
   },
   {
    "duration": 9,
    "start_time": "2021-10-27T16:07:03.804Z"
   },
   {
    "duration": 35,
    "start_time": "2021-10-27T16:07:03.815Z"
   },
   {
    "duration": 27,
    "start_time": "2021-10-27T16:07:03.852Z"
   },
   {
    "duration": 16,
    "start_time": "2021-10-27T16:07:03.882Z"
   },
   {
    "duration": 10,
    "start_time": "2021-10-27T16:07:03.901Z"
   },
   {
    "duration": 37,
    "start_time": "2021-10-27T16:07:03.914Z"
   },
   {
    "duration": 25,
    "start_time": "2021-10-27T16:07:03.953Z"
   },
   {
    "duration": 9,
    "start_time": "2021-10-27T16:07:03.981Z"
   },
   {
    "duration": 48,
    "start_time": "2021-10-27T16:07:03.992Z"
   },
   {
    "duration": 3,
    "start_time": "2021-10-27T16:07:04.042Z"
   },
   {
    "duration": 30,
    "start_time": "2021-10-27T16:07:04.047Z"
   },
   {
    "duration": 4,
    "start_time": "2021-10-27T16:07:04.079Z"
   },
   {
    "duration": 38,
    "start_time": "2021-10-27T16:07:04.086Z"
   },
   {
    "duration": 31,
    "start_time": "2021-10-27T16:07:04.126Z"
   },
   {
    "duration": 38,
    "start_time": "2021-10-27T16:07:04.160Z"
   },
   {
    "duration": 3,
    "start_time": "2021-10-27T16:07:04.200Z"
   },
   {
    "duration": 42,
    "start_time": "2021-10-27T16:07:04.205Z"
   },
   {
    "duration": 6,
    "start_time": "2021-10-27T16:07:04.249Z"
   },
   {
    "duration": 40,
    "start_time": "2021-10-27T16:07:04.258Z"
   },
   {
    "duration": 7,
    "start_time": "2021-10-27T16:07:04.301Z"
   },
   {
    "duration": 52,
    "start_time": "2021-10-27T16:07:04.310Z"
   },
   {
    "duration": 19,
    "start_time": "2021-10-27T16:07:04.365Z"
   },
   {
    "duration": 28,
    "start_time": "2021-10-27T16:07:04.387Z"
   },
   {
    "duration": 12,
    "start_time": "2021-10-27T16:07:04.418Z"
   },
   {
    "duration": 28,
    "start_time": "2021-10-27T16:07:04.432Z"
   },
   {
    "duration": 13,
    "start_time": "2021-10-27T16:07:04.463Z"
   },
   {
    "duration": 7,
    "start_time": "2021-10-27T16:07:04.479Z"
   },
   {
    "duration": 37,
    "start_time": "2021-10-27T16:07:04.489Z"
   },
   {
    "duration": 29,
    "start_time": "2021-10-27T16:07:04.529Z"
   },
   {
    "duration": 3,
    "start_time": "2021-10-27T16:07:04.560Z"
   },
   {
    "duration": 22,
    "start_time": "2021-10-27T16:07:04.566Z"
   },
   {
    "duration": 548,
    "start_time": "2021-10-27T16:07:04.590Z"
   },
   {
    "duration": 3,
    "start_time": "2021-10-27T16:07:05.141Z"
   },
   {
    "duration": 11,
    "start_time": "2021-10-27T16:07:05.157Z"
   },
   {
    "duration": 433,
    "start_time": "2021-10-27T16:07:05.170Z"
   },
   {
    "duration": 3,
    "start_time": "2021-10-27T16:07:05.606Z"
   },
   {
    "duration": 15,
    "start_time": "2021-10-27T16:07:54.774Z"
   },
   {
    "duration": 10,
    "start_time": "2021-10-27T16:08:01.819Z"
   },
   {
    "duration": 14,
    "start_time": "2021-10-27T16:08:12.133Z"
   },
   {
    "duration": 5,
    "start_time": "2021-10-27T16:10:32.683Z"
   },
   {
    "duration": 5,
    "start_time": "2021-10-27T16:10:36.825Z"
   },
   {
    "duration": 927,
    "start_time": "2021-10-27T16:10:52.209Z"
   },
   {
    "duration": 149,
    "start_time": "2021-10-27T16:10:53.139Z"
   },
   {
    "duration": 28,
    "start_time": "2021-10-27T16:10:53.292Z"
   },
   {
    "duration": 150,
    "start_time": "2021-10-27T16:10:53.324Z"
   },
   {
    "duration": 1794,
    "start_time": "2021-10-27T16:10:53.478Z"
   },
   {
    "duration": 5176,
    "start_time": "2021-10-27T16:10:55.275Z"
   },
   {
    "duration": 22,
    "start_time": "2021-10-27T16:11:00.458Z"
   },
   {
    "duration": 25433,
    "start_time": "2021-10-27T16:11:00.486Z"
   },
   {
    "duration": 40,
    "start_time": "2021-10-27T16:11:25.922Z"
   },
   {
    "duration": 94,
    "start_time": "2021-10-27T16:11:25.965Z"
   },
   {
    "duration": 7,
    "start_time": "2021-10-27T16:11:26.062Z"
   },
   {
    "duration": 7,
    "start_time": "2021-10-27T16:11:26.072Z"
   },
   {
    "duration": 25,
    "start_time": "2021-10-27T16:11:26.082Z"
   },
   {
    "duration": 50,
    "start_time": "2021-10-27T16:11:26.109Z"
   },
   {
    "duration": 12,
    "start_time": "2021-10-27T16:11:26.162Z"
   },
   {
    "duration": 28,
    "start_time": "2021-10-27T16:11:26.176Z"
   },
   {
    "duration": 7,
    "start_time": "2021-10-27T16:11:26.207Z"
   },
   {
    "duration": 40,
    "start_time": "2021-10-27T16:11:26.217Z"
   },
   {
    "duration": 15,
    "start_time": "2021-10-27T16:11:26.260Z"
   },
   {
    "duration": 28,
    "start_time": "2021-10-27T16:11:26.278Z"
   },
   {
    "duration": 12,
    "start_time": "2021-10-27T16:11:26.309Z"
   },
   {
    "duration": 4,
    "start_time": "2021-10-27T16:11:26.358Z"
   },
   {
    "duration": 50,
    "start_time": "2021-10-27T16:11:26.370Z"
   },
   {
    "duration": 3,
    "start_time": "2021-10-27T16:11:26.424Z"
   },
   {
    "duration": 19,
    "start_time": "2021-10-27T16:11:26.430Z"
   },
   {
    "duration": 7,
    "start_time": "2021-10-27T16:11:26.451Z"
   },
   {
    "duration": 16,
    "start_time": "2021-10-27T16:11:26.460Z"
   },
   {
    "duration": 3,
    "start_time": "2021-10-27T16:11:26.478Z"
   },
   {
    "duration": 15,
    "start_time": "2021-10-27T16:11:26.483Z"
   },
   {
    "duration": 7,
    "start_time": "2021-10-27T16:11:26.501Z"
   },
   {
    "duration": 12,
    "start_time": "2021-10-27T16:11:26.511Z"
   },
   {
    "duration": 3,
    "start_time": "2021-10-27T16:11:26.558Z"
   },
   {
    "duration": 16,
    "start_time": "2021-10-27T16:11:26.563Z"
   },
   {
    "duration": 9,
    "start_time": "2021-10-27T16:11:26.581Z"
   },
   {
    "duration": 13,
    "start_time": "2021-10-27T16:11:26.592Z"
   },
   {
    "duration": 3,
    "start_time": "2021-10-27T16:11:26.607Z"
   },
   {
    "duration": 53,
    "start_time": "2021-10-27T16:11:26.612Z"
   },
   {
    "duration": 20,
    "start_time": "2021-10-27T16:11:26.668Z"
   },
   {
    "duration": 9,
    "start_time": "2021-10-27T16:11:26.691Z"
   },
   {
    "duration": 68,
    "start_time": "2021-10-27T16:11:26.703Z"
   },
   {
    "duration": 3,
    "start_time": "2021-10-27T16:11:26.773Z"
   },
   {
    "duration": 10,
    "start_time": "2021-10-27T16:11:26.779Z"
   },
   {
    "duration": 2,
    "start_time": "2021-10-27T16:11:26.792Z"
   },
   {
    "duration": 60,
    "start_time": "2021-10-27T16:11:26.797Z"
   },
   {
    "duration": 30,
    "start_time": "2021-10-27T16:11:26.860Z"
   },
   {
    "duration": 69,
    "start_time": "2021-10-27T16:11:26.892Z"
   },
   {
    "duration": 3,
    "start_time": "2021-10-27T16:11:26.963Z"
   },
   {
    "duration": 17,
    "start_time": "2021-10-27T16:11:26.969Z"
   },
   {
    "duration": 3,
    "start_time": "2021-10-27T16:11:26.989Z"
   },
   {
    "duration": 19,
    "start_time": "2021-10-27T16:11:26.994Z"
   },
   {
    "duration": 43,
    "start_time": "2021-10-27T16:11:27.015Z"
   },
   {
    "duration": 38,
    "start_time": "2021-10-27T16:11:27.061Z"
   },
   {
    "duration": 3,
    "start_time": "2021-10-27T16:11:27.101Z"
   },
   {
    "duration": 54,
    "start_time": "2021-10-27T16:11:27.106Z"
   },
   {
    "duration": 17,
    "start_time": "2021-10-27T16:11:27.163Z"
   },
   {
    "duration": 7,
    "start_time": "2021-10-27T16:11:27.183Z"
   },
   {
    "duration": 10,
    "start_time": "2021-10-27T16:11:27.193Z"
   },
   {
    "duration": 53,
    "start_time": "2021-10-27T16:11:27.206Z"
   },
   {
    "duration": 18,
    "start_time": "2021-10-27T16:11:27.262Z"
   },
   {
    "duration": 4,
    "start_time": "2021-10-27T16:11:27.283Z"
   },
   {
    "duration": 69,
    "start_time": "2021-10-27T16:11:27.290Z"
   },
   {
    "duration": 4,
    "start_time": "2021-10-27T16:11:27.362Z"
   },
   {
    "duration": 10,
    "start_time": "2021-10-27T16:11:27.370Z"
   },
   {
    "duration": 29,
    "start_time": "2021-10-27T16:11:27.383Z"
   },
   {
    "duration": 522,
    "start_time": "2021-10-27T16:11:27.416Z"
   },
   {
    "duration": 3,
    "start_time": "2021-10-27T16:11:27.941Z"
   },
   {
    "duration": 11,
    "start_time": "2021-10-27T16:11:27.958Z"
   },
   {
    "duration": 435,
    "start_time": "2021-10-27T16:11:27.976Z"
   },
   {
    "duration": 3,
    "start_time": "2021-10-27T16:11:28.414Z"
   },
   {
    "duration": 12,
    "start_time": "2021-10-27T16:13:11.950Z"
   },
   {
    "duration": 12,
    "start_time": "2021-10-27T16:14:44.337Z"
   },
   {
    "duration": 487,
    "start_time": "2021-10-27T16:19:45.265Z"
   },
   {
    "duration": 18162,
    "start_time": "2021-10-27T16:19:53.644Z"
   },
   {
    "duration": 127,
    "start_time": "2021-10-27T16:23:01.710Z"
   },
   {
    "duration": 126,
    "start_time": "2021-10-27T16:23:17.947Z"
   },
   {
    "duration": 382,
    "start_time": "2021-10-27T16:23:21.859Z"
   },
   {
    "duration": 411,
    "start_time": "2021-10-27T16:23:27.257Z"
   },
   {
    "duration": 445,
    "start_time": "2021-10-27T16:23:35.075Z"
   },
   {
    "duration": 21751,
    "start_time": "2021-10-27T16:23:40.898Z"
   },
   {
    "duration": 400,
    "start_time": "2021-10-27T16:31:13.540Z"
   },
   {
    "duration": 4,
    "start_time": "2021-10-27T16:31:47.181Z"
   },
   {
    "duration": 398,
    "start_time": "2021-10-27T16:32:10.690Z"
   },
   {
    "duration": 390,
    "start_time": "2021-10-27T16:32:14.154Z"
   },
   {
    "duration": 18538,
    "start_time": "2021-10-27T16:32:19.251Z"
   },
   {
    "duration": 862,
    "start_time": "2021-10-27T16:33:36.792Z"
   },
   {
    "duration": 149,
    "start_time": "2021-10-27T16:33:37.658Z"
   },
   {
    "duration": 24,
    "start_time": "2021-10-27T16:33:37.810Z"
   },
   {
    "duration": 139,
    "start_time": "2021-10-27T16:33:37.837Z"
   },
   {
    "duration": 725,
    "start_time": "2021-10-27T16:33:37.979Z"
   },
   {
    "duration": 3896,
    "start_time": "2021-10-27T16:33:38.706Z"
   },
   {
    "duration": 19,
    "start_time": "2021-10-27T16:33:42.604Z"
   },
   {
    "duration": 23781,
    "start_time": "2021-10-27T16:33:42.629Z"
   },
   {
    "duration": 17,
    "start_time": "2021-10-27T16:34:06.414Z"
   },
   {
    "duration": 105,
    "start_time": "2021-10-27T16:34:06.434Z"
   },
   {
    "duration": 24,
    "start_time": "2021-10-27T16:34:06.541Z"
   },
   {
    "duration": 28,
    "start_time": "2021-10-27T16:34:06.567Z"
   },
   {
    "duration": 45,
    "start_time": "2021-10-27T16:34:06.598Z"
   },
   {
    "duration": 24,
    "start_time": "2021-10-27T16:34:06.646Z"
   },
   {
    "duration": 45,
    "start_time": "2021-10-27T16:34:06.672Z"
   },
   {
    "duration": 33,
    "start_time": "2021-10-27T16:34:06.719Z"
   },
   {
    "duration": 11,
    "start_time": "2021-10-27T16:34:06.755Z"
   },
   {
    "duration": 35,
    "start_time": "2021-10-27T16:34:06.768Z"
   },
   {
    "duration": 37,
    "start_time": "2021-10-27T16:34:06.805Z"
   },
   {
    "duration": 49,
    "start_time": "2021-10-27T16:34:06.845Z"
   },
   {
    "duration": 12,
    "start_time": "2021-10-27T16:34:06.896Z"
   },
   {
    "duration": 11,
    "start_time": "2021-10-27T16:34:06.910Z"
   },
   {
    "duration": 11,
    "start_time": "2021-10-27T16:34:06.927Z"
   },
   {
    "duration": 3,
    "start_time": "2021-10-27T16:34:06.942Z"
   },
   {
    "duration": 18,
    "start_time": "2021-10-27T16:34:06.947Z"
   },
   {
    "duration": 11,
    "start_time": "2021-10-27T16:34:06.967Z"
   },
   {
    "duration": 16,
    "start_time": "2021-10-27T16:34:06.980Z"
   },
   {
    "duration": 3,
    "start_time": "2021-10-27T16:34:06.999Z"
   },
   {
    "duration": 17,
    "start_time": "2021-10-27T16:34:07.004Z"
   },
   {
    "duration": 11,
    "start_time": "2021-10-27T16:34:07.023Z"
   },
   {
    "duration": 12,
    "start_time": "2021-10-27T16:34:07.058Z"
   },
   {
    "duration": 7,
    "start_time": "2021-10-27T16:34:07.072Z"
   },
   {
    "duration": 20,
    "start_time": "2021-10-27T16:34:07.082Z"
   },
   {
    "duration": 12,
    "start_time": "2021-10-27T16:34:07.104Z"
   },
   {
    "duration": 14,
    "start_time": "2021-10-27T16:34:07.119Z"
   },
   {
    "duration": 22,
    "start_time": "2021-10-27T16:34:07.136Z"
   },
   {
    "duration": 15,
    "start_time": "2021-10-27T16:34:07.160Z"
   },
   {
    "duration": 21,
    "start_time": "2021-10-27T16:34:07.177Z"
   },
   {
    "duration": 9,
    "start_time": "2021-10-27T16:34:07.200Z"
   },
   {
    "duration": 65,
    "start_time": "2021-10-27T16:34:07.212Z"
   },
   {
    "duration": 3,
    "start_time": "2021-10-27T16:34:07.279Z"
   },
   {
    "duration": 14,
    "start_time": "2021-10-27T16:34:07.284Z"
   },
   {
    "duration": 4,
    "start_time": "2021-10-27T16:34:07.300Z"
   },
   {
    "duration": 52,
    "start_time": "2021-10-27T16:34:07.306Z"
   },
   {
    "duration": 28,
    "start_time": "2021-10-27T16:34:07.360Z"
   },
   {
    "duration": 37,
    "start_time": "2021-10-27T16:34:07.391Z"
   },
   {
    "duration": 28,
    "start_time": "2021-10-27T16:34:07.430Z"
   },
   {
    "duration": 24,
    "start_time": "2021-10-27T16:34:07.460Z"
   },
   {
    "duration": 3,
    "start_time": "2021-10-27T16:34:07.486Z"
   },
   {
    "duration": 18,
    "start_time": "2021-10-27T16:34:07.491Z"
   },
   {
    "duration": 3,
    "start_time": "2021-10-27T16:34:07.512Z"
   },
   {
    "duration": 68,
    "start_time": "2021-10-27T16:34:07.517Z"
   },
   {
    "duration": 3,
    "start_time": "2021-10-27T16:34:07.588Z"
   },
   {
    "duration": 13,
    "start_time": "2021-10-27T16:34:07.593Z"
   },
   {
    "duration": 11,
    "start_time": "2021-10-27T16:34:07.609Z"
   },
   {
    "duration": 36,
    "start_time": "2021-10-27T16:34:07.623Z"
   },
   {
    "duration": 18,
    "start_time": "2021-10-27T16:34:07.661Z"
   },
   {
    "duration": 19,
    "start_time": "2021-10-27T16:34:07.681Z"
   },
   {
    "duration": 12,
    "start_time": "2021-10-27T16:34:07.702Z"
   },
   {
    "duration": 11,
    "start_time": "2021-10-27T16:34:07.716Z"
   },
   {
    "duration": 17857,
    "start_time": "2021-10-27T16:34:07.729Z"
   },
   {
    "duration": 3,
    "start_time": "2021-10-27T16:34:25.588Z"
   },
   {
    "duration": 31,
    "start_time": "2021-10-27T16:34:25.593Z"
   },
   {
    "duration": 3,
    "start_time": "2021-10-27T16:34:25.626Z"
   },
   {
    "duration": 27,
    "start_time": "2021-10-27T16:34:25.631Z"
   },
   {
    "duration": 14,
    "start_time": "2021-10-27T16:34:25.660Z"
   },
   {
    "duration": 457,
    "start_time": "2021-10-27T16:34:25.676Z"
   },
   {
    "duration": 15,
    "start_time": "2021-10-27T16:34:26.142Z"
   },
   {
    "duration": 12,
    "start_time": "2021-10-27T16:34:26.160Z"
   },
   {
    "duration": 419,
    "start_time": "2021-10-27T16:34:26.175Z"
   },
   {
    "duration": 3,
    "start_time": "2021-10-27T16:34:26.597Z"
   },
   {
    "duration": 18427,
    "start_time": "2021-10-27T16:36:44.698Z"
   },
   {
    "duration": 18517,
    "start_time": "2021-10-27T16:37:34.650Z"
   },
   {
    "duration": 18126,
    "start_time": "2021-10-27T16:38:19.485Z"
   },
   {
    "duration": 572,
    "start_time": "2021-10-27T16:39:20.605Z"
   },
   {
    "duration": 509,
    "start_time": "2021-10-27T16:41:09.102Z"
   },
   {
    "duration": 589,
    "start_time": "2021-10-27T16:41:27.158Z"
   },
   {
    "duration": 499,
    "start_time": "2021-10-27T16:41:34.300Z"
   },
   {
    "duration": 555,
    "start_time": "2021-10-27T16:41:40.388Z"
   },
   {
    "duration": 613,
    "start_time": "2021-10-27T16:41:47.356Z"
   },
   {
    "duration": 558,
    "start_time": "2021-10-27T16:41:54.053Z"
   },
   {
    "duration": 470,
    "start_time": "2021-10-27T16:42:32.043Z"
   },
   {
    "duration": 418,
    "start_time": "2021-10-27T16:42:44.589Z"
   },
   {
    "duration": 545,
    "start_time": "2021-10-27T16:57:22.066Z"
   },
   {
    "duration": 577,
    "start_time": "2021-10-27T16:57:40.224Z"
   },
   {
    "duration": 12,
    "start_time": "2021-10-27T16:57:52.616Z"
   },
   {
    "duration": 586,
    "start_time": "2021-10-27T17:00:26.753Z"
   },
   {
    "duration": 538,
    "start_time": "2021-10-27T17:00:37.126Z"
   },
   {
    "duration": 682,
    "start_time": "2021-10-27T17:00:48.146Z"
   },
   {
    "duration": 442,
    "start_time": "2021-10-27T17:00:56.519Z"
   },
   {
    "duration": 512,
    "start_time": "2021-10-27T17:01:05.458Z"
   },
   {
    "duration": 432,
    "start_time": "2021-10-27T17:01:21.693Z"
   },
   {
    "duration": 403,
    "start_time": "2021-10-27T17:01:28.822Z"
   },
   {
    "duration": 453,
    "start_time": "2021-10-27T17:01:54.097Z"
   },
   {
    "duration": 598,
    "start_time": "2021-10-27T17:02:11.702Z"
   },
   {
    "duration": 480,
    "start_time": "2021-10-27T17:03:33.194Z"
   },
   {
    "duration": 14,
    "start_time": "2021-10-27T17:03:35.530Z"
   },
   {
    "duration": 17,
    "start_time": "2021-10-27T17:03:43.027Z"
   },
   {
    "duration": 12,
    "start_time": "2021-10-27T17:04:14.181Z"
   },
   {
    "duration": 350,
    "start_time": "2021-10-27T17:40:17.070Z"
   },
   {
    "duration": 678,
    "start_time": "2021-10-27T17:40:26.945Z"
   },
   {
    "duration": 355,
    "start_time": "2021-10-27T17:40:59.679Z"
   },
   {
    "duration": 847,
    "start_time": "2021-10-27T17:42:26.509Z"
   },
   {
    "duration": 158,
    "start_time": "2021-10-27T17:42:27.359Z"
   },
   {
    "duration": 46,
    "start_time": "2021-10-27T17:42:27.522Z"
   },
   {
    "duration": 136,
    "start_time": "2021-10-27T17:42:27.571Z"
   },
   {
    "duration": 745,
    "start_time": "2021-10-27T17:42:27.710Z"
   },
   {
    "duration": 3967,
    "start_time": "2021-10-27T17:42:28.457Z"
   },
   {
    "duration": 17,
    "start_time": "2021-10-27T17:42:32.426Z"
   },
   {
    "duration": 23554,
    "start_time": "2021-10-27T17:42:32.445Z"
   },
   {
    "duration": 19,
    "start_time": "2021-10-27T17:42:56.005Z"
   },
   {
    "duration": 107,
    "start_time": "2021-10-27T17:42:56.028Z"
   },
   {
    "duration": 19,
    "start_time": "2021-10-27T17:42:56.138Z"
   },
   {
    "duration": 9,
    "start_time": "2021-10-27T17:42:56.159Z"
   },
   {
    "duration": 24,
    "start_time": "2021-10-27T17:42:56.170Z"
   },
   {
    "duration": 9,
    "start_time": "2021-10-27T17:42:56.197Z"
   },
   {
    "duration": 11,
    "start_time": "2021-10-27T17:42:56.208Z"
   },
   {
    "duration": 53,
    "start_time": "2021-10-27T17:42:56.221Z"
   },
   {
    "duration": 8,
    "start_time": "2021-10-27T17:42:56.276Z"
   },
   {
    "duration": 12,
    "start_time": "2021-10-27T17:42:56.286Z"
   },
   {
    "duration": 17,
    "start_time": "2021-10-27T17:42:56.300Z"
   },
   {
    "duration": 53,
    "start_time": "2021-10-27T17:42:56.319Z"
   },
   {
    "duration": 12,
    "start_time": "2021-10-27T17:42:56.374Z"
   },
   {
    "duration": 5,
    "start_time": "2021-10-27T17:42:56.389Z"
   },
   {
    "duration": 11,
    "start_time": "2021-10-27T17:42:56.397Z"
   },
   {
    "duration": 3,
    "start_time": "2021-10-27T17:42:56.411Z"
   },
   {
    "duration": 44,
    "start_time": "2021-10-27T17:42:56.416Z"
   },
   {
    "duration": 6,
    "start_time": "2021-10-27T17:42:56.462Z"
   },
   {
    "duration": 12,
    "start_time": "2021-10-27T17:42:56.474Z"
   },
   {
    "duration": 3,
    "start_time": "2021-10-27T17:42:56.490Z"
   },
   {
    "duration": 14,
    "start_time": "2021-10-27T17:42:56.495Z"
   },
   {
    "duration": 7,
    "start_time": "2021-10-27T17:42:56.511Z"
   },
   {
    "duration": 45,
    "start_time": "2021-10-27T17:42:56.520Z"
   },
   {
    "duration": 5,
    "start_time": "2021-10-27T17:42:56.568Z"
   },
   {
    "duration": 23,
    "start_time": "2021-10-27T17:42:56.576Z"
   },
   {
    "duration": 7,
    "start_time": "2021-10-27T17:42:56.601Z"
   },
   {
    "duration": 13,
    "start_time": "2021-10-27T17:42:56.611Z"
   },
   {
    "duration": 3,
    "start_time": "2021-10-27T17:42:56.626Z"
   },
   {
    "duration": 12,
    "start_time": "2021-10-27T17:42:56.659Z"
   },
   {
    "duration": 22,
    "start_time": "2021-10-27T17:42:56.674Z"
   },
   {
    "duration": 12,
    "start_time": "2021-10-27T17:42:56.698Z"
   },
   {
    "duration": 67,
    "start_time": "2021-10-27T17:42:56.713Z"
   },
   {
    "duration": 4,
    "start_time": "2021-10-27T17:42:56.783Z"
   },
   {
    "duration": 15,
    "start_time": "2021-10-27T17:42:56.790Z"
   },
   {
    "duration": 4,
    "start_time": "2021-10-27T17:42:56.808Z"
   },
   {
    "duration": 55,
    "start_time": "2021-10-27T17:42:56.814Z"
   },
   {
    "duration": 29,
    "start_time": "2021-10-27T17:42:56.871Z"
   },
   {
    "duration": 60,
    "start_time": "2021-10-27T17:42:56.902Z"
   },
   {
    "duration": 3,
    "start_time": "2021-10-27T17:42:56.964Z"
   },
   {
    "duration": 37,
    "start_time": "2021-10-27T17:42:56.969Z"
   },
   {
    "duration": 3,
    "start_time": "2021-10-27T17:42:57.009Z"
   },
   {
    "duration": 23,
    "start_time": "2021-10-27T17:42:57.014Z"
   },
   {
    "duration": 18,
    "start_time": "2021-10-27T17:42:57.039Z"
   },
   {
    "duration": 45,
    "start_time": "2021-10-27T17:42:57.060Z"
   },
   {
    "duration": 3,
    "start_time": "2021-10-27T17:42:57.107Z"
   },
   {
    "duration": 34,
    "start_time": "2021-10-27T17:42:57.112Z"
   },
   {
    "duration": 22,
    "start_time": "2021-10-27T17:42:57.148Z"
   },
   {
    "duration": 4,
    "start_time": "2021-10-27T17:42:57.173Z"
   },
   {
    "duration": 26,
    "start_time": "2021-10-27T17:42:57.180Z"
   },
   {
    "duration": 28,
    "start_time": "2021-10-27T17:42:57.209Z"
   },
   {
    "duration": 16,
    "start_time": "2021-10-27T17:42:57.239Z"
   },
   {
    "duration": 17,
    "start_time": "2021-10-27T17:42:57.259Z"
   },
   {
    "duration": 18566,
    "start_time": "2021-10-27T17:42:57.278Z"
   },
   {
    "duration": 3,
    "start_time": "2021-10-27T17:43:15.846Z"
   },
   {
    "duration": 25,
    "start_time": "2021-10-27T17:43:15.857Z"
   },
   {
    "duration": 3,
    "start_time": "2021-10-27T17:43:15.884Z"
   },
   {
    "duration": 10,
    "start_time": "2021-10-27T17:43:15.889Z"
   },
   {
    "duration": 20,
    "start_time": "2021-10-27T17:43:15.902Z"
   },
   {
    "duration": 459,
    "start_time": "2021-10-27T17:43:15.925Z"
   },
   {
    "duration": 3,
    "start_time": "2021-10-27T17:43:16.387Z"
   },
   {
    "duration": 19,
    "start_time": "2021-10-27T17:43:16.392Z"
   },
   {
    "duration": 414,
    "start_time": "2021-10-27T17:43:16.413Z"
   },
   {
    "duration": 3,
    "start_time": "2021-10-27T17:43:16.830Z"
   },
   {
    "duration": 30,
    "start_time": "2021-10-27T17:43:16.835Z"
   },
   {
    "duration": 422,
    "start_time": "2021-10-27T17:43:16.867Z"
   },
   {
    "duration": 3,
    "start_time": "2021-10-27T17:43:17.291Z"
   },
   {
    "duration": 16,
    "start_time": "2021-10-27T17:43:17.296Z"
   },
   {
    "duration": 425,
    "start_time": "2021-10-27T17:43:17.314Z"
   },
   {
    "duration": 3,
    "start_time": "2021-10-27T17:43:17.741Z"
   },
   {
    "duration": 16,
    "start_time": "2021-10-27T17:43:17.757Z"
   },
   {
    "duration": 468,
    "start_time": "2021-10-27T17:43:17.775Z"
   },
   {
    "duration": 370,
    "start_time": "2021-10-27T17:44:17.903Z"
   },
   {
    "duration": 21,
    "start_time": "2021-10-27T17:50:23.128Z"
   },
   {
    "duration": 351,
    "start_time": "2021-10-27T17:50:36.311Z"
   },
   {
    "duration": 919,
    "start_time": "2021-10-27T17:50:51.864Z"
   },
   {
    "duration": 147,
    "start_time": "2021-10-27T17:50:52.786Z"
   },
   {
    "duration": 33,
    "start_time": "2021-10-27T17:50:52.936Z"
   },
   {
    "duration": 128,
    "start_time": "2021-10-27T17:50:52.971Z"
   },
   {
    "duration": 700,
    "start_time": "2021-10-27T17:50:53.102Z"
   },
   {
    "duration": 3998,
    "start_time": "2021-10-27T17:50:53.804Z"
   },
   {
    "duration": 17,
    "start_time": "2021-10-27T17:50:57.804Z"
   },
   {
    "duration": 22970,
    "start_time": "2021-10-27T17:50:57.824Z"
   },
   {
    "duration": 20,
    "start_time": "2021-10-27T17:51:20.800Z"
   },
   {
    "duration": 108,
    "start_time": "2021-10-27T17:51:20.823Z"
   },
   {
    "duration": 7,
    "start_time": "2021-10-27T17:51:20.934Z"
   },
   {
    "duration": 27,
    "start_time": "2021-10-27T17:51:20.944Z"
   },
   {
    "duration": 39,
    "start_time": "2021-10-27T17:51:20.973Z"
   },
   {
    "duration": 25,
    "start_time": "2021-10-27T17:51:21.014Z"
   },
   {
    "duration": 33,
    "start_time": "2021-10-27T17:51:21.041Z"
   },
   {
    "duration": 49,
    "start_time": "2021-10-27T17:51:21.077Z"
   },
   {
    "duration": 9,
    "start_time": "2021-10-27T17:51:21.128Z"
   },
   {
    "duration": 12,
    "start_time": "2021-10-27T17:51:21.139Z"
   },
   {
    "duration": 29,
    "start_time": "2021-10-27T17:51:21.153Z"
   },
   {
    "duration": 37,
    "start_time": "2021-10-27T17:51:21.185Z"
   },
   {
    "duration": 56,
    "start_time": "2021-10-27T17:51:21.225Z"
   },
   {
    "duration": 9,
    "start_time": "2021-10-27T17:51:21.283Z"
   },
   {
    "duration": 26,
    "start_time": "2021-10-27T17:51:21.294Z"
   },
   {
    "duration": 8,
    "start_time": "2021-10-27T17:51:21.323Z"
   },
   {
    "duration": 22,
    "start_time": "2021-10-27T17:51:21.334Z"
   },
   {
    "duration": 19,
    "start_time": "2021-10-27T17:51:21.358Z"
   },
   {
    "duration": 15,
    "start_time": "2021-10-27T17:51:21.384Z"
   },
   {
    "duration": 11,
    "start_time": "2021-10-27T17:51:21.404Z"
   },
   {
    "duration": 31,
    "start_time": "2021-10-27T17:51:21.418Z"
   },
   {
    "duration": 12,
    "start_time": "2021-10-27T17:51:21.458Z"
   },
   {
    "duration": 16,
    "start_time": "2021-10-27T17:51:21.473Z"
   },
   {
    "duration": 11,
    "start_time": "2021-10-27T17:51:21.492Z"
   },
   {
    "duration": 14,
    "start_time": "2021-10-27T17:51:21.505Z"
   },
   {
    "duration": 8,
    "start_time": "2021-10-27T17:51:21.521Z"
   },
   {
    "duration": 27,
    "start_time": "2021-10-27T17:51:21.532Z"
   },
   {
    "duration": 3,
    "start_time": "2021-10-27T17:51:21.561Z"
   },
   {
    "duration": 24,
    "start_time": "2021-10-27T17:51:21.566Z"
   },
   {
    "duration": 26,
    "start_time": "2021-10-27T17:51:21.593Z"
   },
   {
    "duration": 11,
    "start_time": "2021-10-27T17:51:21.621Z"
   },
   {
    "duration": 52,
    "start_time": "2021-10-27T17:51:21.634Z"
   },
   {
    "duration": 3,
    "start_time": "2021-10-27T17:51:21.688Z"
   },
   {
    "duration": 14,
    "start_time": "2021-10-27T17:51:21.693Z"
   },
   {
    "duration": 11,
    "start_time": "2021-10-27T17:51:21.709Z"
   },
   {
    "duration": 45,
    "start_time": "2021-10-27T17:51:21.722Z"
   },
   {
    "duration": 29,
    "start_time": "2021-10-27T17:51:21.769Z"
   },
   {
    "duration": 60,
    "start_time": "2021-10-27T17:51:21.800Z"
   },
   {
    "duration": 3,
    "start_time": "2021-10-27T17:51:21.863Z"
   },
   {
    "duration": 32,
    "start_time": "2021-10-27T17:51:21.869Z"
   },
   {
    "duration": 3,
    "start_time": "2021-10-27T17:51:21.903Z"
   },
   {
    "duration": 25,
    "start_time": "2021-10-27T17:51:21.909Z"
   },
   {
    "duration": 21,
    "start_time": "2021-10-27T17:51:21.937Z"
   },
   {
    "duration": 51,
    "start_time": "2021-10-27T17:51:21.961Z"
   },
   {
    "duration": 3,
    "start_time": "2021-10-27T17:51:22.015Z"
   },
   {
    "duration": 37,
    "start_time": "2021-10-27T17:51:22.020Z"
   },
   {
    "duration": 12,
    "start_time": "2021-10-27T17:51:22.060Z"
   },
   {
    "duration": 4,
    "start_time": "2021-10-27T17:51:22.075Z"
   },
   {
    "duration": 14,
    "start_time": "2021-10-27T17:51:22.081Z"
   },
   {
    "duration": 18,
    "start_time": "2021-10-27T17:51:22.097Z"
   },
   {
    "duration": 49,
    "start_time": "2021-10-27T17:51:22.117Z"
   },
   {
    "duration": 12,
    "start_time": "2021-10-27T17:51:22.168Z"
   },
   {
    "duration": 17942,
    "start_time": "2021-10-27T17:51:22.182Z"
   },
   {
    "duration": 4,
    "start_time": "2021-10-27T17:51:40.127Z"
   },
   {
    "duration": 54,
    "start_time": "2021-10-27T17:51:40.134Z"
   },
   {
    "duration": 3,
    "start_time": "2021-10-27T17:51:40.190Z"
   },
   {
    "duration": 20,
    "start_time": "2021-10-27T17:51:40.195Z"
   },
   {
    "duration": 26,
    "start_time": "2021-10-27T17:51:40.218Z"
   },
   {
    "duration": 451,
    "start_time": "2021-10-27T17:51:40.247Z"
   },
   {
    "duration": 3,
    "start_time": "2021-10-27T17:51:40.700Z"
   },
   {
    "duration": 13,
    "start_time": "2021-10-27T17:51:40.706Z"
   },
   {
    "duration": 430,
    "start_time": "2021-10-27T17:51:40.722Z"
   },
   {
    "duration": 3,
    "start_time": "2021-10-27T17:51:41.157Z"
   },
   {
    "duration": 16,
    "start_time": "2021-10-27T17:51:41.162Z"
   },
   {
    "duration": 430,
    "start_time": "2021-10-27T17:51:41.180Z"
   },
   {
    "duration": 3,
    "start_time": "2021-10-27T17:51:41.613Z"
   },
   {
    "duration": 31,
    "start_time": "2021-10-27T17:51:41.619Z"
   },
   {
    "duration": 529,
    "start_time": "2021-10-27T17:51:41.658Z"
   },
   {
    "duration": 4,
    "start_time": "2021-10-27T17:51:42.190Z"
   },
   {
    "duration": 11,
    "start_time": "2021-10-27T17:51:42.196Z"
   },
   {
    "duration": 308,
    "start_time": "2021-10-27T17:51:42.210Z"
   },
   {
    "duration": 281,
    "start_time": "2021-10-27T17:51:57.937Z"
   },
   {
    "duration": 5,
    "start_time": "2021-10-27T18:27:20.488Z"
   },
   {
    "duration": 470,
    "start_time": "2021-10-27T18:27:41.558Z"
   },
   {
    "duration": 364,
    "start_time": "2021-10-27T18:27:46.120Z"
   },
   {
    "duration": 5,
    "start_time": "2021-10-27T18:27:57.278Z"
   },
   {
    "duration": 353,
    "start_time": "2021-10-27T18:28:00.602Z"
   },
   {
    "duration": 590,
    "start_time": "2021-10-27T18:28:13.635Z"
   },
   {
    "duration": 9226,
    "start_time": "2021-10-27T18:29:41.939Z"
   },
   {
    "duration": 9596,
    "start_time": "2021-10-27T18:30:11.963Z"
   },
   {
    "duration": 129,
    "start_time": "2021-10-27T18:31:27.233Z"
   },
   {
    "duration": 5,
    "start_time": "2021-10-27T18:31:34.885Z"
   },
   {
    "duration": 373,
    "start_time": "2021-10-27T18:31:56.759Z"
   },
   {
    "duration": 115,
    "start_time": "2021-10-27T18:48:29.629Z"
   },
   {
    "duration": 4,
    "start_time": "2021-10-27T18:48:37.240Z"
   },
   {
    "duration": 5,
    "start_time": "2021-10-27T18:48:39.741Z"
   },
   {
    "duration": 9623,
    "start_time": "2021-10-27T18:48:42.351Z"
   },
   {
    "duration": 869,
    "start_time": "2021-10-27T18:49:46.960Z"
   },
   {
    "duration": 4,
    "start_time": "2021-10-27T18:49:54.935Z"
   },
   {
    "duration": 4,
    "start_time": "2021-10-27T18:50:07.936Z"
   },
   {
    "duration": 889,
    "start_time": "2021-10-27T18:50:10.210Z"
   },
   {
    "duration": 4,
    "start_time": "2021-10-27T18:50:16.147Z"
   },
   {
    "duration": 772,
    "start_time": "2021-10-27T18:50:18.013Z"
   },
   {
    "duration": 5,
    "start_time": "2021-10-27T18:51:12.314Z"
   },
   {
    "duration": 718,
    "start_time": "2021-10-27T18:51:14.767Z"
   },
   {
    "duration": 117,
    "start_time": "2021-10-27T18:52:40.198Z"
   },
   {
    "duration": 217,
    "start_time": "2021-10-27T18:52:45.028Z"
   },
   {
    "duration": 5,
    "start_time": "2021-10-27T18:52:49.731Z"
   },
   {
    "duration": 71,
    "start_time": "2021-10-27T18:52:51.981Z"
   },
   {
    "duration": 9083,
    "start_time": "2021-10-27T18:53:26.059Z"
   },
   {
    "duration": 5,
    "start_time": "2021-10-27T18:53:39.346Z"
   },
   {
    "duration": 463,
    "start_time": "2021-10-27T18:59:32.091Z"
   },
   {
    "duration": 24,
    "start_time": "2021-10-27T19:01:00.988Z"
   },
   {
    "duration": 42,
    "start_time": "2021-10-27T19:01:02.272Z"
   },
   {
    "duration": 26,
    "start_time": "2021-10-27T19:01:32.323Z"
   },
   {
    "duration": 46,
    "start_time": "2021-10-27T19:01:33.343Z"
   },
   {
    "duration": 9,
    "start_time": "2021-10-27T19:01:36.067Z"
   },
   {
    "duration": 385,
    "start_time": "2021-10-27T19:01:38.243Z"
   },
   {
    "duration": 5,
    "start_time": "2021-10-27T19:01:53.205Z"
   },
   {
    "duration": 697,
    "start_time": "2021-10-27T19:09:45.737Z"
   },
   {
    "duration": 713,
    "start_time": "2021-10-27T19:09:57.111Z"
   },
   {
    "duration": 920,
    "start_time": "2021-10-27T19:12:16.626Z"
   },
   {
    "duration": 734,
    "start_time": "2021-10-27T19:12:22.883Z"
   },
   {
    "duration": 799,
    "start_time": "2021-10-27T19:12:48.436Z"
   },
   {
    "duration": 709,
    "start_time": "2021-10-27T19:13:02.305Z"
   },
   {
    "duration": 691,
    "start_time": "2021-10-27T19:13:15.780Z"
   },
   {
    "duration": 829,
    "start_time": "2021-10-27T19:13:28.669Z"
   },
   {
    "duration": 706,
    "start_time": "2021-10-27T19:13:42.188Z"
   },
   {
    "duration": 911,
    "start_time": "2021-10-27T19:15:24.875Z"
   },
   {
    "duration": 761,
    "start_time": "2021-10-27T19:16:09.357Z"
   },
   {
    "duration": 752,
    "start_time": "2021-10-27T19:16:39.913Z"
   },
   {
    "duration": 790,
    "start_time": "2021-10-27T19:17:10.014Z"
   },
   {
    "duration": 7,
    "start_time": "2021-10-27T19:20:45.481Z"
   },
   {
    "duration": 426,
    "start_time": "2021-10-27T19:21:43.105Z"
   },
   {
    "duration": 482,
    "start_time": "2021-10-27T19:21:47.889Z"
   },
   {
    "duration": 1017,
    "start_time": "2021-10-27T19:23:00.590Z"
   },
   {
    "duration": 38,
    "start_time": "2021-10-27T19:23:01.805Z"
   },
   {
    "duration": 27,
    "start_time": "2021-10-27T19:23:08.568Z"
   },
   {
    "duration": 12,
    "start_time": "2021-10-27T19:23:35.635Z"
   },
   {
    "duration": 27,
    "start_time": "2021-10-27T19:23:47.369Z"
   },
   {
    "duration": 700,
    "start_time": "2021-10-27T19:27:28.282Z"
   },
   {
    "duration": 2494,
    "start_time": "2021-10-27T19:29:40.180Z"
   },
   {
    "duration": 915,
    "start_time": "2021-10-27T19:30:07.585Z"
   },
   {
    "duration": 161,
    "start_time": "2021-10-27T19:30:08.503Z"
   },
   {
    "duration": 122,
    "start_time": "2021-10-27T19:30:08.668Z"
   },
   {
    "duration": 784,
    "start_time": "2021-10-27T19:30:08.792Z"
   },
   {
    "duration": 1442,
    "start_time": "2021-10-27T19:30:09.578Z"
   },
   {
    "duration": 4775,
    "start_time": "2021-10-27T19:30:11.024Z"
   },
   {
    "duration": 16,
    "start_time": "2021-10-27T19:30:15.802Z"
   },
   {
    "duration": 25914,
    "start_time": "2021-10-27T19:30:15.821Z"
   },
   {
    "duration": 27,
    "start_time": "2021-10-27T19:30:41.739Z"
   },
   {
    "duration": 107,
    "start_time": "2021-10-27T19:30:41.773Z"
   },
   {
    "duration": 8,
    "start_time": "2021-10-27T19:30:41.882Z"
   },
   {
    "duration": 15,
    "start_time": "2021-10-27T19:30:41.893Z"
   },
   {
    "duration": 32,
    "start_time": "2021-10-27T19:30:41.911Z"
   },
   {
    "duration": 14,
    "start_time": "2021-10-27T19:30:41.946Z"
   },
   {
    "duration": 15,
    "start_time": "2021-10-27T19:30:41.963Z"
   },
   {
    "duration": 34,
    "start_time": "2021-10-27T19:30:41.981Z"
   },
   {
    "duration": 41,
    "start_time": "2021-10-27T19:30:42.017Z"
   },
   {
    "duration": 3,
    "start_time": "2021-10-27T19:30:42.061Z"
   },
   {
    "duration": 18,
    "start_time": "2021-10-27T19:30:42.068Z"
   },
   {
    "duration": 26,
    "start_time": "2021-10-27T19:30:42.088Z"
   },
   {
    "duration": 42,
    "start_time": "2021-10-27T19:30:42.116Z"
   },
   {
    "duration": 4,
    "start_time": "2021-10-27T19:30:42.162Z"
   },
   {
    "duration": 15,
    "start_time": "2021-10-27T19:30:42.170Z"
   },
   {
    "duration": 3,
    "start_time": "2021-10-27T19:30:42.188Z"
   },
   {
    "duration": 18,
    "start_time": "2021-10-27T19:30:42.193Z"
   },
   {
    "duration": 3,
    "start_time": "2021-10-27T19:30:42.214Z"
   },
   {
    "duration": 49,
    "start_time": "2021-10-27T19:30:42.224Z"
   },
   {
    "duration": 3,
    "start_time": "2021-10-27T19:30:42.277Z"
   },
   {
    "duration": 15,
    "start_time": "2021-10-27T19:30:42.282Z"
   },
   {
    "duration": 8,
    "start_time": "2021-10-27T19:30:42.299Z"
   },
   {
    "duration": 17,
    "start_time": "2021-10-27T19:30:42.309Z"
   },
   {
    "duration": 32,
    "start_time": "2021-10-27T19:30:42.328Z"
   },
   {
    "duration": 16,
    "start_time": "2021-10-27T19:30:42.363Z"
   },
   {
    "duration": 6,
    "start_time": "2021-10-27T19:30:42.381Z"
   },
   {
    "duration": 11,
    "start_time": "2021-10-27T19:30:42.389Z"
   },
   {
    "duration": 4,
    "start_time": "2021-10-27T19:30:42.402Z"
   },
   {
    "duration": 58,
    "start_time": "2021-10-27T19:30:42.408Z"
   },
   {
    "duration": 21,
    "start_time": "2021-10-27T19:30:42.470Z"
   },
   {
    "duration": 14,
    "start_time": "2021-10-27T19:30:42.496Z"
   },
   {
    "duration": 73,
    "start_time": "2021-10-27T19:30:42.513Z"
   },
   {
    "duration": 3,
    "start_time": "2021-10-27T19:30:42.589Z"
   },
   {
    "duration": 25,
    "start_time": "2021-10-27T19:30:42.595Z"
   },
   {
    "duration": 4,
    "start_time": "2021-10-27T19:30:42.623Z"
   },
   {
    "duration": 26,
    "start_time": "2021-10-27T19:30:42.666Z"
   },
   {
    "duration": 33,
    "start_time": "2021-10-27T19:30:42.695Z"
   },
   {
    "duration": 70,
    "start_time": "2021-10-27T19:30:42.731Z"
   },
   {
    "duration": 4,
    "start_time": "2021-10-27T19:30:42.804Z"
   },
   {
    "duration": 35,
    "start_time": "2021-10-27T19:30:42.811Z"
   },
   {
    "duration": 4,
    "start_time": "2021-10-27T19:30:42.857Z"
   },
   {
    "duration": 21,
    "start_time": "2021-10-27T19:30:42.863Z"
   },
   {
    "duration": 5,
    "start_time": "2021-10-27T19:30:42.887Z"
   },
   {
    "duration": 64,
    "start_time": "2021-10-27T19:30:42.895Z"
   },
   {
    "duration": 4,
    "start_time": "2021-10-27T19:30:42.963Z"
   },
   {
    "duration": 13,
    "start_time": "2021-10-27T19:30:42.971Z"
   },
   {
    "duration": 10,
    "start_time": "2021-10-27T19:30:42.986Z"
   },
   {
    "duration": 12,
    "start_time": "2021-10-27T19:30:42.999Z"
   },
   {
    "duration": 5,
    "start_time": "2021-10-27T19:30:43.014Z"
   },
   {
    "duration": 52,
    "start_time": "2021-10-27T19:30:43.021Z"
   },
   {
    "duration": 13,
    "start_time": "2021-10-27T19:30:43.075Z"
   },
   {
    "duration": 11,
    "start_time": "2021-10-27T19:30:43.090Z"
   },
   {
    "duration": 18558,
    "start_time": "2021-10-27T19:30:43.104Z"
   },
   {
    "duration": 4,
    "start_time": "2021-10-27T19:31:01.665Z"
   },
   {
    "duration": 54,
    "start_time": "2021-10-27T19:31:01.672Z"
   },
   {
    "duration": 9,
    "start_time": "2021-10-27T19:31:01.729Z"
   },
   {
    "duration": 25,
    "start_time": "2021-10-27T19:31:01.741Z"
   },
   {
    "duration": 30,
    "start_time": "2021-10-27T19:31:01.769Z"
   },
   {
    "duration": 474,
    "start_time": "2021-10-27T19:31:01.801Z"
   },
   {
    "duration": 3,
    "start_time": "2021-10-27T19:31:02.278Z"
   },
   {
    "duration": 24,
    "start_time": "2021-10-27T19:31:02.284Z"
   },
   {
    "duration": 467,
    "start_time": "2021-10-27T19:31:02.310Z"
   },
   {
    "duration": 3,
    "start_time": "2021-10-27T19:31:02.779Z"
   },
   {
    "duration": 23,
    "start_time": "2021-10-27T19:31:02.784Z"
   },
   {
    "duration": 433,
    "start_time": "2021-10-27T19:31:02.809Z"
   },
   {
    "duration": 12,
    "start_time": "2021-10-27T19:31:03.245Z"
   },
   {
    "duration": 14,
    "start_time": "2021-10-27T19:31:03.261Z"
   },
   {
    "duration": 448,
    "start_time": "2021-10-27T19:31:03.278Z"
   },
   {
    "duration": 3,
    "start_time": "2021-10-27T19:31:03.729Z"
   },
   {
    "duration": 28,
    "start_time": "2021-10-27T19:31:03.735Z"
   },
   {
    "duration": 287,
    "start_time": "2021-10-27T19:31:03.765Z"
   },
   {
    "duration": 4,
    "start_time": "2021-10-27T19:31:04.054Z"
   },
   {
    "duration": 34,
    "start_time": "2021-10-27T19:31:04.071Z"
   },
   {
    "duration": 3,
    "start_time": "2021-10-27T19:31:04.108Z"
   },
   {
    "duration": 2676,
    "start_time": "2021-10-27T19:31:04.113Z"
   },
   {
    "duration": -247,
    "start_time": "2021-10-27T19:31:07.038Z"
   },
   {
    "duration": -249,
    "start_time": "2021-10-27T19:31:07.042Z"
   },
   {
    "duration": -252,
    "start_time": "2021-10-27T19:31:07.046Z"
   },
   {
    "duration": -254,
    "start_time": "2021-10-27T19:31:07.049Z"
   },
   {
    "duration": -255,
    "start_time": "2021-10-27T19:31:07.052Z"
   },
   {
    "duration": -257,
    "start_time": "2021-10-27T19:31:07.055Z"
   },
   {
    "duration": -274,
    "start_time": "2021-10-27T19:31:07.074Z"
   },
   {
    "duration": -276,
    "start_time": "2021-10-27T19:31:07.077Z"
   },
   {
    "duration": -278,
    "start_time": "2021-10-27T19:31:07.080Z"
   },
   {
    "duration": -280,
    "start_time": "2021-10-27T19:31:07.083Z"
   },
   {
    "duration": -282,
    "start_time": "2021-10-27T19:31:07.086Z"
   },
   {
    "duration": -283,
    "start_time": "2021-10-27T19:31:07.089Z"
   },
   {
    "duration": -286,
    "start_time": "2021-10-27T19:31:07.093Z"
   },
   {
    "duration": -287,
    "start_time": "2021-10-27T19:31:07.095Z"
   },
   {
    "duration": -289,
    "start_time": "2021-10-27T19:31:07.098Z"
   },
   {
    "duration": 368,
    "start_time": "2021-10-27T19:31:43.799Z"
   },
   {
    "duration": 6,
    "start_time": "2021-10-27T19:32:52.530Z"
   },
   {
    "duration": 374,
    "start_time": "2021-10-27T19:35:23.736Z"
   },
   {
    "duration": 410,
    "start_time": "2021-10-27T19:35:28.937Z"
   },
   {
    "duration": 379,
    "start_time": "2021-10-27T19:36:17.686Z"
   },
   {
    "duration": 6,
    "start_time": "2021-10-27T19:36:42.859Z"
   },
   {
    "duration": 668,
    "start_time": "2021-10-27T19:36:46.655Z"
   },
   {
    "duration": 732,
    "start_time": "2021-10-27T19:37:31.940Z"
   },
   {
    "duration": 683,
    "start_time": "2021-10-27T19:38:57.113Z"
   },
   {
    "duration": 350,
    "start_time": "2021-10-27T19:40:18.847Z"
   },
   {
    "duration": 14,
    "start_time": "2021-10-27T19:40:42.227Z"
   },
   {
    "duration": 18718,
    "start_time": "2021-10-27T19:40:57.232Z"
   },
   {
    "duration": 895,
    "start_time": "2021-10-27T19:41:35.750Z"
   },
   {
    "duration": 146,
    "start_time": "2021-10-27T19:41:36.648Z"
   },
   {
    "duration": 25,
    "start_time": "2021-10-27T19:41:36.796Z"
   },
   {
    "duration": 136,
    "start_time": "2021-10-27T19:41:36.824Z"
   },
   {
    "duration": 693,
    "start_time": "2021-10-27T19:41:36.963Z"
   },
   {
    "duration": 3827,
    "start_time": "2021-10-27T19:41:37.658Z"
   },
   {
    "duration": 16,
    "start_time": "2021-10-27T19:41:41.488Z"
   },
   {
    "duration": 23276,
    "start_time": "2021-10-27T19:41:41.507Z"
   },
   {
    "duration": 18,
    "start_time": "2021-10-27T19:42:04.785Z"
   },
   {
    "duration": 110,
    "start_time": "2021-10-27T19:42:04.806Z"
   },
   {
    "duration": 7,
    "start_time": "2021-10-27T19:42:04.919Z"
   },
   {
    "duration": 8,
    "start_time": "2021-10-27T19:42:04.929Z"
   },
   {
    "duration": 39,
    "start_time": "2021-10-27T19:42:04.940Z"
   },
   {
    "duration": 8,
    "start_time": "2021-10-27T19:42:04.981Z"
   },
   {
    "duration": 12,
    "start_time": "2021-10-27T19:42:04.991Z"
   },
   {
    "duration": 57,
    "start_time": "2021-10-27T19:42:05.005Z"
   },
   {
    "duration": 9,
    "start_time": "2021-10-27T19:42:05.064Z"
   },
   {
    "duration": 3,
    "start_time": "2021-10-27T19:42:05.076Z"
   },
   {
    "duration": 15,
    "start_time": "2021-10-27T19:42:05.081Z"
   },
   {
    "duration": 59,
    "start_time": "2021-10-27T19:42:05.099Z"
   },
   {
    "duration": 15,
    "start_time": "2021-10-27T19:42:05.161Z"
   },
   {
    "duration": 4,
    "start_time": "2021-10-27T19:42:05.179Z"
   },
   {
    "duration": 9,
    "start_time": "2021-10-27T19:42:05.190Z"
   },
   {
    "duration": 4,
    "start_time": "2021-10-27T19:42:05.203Z"
   },
   {
    "duration": 55,
    "start_time": "2021-10-27T19:42:05.209Z"
   },
   {
    "duration": 6,
    "start_time": "2021-10-27T19:42:05.267Z"
   },
   {
    "duration": 25,
    "start_time": "2021-10-27T19:42:05.276Z"
   },
   {
    "duration": 4,
    "start_time": "2021-10-27T19:42:05.304Z"
   },
   {
    "duration": 48,
    "start_time": "2021-10-27T19:42:05.311Z"
   },
   {
    "duration": 3,
    "start_time": "2021-10-27T19:42:05.363Z"
   },
   {
    "duration": 18,
    "start_time": "2021-10-27T19:42:05.369Z"
   },
   {
    "duration": 4,
    "start_time": "2021-10-27T19:42:05.390Z"
   },
   {
    "duration": 18,
    "start_time": "2021-10-27T19:42:05.397Z"
   },
   {
    "duration": 9,
    "start_time": "2021-10-27T19:42:05.418Z"
   },
   {
    "duration": 16,
    "start_time": "2021-10-27T19:42:05.459Z"
   },
   {
    "duration": 3,
    "start_time": "2021-10-27T19:42:05.478Z"
   },
   {
    "duration": 16,
    "start_time": "2021-10-27T19:42:05.483Z"
   },
   {
    "duration": 27,
    "start_time": "2021-10-27T19:42:05.501Z"
   },
   {
    "duration": 11,
    "start_time": "2021-10-27T19:42:05.557Z"
   },
   {
    "duration": 30,
    "start_time": "2021-10-27T19:42:05.570Z"
   },
   {
    "duration": 3,
    "start_time": "2021-10-27T19:42:05.602Z"
   },
   {
    "duration": 11,
    "start_time": "2021-10-27T19:42:05.608Z"
   },
   {
    "duration": 4,
    "start_time": "2021-10-27T19:42:05.622Z"
   },
   {
    "duration": 23,
    "start_time": "2021-10-27T19:42:05.658Z"
   },
   {
    "duration": 29,
    "start_time": "2021-10-27T19:42:05.683Z"
   },
   {
    "duration": 72,
    "start_time": "2021-10-27T19:42:05.714Z"
   },
   {
    "duration": 3,
    "start_time": "2021-10-27T19:42:05.789Z"
   },
   {
    "duration": 20,
    "start_time": "2021-10-27T19:42:05.794Z"
   },
   {
    "duration": 3,
    "start_time": "2021-10-27T19:42:05.816Z"
   },
   {
    "duration": 49,
    "start_time": "2021-10-27T19:42:05.822Z"
   },
   {
    "duration": 11,
    "start_time": "2021-10-27T19:42:05.874Z"
   },
   {
    "duration": 43,
    "start_time": "2021-10-27T19:42:05.887Z"
   },
   {
    "duration": 3,
    "start_time": "2021-10-27T19:42:05.933Z"
   },
   {
    "duration": 25,
    "start_time": "2021-10-27T19:42:05.939Z"
   },
   {
    "duration": 24,
    "start_time": "2021-10-27T19:42:05.966Z"
   },
   {
    "duration": 5,
    "start_time": "2021-10-27T19:42:05.993Z"
   },
   {
    "duration": 19,
    "start_time": "2021-10-27T19:42:06.001Z"
   },
   {
    "duration": 31,
    "start_time": "2021-10-27T19:42:06.023Z"
   },
   {
    "duration": 13,
    "start_time": "2021-10-27T19:42:06.058Z"
   },
   {
    "duration": 13,
    "start_time": "2021-10-27T19:42:06.074Z"
   },
   {
    "duration": 18326,
    "start_time": "2021-10-27T19:42:06.090Z"
   },
   {
    "duration": -495,
    "start_time": "2021-10-27T19:42:24.915Z"
   },
   {
    "duration": -499,
    "start_time": "2021-10-27T19:42:24.920Z"
   },
   {
    "duration": -502,
    "start_time": "2021-10-27T19:42:24.924Z"
   },
   {
    "duration": -503,
    "start_time": "2021-10-27T19:42:24.927Z"
   },
   {
    "duration": -505,
    "start_time": "2021-10-27T19:42:24.930Z"
   },
   {
    "duration": -507,
    "start_time": "2021-10-27T19:42:24.934Z"
   },
   {
    "duration": -509,
    "start_time": "2021-10-27T19:42:24.937Z"
   },
   {
    "duration": -511,
    "start_time": "2021-10-27T19:42:24.940Z"
   },
   {
    "duration": -513,
    "start_time": "2021-10-27T19:42:24.944Z"
   },
   {
    "duration": -516,
    "start_time": "2021-10-27T19:42:24.948Z"
   },
   {
    "duration": -518,
    "start_time": "2021-10-27T19:42:24.951Z"
   },
   {
    "duration": -520,
    "start_time": "2021-10-27T19:42:24.954Z"
   },
   {
    "duration": -521,
    "start_time": "2021-10-27T19:42:24.957Z"
   },
   {
    "duration": -613,
    "start_time": "2021-10-27T19:42:25.050Z"
   },
   {
    "duration": -616,
    "start_time": "2021-10-27T19:42:25.054Z"
   },
   {
    "duration": -619,
    "start_time": "2021-10-27T19:42:25.058Z"
   },
   {
    "duration": -639,
    "start_time": "2021-10-27T19:42:25.080Z"
   },
   {
    "duration": -641,
    "start_time": "2021-10-27T19:42:25.083Z"
   },
   {
    "duration": -643,
    "start_time": "2021-10-27T19:42:25.086Z"
   },
   {
    "duration": -645,
    "start_time": "2021-10-27T19:42:25.089Z"
   },
   {
    "duration": -647,
    "start_time": "2021-10-27T19:42:25.092Z"
   },
   {
    "duration": -648,
    "start_time": "2021-10-27T19:42:25.095Z"
   },
   {
    "duration": -650,
    "start_time": "2021-10-27T19:42:25.098Z"
   },
   {
    "duration": -651,
    "start_time": "2021-10-27T19:42:25.101Z"
   },
   {
    "duration": -653,
    "start_time": "2021-10-27T19:42:25.104Z"
   },
   {
    "duration": -655,
    "start_time": "2021-10-27T19:42:25.107Z"
   },
   {
    "duration": -655,
    "start_time": "2021-10-27T19:42:25.109Z"
   },
   {
    "duration": -655,
    "start_time": "2021-10-27T19:42:25.112Z"
   },
   {
    "duration": -656,
    "start_time": "2021-10-27T19:42:25.115Z"
   },
   {
    "duration": -658,
    "start_time": "2021-10-27T19:42:25.118Z"
   },
   {
    "duration": -660,
    "start_time": "2021-10-27T19:42:25.121Z"
   },
   {
    "duration": -661,
    "start_time": "2021-10-27T19:42:25.124Z"
   },
   {
    "duration": -663,
    "start_time": "2021-10-27T19:42:25.127Z"
   },
   {
    "duration": -665,
    "start_time": "2021-10-27T19:42:25.130Z"
   },
   {
    "duration": -666,
    "start_time": "2021-10-27T19:42:25.132Z"
   },
   {
    "duration": -670,
    "start_time": "2021-10-27T19:42:25.137Z"
   },
   {
    "duration": -671,
    "start_time": "2021-10-27T19:42:25.140Z"
   },
   {
    "duration": 18533,
    "start_time": "2021-10-27T19:42:38.925Z"
   },
   {
    "duration": 28,
    "start_time": "2021-10-27T19:43:18.006Z"
   },
   {
    "duration": 18427,
    "start_time": "2021-10-27T19:45:32.657Z"
   },
   {
    "duration": 19204,
    "start_time": "2021-10-27T19:48:19.457Z"
   },
   {
    "duration": 349,
    "start_time": "2021-10-27T19:48:38.663Z"
   },
   {
    "duration": 941,
    "start_time": "2021-10-27T19:48:55.630Z"
   },
   {
    "duration": 157,
    "start_time": "2021-10-27T19:48:56.574Z"
   },
   {
    "duration": 32,
    "start_time": "2021-10-27T19:48:56.735Z"
   },
   {
    "duration": 134,
    "start_time": "2021-10-27T19:48:56.770Z"
   },
   {
    "duration": 763,
    "start_time": "2021-10-27T19:48:56.906Z"
   },
   {
    "duration": 4341,
    "start_time": "2021-10-27T19:48:57.672Z"
   },
   {
    "duration": 18,
    "start_time": "2021-10-27T19:49:02.016Z"
   },
   {
    "duration": 23639,
    "start_time": "2021-10-27T19:49:02.040Z"
   },
   {
    "duration": 18,
    "start_time": "2021-10-27T19:49:25.683Z"
   },
   {
    "duration": 110,
    "start_time": "2021-10-27T19:49:25.703Z"
   },
   {
    "duration": 7,
    "start_time": "2021-10-27T19:49:25.816Z"
   },
   {
    "duration": 15,
    "start_time": "2021-10-27T19:49:25.826Z"
   },
   {
    "duration": 30,
    "start_time": "2021-10-27T19:49:25.844Z"
   },
   {
    "duration": 9,
    "start_time": "2021-10-27T19:49:25.876Z"
   },
   {
    "duration": 12,
    "start_time": "2021-10-27T19:49:25.888Z"
   },
   {
    "duration": 59,
    "start_time": "2021-10-27T19:49:25.903Z"
   },
   {
    "duration": 9,
    "start_time": "2021-10-27T19:49:25.964Z"
   },
   {
    "duration": 10,
    "start_time": "2021-10-27T19:49:25.975Z"
   },
   {
    "duration": 21,
    "start_time": "2021-10-27T19:49:25.987Z"
   },
   {
    "duration": 47,
    "start_time": "2021-10-27T19:49:26.011Z"
   },
   {
    "duration": 12,
    "start_time": "2021-10-27T19:49:26.060Z"
   },
   {
    "duration": 13,
    "start_time": "2021-10-27T19:49:26.074Z"
   },
   {
    "duration": 14,
    "start_time": "2021-10-27T19:49:26.093Z"
   },
   {
    "duration": 13,
    "start_time": "2021-10-27T19:49:26.111Z"
   },
   {
    "duration": 16,
    "start_time": "2021-10-27T19:49:26.126Z"
   },
   {
    "duration": 15,
    "start_time": "2021-10-27T19:49:26.144Z"
   },
   {
    "duration": 17,
    "start_time": "2021-10-27T19:49:26.162Z"
   },
   {
    "duration": 3,
    "start_time": "2021-10-27T19:49:26.182Z"
   },
   {
    "duration": 26,
    "start_time": "2021-10-27T19:49:26.188Z"
   },
   {
    "duration": 8,
    "start_time": "2021-10-27T19:49:26.217Z"
   },
   {
    "duration": 35,
    "start_time": "2021-10-27T19:49:26.228Z"
   },
   {
    "duration": 8,
    "start_time": "2021-10-27T19:49:26.266Z"
   },
   {
    "duration": 21,
    "start_time": "2021-10-27T19:49:26.277Z"
   },
   {
    "duration": 7,
    "start_time": "2021-10-27T19:49:26.301Z"
   },
   {
    "duration": 13,
    "start_time": "2021-10-27T19:49:26.311Z"
   },
   {
    "duration": 31,
    "start_time": "2021-10-27T19:49:26.327Z"
   },
   {
    "duration": 18,
    "start_time": "2021-10-27T19:49:26.362Z"
   },
   {
    "duration": 29,
    "start_time": "2021-10-27T19:49:26.382Z"
   },
   {
    "duration": 12,
    "start_time": "2021-10-27T19:49:26.414Z"
   },
   {
    "duration": 55,
    "start_time": "2021-10-27T19:49:26.429Z"
   },
   {
    "duration": 4,
    "start_time": "2021-10-27T19:49:26.487Z"
   },
   {
    "duration": 15,
    "start_time": "2021-10-27T19:49:26.493Z"
   },
   {
    "duration": 3,
    "start_time": "2021-10-27T19:49:26.510Z"
   },
   {
    "duration": 61,
    "start_time": "2021-10-27T19:49:26.515Z"
   },
   {
    "duration": 31,
    "start_time": "2021-10-27T19:49:26.579Z"
   },
   {
    "duration": 59,
    "start_time": "2021-10-27T19:49:26.612Z"
   },
   {
    "duration": 3,
    "start_time": "2021-10-27T19:49:26.673Z"
   },
   {
    "duration": 35,
    "start_time": "2021-10-27T19:49:26.678Z"
   },
   {
    "duration": 3,
    "start_time": "2021-10-27T19:49:26.715Z"
   },
   {
    "duration": 30,
    "start_time": "2021-10-27T19:49:26.720Z"
   },
   {
    "duration": 3,
    "start_time": "2021-10-27T19:49:26.757Z"
   },
   {
    "duration": 43,
    "start_time": "2021-10-27T19:49:26.762Z"
   },
   {
    "duration": 4,
    "start_time": "2021-10-27T19:49:26.807Z"
   },
   {
    "duration": 29,
    "start_time": "2021-10-27T19:49:26.813Z"
   },
   {
    "duration": 21,
    "start_time": "2021-10-27T19:49:26.845Z"
   },
   {
    "duration": 4,
    "start_time": "2021-10-27T19:49:26.869Z"
   },
   {
    "duration": 12,
    "start_time": "2021-10-27T19:49:26.875Z"
   },
   {
    "duration": 19,
    "start_time": "2021-10-27T19:49:26.889Z"
   },
   {
    "duration": 12,
    "start_time": "2021-10-27T19:49:26.911Z"
   },
   {
    "duration": 42,
    "start_time": "2021-10-27T19:49:26.926Z"
   },
   {
    "duration": 17912,
    "start_time": "2021-10-27T19:49:26.971Z"
   },
   {
    "duration": 520,
    "start_time": "2021-10-27T19:49:44.885Z"
   },
   {
    "duration": -348,
    "start_time": "2021-10-27T19:49:45.759Z"
   },
   {
    "duration": -350,
    "start_time": "2021-10-27T19:49:45.763Z"
   },
   {
    "duration": -351,
    "start_time": "2021-10-27T19:49:45.766Z"
   },
   {
    "duration": -352,
    "start_time": "2021-10-27T19:49:45.769Z"
   },
   {
    "duration": -353,
    "start_time": "2021-10-27T19:49:45.772Z"
   },
   {
    "duration": -355,
    "start_time": "2021-10-27T19:49:45.775Z"
   },
   {
    "duration": -354,
    "start_time": "2021-10-27T19:49:45.778Z"
   },
   {
    "duration": -356,
    "start_time": "2021-10-27T19:49:45.781Z"
   },
   {
    "duration": -357,
    "start_time": "2021-10-27T19:49:45.784Z"
   },
   {
    "duration": -358,
    "start_time": "2021-10-27T19:49:45.787Z"
   },
   {
    "duration": -359,
    "start_time": "2021-10-27T19:49:45.790Z"
   },
   {
    "duration": -362,
    "start_time": "2021-10-27T19:49:45.794Z"
   },
   {
    "duration": -364,
    "start_time": "2021-10-27T19:49:45.797Z"
   },
   {
    "duration": -367,
    "start_time": "2021-10-27T19:49:45.801Z"
   },
   {
    "duration": -475,
    "start_time": "2021-10-27T19:49:45.911Z"
   },
   {
    "duration": -478,
    "start_time": "2021-10-27T19:49:45.915Z"
   },
   {
    "duration": -479,
    "start_time": "2021-10-27T19:49:45.917Z"
   },
   {
    "duration": -481,
    "start_time": "2021-10-27T19:49:45.920Z"
   },
   {
    "duration": -482,
    "start_time": "2021-10-27T19:49:45.923Z"
   },
   {
    "duration": -469,
    "start_time": "2021-10-27T19:49:45.926Z"
   },
   {
    "duration": -471,
    "start_time": "2021-10-27T19:49:45.930Z"
   },
   {
    "duration": -473,
    "start_time": "2021-10-27T19:49:45.933Z"
   },
   {
    "duration": -474,
    "start_time": "2021-10-27T19:49:45.936Z"
   },
   {
    "duration": -475,
    "start_time": "2021-10-27T19:49:45.939Z"
   },
   {
    "duration": -477,
    "start_time": "2021-10-27T19:49:45.942Z"
   },
   {
    "duration": -478,
    "start_time": "2021-10-27T19:49:45.945Z"
   },
   {
    "duration": -479,
    "start_time": "2021-10-27T19:49:45.947Z"
   },
   {
    "duration": -480,
    "start_time": "2021-10-27T19:49:45.950Z"
   },
   {
    "duration": -482,
    "start_time": "2021-10-27T19:49:45.953Z"
   },
   {
    "duration": -484,
    "start_time": "2021-10-27T19:49:45.956Z"
   },
   {
    "duration": -485,
    "start_time": "2021-10-27T19:49:45.959Z"
   },
   {
    "duration": -487,
    "start_time": "2021-10-27T19:49:45.962Z"
   },
   {
    "duration": -487,
    "start_time": "2021-10-27T19:49:45.964Z"
   },
   {
    "duration": -489,
    "start_time": "2021-10-27T19:49:45.967Z"
   },
   {
    "duration": -490,
    "start_time": "2021-10-27T19:49:45.970Z"
   },
   {
    "duration": -492,
    "start_time": "2021-10-27T19:49:45.973Z"
   },
   {
    "duration": -510,
    "start_time": "2021-10-27T19:49:45.992Z"
   },
   {
    "duration": 364,
    "start_time": "2021-10-27T19:50:07.963Z"
   },
   {
    "duration": 7,
    "start_time": "2021-10-27T19:51:50.756Z"
   },
   {
    "duration": 7,
    "start_time": "2021-10-27T19:52:14.060Z"
   },
   {
    "duration": 19,
    "start_time": "2021-10-27T19:55:54.090Z"
   },
   {
    "duration": 19,
    "start_time": "2021-10-27T19:56:01.577Z"
   },
   {
    "duration": 364,
    "start_time": "2021-10-27T19:56:22.954Z"
   },
   {
    "duration": 18,
    "start_time": "2021-10-27T19:56:36.395Z"
   },
   {
    "duration": 19,
    "start_time": "2021-10-27T19:58:54.760Z"
   },
   {
    "duration": 7,
    "start_time": "2021-10-27T19:58:57.057Z"
   },
   {
    "duration": 352,
    "start_time": "2021-10-27T19:59:21.002Z"
   },
   {
    "duration": 29,
    "start_time": "2021-10-27T19:59:27.651Z"
   },
   {
    "duration": 875,
    "start_time": "2021-10-27T19:59:47.078Z"
   },
   {
    "duration": 146,
    "start_time": "2021-10-27T19:59:47.955Z"
   },
   {
    "duration": 25,
    "start_time": "2021-10-27T19:59:48.104Z"
   },
   {
    "duration": 139,
    "start_time": "2021-10-27T19:59:48.132Z"
   },
   {
    "duration": 708,
    "start_time": "2021-10-27T19:59:48.274Z"
   },
   {
    "duration": 4221,
    "start_time": "2021-10-27T19:59:48.984Z"
   },
   {
    "duration": 16,
    "start_time": "2021-10-27T19:59:53.207Z"
   },
   {
    "duration": 23225,
    "start_time": "2021-10-27T19:59:53.227Z"
   },
   {
    "duration": 17,
    "start_time": "2021-10-27T20:00:16.458Z"
   },
   {
    "duration": 104,
    "start_time": "2021-10-27T20:00:16.478Z"
   },
   {
    "duration": 7,
    "start_time": "2021-10-27T20:00:16.585Z"
   },
   {
    "duration": 8,
    "start_time": "2021-10-27T20:00:16.595Z"
   },
   {
    "duration": 22,
    "start_time": "2021-10-27T20:00:16.606Z"
   },
   {
    "duration": 28,
    "start_time": "2021-10-27T20:00:16.631Z"
   },
   {
    "duration": 11,
    "start_time": "2021-10-27T20:00:16.661Z"
   },
   {
    "duration": 26,
    "start_time": "2021-10-27T20:00:16.675Z"
   },
   {
    "duration": 8,
    "start_time": "2021-10-27T20:00:16.703Z"
   },
   {
    "duration": 45,
    "start_time": "2021-10-27T20:00:16.713Z"
   },
   {
    "duration": 13,
    "start_time": "2021-10-27T20:00:16.760Z"
   },
   {
    "duration": 22,
    "start_time": "2021-10-27T20:00:16.775Z"
   },
   {
    "duration": 11,
    "start_time": "2021-10-27T20:00:16.800Z"
   },
   {
    "duration": 3,
    "start_time": "2021-10-27T20:00:16.813Z"
   },
   {
    "duration": 10,
    "start_time": "2021-10-27T20:00:16.860Z"
   },
   {
    "duration": 5,
    "start_time": "2021-10-27T20:00:16.874Z"
   },
   {
    "duration": 14,
    "start_time": "2021-10-27T20:00:16.882Z"
   },
   {
    "duration": 5,
    "start_time": "2021-10-27T20:00:16.898Z"
   },
   {
    "duration": 15,
    "start_time": "2021-10-27T20:00:16.905Z"
   },
   {
    "duration": 3,
    "start_time": "2021-10-27T20:00:16.958Z"
   },
   {
    "duration": 19,
    "start_time": "2021-10-27T20:00:16.963Z"
   },
   {
    "duration": 4,
    "start_time": "2021-10-27T20:00:16.985Z"
   },
   {
    "duration": 15,
    "start_time": "2021-10-27T20:00:16.992Z"
   },
   {
    "duration": 5,
    "start_time": "2021-10-27T20:00:17.009Z"
   },
   {
    "duration": 48,
    "start_time": "2021-10-27T20:00:17.017Z"
   },
   {
    "duration": 6,
    "start_time": "2021-10-27T20:00:17.068Z"
   },
   {
    "duration": 16,
    "start_time": "2021-10-27T20:00:17.077Z"
   },
   {
    "duration": 3,
    "start_time": "2021-10-27T20:00:17.096Z"
   },
   {
    "duration": 19,
    "start_time": "2021-10-27T20:00:17.102Z"
   },
   {
    "duration": 55,
    "start_time": "2021-10-27T20:00:17.124Z"
   },
   {
    "duration": 10,
    "start_time": "2021-10-27T20:00:17.182Z"
   },
   {
    "duration": 31,
    "start_time": "2021-10-27T20:00:17.194Z"
   },
   {
    "duration": 3,
    "start_time": "2021-10-27T20:00:17.228Z"
   },
   {
    "duration": 31,
    "start_time": "2021-10-27T20:00:17.233Z"
   },
   {
    "duration": 5,
    "start_time": "2021-10-27T20:00:17.267Z"
   },
   {
    "duration": 43,
    "start_time": "2021-10-27T20:00:17.274Z"
   },
   {
    "duration": 46,
    "start_time": "2021-10-27T20:00:17.320Z"
   },
   {
    "duration": 40,
    "start_time": "2021-10-27T20:00:17.368Z"
   },
   {
    "duration": 3,
    "start_time": "2021-10-27T20:00:17.411Z"
   },
   {
    "duration": 44,
    "start_time": "2021-10-27T20:00:17.416Z"
   },
   {
    "duration": 4,
    "start_time": "2021-10-27T20:00:17.462Z"
   },
   {
    "duration": 27,
    "start_time": "2021-10-27T20:00:17.468Z"
   },
   {
    "duration": 3,
    "start_time": "2021-10-27T20:00:17.497Z"
   },
   {
    "duration": 56,
    "start_time": "2021-10-27T20:00:17.502Z"
   },
   {
    "duration": 3,
    "start_time": "2021-10-27T20:00:17.561Z"
   },
   {
    "duration": 26,
    "start_time": "2021-10-27T20:00:17.566Z"
   },
   {
    "duration": 11,
    "start_time": "2021-10-27T20:00:17.594Z"
   },
   {
    "duration": 5,
    "start_time": "2021-10-27T20:00:17.607Z"
   },
   {
    "duration": 4,
    "start_time": "2021-10-27T20:00:17.614Z"
   },
   {
    "duration": 47,
    "start_time": "2021-10-27T20:00:17.621Z"
   },
   {
    "duration": 12,
    "start_time": "2021-10-27T20:00:17.670Z"
   },
   {
    "duration": 11,
    "start_time": "2021-10-27T20:00:17.685Z"
   },
   {
    "duration": 17986,
    "start_time": "2021-10-27T20:00:17.698Z"
   },
   {
    "duration": 465,
    "start_time": "2021-10-27T20:00:35.686Z"
   },
   {
    "duration": -573,
    "start_time": "2021-10-27T20:00:36.728Z"
   },
   {
    "duration": -575,
    "start_time": "2021-10-27T20:00:36.732Z"
   },
   {
    "duration": -576,
    "start_time": "2021-10-27T20:00:36.735Z"
   },
   {
    "duration": -578,
    "start_time": "2021-10-27T20:00:36.738Z"
   },
   {
    "duration": -580,
    "start_time": "2021-10-27T20:00:36.741Z"
   },
   {
    "duration": -582,
    "start_time": "2021-10-27T20:00:36.744Z"
   },
   {
    "duration": -584,
    "start_time": "2021-10-27T20:00:36.748Z"
   },
   {
    "duration": -1024,
    "start_time": "2021-10-27T20:00:37.189Z"
   },
   {
    "duration": -1027,
    "start_time": "2021-10-27T20:00:37.193Z"
   },
   {
    "duration": -1028,
    "start_time": "2021-10-27T20:00:37.196Z"
   },
   {
    "duration": -1030,
    "start_time": "2021-10-27T20:00:37.199Z"
   },
   {
    "duration": -1032,
    "start_time": "2021-10-27T20:00:37.202Z"
   },
   {
    "duration": -1034,
    "start_time": "2021-10-27T20:00:37.205Z"
   },
   {
    "duration": -1035,
    "start_time": "2021-10-27T20:00:37.208Z"
   },
   {
    "duration": -1037,
    "start_time": "2021-10-27T20:00:37.211Z"
   },
   {
    "duration": -1039,
    "start_time": "2021-10-27T20:00:37.214Z"
   },
   {
    "duration": -1041,
    "start_time": "2021-10-27T20:00:37.217Z"
   },
   {
    "duration": -1042,
    "start_time": "2021-10-27T20:00:37.220Z"
   },
   {
    "duration": -1044,
    "start_time": "2021-10-27T20:00:37.223Z"
   },
   {
    "duration": -1046,
    "start_time": "2021-10-27T20:00:37.226Z"
   },
   {
    "duration": -1049,
    "start_time": "2021-10-27T20:00:37.230Z"
   },
   {
    "duration": -1050,
    "start_time": "2021-10-27T20:00:37.233Z"
   },
   {
    "duration": -1052,
    "start_time": "2021-10-27T20:00:37.236Z"
   },
   {
    "duration": -1054,
    "start_time": "2021-10-27T20:00:37.239Z"
   },
   {
    "duration": -1055,
    "start_time": "2021-10-27T20:00:37.242Z"
   },
   {
    "duration": -1057,
    "start_time": "2021-10-27T20:00:37.245Z"
   },
   {
    "duration": -1059,
    "start_time": "2021-10-27T20:00:37.248Z"
   },
   {
    "duration": -1062,
    "start_time": "2021-10-27T20:00:37.252Z"
   },
   {
    "duration": -1065,
    "start_time": "2021-10-27T20:00:37.257Z"
   },
   {
    "duration": -1068,
    "start_time": "2021-10-27T20:00:37.261Z"
   },
   {
    "duration": -1072,
    "start_time": "2021-10-27T20:00:37.266Z"
   },
   {
    "duration": -1074,
    "start_time": "2021-10-27T20:00:37.270Z"
   },
   {
    "duration": -1077,
    "start_time": "2021-10-27T20:00:37.274Z"
   },
   {
    "duration": -1021,
    "start_time": "2021-10-27T20:00:37.278Z"
   },
   {
    "duration": -1022,
    "start_time": "2021-10-27T20:00:37.281Z"
   },
   {
    "duration": -1024,
    "start_time": "2021-10-27T20:00:37.284Z"
   },
   {
    "duration": -1155,
    "start_time": "2021-10-27T20:00:37.417Z"
   },
   {
    "duration": -1168,
    "start_time": "2021-10-27T20:00:37.431Z"
   },
   {
    "duration": -1169,
    "start_time": "2021-10-27T20:00:37.434Z"
   },
   {
    "duration": -1171,
    "start_time": "2021-10-27T20:00:37.437Z"
   },
   {
    "duration": -1173,
    "start_time": "2021-10-27T20:00:37.440Z"
   },
   {
    "duration": 6,
    "start_time": "2021-10-27T20:02:10.286Z"
   },
   {
    "duration": 18,
    "start_time": "2021-10-27T20:02:17.874Z"
   },
   {
    "duration": 18,
    "start_time": "2021-10-27T20:02:24.513Z"
   },
   {
    "duration": 6,
    "start_time": "2021-10-27T20:02:24.534Z"
   },
   {
    "duration": 31,
    "start_time": "2021-10-27T20:02:24.544Z"
   },
   {
    "duration": 4,
    "start_time": "2021-10-27T20:02:24.578Z"
   },
   {
    "duration": 73,
    "start_time": "2021-10-27T20:02:24.584Z"
   },
   {
    "duration": 3,
    "start_time": "2021-10-27T20:02:24.660Z"
   },
   {
    "duration": 11,
    "start_time": "2021-10-27T20:02:24.665Z"
   },
   {
    "duration": 14,
    "start_time": "2021-10-27T20:02:24.680Z"
   },
   {
    "duration": 466,
    "start_time": "2021-10-27T20:02:24.697Z"
   },
   {
    "duration": 3,
    "start_time": "2021-10-27T20:02:25.166Z"
   },
   {
    "duration": 15,
    "start_time": "2021-10-27T20:02:25.172Z"
   },
   {
    "duration": 437,
    "start_time": "2021-10-27T20:02:25.189Z"
   },
   {
    "duration": 3,
    "start_time": "2021-10-27T20:02:25.629Z"
   },
   {
    "duration": 31,
    "start_time": "2021-10-27T20:02:25.634Z"
   },
   {
    "duration": 415,
    "start_time": "2021-10-27T20:02:25.667Z"
   },
   {
    "duration": 3,
    "start_time": "2021-10-27T20:02:26.084Z"
   },
   {
    "duration": 16,
    "start_time": "2021-10-27T20:02:26.089Z"
   },
   {
    "duration": 529,
    "start_time": "2021-10-27T20:02:26.108Z"
   },
   {
    "duration": 3,
    "start_time": "2021-10-27T20:02:26.640Z"
   },
   {
    "duration": 8,
    "start_time": "2021-10-27T20:02:26.657Z"
   },
   {
    "duration": 287,
    "start_time": "2021-10-27T20:02:26.667Z"
   },
   {
    "duration": 3,
    "start_time": "2021-10-27T20:02:26.958Z"
   },
   {
    "duration": 27,
    "start_time": "2021-10-27T20:02:26.966Z"
   },
   {
    "duration": 6,
    "start_time": "2021-10-27T20:02:26.997Z"
   },
   {
    "duration": 731,
    "start_time": "2021-10-27T20:02:27.006Z"
   },
   {
    "duration": -554,
    "start_time": "2021-10-27T20:02:28.293Z"
   },
   {
    "duration": -556,
    "start_time": "2021-10-27T20:02:28.297Z"
   },
   {
    "duration": -657,
    "start_time": "2021-10-27T20:02:28.399Z"
   },
   {
    "duration": -659,
    "start_time": "2021-10-27T20:02:28.403Z"
   },
   {
    "duration": -662,
    "start_time": "2021-10-27T20:02:28.407Z"
   },
   {
    "duration": -663,
    "start_time": "2021-10-27T20:02:28.410Z"
   },
   {
    "duration": -666,
    "start_time": "2021-10-27T20:02:28.414Z"
   },
   {
    "duration": -667,
    "start_time": "2021-10-27T20:02:28.417Z"
   },
   {
    "duration": -669,
    "start_time": "2021-10-27T20:02:28.420Z"
   },
   {
    "duration": -733,
    "start_time": "2021-10-27T20:02:28.485Z"
   },
   {
    "duration": -734,
    "start_time": "2021-10-27T20:02:28.488Z"
   },
   {
    "duration": -737,
    "start_time": "2021-10-27T20:02:28.492Z"
   },
   {
    "duration": -738,
    "start_time": "2021-10-27T20:02:28.495Z"
   },
   {
    "duration": -741,
    "start_time": "2021-10-27T20:02:28.499Z"
   },
   {
    "duration": -744,
    "start_time": "2021-10-27T20:02:28.504Z"
   },
   {
    "duration": 856,
    "start_time": "2021-10-27T20:02:57.511Z"
   },
   {
    "duration": 657,
    "start_time": "2021-10-27T20:04:53.047Z"
   },
   {
    "duration": 14,
    "start_time": "2021-10-27T20:05:58.138Z"
   },
   {
    "duration": 696,
    "start_time": "2021-10-27T20:06:54.716Z"
   },
   {
    "duration": 668,
    "start_time": "2021-10-27T20:08:10.109Z"
   },
   {
    "duration": 883,
    "start_time": "2021-10-27T20:13:54.853Z"
   },
   {
    "duration": 840,
    "start_time": "2021-10-27T20:14:27.696Z"
   },
   {
    "duration": 145,
    "start_time": "2021-10-27T20:14:28.539Z"
   },
   {
    "duration": 25,
    "start_time": "2021-10-27T20:14:28.687Z"
   },
   {
    "duration": 142,
    "start_time": "2021-10-27T20:14:28.715Z"
   },
   {
    "duration": 718,
    "start_time": "2021-10-27T20:14:28.860Z"
   },
   {
    "duration": 4014,
    "start_time": "2021-10-27T20:14:29.580Z"
   },
   {
    "duration": 17,
    "start_time": "2021-10-27T20:14:33.596Z"
   },
   {
    "duration": 23671,
    "start_time": "2021-10-27T20:14:33.617Z"
   },
   {
    "duration": 18,
    "start_time": "2021-10-27T20:14:57.291Z"
   },
   {
    "duration": 108,
    "start_time": "2021-10-27T20:14:57.312Z"
   },
   {
    "duration": 8,
    "start_time": "2021-10-27T20:14:57.423Z"
   },
   {
    "duration": 8,
    "start_time": "2021-10-27T20:14:57.433Z"
   },
   {
    "duration": 21,
    "start_time": "2021-10-27T20:14:57.458Z"
   },
   {
    "duration": 9,
    "start_time": "2021-10-27T20:14:57.481Z"
   },
   {
    "duration": 13,
    "start_time": "2021-10-27T20:14:57.493Z"
   },
   {
    "duration": 66,
    "start_time": "2021-10-27T20:14:57.509Z"
   },
   {
    "duration": 9,
    "start_time": "2021-10-27T20:14:57.577Z"
   },
   {
    "duration": 3,
    "start_time": "2021-10-27T20:14:57.589Z"
   },
   {
    "duration": 13,
    "start_time": "2021-10-27T20:14:57.595Z"
   },
   {
    "duration": 57,
    "start_time": "2021-10-27T20:14:57.610Z"
   },
   {
    "duration": 12,
    "start_time": "2021-10-27T20:14:57.669Z"
   },
   {
    "duration": 9,
    "start_time": "2021-10-27T20:14:57.683Z"
   },
   {
    "duration": 9,
    "start_time": "2021-10-27T20:14:57.698Z"
   },
   {
    "duration": 3,
    "start_time": "2021-10-27T20:14:57.711Z"
   },
   {
    "duration": 48,
    "start_time": "2021-10-27T20:14:57.716Z"
   },
   {
    "duration": 8,
    "start_time": "2021-10-27T20:14:57.766Z"
   },
   {
    "duration": 16,
    "start_time": "2021-10-27T20:14:57.776Z"
   },
   {
    "duration": 3,
    "start_time": "2021-10-27T20:14:57.794Z"
   },
   {
    "duration": 17,
    "start_time": "2021-10-27T20:14:57.799Z"
   },
   {
    "duration": 6,
    "start_time": "2021-10-27T20:14:57.818Z"
   },
   {
    "duration": 16,
    "start_time": "2021-10-27T20:14:57.858Z"
   },
   {
    "duration": 5,
    "start_time": "2021-10-27T20:14:57.876Z"
   },
   {
    "duration": 17,
    "start_time": "2021-10-27T20:14:57.883Z"
   },
   {
    "duration": 11,
    "start_time": "2021-10-27T20:14:57.903Z"
   },
   {
    "duration": 23,
    "start_time": "2021-10-27T20:14:57.916Z"
   },
   {
    "duration": 3,
    "start_time": "2021-10-27T20:14:57.958Z"
   },
   {
    "duration": 18,
    "start_time": "2021-10-27T20:14:57.963Z"
   },
   {
    "duration": 19,
    "start_time": "2021-10-27T20:14:57.984Z"
   },
   {
    "duration": 9,
    "start_time": "2021-10-27T20:14:58.006Z"
   },
   {
    "duration": 61,
    "start_time": "2021-10-27T20:14:58.018Z"
   },
   {
    "duration": 3,
    "start_time": "2021-10-27T20:14:58.082Z"
   },
   {
    "duration": 12,
    "start_time": "2021-10-27T20:14:58.087Z"
   },
   {
    "duration": 2,
    "start_time": "2021-10-27T20:14:58.101Z"
   },
   {
    "duration": 52,
    "start_time": "2021-10-27T20:14:58.105Z"
   },
   {
    "duration": 29,
    "start_time": "2021-10-27T20:14:58.160Z"
   },
   {
    "duration": 40,
    "start_time": "2021-10-27T20:14:58.191Z"
   },
   {
    "duration": 25,
    "start_time": "2021-10-27T20:14:58.233Z"
   },
   {
    "duration": 18,
    "start_time": "2021-10-27T20:14:58.261Z"
   },
   {
    "duration": 3,
    "start_time": "2021-10-27T20:14:58.282Z"
   },
   {
    "duration": 18,
    "start_time": "2021-10-27T20:14:58.288Z"
   },
   {
    "duration": 3,
    "start_time": "2021-10-27T20:14:58.309Z"
   },
   {
    "duration": 36,
    "start_time": "2021-10-27T20:14:58.357Z"
   },
   {
    "duration": 23,
    "start_time": "2021-10-27T20:14:58.395Z"
   },
   {
    "duration": 25,
    "start_time": "2021-10-27T20:14:58.421Z"
   },
   {
    "duration": 10,
    "start_time": "2021-10-27T20:14:58.449Z"
   },
   {
    "duration": 13,
    "start_time": "2021-10-27T20:14:58.461Z"
   },
   {
    "duration": 4,
    "start_time": "2021-10-27T20:14:58.476Z"
   },
   {
    "duration": 17,
    "start_time": "2021-10-27T20:14:58.482Z"
   },
   {
    "duration": 15,
    "start_time": "2021-10-27T20:14:58.502Z"
   },
   {
    "duration": 14,
    "start_time": "2021-10-27T20:14:58.558Z"
   },
   {
    "duration": 17889,
    "start_time": "2021-10-27T20:14:58.575Z"
   },
   {
    "duration": 6,
    "start_time": "2021-10-27T20:15:16.466Z"
   },
   {
    "duration": 21,
    "start_time": "2021-10-27T20:15:16.475Z"
   },
   {
    "duration": 6,
    "start_time": "2021-10-27T20:15:16.498Z"
   },
   {
    "duration": 65,
    "start_time": "2021-10-27T20:15:16.506Z"
   },
   {
    "duration": 3,
    "start_time": "2021-10-27T20:15:16.573Z"
   },
   {
    "duration": 43,
    "start_time": "2021-10-27T20:15:16.578Z"
   },
   {
    "duration": 3,
    "start_time": "2021-10-27T20:15:16.629Z"
   },
   {
    "duration": 3,
    "start_time": "2021-10-27T20:15:16.659Z"
   },
   {
    "duration": 14,
    "start_time": "2021-10-27T20:15:16.664Z"
   },
   {
    "duration": 453,
    "start_time": "2021-10-27T20:15:16.680Z"
   },
   {
    "duration": 2,
    "start_time": "2021-10-27T20:15:17.136Z"
   },
   {
    "duration": 25,
    "start_time": "2021-10-27T20:15:17.140Z"
   },
   {
    "duration": 433,
    "start_time": "2021-10-27T20:15:17.168Z"
   },
   {
    "duration": 4,
    "start_time": "2021-10-27T20:15:17.603Z"
   },
   {
    "duration": 25,
    "start_time": "2021-10-27T20:15:17.609Z"
   },
   {
    "duration": 526,
    "start_time": "2021-10-27T20:15:17.637Z"
   },
   {
    "duration": 5,
    "start_time": "2021-10-27T20:15:18.166Z"
   },
   {
    "duration": 19,
    "start_time": "2021-10-27T20:15:18.173Z"
   },
   {
    "duration": 447,
    "start_time": "2021-10-27T20:15:18.195Z"
   },
   {
    "duration": 12,
    "start_time": "2021-10-27T20:15:18.645Z"
   },
   {
    "duration": 19,
    "start_time": "2021-10-27T20:15:18.659Z"
   },
   {
    "duration": 276,
    "start_time": "2021-10-27T20:15:18.681Z"
   },
   {
    "duration": 3,
    "start_time": "2021-10-27T20:15:18.960Z"
   },
   {
    "duration": 803,
    "start_time": "2021-10-27T20:15:18.966Z"
   },
   {
    "duration": -470,
    "start_time": "2021-10-27T20:15:20.241Z"
   },
   {
    "duration": -470,
    "start_time": "2021-10-27T20:15:20.243Z"
   },
   {
    "duration": -474,
    "start_time": "2021-10-27T20:15:20.248Z"
   },
   {
    "duration": -477,
    "start_time": "2021-10-27T20:15:20.252Z"
   },
   {
    "duration": -478,
    "start_time": "2021-10-27T20:15:20.255Z"
   },
   {
    "duration": -481,
    "start_time": "2021-10-27T20:15:20.259Z"
   },
   {
    "duration": -583,
    "start_time": "2021-10-27T20:15:20.363Z"
   },
   {
    "duration": -586,
    "start_time": "2021-10-27T20:15:20.367Z"
   },
   {
    "duration": -587,
    "start_time": "2021-10-27T20:15:20.370Z"
   },
   {
    "duration": -589,
    "start_time": "2021-10-27T20:15:20.373Z"
   },
   {
    "duration": -591,
    "start_time": "2021-10-27T20:15:20.376Z"
   },
   {
    "duration": -598,
    "start_time": "2021-10-27T20:15:20.384Z"
   },
   {
    "duration": -599,
    "start_time": "2021-10-27T20:15:20.387Z"
   },
   {
    "duration": -602,
    "start_time": "2021-10-27T20:15:20.391Z"
   },
   {
    "duration": -604,
    "start_time": "2021-10-27T20:15:20.394Z"
   },
   {
    "duration": 982,
    "start_time": "2021-10-27T20:16:00.592Z"
   },
   {
    "duration": 25,
    "start_time": "2021-10-27T20:16:41.512Z"
   },
   {
    "duration": 672,
    "start_time": "2021-10-27T20:17:46.313Z"
   },
   {
    "duration": 29,
    "start_time": "2021-10-27T20:18:33.686Z"
   },
   {
    "duration": 30,
    "start_time": "2021-10-27T20:18:44.163Z"
   },
   {
    "duration": 41,
    "start_time": "2021-10-27T20:18:44.196Z"
   },
   {
    "duration": 6,
    "start_time": "2021-10-27T20:18:44.256Z"
   },
   {
    "duration": 14,
    "start_time": "2021-10-27T20:18:44.265Z"
   },
   {
    "duration": 19,
    "start_time": "2021-10-27T20:18:44.281Z"
   },
   {
    "duration": 746,
    "start_time": "2021-10-27T20:18:44.304Z"
   },
   {
    "duration": 3,
    "start_time": "2021-10-27T20:18:45.057Z"
   },
   {
    "duration": 747,
    "start_time": "2021-10-27T20:18:45.063Z"
   },
   {
    "duration": 3,
    "start_time": "2021-10-27T20:18:45.813Z"
   },
   {
    "duration": 722,
    "start_time": "2021-10-27T20:18:45.818Z"
   },
   {
    "duration": 15,
    "start_time": "2021-10-27T20:18:46.543Z"
   },
   {
    "duration": 717,
    "start_time": "2021-10-27T20:18:46.561Z"
   },
   {
    "duration": 3,
    "start_time": "2021-10-27T20:18:47.281Z"
   },
   {
    "duration": 834,
    "start_time": "2021-10-27T20:18:47.286Z"
   },
   {
    "duration": 3,
    "start_time": "2021-10-27T20:18:48.123Z"
   },
   {
    "duration": 403,
    "start_time": "2021-10-27T20:18:48.128Z"
   },
   {
    "duration": 31,
    "start_time": "2021-10-27T20:19:37.635Z"
   },
   {
    "duration": 645,
    "start_time": "2021-10-27T20:19:37.669Z"
   },
   {
    "duration": -264,
    "start_time": "2021-10-27T20:19:38.581Z"
   },
   {
    "duration": -268,
    "start_time": "2021-10-27T20:19:38.586Z"
   },
   {
    "duration": -270,
    "start_time": "2021-10-27T20:19:38.590Z"
   },
   {
    "duration": -273,
    "start_time": "2021-10-27T20:19:38.594Z"
   },
   {
    "duration": -275,
    "start_time": "2021-10-27T20:19:38.598Z"
   },
   {
    "duration": -277,
    "start_time": "2021-10-27T20:19:38.601Z"
   },
   {
    "duration": -280,
    "start_time": "2021-10-27T20:19:38.605Z"
   },
   {
    "duration": -390,
    "start_time": "2021-10-27T20:19:38.717Z"
   },
   {
    "duration": -393,
    "start_time": "2021-10-27T20:19:38.721Z"
   },
   {
    "duration": -406,
    "start_time": "2021-10-27T20:19:38.735Z"
   },
   {
    "duration": -408,
    "start_time": "2021-10-27T20:19:38.738Z"
   },
   {
    "duration": -410,
    "start_time": "2021-10-27T20:19:38.741Z"
   },
   {
    "duration": -411,
    "start_time": "2021-10-27T20:19:38.744Z"
   },
   {
    "duration": -413,
    "start_time": "2021-10-27T20:19:38.747Z"
   },
   {
    "duration": -415,
    "start_time": "2021-10-27T20:19:38.750Z"
   },
   {
    "duration": 30,
    "start_time": "2021-10-27T20:20:54.418Z"
   },
   {
    "duration": 34,
    "start_time": "2021-10-27T20:20:54.450Z"
   },
   {
    "duration": 5,
    "start_time": "2021-10-27T20:20:54.487Z"
   },
   {
    "duration": 12,
    "start_time": "2021-10-27T20:20:54.495Z"
   },
   {
    "duration": 3,
    "start_time": "2021-10-27T20:20:54.563Z"
   },
   {
    "duration": 717,
    "start_time": "2021-10-27T20:20:54.569Z"
   },
   {
    "duration": 4,
    "start_time": "2021-10-27T20:20:55.290Z"
   },
   {
    "duration": 717,
    "start_time": "2021-10-27T20:20:55.296Z"
   },
   {
    "duration": 3,
    "start_time": "2021-10-27T20:20:56.015Z"
   },
   {
    "duration": 736,
    "start_time": "2021-10-27T20:20:56.021Z"
   },
   {
    "duration": 3,
    "start_time": "2021-10-27T20:20:56.760Z"
   },
   {
    "duration": 718,
    "start_time": "2021-10-27T20:20:56.765Z"
   },
   {
    "duration": 3,
    "start_time": "2021-10-27T20:20:57.487Z"
   },
   {
    "duration": 809,
    "start_time": "2021-10-27T20:20:57.493Z"
   },
   {
    "duration": 3,
    "start_time": "2021-10-27T20:20:58.304Z"
   },
   {
    "duration": 400,
    "start_time": "2021-10-27T20:20:58.309Z"
   },
   {
    "duration": 562,
    "start_time": "2021-10-27T20:21:58.098Z"
   },
   {
    "duration": 26,
    "start_time": "2021-10-27T20:22:59.776Z"
   },
   {
    "duration": 646,
    "start_time": "2021-10-27T20:23:06.616Z"
   },
   {
    "duration": 918,
    "start_time": "2021-10-27T20:23:16.627Z"
   },
   {
    "duration": 154,
    "start_time": "2021-10-27T20:23:17.547Z"
   },
   {
    "duration": 26,
    "start_time": "2021-10-27T20:23:17.704Z"
   },
   {
    "duration": 139,
    "start_time": "2021-10-27T20:23:17.733Z"
   },
   {
    "duration": 1261,
    "start_time": "2021-10-27T20:23:17.875Z"
   },
   {
    "duration": 3846,
    "start_time": "2021-10-27T20:23:19.138Z"
   },
   {
    "duration": 17,
    "start_time": "2021-10-27T20:23:22.987Z"
   },
   {
    "duration": 22456,
    "start_time": "2021-10-27T20:23:23.008Z"
   },
   {
    "duration": 24,
    "start_time": "2021-10-27T20:23:45.468Z"
   },
   {
    "duration": 132,
    "start_time": "2021-10-27T20:23:45.495Z"
   },
   {
    "duration": 8,
    "start_time": "2021-10-27T20:23:45.629Z"
   },
   {
    "duration": 20,
    "start_time": "2021-10-27T20:23:45.639Z"
   },
   {
    "duration": 22,
    "start_time": "2021-10-27T20:23:45.662Z"
   },
   {
    "duration": 13,
    "start_time": "2021-10-27T20:23:45.687Z"
   },
   {
    "duration": 15,
    "start_time": "2021-10-27T20:23:45.703Z"
   },
   {
    "duration": 56,
    "start_time": "2021-10-27T20:23:45.720Z"
   },
   {
    "duration": 9,
    "start_time": "2021-10-27T20:23:45.778Z"
   },
   {
    "duration": 4,
    "start_time": "2021-10-27T20:23:45.789Z"
   },
   {
    "duration": 14,
    "start_time": "2021-10-27T20:23:45.795Z"
   },
   {
    "duration": 60,
    "start_time": "2021-10-27T20:23:45.811Z"
   },
   {
    "duration": 13,
    "start_time": "2021-10-27T20:23:45.873Z"
   },
   {
    "duration": 23,
    "start_time": "2021-10-27T20:23:45.888Z"
   },
   {
    "duration": 10,
    "start_time": "2021-10-27T20:23:45.918Z"
   },
   {
    "duration": 3,
    "start_time": "2021-10-27T20:23:45.932Z"
   },
   {
    "duration": 30,
    "start_time": "2021-10-27T20:23:45.937Z"
   },
   {
    "duration": 4,
    "start_time": "2021-10-27T20:23:45.970Z"
   },
   {
    "duration": 15,
    "start_time": "2021-10-27T20:23:45.976Z"
   },
   {
    "duration": 3,
    "start_time": "2021-10-27T20:23:45.993Z"
   },
   {
    "duration": 16,
    "start_time": "2021-10-27T20:23:45.998Z"
   },
   {
    "duration": 40,
    "start_time": "2021-10-27T20:23:46.017Z"
   },
   {
    "duration": 18,
    "start_time": "2021-10-27T20:23:46.060Z"
   },
   {
    "duration": 11,
    "start_time": "2021-10-27T20:23:46.081Z"
   },
   {
    "duration": 21,
    "start_time": "2021-10-27T20:23:46.094Z"
   },
   {
    "duration": 8,
    "start_time": "2021-10-27T20:23:46.118Z"
   },
   {
    "duration": 14,
    "start_time": "2021-10-27T20:23:46.128Z"
   },
   {
    "duration": 3,
    "start_time": "2021-10-27T20:23:46.144Z"
   },
   {
    "duration": 14,
    "start_time": "2021-10-27T20:23:46.158Z"
   },
   {
    "duration": 28,
    "start_time": "2021-10-27T20:23:46.174Z"
   },
   {
    "duration": 23,
    "start_time": "2021-10-27T20:23:46.205Z"
   },
   {
    "duration": 39,
    "start_time": "2021-10-27T20:23:46.230Z"
   },
   {
    "duration": 3,
    "start_time": "2021-10-27T20:23:46.271Z"
   },
   {
    "duration": 28,
    "start_time": "2021-10-27T20:23:46.276Z"
   },
   {
    "duration": 16,
    "start_time": "2021-10-27T20:23:46.307Z"
   },
   {
    "duration": 43,
    "start_time": "2021-10-27T20:23:46.325Z"
   },
   {
    "duration": 41,
    "start_time": "2021-10-27T20:23:46.370Z"
   },
   {
    "duration": 58,
    "start_time": "2021-10-27T20:23:46.414Z"
   },
   {
    "duration": 4,
    "start_time": "2021-10-27T20:23:46.475Z"
   },
   {
    "duration": 50,
    "start_time": "2021-10-27T20:23:46.482Z"
   },
   {
    "duration": 8,
    "start_time": "2021-10-27T20:23:46.535Z"
   },
   {
    "duration": 29,
    "start_time": "2021-10-27T20:23:46.545Z"
   },
   {
    "duration": 15,
    "start_time": "2021-10-27T20:23:46.578Z"
   },
   {
    "duration": 59,
    "start_time": "2021-10-27T20:23:46.596Z"
   },
   {
    "duration": 15,
    "start_time": "2021-10-27T20:23:46.657Z"
   },
   {
    "duration": 45,
    "start_time": "2021-10-27T20:23:46.674Z"
   },
   {
    "duration": 39,
    "start_time": "2021-10-27T20:23:46.722Z"
   },
   {
    "duration": 23,
    "start_time": "2021-10-27T20:23:46.763Z"
   },
   {
    "duration": 13,
    "start_time": "2021-10-27T20:23:46.788Z"
   },
   {
    "duration": 41,
    "start_time": "2021-10-27T20:23:46.803Z"
   },
   {
    "duration": 24,
    "start_time": "2021-10-27T20:23:46.847Z"
   },
   {
    "duration": 18,
    "start_time": "2021-10-27T20:23:46.873Z"
   },
   {
    "duration": 17886,
    "start_time": "2021-10-27T20:23:46.894Z"
   },
   {
    "duration": 5,
    "start_time": "2021-10-27T20:24:04.783Z"
   },
   {
    "duration": 22,
    "start_time": "2021-10-27T20:24:04.790Z"
   },
   {
    "duration": 6,
    "start_time": "2021-10-27T20:24:04.814Z"
   },
   {
    "duration": 58,
    "start_time": "2021-10-27T20:24:04.822Z"
   },
   {
    "duration": 3,
    "start_time": "2021-10-27T20:24:04.882Z"
   },
   {
    "duration": 38,
    "start_time": "2021-10-27T20:24:04.888Z"
   },
   {
    "duration": 23,
    "start_time": "2021-10-27T20:24:04.934Z"
   },
   {
    "duration": 9,
    "start_time": "2021-10-27T20:24:04.961Z"
   },
   {
    "duration": 18,
    "start_time": "2021-10-27T20:24:04.972Z"
   },
   {
    "duration": 457,
    "start_time": "2021-10-27T20:24:04.993Z"
   },
   {
    "duration": 4,
    "start_time": "2021-10-27T20:24:05.456Z"
   },
   {
    "duration": 19,
    "start_time": "2021-10-27T20:24:05.462Z"
   },
   {
    "duration": 428,
    "start_time": "2021-10-27T20:24:05.483Z"
   },
   {
    "duration": 3,
    "start_time": "2021-10-27T20:24:05.913Z"
   },
   {
    "duration": 25,
    "start_time": "2021-10-27T20:24:05.918Z"
   },
   {
    "duration": 414,
    "start_time": "2021-10-27T20:24:05.946Z"
   },
   {
    "duration": 3,
    "start_time": "2021-10-27T20:24:06.363Z"
   },
   {
    "duration": 14,
    "start_time": "2021-10-27T20:24:06.368Z"
   },
   {
    "duration": 437,
    "start_time": "2021-10-27T20:24:06.384Z"
   },
   {
    "duration": 3,
    "start_time": "2021-10-27T20:24:06.824Z"
   },
   {
    "duration": 29,
    "start_time": "2021-10-27T20:24:06.830Z"
   },
   {
    "duration": 276,
    "start_time": "2021-10-27T20:24:06.861Z"
   },
   {
    "duration": 3,
    "start_time": "2021-10-27T20:24:07.139Z"
   },
   {
    "duration": 35,
    "start_time": "2021-10-27T20:24:07.144Z"
   },
   {
    "duration": 43,
    "start_time": "2021-10-27T20:24:07.181Z"
   },
   {
    "duration": 4,
    "start_time": "2021-10-27T20:24:07.227Z"
   },
   {
    "duration": 28,
    "start_time": "2021-10-27T20:24:07.233Z"
   },
   {
    "duration": 8,
    "start_time": "2021-10-27T20:24:07.263Z"
   },
   {
    "duration": 731,
    "start_time": "2021-10-27T20:24:07.274Z"
   },
   {
    "duration": 3,
    "start_time": "2021-10-27T20:24:08.007Z"
   },
   {
    "duration": 688,
    "start_time": "2021-10-27T20:24:08.013Z"
   },
   {
    "duration": 3,
    "start_time": "2021-10-27T20:24:08.704Z"
   },
   {
    "duration": 723,
    "start_time": "2021-10-27T20:24:08.710Z"
   },
   {
    "duration": 3,
    "start_time": "2021-10-27T20:24:09.435Z"
   },
   {
    "duration": 699,
    "start_time": "2021-10-27T20:24:09.441Z"
   },
   {
    "duration": 15,
    "start_time": "2021-10-27T20:24:10.142Z"
   },
   {
    "duration": 789,
    "start_time": "2021-10-27T20:24:10.160Z"
   },
   {
    "duration": 8,
    "start_time": "2021-10-27T20:24:10.951Z"
   },
   {
    "duration": 537,
    "start_time": "2021-10-27T20:24:10.961Z"
   },
   {
    "duration": 7,
    "start_time": "2021-10-27T20:27:20.944Z"
   },
   {
    "duration": 8,
    "start_time": "2021-10-27T20:27:26.606Z"
   },
   {
    "duration": 11,
    "start_time": "2021-10-27T20:35:57.927Z"
   },
   {
    "duration": 38,
    "start_time": "2021-10-27T20:35:58.400Z"
   },
   {
    "duration": 12,
    "start_time": "2021-10-27T20:38:14.825Z"
   },
   {
    "duration": 37,
    "start_time": "2021-10-27T20:38:17.448Z"
   },
   {
    "duration": 7,
    "start_time": "2021-10-27T20:40:52.488Z"
   },
   {
    "duration": 44,
    "start_time": "2021-10-27T20:41:06.119Z"
   },
   {
    "duration": 8,
    "start_time": "2021-10-27T20:43:25.183Z"
   },
   {
    "duration": 8,
    "start_time": "2021-10-27T20:46:20.559Z"
   },
   {
    "duration": 12,
    "start_time": "2021-10-27T20:52:26.046Z"
   },
   {
    "duration": 302,
    "start_time": "2021-10-28T14:58:58.592Z"
   },
   {
    "duration": 353,
    "start_time": "2021-10-28T15:00:37.561Z"
   },
   {
    "duration": 677,
    "start_time": "2021-10-28T15:00:49.922Z"
   },
   {
    "duration": 104,
    "start_time": "2021-10-28T15:00:50.601Z"
   },
   {
    "duration": 19,
    "start_time": "2021-10-28T15:00:50.707Z"
   },
   {
    "duration": 92,
    "start_time": "2021-10-28T15:00:50.728Z"
   },
   {
    "duration": 561,
    "start_time": "2021-10-28T15:00:50.822Z"
   },
   {
    "duration": 2437,
    "start_time": "2021-10-28T15:00:51.385Z"
   },
   {
    "duration": 20,
    "start_time": "2021-10-28T15:00:53.824Z"
   },
   {
    "duration": 13524,
    "start_time": "2021-10-28T15:00:53.846Z"
   },
   {
    "duration": 10,
    "start_time": "2021-10-28T15:01:07.372Z"
   },
   {
    "duration": 67,
    "start_time": "2021-10-28T15:01:07.384Z"
   },
   {
    "duration": 5,
    "start_time": "2021-10-28T15:01:07.453Z"
   },
   {
    "duration": 9,
    "start_time": "2021-10-28T15:01:07.460Z"
   },
   {
    "duration": 20,
    "start_time": "2021-10-28T15:01:07.470Z"
   },
   {
    "duration": 6,
    "start_time": "2021-10-28T15:01:07.491Z"
   },
   {
    "duration": 11,
    "start_time": "2021-10-28T15:01:07.499Z"
   },
   {
    "duration": 34,
    "start_time": "2021-10-28T15:01:07.511Z"
   },
   {
    "duration": 7,
    "start_time": "2021-10-28T15:01:23.340Z"
   },
   {
    "duration": 2,
    "start_time": "2021-10-28T15:01:23.349Z"
   },
   {
    "duration": 11,
    "start_time": "2021-10-28T15:01:23.353Z"
   },
   {
    "duration": 15,
    "start_time": "2021-10-28T15:01:23.366Z"
   },
   {
    "duration": 12,
    "start_time": "2021-10-28T15:01:23.383Z"
   },
   {
    "duration": 6,
    "start_time": "2021-10-28T15:01:23.396Z"
   },
   {
    "duration": 13,
    "start_time": "2021-10-28T15:01:23.404Z"
   },
   {
    "duration": 2,
    "start_time": "2021-10-28T15:01:23.419Z"
   },
   {
    "duration": 10,
    "start_time": "2021-10-28T15:01:23.457Z"
   },
   {
    "duration": 5,
    "start_time": "2021-10-28T15:01:23.469Z"
   },
   {
    "duration": 11,
    "start_time": "2021-10-28T15:01:23.476Z"
   },
   {
    "duration": 2,
    "start_time": "2021-10-28T15:01:23.489Z"
   },
   {
    "duration": 9,
    "start_time": "2021-10-28T15:01:23.575Z"
   },
   {
    "duration": 8,
    "start_time": "2021-10-28T15:01:23.586Z"
   },
   {
    "duration": 12,
    "start_time": "2021-10-28T15:01:23.596Z"
   },
   {
    "duration": 4,
    "start_time": "2021-10-28T15:01:23.610Z"
   },
   {
    "duration": 10,
    "start_time": "2021-10-28T15:01:23.615Z"
   },
   {
    "duration": 2,
    "start_time": "2021-10-28T15:01:23.696Z"
   },
   {
    "duration": 10,
    "start_time": "2021-10-28T15:01:23.700Z"
   },
   {
    "duration": 2,
    "start_time": "2021-10-28T15:01:23.712Z"
   },
   {
    "duration": 11,
    "start_time": "2021-10-28T15:01:23.715Z"
   },
   {
    "duration": 14,
    "start_time": "2021-10-28T15:01:23.728Z"
   },
   {
    "duration": 7,
    "start_time": "2021-10-28T15:01:23.836Z"
   },
   {
    "duration": 32,
    "start_time": "2021-10-28T15:01:23.845Z"
   },
   {
    "duration": 2,
    "start_time": "2021-10-28T15:01:23.880Z"
   },
   {
    "duration": 29,
    "start_time": "2021-10-28T15:01:23.884Z"
   },
   {
    "duration": 3,
    "start_time": "2021-10-28T15:01:23.951Z"
   },
   {
    "duration": 32,
    "start_time": "2021-10-28T15:01:23.955Z"
   },
   {
    "duration": 26,
    "start_time": "2021-10-28T15:01:23.989Z"
   },
   {
    "duration": 28,
    "start_time": "2021-10-28T15:01:24.508Z"
   },
   {
    "duration": 2,
    "start_time": "2021-10-28T15:01:24.538Z"
   },
   {
    "duration": 23,
    "start_time": "2021-10-28T15:01:24.542Z"
   },
   {
    "duration": 2,
    "start_time": "2021-10-28T15:01:26.180Z"
   },
   {
    "duration": 18,
    "start_time": "2021-10-28T15:01:26.184Z"
   },
   {
    "duration": 2,
    "start_time": "2021-10-28T15:01:26.204Z"
   },
   {
    "duration": 25,
    "start_time": "2021-10-28T15:01:26.207Z"
   },
   {
    "duration": 2,
    "start_time": "2021-10-28T15:01:26.233Z"
   },
   {
    "duration": 13,
    "start_time": "2021-10-28T15:01:26.237Z"
   },
   {
    "duration": 12,
    "start_time": "2021-10-28T15:01:26.251Z"
   },
   {
    "duration": 7,
    "start_time": "2021-10-28T15:01:26.265Z"
   },
   {
    "duration": 2,
    "start_time": "2021-10-28T15:01:26.275Z"
   },
   {
    "duration": 16,
    "start_time": "2021-10-28T15:01:26.279Z"
   },
   {
    "duration": 7,
    "start_time": "2021-10-28T15:01:26.296Z"
   },
   {
    "duration": 7,
    "start_time": "2021-10-28T15:01:26.305Z"
   },
   {
    "duration": 9894,
    "start_time": "2021-10-28T15:01:26.314Z"
   },
   {
    "duration": 4,
    "start_time": "2021-10-28T15:01:36.210Z"
   },
   {
    "duration": 17,
    "start_time": "2021-10-28T15:01:36.215Z"
   },
   {
    "duration": 12,
    "start_time": "2021-10-28T15:01:36.234Z"
   },
   {
    "duration": 30,
    "start_time": "2021-10-28T15:01:36.248Z"
   },
   {
    "duration": 2,
    "start_time": "2021-10-28T15:01:36.279Z"
   },
   {
    "duration": 38,
    "start_time": "2021-10-28T15:01:36.283Z"
   },
   {
    "duration": 2,
    "start_time": "2021-10-28T15:01:36.322Z"
   },
   {
    "duration": 4,
    "start_time": "2021-10-28T15:01:36.326Z"
   },
   {
    "duration": 16,
    "start_time": "2021-10-28T15:01:36.332Z"
   },
   {
    "duration": 282,
    "start_time": "2021-10-28T15:01:36.349Z"
   },
   {
    "duration": 2,
    "start_time": "2021-10-28T15:01:36.633Z"
   },
   {
    "duration": 18,
    "start_time": "2021-10-28T15:01:36.636Z"
   },
   {
    "duration": 230,
    "start_time": "2021-10-28T15:01:36.656Z"
   },
   {
    "duration": 2,
    "start_time": "2021-10-28T15:01:36.889Z"
   },
   {
    "duration": 28,
    "start_time": "2021-10-28T15:01:36.893Z"
   },
   {
    "duration": 235,
    "start_time": "2021-10-28T15:01:36.923Z"
   },
   {
    "duration": 3,
    "start_time": "2021-10-28T15:01:37.160Z"
   },
   {
    "duration": 13,
    "start_time": "2021-10-28T15:01:37.165Z"
   },
   {
    "duration": 252,
    "start_time": "2021-10-28T15:01:37.180Z"
   },
   {
    "duration": 3,
    "start_time": "2021-10-28T15:01:37.434Z"
   },
   {
    "duration": 7,
    "start_time": "2021-10-28T15:01:37.438Z"
   },
   {
    "duration": 172,
    "start_time": "2021-10-28T15:01:37.447Z"
   },
   {
    "duration": 2,
    "start_time": "2021-10-28T15:01:37.621Z"
   },
   {
    "duration": 32,
    "start_time": "2021-10-28T15:01:37.625Z"
   },
   {
    "duration": 28,
    "start_time": "2021-10-28T15:01:37.658Z"
   },
   {
    "duration": 5,
    "start_time": "2021-10-28T15:01:37.688Z"
   },
   {
    "duration": 18,
    "start_time": "2021-10-28T15:01:37.694Z"
   },
   {
    "duration": 13,
    "start_time": "2021-10-28T15:01:37.714Z"
   },
   {
    "duration": 390,
    "start_time": "2021-10-28T15:01:37.728Z"
   },
   {
    "duration": 2,
    "start_time": "2021-10-28T15:01:38.119Z"
   },
   {
    "duration": 393,
    "start_time": "2021-10-28T15:01:38.123Z"
   },
   {
    "duration": 2,
    "start_time": "2021-10-28T15:01:38.517Z"
   },
   {
    "duration": 480,
    "start_time": "2021-10-28T15:01:38.521Z"
   },
   {
    "duration": 2,
    "start_time": "2021-10-28T15:01:39.003Z"
   },
   {
    "duration": 411,
    "start_time": "2021-10-28T15:01:39.007Z"
   },
   {
    "duration": 3,
    "start_time": "2021-10-28T15:01:39.420Z"
   },
   {
    "duration": 398,
    "start_time": "2021-10-28T15:01:39.425Z"
   },
   {
    "duration": 2,
    "start_time": "2021-10-28T15:01:39.825Z"
   },
   {
    "duration": 302,
    "start_time": "2021-10-28T15:01:39.829Z"
   },
   {
    "duration": 12,
    "start_time": "2021-10-28T15:01:40.133Z"
   },
   {
    "duration": 11,
    "start_time": "2021-10-28T15:01:40.147Z"
   },
   {
    "duration": 3,
    "start_time": "2021-10-28T15:01:40.160Z"
   },
   {
    "duration": 15,
    "start_time": "2021-10-28T15:01:40.165Z"
   },
   {
    "duration": 46,
    "start_time": "2021-10-28T15:01:40.182Z"
   },
   {
    "duration": 3,
    "start_time": "2021-10-28T15:01:40.230Z"
   },
   {
    "duration": 9,
    "start_time": "2021-10-28T15:01:40.235Z"
   },
   {
    "duration": 25,
    "start_time": "2021-10-28T15:01:40.246Z"
   },
   {
    "duration": 8,
    "start_time": "2021-10-28T15:01:40.273Z"
   },
   {
    "duration": 6,
    "start_time": "2021-10-28T15:01:40.283Z"
   },
   {
    "duration": 7,
    "start_time": "2021-10-28T15:01:40.291Z"
   },
   {
    "duration": 553,
    "start_time": "2021-10-28T15:01:40.299Z"
   },
   {
    "duration": -138,
    "start_time": "2021-10-28T15:01:40.992Z"
   },
   {
    "duration": 17,
    "start_time": "2021-10-28T15:03:23.010Z"
   },
   {
    "duration": 24,
    "start_time": "2021-10-28T15:03:34.419Z"
   },
   {
    "duration": 180,
    "start_time": "2021-10-28T15:04:19.914Z"
   },
   {
    "duration": 313,
    "start_time": "2021-10-28T15:04:34.666Z"
   },
   {
    "duration": 244,
    "start_time": "2021-10-28T15:04:39.373Z"
   },
   {
    "duration": 153,
    "start_time": "2021-10-28T15:04:42.998Z"
   },
   {
    "duration": 238,
    "start_time": "2021-10-28T15:04:45.778Z"
   },
   {
    "duration": 536,
    "start_time": "2021-10-28T15:05:51.399Z"
   },
   {
    "duration": 320,
    "start_time": "2021-10-28T15:06:02.991Z"
   },
   {
    "duration": 192,
    "start_time": "2021-10-28T15:08:33.714Z"
   },
   {
    "duration": 203,
    "start_time": "2021-10-28T15:08:39.350Z"
   },
   {
    "duration": 195,
    "start_time": "2021-10-28T15:08:44.684Z"
   },
   {
    "duration": 26,
    "start_time": "2021-10-28T15:11:19.943Z"
   },
   {
    "duration": 25,
    "start_time": "2021-10-28T15:11:26.842Z"
   },
   {
    "duration": 198,
    "start_time": "2021-10-28T15:12:08.873Z"
   },
   {
    "duration": 8,
    "start_time": "2021-10-28T15:26:10.617Z"
   },
   {
    "duration": 28,
    "start_time": "2021-10-28T15:26:21.531Z"
   },
   {
    "duration": 7,
    "start_time": "2021-10-28T15:27:15.134Z"
   },
   {
    "duration": 7,
    "start_time": "2021-10-28T15:31:58.080Z"
   },
   {
    "duration": 7,
    "start_time": "2021-10-28T15:32:34.272Z"
   },
   {
    "duration": 183,
    "start_time": "2021-10-28T15:36:56.644Z"
   },
   {
    "duration": 183,
    "start_time": "2021-10-28T15:37:06.522Z"
   },
   {
    "duration": 183,
    "start_time": "2021-10-28T15:37:21.144Z"
   },
   {
    "duration": 346,
    "start_time": "2021-10-28T15:39:13.365Z"
   },
   {
    "duration": 421,
    "start_time": "2021-10-28T15:39:27.796Z"
   },
   {
    "duration": 323,
    "start_time": "2021-10-28T15:39:40.812Z"
   },
   {
    "duration": 382,
    "start_time": "2021-10-28T15:39:47.087Z"
   },
   {
    "duration": 6988,
    "start_time": "2021-10-28T15:42:07.334Z"
   },
   {
    "duration": 504,
    "start_time": "2021-10-28T15:42:18.091Z"
   },
   {
    "duration": 487,
    "start_time": "2021-10-28T15:42:49.723Z"
   },
   {
    "duration": 502,
    "start_time": "2021-10-28T15:44:52.395Z"
   },
   {
    "duration": 478,
    "start_time": "2021-10-28T15:45:07.613Z"
   },
   {
    "duration": 485,
    "start_time": "2021-10-28T15:45:11.916Z"
   },
   {
    "duration": 442,
    "start_time": "2021-10-28T15:45:18.852Z"
   },
   {
    "duration": 559,
    "start_time": "2021-10-28T15:45:28.691Z"
   },
   {
    "duration": 502,
    "start_time": "2021-10-28T15:45:33.453Z"
   },
   {
    "duration": 450,
    "start_time": "2021-10-28T15:45:38.646Z"
   },
   {
    "duration": 458,
    "start_time": "2021-10-28T15:45:45.620Z"
   },
   {
    "duration": 465,
    "start_time": "2021-10-28T15:45:56.963Z"
   },
   {
    "duration": 481,
    "start_time": "2021-10-28T15:46:07.883Z"
   },
   {
    "duration": 466,
    "start_time": "2021-10-28T15:46:19.560Z"
   },
   {
    "duration": 492,
    "start_time": "2021-10-28T15:46:24.268Z"
   },
   {
    "duration": 285,
    "start_time": "2021-10-28T18:59:55.965Z"
   },
   {
    "duration": 769,
    "start_time": "2021-10-28T19:00:06.056Z"
   },
   {
    "duration": 219,
    "start_time": "2021-10-28T19:00:06.827Z"
   },
   {
    "duration": 24,
    "start_time": "2021-10-28T19:00:07.048Z"
   },
   {
    "duration": 101,
    "start_time": "2021-10-28T19:00:07.074Z"
   },
   {
    "duration": 469,
    "start_time": "2021-10-28T19:00:07.177Z"
   },
   {
    "duration": 2210,
    "start_time": "2021-10-28T19:00:07.648Z"
   },
   {
    "duration": 11,
    "start_time": "2021-10-28T19:00:09.860Z"
   },
   {
    "duration": 13097,
    "start_time": "2021-10-28T19:00:09.874Z"
   },
   {
    "duration": 13,
    "start_time": "2021-10-28T19:00:22.973Z"
   },
   {
    "duration": 67,
    "start_time": "2021-10-28T19:00:22.988Z"
   },
   {
    "duration": 11,
    "start_time": "2021-10-28T19:00:23.057Z"
   },
   {
    "duration": 14,
    "start_time": "2021-10-28T19:00:23.070Z"
   },
   {
    "duration": 22,
    "start_time": "2021-10-28T19:00:23.085Z"
   },
   {
    "duration": 7,
    "start_time": "2021-10-28T19:00:23.109Z"
   },
   {
    "duration": 17,
    "start_time": "2021-10-28T19:00:23.117Z"
   },
   {
    "duration": 37,
    "start_time": "2021-10-28T19:00:23.136Z"
   },
   {
    "duration": 7,
    "start_time": "2021-10-28T19:00:23.176Z"
   },
   {
    "duration": 3,
    "start_time": "2021-10-28T19:00:23.184Z"
   },
   {
    "duration": 33,
    "start_time": "2021-10-28T19:00:23.189Z"
   },
   {
    "duration": 31,
    "start_time": "2021-10-28T19:00:23.224Z"
   },
   {
    "duration": 16,
    "start_time": "2021-10-28T19:00:23.257Z"
   },
   {
    "duration": 14,
    "start_time": "2021-10-28T19:00:23.275Z"
   },
   {
    "duration": 16,
    "start_time": "2021-10-28T19:00:23.294Z"
   },
   {
    "duration": 4,
    "start_time": "2021-10-28T19:00:23.313Z"
   },
   {
    "duration": 19,
    "start_time": "2021-10-28T19:00:23.319Z"
   },
   {
    "duration": 17,
    "start_time": "2021-10-28T19:00:23.340Z"
   },
   {
    "duration": 21,
    "start_time": "2021-10-28T19:00:23.359Z"
   },
   {
    "duration": 7,
    "start_time": "2021-10-28T19:00:23.381Z"
   },
   {
    "duration": 23,
    "start_time": "2021-10-28T19:00:23.390Z"
   },
   {
    "duration": 16,
    "start_time": "2021-10-28T19:00:23.415Z"
   },
   {
    "duration": 18,
    "start_time": "2021-10-28T19:00:23.433Z"
   },
   {
    "duration": 24,
    "start_time": "2021-10-28T19:00:23.453Z"
   },
   {
    "duration": 26,
    "start_time": "2021-10-28T19:00:23.485Z"
   },
   {
    "duration": 12,
    "start_time": "2021-10-28T19:00:23.514Z"
   },
   {
    "duration": 26,
    "start_time": "2021-10-28T19:00:23.527Z"
   },
   {
    "duration": 18,
    "start_time": "2021-10-28T19:00:23.554Z"
   },
   {
    "duration": 28,
    "start_time": "2021-10-28T19:00:23.573Z"
   },
   {
    "duration": 25,
    "start_time": "2021-10-28T19:00:23.602Z"
   },
   {
    "duration": 7,
    "start_time": "2021-10-28T19:00:23.629Z"
   },
   {
    "duration": 37,
    "start_time": "2021-10-28T19:00:23.638Z"
   },
   {
    "duration": 3,
    "start_time": "2021-10-28T19:00:23.677Z"
   },
   {
    "duration": 21,
    "start_time": "2021-10-28T19:00:23.681Z"
   },
   {
    "duration": 11,
    "start_time": "2021-10-28T19:00:23.704Z"
   },
   {
    "duration": 27,
    "start_time": "2021-10-28T19:00:23.717Z"
   },
   {
    "duration": 30,
    "start_time": "2021-10-28T19:00:23.745Z"
   },
   {
    "duration": 28,
    "start_time": "2021-10-28T19:00:23.777Z"
   },
   {
    "duration": 12,
    "start_time": "2021-10-28T19:00:23.807Z"
   },
   {
    "duration": 10,
    "start_time": "2021-10-28T19:00:23.821Z"
   },
   {
    "duration": 32,
    "start_time": "2021-10-28T19:00:23.832Z"
   },
   {
    "duration": 12,
    "start_time": "2021-10-28T19:00:23.865Z"
   },
   {
    "duration": 51,
    "start_time": "2021-10-28T19:00:23.879Z"
   },
   {
    "duration": 20,
    "start_time": "2021-10-28T19:00:23.932Z"
   },
   {
    "duration": 27,
    "start_time": "2021-10-28T19:00:23.954Z"
   },
   {
    "duration": 27,
    "start_time": "2021-10-28T19:00:23.983Z"
   },
   {
    "duration": 11,
    "start_time": "2021-10-28T19:00:24.012Z"
   },
   {
    "duration": 8,
    "start_time": "2021-10-28T19:00:24.025Z"
   },
   {
    "duration": 33,
    "start_time": "2021-10-28T19:00:24.034Z"
   },
   {
    "duration": 10,
    "start_time": "2021-10-28T19:00:24.069Z"
   },
   {
    "duration": 9,
    "start_time": "2021-10-28T19:00:24.081Z"
   },
   {
    "duration": 10493,
    "start_time": "2021-10-28T19:00:24.092Z"
   },
   {
    "duration": 4,
    "start_time": "2021-10-28T19:00:34.587Z"
   },
   {
    "duration": 18,
    "start_time": "2021-10-28T19:00:34.593Z"
   },
   {
    "duration": 5,
    "start_time": "2021-10-28T19:00:34.613Z"
   },
   {
    "duration": 48,
    "start_time": "2021-10-28T19:00:34.620Z"
   },
   {
    "duration": 3,
    "start_time": "2021-10-28T19:00:34.669Z"
   },
   {
    "duration": 32,
    "start_time": "2021-10-28T19:00:34.673Z"
   },
   {
    "duration": 9,
    "start_time": "2021-10-28T19:00:34.706Z"
   },
   {
    "duration": 304,
    "start_time": "2021-10-28T19:00:34.722Z"
   },
   {
    "duration": 11,
    "start_time": "2021-10-28T19:00:35.029Z"
   },
   {
    "duration": 291,
    "start_time": "2021-10-28T19:00:35.042Z"
   },
   {
    "duration": 317,
    "start_time": "2021-10-28T19:00:35.335Z"
   },
   {
    "duration": -86,
    "start_time": "2021-10-28T19:00:35.740Z"
   },
   {
    "duration": -90,
    "start_time": "2021-10-28T19:00:35.745Z"
   },
   {
    "duration": -92,
    "start_time": "2021-10-28T19:00:35.748Z"
   },
   {
    "duration": -95,
    "start_time": "2021-10-28T19:00:35.752Z"
   },
   {
    "duration": -99,
    "start_time": "2021-10-28T19:00:35.756Z"
   },
   {
    "duration": -163,
    "start_time": "2021-10-28T19:00:35.822Z"
   },
   {
    "duration": -168,
    "start_time": "2021-10-28T19:00:35.827Z"
   },
   {
    "duration": -172,
    "start_time": "2021-10-28T19:00:35.832Z"
   },
   {
    "duration": -175,
    "start_time": "2021-10-28T19:00:35.836Z"
   },
   {
    "duration": -179,
    "start_time": "2021-10-28T19:00:35.841Z"
   },
   {
    "duration": -182,
    "start_time": "2021-10-28T19:00:35.845Z"
   },
   {
    "duration": -185,
    "start_time": "2021-10-28T19:00:35.848Z"
   },
   {
    "duration": -188,
    "start_time": "2021-10-28T19:00:35.852Z"
   },
   {
    "duration": -191,
    "start_time": "2021-10-28T19:00:35.856Z"
   },
   {
    "duration": -220,
    "start_time": "2021-10-28T19:00:35.886Z"
   },
   {
    "duration": -224,
    "start_time": "2021-10-28T19:00:35.891Z"
   },
   {
    "duration": -228,
    "start_time": "2021-10-28T19:00:35.895Z"
   },
   {
    "duration": -231,
    "start_time": "2021-10-28T19:00:35.899Z"
   },
   {
    "duration": -234,
    "start_time": "2021-10-28T19:00:35.903Z"
   },
   {
    "duration": -238,
    "start_time": "2021-10-28T19:00:35.908Z"
   },
   {
    "duration": -241,
    "start_time": "2021-10-28T19:00:35.912Z"
   },
   {
    "duration": -245,
    "start_time": "2021-10-28T19:00:35.917Z"
   },
   {
    "duration": -247,
    "start_time": "2021-10-28T19:00:35.920Z"
   },
   {
    "duration": -250,
    "start_time": "2021-10-28T19:00:35.924Z"
   },
   {
    "duration": -321,
    "start_time": "2021-10-28T19:00:35.996Z"
   },
   {
    "duration": -324,
    "start_time": "2021-10-28T19:00:36.000Z"
   },
   {
    "duration": -327,
    "start_time": "2021-10-28T19:00:36.004Z"
   },
   {
    "duration": -329,
    "start_time": "2021-10-28T19:00:36.008Z"
   },
   {
    "duration": -331,
    "start_time": "2021-10-28T19:00:36.011Z"
   },
   {
    "duration": -335,
    "start_time": "2021-10-28T19:00:36.016Z"
   },
   {
    "duration": -339,
    "start_time": "2021-10-28T19:00:36.021Z"
   },
   {
    "duration": -344,
    "start_time": "2021-10-28T19:00:36.027Z"
   },
   {
    "duration": -348,
    "start_time": "2021-10-28T19:00:36.032Z"
   },
   {
    "duration": -351,
    "start_time": "2021-10-28T19:00:36.036Z"
   },
   {
    "duration": -354,
    "start_time": "2021-10-28T19:00:36.040Z"
   },
   {
    "duration": -357,
    "start_time": "2021-10-28T19:00:36.044Z"
   },
   {
    "duration": -361,
    "start_time": "2021-10-28T19:00:36.049Z"
   },
   {
    "duration": -366,
    "start_time": "2021-10-28T19:00:36.055Z"
   },
   {
    "duration": -371,
    "start_time": "2021-10-28T19:00:36.061Z"
   },
   {
    "duration": -376,
    "start_time": "2021-10-28T19:00:36.067Z"
   },
   {
    "duration": -378,
    "start_time": "2021-10-28T19:00:36.070Z"
   },
   {
    "duration": -382,
    "start_time": "2021-10-28T19:00:36.075Z"
   },
   {
    "duration": -383,
    "start_time": "2021-10-28T19:00:36.078Z"
   },
   {
    "duration": -386,
    "start_time": "2021-10-28T19:00:36.082Z"
   },
   {
    "duration": -462,
    "start_time": "2021-10-28T19:00:36.158Z"
   },
   {
    "duration": -465,
    "start_time": "2021-10-28T19:00:36.163Z"
   },
   {
    "duration": -469,
    "start_time": "2021-10-28T19:00:36.168Z"
   },
   {
    "duration": -474,
    "start_time": "2021-10-28T19:00:36.174Z"
   },
   {
    "duration": -478,
    "start_time": "2021-10-28T19:00:36.179Z"
   },
   {
    "duration": -482,
    "start_time": "2021-10-28T19:00:36.184Z"
   },
   {
    "duration": -485,
    "start_time": "2021-10-28T19:00:36.188Z"
   },
   {
    "duration": -429,
    "start_time": "2021-10-28T19:00:36.192Z"
   },
   {
    "duration": -430,
    "start_time": "2021-10-28T19:00:36.196Z"
   },
   {
    "duration": -433,
    "start_time": "2021-10-28T19:00:36.200Z"
   },
   {
    "duration": 270,
    "start_time": "2021-10-28T19:00:57.187Z"
   },
   {
    "duration": 8,
    "start_time": "2021-10-28T19:01:14.479Z"
   },
   {
    "duration": 8,
    "start_time": "2021-10-28T19:02:06.072Z"
   },
   {
    "duration": 8,
    "start_time": "2021-10-28T19:02:21.477Z"
   },
   {
    "duration": 8,
    "start_time": "2021-10-28T19:02:36.577Z"
   },
   {
    "duration": 312,
    "start_time": "2021-10-28T19:03:10.629Z"
   },
   {
    "duration": 626,
    "start_time": "2021-10-28T19:03:31.600Z"
   },
   {
    "duration": 279,
    "start_time": "2021-10-28T19:03:37.938Z"
   },
   {
    "duration": 438,
    "start_time": "2021-10-29T12:49:15.366Z"
   },
   {
    "duration": -69,
    "start_time": "2021-10-29T12:49:15.875Z"
   },
   {
    "duration": -115,
    "start_time": "2021-10-29T12:49:15.922Z"
   },
   {
    "duration": -118,
    "start_time": "2021-10-29T12:49:15.926Z"
   },
   {
    "duration": -189,
    "start_time": "2021-10-29T12:49:15.998Z"
   },
   {
    "duration": -193,
    "start_time": "2021-10-29T12:49:16.003Z"
   },
   {
    "duration": -196,
    "start_time": "2021-10-29T12:49:16.007Z"
   },
   {
    "duration": -199,
    "start_time": "2021-10-29T12:49:16.011Z"
   },
   {
    "duration": -203,
    "start_time": "2021-10-29T12:49:16.016Z"
   },
   {
    "duration": -206,
    "start_time": "2021-10-29T12:49:16.020Z"
   },
   {
    "duration": -209,
    "start_time": "2021-10-29T12:49:16.024Z"
   },
   {
    "duration": -212,
    "start_time": "2021-10-29T12:49:16.028Z"
   },
   {
    "duration": -216,
    "start_time": "2021-10-29T12:49:16.033Z"
   },
   {
    "duration": -219,
    "start_time": "2021-10-29T12:49:16.037Z"
   },
   {
    "duration": -221,
    "start_time": "2021-10-29T12:49:16.040Z"
   },
   {
    "duration": -224,
    "start_time": "2021-10-29T12:49:16.044Z"
   },
   {
    "duration": -227,
    "start_time": "2021-10-29T12:49:16.048Z"
   },
   {
    "duration": -230,
    "start_time": "2021-10-29T12:49:16.052Z"
   },
   {
    "duration": -233,
    "start_time": "2021-10-29T12:49:16.056Z"
   },
   {
    "duration": -235,
    "start_time": "2021-10-29T12:49:16.059Z"
   },
   {
    "duration": -237,
    "start_time": "2021-10-29T12:49:16.062Z"
   },
   {
    "duration": 359,
    "start_time": "2021-10-29T12:49:15.827Z"
   },
   {
    "duration": -96,
    "start_time": "2021-10-29T12:49:16.284Z"
   },
   {
    "duration": -101,
    "start_time": "2021-10-29T12:49:16.290Z"
   },
   {
    "duration": -104,
    "start_time": "2021-10-29T12:49:16.294Z"
   },
   {
    "duration": -107,
    "start_time": "2021-10-29T12:49:16.298Z"
   },
   {
    "duration": -110,
    "start_time": "2021-10-29T12:49:16.302Z"
   },
   {
    "duration": -114,
    "start_time": "2021-10-29T12:49:16.307Z"
   },
   {
    "duration": -117,
    "start_time": "2021-10-29T12:49:16.311Z"
   },
   {
    "duration": -121,
    "start_time": "2021-10-29T12:49:16.316Z"
   },
   {
    "duration": -184,
    "start_time": "2021-10-29T12:49:16.380Z"
   },
   {
    "duration": -187,
    "start_time": "2021-10-29T12:49:16.384Z"
   },
   {
    "duration": -191,
    "start_time": "2021-10-29T12:49:16.389Z"
   },
   {
    "duration": -194,
    "start_time": "2021-10-29T12:49:16.393Z"
   },
   {
    "duration": -232,
    "start_time": "2021-10-29T12:49:16.432Z"
   },
   {
    "duration": -234,
    "start_time": "2021-10-29T12:49:16.435Z"
   },
   {
    "duration": -237,
    "start_time": "2021-10-29T12:49:16.439Z"
   },
   {
    "duration": 349,
    "start_time": "2021-10-29T12:49:16.423Z"
   },
   {
    "duration": -73,
    "start_time": "2021-10-29T12:49:16.848Z"
   },
   {
    "duration": -77,
    "start_time": "2021-10-29T12:49:16.853Z"
   },
   {
    "duration": -81,
    "start_time": "2021-10-29T12:49:16.858Z"
   },
   {
    "duration": -104,
    "start_time": "2021-10-29T12:49:16.882Z"
   },
   {
    "duration": -107,
    "start_time": "2021-10-29T12:49:16.886Z"
   },
   {
    "duration": -109,
    "start_time": "2021-10-29T12:49:16.889Z"
   },
   {
    "duration": -113,
    "start_time": "2021-10-29T12:49:16.893Z"
   },
   {
    "duration": -115,
    "start_time": "2021-10-29T12:49:16.897Z"
   },
   {
    "duration": -119,
    "start_time": "2021-10-29T12:49:16.901Z"
   },
   {
    "duration": -122,
    "start_time": "2021-10-29T12:49:16.905Z"
   },
   {
    "duration": -156,
    "start_time": "2021-10-29T12:49:16.940Z"
   },
   {
    "duration": -158,
    "start_time": "2021-10-29T12:49:16.943Z"
   },
   {
    "duration": -162,
    "start_time": "2021-10-29T12:49:16.948Z"
   },
   {
    "duration": -165,
    "start_time": "2021-10-29T12:49:16.952Z"
   },
   {
    "duration": -170,
    "start_time": "2021-10-29T12:49:16.957Z"
   },
   {
    "duration": -174,
    "start_time": "2021-10-29T12:49:16.962Z"
   },
   {
    "duration": 706,
    "start_time": "2021-10-29T12:49:32.637Z"
   },
   {
    "duration": 122,
    "start_time": "2021-10-29T12:49:33.345Z"
   },
   {
    "duration": 25,
    "start_time": "2021-10-29T12:49:33.470Z"
   },
   {
    "duration": 98,
    "start_time": "2021-10-29T12:49:33.497Z"
   },
   {
    "duration": 569,
    "start_time": "2021-10-29T12:49:33.597Z"
   },
   {
    "duration": 2191,
    "start_time": "2021-10-29T12:49:34.168Z"
   },
   {
    "duration": 20,
    "start_time": "2021-10-29T12:49:36.360Z"
   },
   {
    "duration": 13209,
    "start_time": "2021-10-29T12:49:36.381Z"
   },
   {
    "duration": 12,
    "start_time": "2021-10-29T12:49:49.593Z"
   },
   {
    "duration": 74,
    "start_time": "2021-10-29T12:49:49.607Z"
   },
   {
    "duration": 5,
    "start_time": "2021-10-29T12:49:49.683Z"
   },
   {
    "duration": 7,
    "start_time": "2021-10-29T12:49:49.690Z"
   },
   {
    "duration": 20,
    "start_time": "2021-10-29T12:49:49.699Z"
   },
   {
    "duration": 6,
    "start_time": "2021-10-29T12:49:49.721Z"
   },
   {
    "duration": 13,
    "start_time": "2021-10-29T12:49:49.729Z"
   },
   {
    "duration": 16,
    "start_time": "2021-10-29T12:49:49.776Z"
   },
   {
    "duration": 6,
    "start_time": "2021-10-29T12:49:49.794Z"
   },
   {
    "duration": 3,
    "start_time": "2021-10-29T12:49:49.802Z"
   },
   {
    "duration": 12,
    "start_time": "2021-10-29T12:49:49.807Z"
   },
   {
    "duration": 20,
    "start_time": "2021-10-29T12:49:49.820Z"
   },
   {
    "duration": 44,
    "start_time": "2021-10-29T12:49:49.841Z"
   },
   {
    "duration": 3,
    "start_time": "2021-10-29T12:49:49.887Z"
   },
   {
    "duration": 9,
    "start_time": "2021-10-29T12:49:49.891Z"
   },
   {
    "duration": 3,
    "start_time": "2021-10-29T12:49:49.902Z"
   },
   {
    "duration": 13,
    "start_time": "2021-10-29T12:49:49.906Z"
   },
   {
    "duration": 4,
    "start_time": "2021-10-29T12:49:49.921Z"
   },
   {
    "duration": 49,
    "start_time": "2021-10-29T12:49:49.929Z"
   },
   {
    "duration": 3,
    "start_time": "2021-10-29T12:49:49.980Z"
   },
   {
    "duration": 12,
    "start_time": "2021-10-29T12:49:49.984Z"
   },
   {
    "duration": 3,
    "start_time": "2021-10-29T12:49:49.998Z"
   },
   {
    "duration": 14,
    "start_time": "2021-10-29T12:49:50.003Z"
   },
   {
    "duration": 4,
    "start_time": "2021-10-29T12:49:50.019Z"
   },
   {
    "duration": 15,
    "start_time": "2021-10-29T12:49:50.025Z"
   },
   {
    "duration": 34,
    "start_time": "2021-10-29T12:49:50.042Z"
   },
   {
    "duration": 13,
    "start_time": "2021-10-29T12:49:50.079Z"
   },
   {
    "duration": 10,
    "start_time": "2021-10-29T12:49:50.094Z"
   },
   {
    "duration": 12,
    "start_time": "2021-10-29T12:49:50.106Z"
   },
   {
    "duration": 21,
    "start_time": "2021-10-29T12:49:50.119Z"
   },
   {
    "duration": 7,
    "start_time": "2021-10-29T12:49:50.142Z"
   },
   {
    "duration": 37,
    "start_time": "2021-10-29T12:49:50.151Z"
   },
   {
    "duration": 2,
    "start_time": "2021-10-29T12:49:50.190Z"
   },
   {
    "duration": 14,
    "start_time": "2021-10-29T12:49:50.193Z"
   },
   {
    "duration": 2,
    "start_time": "2021-10-29T12:49:50.209Z"
   },
   {
    "duration": 19,
    "start_time": "2021-10-29T12:49:50.213Z"
   },
   {
    "duration": 44,
    "start_time": "2021-10-29T12:49:50.234Z"
   },
   {
    "duration": 32,
    "start_time": "2021-10-29T12:49:50.281Z"
   },
   {
    "duration": 14,
    "start_time": "2021-10-29T12:49:50.315Z"
   },
   {
    "duration": 3,
    "start_time": "2021-10-29T12:49:50.331Z"
   },
   {
    "duration": 48,
    "start_time": "2021-10-29T12:49:50.337Z"
   },
   {
    "duration": 2,
    "start_time": "2021-10-29T12:49:50.388Z"
   },
   {
    "duration": 57,
    "start_time": "2021-10-29T12:49:50.393Z"
   },
   {
    "duration": 3,
    "start_time": "2021-10-29T12:49:50.452Z"
   },
   {
    "duration": 20,
    "start_time": "2021-10-29T12:49:50.457Z"
   },
   {
    "duration": 11,
    "start_time": "2021-10-29T12:49:50.479Z"
   },
   {
    "duration": 13,
    "start_time": "2021-10-29T12:49:50.492Z"
   },
   {
    "duration": 3,
    "start_time": "2021-10-29T12:49:50.507Z"
   },
   {
    "duration": 13,
    "start_time": "2021-10-29T12:49:50.512Z"
   },
   {
    "duration": 10,
    "start_time": "2021-10-29T12:49:50.527Z"
   },
   {
    "duration": 46,
    "start_time": "2021-10-29T12:49:50.539Z"
   },
   {
    "duration": 10339,
    "start_time": "2021-10-29T12:49:50.587Z"
   },
   {
    "duration": 6,
    "start_time": "2021-10-29T12:50:00.928Z"
   },
   {
    "duration": 28,
    "start_time": "2021-10-29T12:50:00.936Z"
   },
   {
    "duration": 13,
    "start_time": "2021-10-29T12:50:00.965Z"
   },
   {
    "duration": 34,
    "start_time": "2021-10-29T12:50:00.979Z"
   },
   {
    "duration": 3,
    "start_time": "2021-10-29T12:50:01.015Z"
   },
   {
    "duration": 32,
    "start_time": "2021-10-29T12:50:01.020Z"
   },
   {
    "duration": 22,
    "start_time": "2021-10-29T12:50:01.054Z"
   },
   {
    "duration": 280,
    "start_time": "2021-10-29T12:50:01.078Z"
   },
   {
    "duration": 21,
    "start_time": "2021-10-29T12:50:01.360Z"
   },
   {
    "duration": 280,
    "start_time": "2021-10-29T12:50:01.383Z"
   },
   {
    "duration": 12,
    "start_time": "2021-10-29T12:50:01.665Z"
   },
   {
    "duration": 270,
    "start_time": "2021-10-29T12:50:01.679Z"
   },
   {
    "duration": 7,
    "start_time": "2021-10-29T12:50:01.951Z"
   },
   {
    "duration": 258,
    "start_time": "2021-10-29T12:50:01.960Z"
   },
   {
    "duration": 2,
    "start_time": "2021-10-29T12:50:02.220Z"
   },
   {
    "duration": 20,
    "start_time": "2021-10-29T12:50:02.224Z"
   },
   {
    "duration": 182,
    "start_time": "2021-10-29T12:50:02.245Z"
   },
   {
    "duration": 3,
    "start_time": "2021-10-29T12:50:02.429Z"
   },
   {
    "duration": 24,
    "start_time": "2021-10-29T12:50:02.434Z"
   },
   {
    "duration": 38,
    "start_time": "2021-10-29T12:50:02.460Z"
   },
   {
    "duration": 4,
    "start_time": "2021-10-29T12:50:02.506Z"
   },
   {
    "duration": 4,
    "start_time": "2021-10-29T12:50:02.514Z"
   },
   {
    "duration": 6,
    "start_time": "2021-10-29T12:50:02.520Z"
   },
   {
    "duration": 451,
    "start_time": "2021-10-29T12:50:02.528Z"
   },
   {
    "duration": 3,
    "start_time": "2021-10-29T12:50:02.981Z"
   },
   {
    "duration": 439,
    "start_time": "2021-10-29T12:50:02.986Z"
   },
   {
    "duration": 3,
    "start_time": "2021-10-29T12:50:03.427Z"
   },
   {
    "duration": 449,
    "start_time": "2021-10-29T12:50:03.432Z"
   },
   {
    "duration": 2,
    "start_time": "2021-10-29T12:50:03.883Z"
   },
   {
    "duration": 465,
    "start_time": "2021-10-29T12:50:03.887Z"
   },
   {
    "duration": 2,
    "start_time": "2021-10-29T12:50:04.354Z"
   },
   {
    "duration": 561,
    "start_time": "2021-10-29T12:50:04.358Z"
   },
   {
    "duration": 2,
    "start_time": "2021-10-29T12:50:04.921Z"
   },
   {
    "duration": 324,
    "start_time": "2021-10-29T12:50:04.925Z"
   },
   {
    "duration": 4,
    "start_time": "2021-10-29T12:50:05.250Z"
   },
   {
    "duration": 20,
    "start_time": "2021-10-29T12:50:05.256Z"
   },
   {
    "duration": 3,
    "start_time": "2021-10-29T12:50:05.278Z"
   },
   {
    "duration": 12,
    "start_time": "2021-10-29T12:50:05.282Z"
   },
   {
    "duration": 42,
    "start_time": "2021-10-29T12:50:05.295Z"
   },
   {
    "duration": 2,
    "start_time": "2021-10-29T12:50:05.339Z"
   },
   {
    "duration": 11,
    "start_time": "2021-10-29T12:50:05.343Z"
   },
   {
    "duration": 43,
    "start_time": "2021-10-29T12:50:05.356Z"
   },
   {
    "duration": 8,
    "start_time": "2021-10-29T12:50:05.401Z"
   },
   {
    "duration": 2,
    "start_time": "2021-10-29T12:50:05.411Z"
   },
   {
    "duration": 4,
    "start_time": "2021-10-29T12:50:05.414Z"
   },
   {
    "duration": 26,
    "start_time": "2021-10-29T12:50:05.420Z"
   },
   {
    "duration": 29,
    "start_time": "2021-10-29T12:50:05.448Z"
   },
   {
    "duration": 230,
    "start_time": "2021-10-29T12:50:05.479Z"
   },
   {
    "duration": 2,
    "start_time": "2021-10-29T12:50:05.711Z"
   },
   {
    "duration": 5,
    "start_time": "2021-10-29T12:50:05.715Z"
   },
   {
    "duration": 31,
    "start_time": "2021-10-29T12:50:05.722Z"
   },
   {
    "duration": 7,
    "start_time": "2021-10-29T12:50:05.754Z"
   },
   {
    "duration": 195,
    "start_time": "2021-10-29T12:50:05.776Z"
   },
   {
    "duration": 4,
    "start_time": "2021-10-29T12:50:05.973Z"
   },
   {
    "duration": 12,
    "start_time": "2021-10-29T12:50:05.978Z"
   },
   {
    "duration": 411,
    "start_time": "2021-10-29T12:50:05.992Z"
   },
   {
    "duration": 3,
    "start_time": "2021-10-29T12:50:06.404Z"
   },
   {
    "duration": 8,
    "start_time": "2021-10-29T12:50:06.408Z"
   },
   {
    "duration": 525,
    "start_time": "2021-10-29T12:50:06.417Z"
   },
   {
    "duration": 2,
    "start_time": "2021-10-29T12:50:06.943Z"
   },
   {
    "duration": 488,
    "start_time": "2021-10-29T12:50:06.947Z"
   },
   {
    "duration": 2,
    "start_time": "2021-10-29T12:50:07.436Z"
   },
   {
    "duration": 506,
    "start_time": "2021-10-29T12:50:07.441Z"
   },
   {
    "duration": 3,
    "start_time": "2021-10-29T12:50:07.949Z"
   },
   {
    "duration": 244,
    "start_time": "2021-10-29T12:51:44.599Z"
   },
   {
    "duration": 263,
    "start_time": "2021-10-29T12:53:19.865Z"
   },
   {
    "duration": 425,
    "start_time": "2021-10-29T17:26:12.365Z"
   },
   {
    "duration": 891,
    "start_time": "2021-10-29T17:26:35.832Z"
   },
   {
    "duration": 151,
    "start_time": "2021-10-29T17:26:36.726Z"
   },
   {
    "duration": 34,
    "start_time": "2021-10-29T17:26:36.881Z"
   },
   {
    "duration": 140,
    "start_time": "2021-10-29T17:26:36.919Z"
   },
   {
    "duration": 753,
    "start_time": "2021-10-29T17:26:37.061Z"
   },
   {
    "duration": 3995,
    "start_time": "2021-10-29T17:26:37.818Z"
   },
   {
    "duration": 19,
    "start_time": "2021-10-29T17:26:41.816Z"
   },
   {
    "duration": 25898,
    "start_time": "2021-10-29T17:26:41.840Z"
   },
   {
    "duration": 17,
    "start_time": "2021-10-29T17:27:07.741Z"
   },
   {
    "duration": 116,
    "start_time": "2021-10-29T17:27:07.761Z"
   },
   {
    "duration": 10,
    "start_time": "2021-10-29T17:27:07.881Z"
   },
   {
    "duration": 4,
    "start_time": "2021-10-29T17:27:07.901Z"
   },
   {
    "duration": 24,
    "start_time": "2021-10-29T17:27:07.907Z"
   },
   {
    "duration": 7,
    "start_time": "2021-10-29T17:27:07.934Z"
   },
   {
    "duration": 11,
    "start_time": "2021-10-29T17:27:07.944Z"
   },
   {
    "duration": 59,
    "start_time": "2021-10-29T17:27:07.958Z"
   },
   {
    "duration": 8,
    "start_time": "2021-10-29T17:27:08.019Z"
   },
   {
    "duration": 3,
    "start_time": "2021-10-29T17:27:08.029Z"
   },
   {
    "duration": 23,
    "start_time": "2021-10-29T17:27:08.034Z"
   },
   {
    "duration": 59,
    "start_time": "2021-10-29T17:27:08.060Z"
   },
   {
    "duration": 12,
    "start_time": "2021-10-29T17:27:08.122Z"
   },
   {
    "duration": 5,
    "start_time": "2021-10-29T17:27:08.136Z"
   },
   {
    "duration": 9,
    "start_time": "2021-10-29T17:27:08.146Z"
   },
   {
    "duration": 3,
    "start_time": "2021-10-29T17:27:08.159Z"
   },
   {
    "duration": 51,
    "start_time": "2021-10-29T17:27:08.164Z"
   },
   {
    "duration": 4,
    "start_time": "2021-10-29T17:27:08.218Z"
   },
   {
    "duration": 15,
    "start_time": "2021-10-29T17:27:08.225Z"
   },
   {
    "duration": 4,
    "start_time": "2021-10-29T17:27:08.243Z"
   },
   {
    "duration": 53,
    "start_time": "2021-10-29T17:27:08.249Z"
   },
   {
    "duration": 6,
    "start_time": "2021-10-29T17:27:08.304Z"
   },
   {
    "duration": 18,
    "start_time": "2021-10-29T17:27:08.312Z"
   },
   {
    "duration": 6,
    "start_time": "2021-10-29T17:27:08.334Z"
   },
   {
    "duration": 21,
    "start_time": "2021-10-29T17:27:08.343Z"
   },
   {
    "duration": 35,
    "start_time": "2021-10-29T17:27:08.367Z"
   },
   {
    "duration": 15,
    "start_time": "2021-10-29T17:27:08.406Z"
   },
   {
    "duration": 3,
    "start_time": "2021-10-29T17:27:08.424Z"
   },
   {
    "duration": 17,
    "start_time": "2021-10-29T17:27:08.430Z"
   },
   {
    "duration": 50,
    "start_time": "2021-10-29T17:27:08.450Z"
   },
   {
    "duration": 10,
    "start_time": "2021-10-29T17:27:08.503Z"
   },
   {
    "duration": 34,
    "start_time": "2021-10-29T17:27:08.515Z"
   },
   {
    "duration": 3,
    "start_time": "2021-10-29T17:27:08.551Z"
   },
   {
    "duration": 16,
    "start_time": "2021-10-29T17:27:08.557Z"
   },
   {
    "duration": 3,
    "start_time": "2021-10-29T17:27:08.602Z"
   },
   {
    "duration": 29,
    "start_time": "2021-10-29T17:27:08.608Z"
   },
   {
    "duration": 31,
    "start_time": "2021-10-29T17:27:08.640Z"
   },
   {
    "duration": 41,
    "start_time": "2021-10-29T17:27:08.701Z"
   },
   {
    "duration": 16,
    "start_time": "2021-10-29T17:27:08.744Z"
   },
   {
    "duration": 3,
    "start_time": "2021-10-29T17:27:08.762Z"
   },
   {
    "duration": 48,
    "start_time": "2021-10-29T17:27:08.767Z"
   },
   {
    "duration": 3,
    "start_time": "2021-10-29T17:27:08.819Z"
   },
   {
    "duration": 75,
    "start_time": "2021-10-29T17:27:08.824Z"
   },
   {
    "duration": 4,
    "start_time": "2021-10-29T17:27:08.902Z"
   },
   {
    "duration": 16,
    "start_time": "2021-10-29T17:27:08.908Z"
   },
   {
    "duration": 11,
    "start_time": "2021-10-29T17:27:08.927Z"
   },
   {
    "duration": 13,
    "start_time": "2021-10-29T17:27:08.941Z"
   },
   {
    "duration": 3,
    "start_time": "2021-10-29T17:27:08.956Z"
   },
   {
    "duration": 20,
    "start_time": "2021-10-29T17:27:09.001Z"
   },
   {
    "duration": 12,
    "start_time": "2021-10-29T17:27:09.023Z"
   },
   {
    "duration": 13,
    "start_time": "2021-10-29T17:27:09.037Z"
   },
   {
    "duration": 19093,
    "start_time": "2021-10-29T17:27:09.052Z"
   },
   {
    "duration": 8,
    "start_time": "2021-10-29T17:27:28.147Z"
   },
   {
    "duration": 21,
    "start_time": "2021-10-29T17:27:28.158Z"
   },
   {
    "duration": 7,
    "start_time": "2021-10-29T17:27:28.201Z"
   },
   {
    "duration": 37,
    "start_time": "2021-10-29T17:27:28.211Z"
   },
   {
    "duration": 4,
    "start_time": "2021-10-29T17:27:28.250Z"
   },
   {
    "duration": 70,
    "start_time": "2021-10-29T17:27:28.257Z"
   },
   {
    "duration": 12,
    "start_time": "2021-10-29T17:27:28.331Z"
   },
   {
    "duration": 517,
    "start_time": "2021-10-29T17:27:28.351Z"
   },
   {
    "duration": 11,
    "start_time": "2021-10-29T17:27:28.871Z"
   },
   {
    "duration": 519,
    "start_time": "2021-10-29T17:27:28.901Z"
   },
   {
    "duration": 12,
    "start_time": "2021-10-29T17:27:29.422Z"
   },
   {
    "duration": 464,
    "start_time": "2021-10-29T17:27:29.437Z"
   },
   {
    "duration": 10,
    "start_time": "2021-10-29T17:27:29.903Z"
   },
   {
    "duration": 340,
    "start_time": "2021-10-29T17:27:29.916Z"
   },
   {
    "duration": 9,
    "start_time": "2021-10-29T17:27:30.260Z"
   },
   {
    "duration": 313,
    "start_time": "2021-10-29T17:27:30.272Z"
   },
   {
    "duration": 35,
    "start_time": "2021-10-29T17:27:30.587Z"
   },
   {
    "duration": 45,
    "start_time": "2021-10-29T17:27:30.625Z"
   },
   {
    "duration": 6,
    "start_time": "2021-10-29T17:27:30.672Z"
   },
   {
    "duration": 6,
    "start_time": "2021-10-29T17:27:30.701Z"
   },
   {
    "duration": 9,
    "start_time": "2021-10-29T17:27:30.710Z"
   },
   {
    "duration": 938,
    "start_time": "2021-10-29T17:27:30.722Z"
   },
   {
    "duration": 723,
    "start_time": "2021-10-29T17:27:54.480Z"
   },
   {
    "duration": 882,
    "start_time": "2021-10-29T17:31:10.248Z"
   },
   {
    "duration": 15808,
    "start_time": "2021-10-29T17:31:11.133Z"
   },
   {
    "duration": 762,
    "start_time": "2021-10-29T17:31:26.944Z"
   },
   {
    "duration": 3,
    "start_time": "2021-10-29T17:31:27.709Z"
   },
   {
    "duration": 767,
    "start_time": "2021-10-29T17:31:27.715Z"
   },
   {
    "duration": 3,
    "start_time": "2021-10-29T17:31:28.485Z"
   },
   {
    "duration": 962,
    "start_time": "2021-10-29T17:31:28.502Z"
   },
   {
    "duration": 4,
    "start_time": "2021-10-29T17:31:29.467Z"
   },
   {
    "duration": 737,
    "start_time": "2021-10-29T17:31:29.474Z"
   },
   {
    "duration": 4,
    "start_time": "2021-10-29T17:31:30.213Z"
   },
   {
    "duration": 572,
    "start_time": "2021-10-29T17:31:30.219Z"
   },
   {
    "duration": 6,
    "start_time": "2021-10-29T17:31:30.801Z"
   },
   {
    "duration": 11,
    "start_time": "2021-10-29T17:31:30.809Z"
   },
   {
    "duration": 7,
    "start_time": "2021-10-29T17:31:30.822Z"
   },
   {
    "duration": 19,
    "start_time": "2021-10-29T17:31:30.832Z"
   },
   {
    "duration": 71,
    "start_time": "2021-10-29T17:31:30.853Z"
   },
   {
    "duration": 4,
    "start_time": "2021-10-29T17:31:30.926Z"
   },
   {
    "duration": 23,
    "start_time": "2021-10-29T17:31:30.932Z"
   },
   {
    "duration": 63,
    "start_time": "2021-10-29T17:31:30.957Z"
   },
   {
    "duration": 11,
    "start_time": "2021-10-29T17:31:31.022Z"
   },
   {
    "duration": 5,
    "start_time": "2021-10-29T17:31:31.036Z"
   },
   {
    "duration": 12,
    "start_time": "2021-10-29T17:31:31.046Z"
   },
   {
    "duration": 60,
    "start_time": "2021-10-29T17:31:31.061Z"
   },
   {
    "duration": 4,
    "start_time": "2021-10-29T17:31:31.125Z"
   },
   {
    "duration": 385,
    "start_time": "2021-10-29T17:31:31.132Z"
   },
   {
    "duration": 4,
    "start_time": "2021-10-29T17:31:31.520Z"
   },
   {
    "duration": 12,
    "start_time": "2021-10-29T17:31:31.527Z"
   },
   {
    "duration": 62,
    "start_time": "2021-10-29T17:31:31.542Z"
   },
   {
    "duration": 10,
    "start_time": "2021-10-29T17:31:31.607Z"
   },
   {
    "duration": 339,
    "start_time": "2021-10-29T17:31:31.619Z"
   },
   {
    "duration": 4,
    "start_time": "2021-10-29T17:31:31.960Z"
   },
   {
    "duration": 22,
    "start_time": "2021-10-29T17:31:31.966Z"
   },
   {
    "duration": 662,
    "start_time": "2021-10-29T17:31:31.990Z"
   },
   {
    "duration": 3,
    "start_time": "2021-10-29T17:31:32.655Z"
   },
   {
    "duration": 29,
    "start_time": "2021-10-29T17:31:32.660Z"
   },
   {
    "duration": 768,
    "start_time": "2021-10-29T17:31:32.692Z"
   },
   {
    "duration": 3,
    "start_time": "2021-10-29T17:31:33.462Z"
   },
   {
    "duration": 863,
    "start_time": "2021-10-29T17:31:33.467Z"
   },
   {
    "duration": 3,
    "start_time": "2021-10-29T17:31:34.332Z"
   },
   {
    "duration": 710,
    "start_time": "2021-10-29T17:31:34.337Z"
   },
   {
    "duration": 3,
    "start_time": "2021-10-29T17:31:35.050Z"
   },
   {
    "duration": 13,
    "start_time": "2021-10-29T17:44:27.982Z"
   },
   {
    "duration": 592,
    "start_time": "2021-10-29T17:46:06.632Z"
   },
   {
    "duration": 6,
    "start_time": "2021-10-29T17:46:07.226Z"
   },
   {
    "duration": 8,
    "start_time": "2021-10-29T17:46:07.235Z"
   },
   {
    "duration": 11,
    "start_time": "2021-10-29T17:46:07.247Z"
   },
   {
    "duration": 40,
    "start_time": "2021-10-29T17:46:07.261Z"
   },
   {
    "duration": 9,
    "start_time": "2021-10-29T17:46:07.304Z"
   },
   {
    "duration": 87,
    "start_time": "2021-10-29T17:46:07.315Z"
   },
   {
    "duration": 2,
    "start_time": "2021-10-29T17:46:07.405Z"
   },
   {
    "duration": 18,
    "start_time": "2021-10-29T17:46:07.411Z"
   },
   {
    "duration": 37,
    "start_time": "2021-10-29T17:46:07.431Z"
   },
   {
    "duration": 12,
    "start_time": "2021-10-29T17:46:07.500Z"
   },
   {
    "duration": 3,
    "start_time": "2021-10-29T17:46:07.515Z"
   },
   {
    "duration": 10,
    "start_time": "2021-10-29T17:46:07.520Z"
   },
   {
    "duration": 75,
    "start_time": "2021-10-29T17:46:07.533Z"
   },
   {
    "duration": 3,
    "start_time": "2021-10-29T17:46:07.611Z"
   },
   {
    "duration": 387,
    "start_time": "2021-10-29T17:46:07.617Z"
   },
   {
    "duration": 3,
    "start_time": "2021-10-29T17:46:08.007Z"
   },
   {
    "duration": 6,
    "start_time": "2021-10-29T17:46:08.013Z"
   },
   {
    "duration": 79,
    "start_time": "2021-10-29T17:46:08.022Z"
   },
   {
    "duration": 10,
    "start_time": "2021-10-29T17:46:08.104Z"
   },
   {
    "duration": 325,
    "start_time": "2021-10-29T17:46:08.117Z"
   },
   {
    "duration": 3,
    "start_time": "2021-10-29T17:46:08.445Z"
   },
   {
    "duration": 13,
    "start_time": "2021-10-29T17:46:08.450Z"
   },
   {
    "duration": 664,
    "start_time": "2021-10-29T17:46:08.465Z"
   },
   {
    "duration": 4,
    "start_time": "2021-10-29T17:46:09.131Z"
   },
   {
    "duration": 7,
    "start_time": "2021-10-29T17:46:09.139Z"
   },
   {
    "duration": 703,
    "start_time": "2021-10-29T17:46:09.149Z"
   },
   {
    "duration": 3,
    "start_time": "2021-10-29T17:46:09.855Z"
   },
   {
    "duration": 714,
    "start_time": "2021-10-29T17:46:09.860Z"
   },
   {
    "duration": 3,
    "start_time": "2021-10-29T17:46:10.577Z"
   },
   {
    "duration": 721,
    "start_time": "2021-10-29T17:46:10.582Z"
   },
   {
    "duration": 3,
    "start_time": "2021-10-29T17:46:11.305Z"
   },
   {
    "duration": 15,
    "start_time": "2021-10-29T17:46:52.302Z"
   },
   {
    "duration": 733,
    "start_time": "2021-10-29T17:47:24.279Z"
   },
   {
    "duration": 46,
    "start_time": "2021-10-29T18:02:16.362Z"
   },
   {
    "duration": 13,
    "start_time": "2021-10-29T18:50:52.968Z"
   },
   {
    "duration": 9,
    "start_time": "2021-10-29T19:05:09.861Z"
   },
   {
    "duration": 392,
    "start_time": "2021-10-29T19:11:35.462Z"
   },
   {
    "duration": 681,
    "start_time": "2021-10-29T19:12:10.548Z"
   },
   {
    "duration": 823,
    "start_time": "2021-10-29T19:12:17.007Z"
   },
   {
    "duration": 939,
    "start_time": "2021-10-29T19:39:19.576Z"
   },
   {
    "duration": 167,
    "start_time": "2021-10-29T19:39:20.518Z"
   },
   {
    "duration": 26,
    "start_time": "2021-10-29T19:39:20.700Z"
   },
   {
    "duration": 140,
    "start_time": "2021-10-29T19:39:20.729Z"
   },
   {
    "duration": 706,
    "start_time": "2021-10-29T19:39:20.872Z"
   },
   {
    "duration": 4313,
    "start_time": "2021-10-29T19:39:21.580Z"
   },
   {
    "duration": 17,
    "start_time": "2021-10-29T19:39:25.900Z"
   },
   {
    "duration": 24124,
    "start_time": "2021-10-29T19:39:25.920Z"
   },
   {
    "duration": 18,
    "start_time": "2021-10-29T19:39:50.047Z"
   },
   {
    "duration": 113,
    "start_time": "2021-10-29T19:39:50.067Z"
   },
   {
    "duration": 8,
    "start_time": "2021-10-29T19:39:50.182Z"
   },
   {
    "duration": 4,
    "start_time": "2021-10-29T19:39:50.201Z"
   },
   {
    "duration": 30,
    "start_time": "2021-10-29T19:39:50.208Z"
   },
   {
    "duration": 8,
    "start_time": "2021-10-29T19:39:50.240Z"
   },
   {
    "duration": 11,
    "start_time": "2021-10-29T19:39:50.251Z"
   },
   {
    "duration": 57,
    "start_time": "2021-10-29T19:39:50.265Z"
   },
   {
    "duration": 9,
    "start_time": "2021-10-29T19:39:50.324Z"
   },
   {
    "duration": 3,
    "start_time": "2021-10-29T19:39:50.335Z"
   },
   {
    "duration": 20,
    "start_time": "2021-10-29T19:39:50.340Z"
   },
   {
    "duration": 55,
    "start_time": "2021-10-29T19:39:50.362Z"
   },
   {
    "duration": 12,
    "start_time": "2021-10-29T19:39:50.420Z"
   },
   {
    "duration": 8,
    "start_time": "2021-10-29T19:39:50.435Z"
   },
   {
    "duration": 9,
    "start_time": "2021-10-29T19:39:50.449Z"
   },
   {
    "duration": 3,
    "start_time": "2021-10-29T19:39:50.462Z"
   },
   {
    "duration": 42,
    "start_time": "2021-10-29T19:39:50.468Z"
   },
   {
    "duration": 9,
    "start_time": "2021-10-29T19:39:50.513Z"
   },
   {
    "duration": 29,
    "start_time": "2021-10-29T19:39:50.525Z"
   },
   {
    "duration": 3,
    "start_time": "2021-10-29T19:39:50.556Z"
   },
   {
    "duration": 15,
    "start_time": "2021-10-29T19:39:50.563Z"
   },
   {
    "duration": 2,
    "start_time": "2021-10-29T19:39:50.601Z"
   },
   {
    "duration": 21,
    "start_time": "2021-10-29T19:39:50.606Z"
   },
   {
    "duration": 7,
    "start_time": "2021-10-29T19:39:50.630Z"
   },
   {
    "duration": 19,
    "start_time": "2021-10-29T19:39:50.639Z"
   },
   {
    "duration": 11,
    "start_time": "2021-10-29T19:39:50.661Z"
   },
   {
    "duration": 27,
    "start_time": "2021-10-29T19:39:50.675Z"
   },
   {
    "duration": 3,
    "start_time": "2021-10-29T19:39:50.705Z"
   },
   {
    "duration": 17,
    "start_time": "2021-10-29T19:39:50.710Z"
   },
   {
    "duration": 27,
    "start_time": "2021-10-29T19:39:50.730Z"
   },
   {
    "duration": 10,
    "start_time": "2021-10-29T19:39:50.760Z"
   },
   {
    "duration": 32,
    "start_time": "2021-10-29T19:39:50.800Z"
   },
   {
    "duration": 4,
    "start_time": "2021-10-29T19:39:50.835Z"
   },
   {
    "duration": 15,
    "start_time": "2021-10-29T19:39:50.841Z"
   },
   {
    "duration": 2,
    "start_time": "2021-10-29T19:39:50.859Z"
   },
   {
    "duration": 55,
    "start_time": "2021-10-29T19:39:50.863Z"
   },
   {
    "duration": 33,
    "start_time": "2021-10-29T19:39:50.920Z"
   },
   {
    "duration": 61,
    "start_time": "2021-10-29T19:39:50.956Z"
   },
   {
    "duration": 17,
    "start_time": "2021-10-29T19:39:51.019Z"
   },
   {
    "duration": 4,
    "start_time": "2021-10-29T19:39:51.038Z"
   },
   {
    "duration": 27,
    "start_time": "2021-10-29T19:39:51.044Z"
   },
   {
    "duration": 4,
    "start_time": "2021-10-29T19:39:51.073Z"
   },
   {
    "duration": 44,
    "start_time": "2021-10-29T19:39:51.101Z"
   },
   {
    "duration": 3,
    "start_time": "2021-10-29T19:39:51.147Z"
   },
   {
    "duration": 20,
    "start_time": "2021-10-29T19:39:51.152Z"
   },
   {
    "duration": 34,
    "start_time": "2021-10-29T19:39:51.174Z"
   },
   {
    "duration": 11,
    "start_time": "2021-10-29T19:39:51.210Z"
   },
   {
    "duration": 4,
    "start_time": "2021-10-29T19:39:51.224Z"
   },
   {
    "duration": 26,
    "start_time": "2021-10-29T19:39:51.230Z"
   },
   {
    "duration": 42,
    "start_time": "2021-10-29T19:39:51.258Z"
   },
   {
    "duration": 13,
    "start_time": "2021-10-29T19:39:51.303Z"
   },
   {
    "duration": 19560,
    "start_time": "2021-10-29T19:39:51.319Z"
   },
   {
    "duration": 8,
    "start_time": "2021-10-29T19:40:10.882Z"
   },
   {
    "duration": 18,
    "start_time": "2021-10-29T19:40:10.901Z"
   },
   {
    "duration": 6,
    "start_time": "2021-10-29T19:40:10.921Z"
   },
   {
    "duration": 43,
    "start_time": "2021-10-29T19:40:10.929Z"
   },
   {
    "duration": 3,
    "start_time": "2021-10-29T19:40:10.975Z"
   },
   {
    "duration": 54,
    "start_time": "2021-10-29T19:40:10.980Z"
   },
   {
    "duration": 11,
    "start_time": "2021-10-29T19:40:11.036Z"
   },
   {
    "duration": 481,
    "start_time": "2021-10-29T19:40:11.055Z"
   },
   {
    "duration": 12,
    "start_time": "2021-10-29T19:40:11.539Z"
   },
   {
    "duration": 488,
    "start_time": "2021-10-29T19:40:11.553Z"
   },
   {
    "duration": 11,
    "start_time": "2021-10-29T19:40:12.044Z"
   },
   {
    "duration": 432,
    "start_time": "2021-10-29T19:40:12.057Z"
   },
   {
    "duration": 19,
    "start_time": "2021-10-29T19:40:12.492Z"
   },
   {
    "duration": 326,
    "start_time": "2021-10-29T19:40:12.514Z"
   },
   {
    "duration": 7,
    "start_time": "2021-10-29T19:40:12.843Z"
   },
   {
    "duration": 304,
    "start_time": "2021-10-29T19:40:12.852Z"
   },
   {
    "duration": 27,
    "start_time": "2021-10-29T19:40:13.158Z"
   },
   {
    "duration": 43,
    "start_time": "2021-10-29T19:40:13.201Z"
   },
   {
    "duration": 5,
    "start_time": "2021-10-29T19:40:13.247Z"
   },
   {
    "duration": 8,
    "start_time": "2021-10-29T19:40:13.254Z"
   },
   {
    "duration": 8,
    "start_time": "2021-10-29T19:40:13.264Z"
   },
   {
    "duration": 735,
    "start_time": "2021-10-29T19:40:13.301Z"
   },
   {
    "duration": 764,
    "start_time": "2021-10-29T19:40:14.039Z"
   },
   {
    "duration": 767,
    "start_time": "2021-10-29T19:40:14.806Z"
   },
   {
    "duration": 742,
    "start_time": "2021-10-29T19:40:15.575Z"
   },
   {
    "duration": 732,
    "start_time": "2021-10-29T19:40:16.319Z"
   },
   {
    "duration": 672,
    "start_time": "2021-10-29T19:40:17.054Z"
   },
   {
    "duration": 6,
    "start_time": "2021-10-29T19:40:17.728Z"
   },
   {
    "duration": 8,
    "start_time": "2021-10-29T19:40:17.736Z"
   },
   {
    "duration": 13,
    "start_time": "2021-10-29T19:40:17.746Z"
   },
   {
    "duration": 40,
    "start_time": "2021-10-29T19:40:17.761Z"
   },
   {
    "duration": 59,
    "start_time": "2021-10-29T19:40:17.803Z"
   },
   {
    "duration": 74,
    "start_time": "2021-10-29T19:40:17.864Z"
   },
   {
    "duration": 12,
    "start_time": "2021-10-29T19:40:17.941Z"
   },
   {
    "duration": 59,
    "start_time": "2021-10-29T19:40:17.955Z"
   },
   {
    "duration": 363,
    "start_time": "2021-10-29T19:40:18.016Z"
   },
   {
    "duration": 51,
    "start_time": "2021-10-29T19:40:18.382Z"
   },
   {
    "duration": 10,
    "start_time": "2021-10-29T19:40:18.436Z"
   },
   {
    "duration": 357,
    "start_time": "2021-10-29T19:40:18.448Z"
   },
   {
    "duration": 11,
    "start_time": "2021-10-29T19:40:18.808Z"
   },
   {
    "duration": 680,
    "start_time": "2021-10-29T19:40:18.822Z"
   },
   {
    "duration": 770,
    "start_time": "2021-10-29T19:40:19.505Z"
   },
   {
    "duration": 757,
    "start_time": "2021-10-29T19:40:20.277Z"
   },
   {
    "duration": 703,
    "start_time": "2021-10-29T19:40:21.037Z"
   },
   {
    "duration": 399,
    "start_time": "2021-10-29T19:40:21.743Z"
   },
   {
    "duration": 7,
    "start_time": "2021-10-29T19:40:22.144Z"
   },
   {
    "duration": 124,
    "start_time": "2021-11-03T17:25:01.509Z"
   },
   {
    "duration": -339,
    "start_time": "2021-11-03T17:25:01.975Z"
   },
   {
    "duration": -343,
    "start_time": "2021-11-03T17:25:01.981Z"
   },
   {
    "duration": -348,
    "start_time": "2021-11-03T17:25:01.987Z"
   },
   {
    "duration": -352,
    "start_time": "2021-11-03T17:25:01.992Z"
   },
   {
    "duration": -359,
    "start_time": "2021-11-03T17:25:02.000Z"
   },
   {
    "duration": -361,
    "start_time": "2021-11-03T17:25:02.004Z"
   },
   {
    "duration": -365,
    "start_time": "2021-11-03T17:25:02.009Z"
   },
   {
    "duration": -368,
    "start_time": "2021-11-03T17:25:02.013Z"
   },
   {
    "duration": 429,
    "start_time": "2021-11-03T17:25:01.673Z"
   },
   {
    "duration": -96,
    "start_time": "2021-11-03T17:25:02.205Z"
   },
   {
    "duration": -101,
    "start_time": "2021-11-03T17:25:02.211Z"
   },
   {
    "duration": -105,
    "start_time": "2021-11-03T17:25:02.216Z"
   },
   {
    "duration": -107,
    "start_time": "2021-11-03T17:25:02.220Z"
   },
   {
    "duration": -111,
    "start_time": "2021-11-03T17:25:02.225Z"
   },
   {
    "duration": -212,
    "start_time": "2021-11-03T17:25:02.327Z"
   },
   {
    "duration": -215,
    "start_time": "2021-11-03T17:25:02.332Z"
   },
   {
    "duration": -219,
    "start_time": "2021-11-03T17:25:02.337Z"
   },
   {
    "duration": -224,
    "start_time": "2021-11-03T17:25:02.343Z"
   },
   {
    "duration": -227,
    "start_time": "2021-11-03T17:25:02.348Z"
   },
   {
    "duration": -232,
    "start_time": "2021-11-03T17:25:02.354Z"
   },
   {
    "duration": -234,
    "start_time": "2021-11-03T17:25:02.358Z"
   },
   {
    "duration": -238,
    "start_time": "2021-11-03T17:25:02.363Z"
   },
   {
    "duration": -241,
    "start_time": "2021-11-03T17:25:02.367Z"
   },
   {
    "duration": -245,
    "start_time": "2021-11-03T17:25:02.372Z"
   },
   {
    "duration": -247,
    "start_time": "2021-11-03T17:25:02.376Z"
   },
   {
    "duration": -251,
    "start_time": "2021-11-03T17:25:02.381Z"
   },
   {
    "duration": -253,
    "start_time": "2021-11-03T17:25:02.385Z"
   },
   {
    "duration": -257,
    "start_time": "2021-11-03T17:25:02.390Z"
   },
   {
    "duration": -309,
    "start_time": "2021-11-03T17:25:02.443Z"
   },
   {
    "duration": -313,
    "start_time": "2021-11-03T17:25:02.448Z"
   },
   {
    "duration": -317,
    "start_time": "2021-11-03T17:25:02.453Z"
   },
   {
    "duration": -321,
    "start_time": "2021-11-03T17:25:02.459Z"
   },
   {
    "duration": -325,
    "start_time": "2021-11-03T17:25:02.464Z"
   },
   {
    "duration": -328,
    "start_time": "2021-11-03T17:25:02.469Z"
   },
   {
    "duration": -333,
    "start_time": "2021-11-03T17:25:02.475Z"
   },
   {
    "duration": -337,
    "start_time": "2021-11-03T17:25:02.480Z"
   },
   {
    "duration": -325,
    "start_time": "2021-11-03T17:25:02.485Z"
   },
   {
    "duration": -328,
    "start_time": "2021-11-03T17:25:02.490Z"
   },
   {
    "duration": -331,
    "start_time": "2021-11-03T17:25:02.495Z"
   },
   {
    "duration": -335,
    "start_time": "2021-11-03T17:25:02.500Z"
   },
   {
    "duration": -338,
    "start_time": "2021-11-03T17:25:02.504Z"
   },
   {
    "duration": -342,
    "start_time": "2021-11-03T17:25:02.510Z"
   },
   {
    "duration": -341,
    "start_time": "2021-11-03T17:25:02.515Z"
   },
   {
    "duration": -346,
    "start_time": "2021-11-03T17:25:02.521Z"
   },
   {
    "duration": -349,
    "start_time": "2021-11-03T17:25:02.526Z"
   },
   {
    "duration": -354,
    "start_time": "2021-11-03T17:25:02.532Z"
   },
   {
    "duration": -381,
    "start_time": "2021-11-03T17:25:02.560Z"
   },
   {
    "duration": -384,
    "start_time": "2021-11-03T17:25:02.565Z"
   },
   {
    "duration": -387,
    "start_time": "2021-11-03T17:25:02.569Z"
   },
   {
    "duration": -392,
    "start_time": "2021-11-03T17:25:02.575Z"
   },
   {
    "duration": -396,
    "start_time": "2021-11-03T17:25:02.580Z"
   },
   {
    "duration": -399,
    "start_time": "2021-11-03T17:25:02.584Z"
   },
   {
    "duration": -401,
    "start_time": "2021-11-03T17:25:02.588Z"
   },
   {
    "duration": -405,
    "start_time": "2021-11-03T17:25:02.593Z"
   },
   {
    "duration": -409,
    "start_time": "2021-11-03T17:25:02.598Z"
   },
   {
    "duration": -413,
    "start_time": "2021-11-03T17:25:02.603Z"
   },
   {
    "duration": -417,
    "start_time": "2021-11-03T17:25:02.609Z"
   },
   {
    "duration": -421,
    "start_time": "2021-11-03T17:25:02.614Z"
   },
   {
    "duration": -425,
    "start_time": "2021-11-03T17:25:02.619Z"
   },
   {
    "duration": -427,
    "start_time": "2021-11-03T17:25:02.623Z"
   },
   {
    "duration": -430,
    "start_time": "2021-11-03T17:25:02.627Z"
   },
   {
    "duration": -434,
    "start_time": "2021-11-03T17:25:02.632Z"
   },
   {
    "duration": -437,
    "start_time": "2021-11-03T17:25:02.637Z"
   },
   {
    "duration": -441,
    "start_time": "2021-11-03T17:25:02.642Z"
   },
   {
    "duration": -387,
    "start_time": "2021-11-03T17:25:02.646Z"
   },
   {
    "duration": -389,
    "start_time": "2021-11-03T17:25:02.650Z"
   },
   {
    "duration": -389,
    "start_time": "2021-11-03T17:25:02.655Z"
   },
   {
    "duration": -394,
    "start_time": "2021-11-03T17:25:02.661Z"
   },
   {
    "duration": -398,
    "start_time": "2021-11-03T17:25:02.666Z"
   },
   {
    "duration": -397,
    "start_time": "2021-11-03T17:25:02.671Z"
   },
   {
    "duration": -400,
    "start_time": "2021-11-03T17:25:02.677Z"
   },
   {
    "duration": -404,
    "start_time": "2021-11-03T17:25:02.682Z"
   },
   {
    "duration": -407,
    "start_time": "2021-11-03T17:25:02.687Z"
   },
   {
    "duration": -412,
    "start_time": "2021-11-03T17:25:02.693Z"
   },
   {
    "duration": -415,
    "start_time": "2021-11-03T17:25:02.697Z"
   },
   {
    "duration": -419,
    "start_time": "2021-11-03T17:25:02.702Z"
   },
   {
    "duration": -422,
    "start_time": "2021-11-03T17:25:02.706Z"
   },
   {
    "duration": -425,
    "start_time": "2021-11-03T17:25:02.711Z"
   },
   {
    "duration": -429,
    "start_time": "2021-11-03T17:25:02.716Z"
   },
   {
    "duration": -432,
    "start_time": "2021-11-03T17:25:02.720Z"
   },
   {
    "duration": -435,
    "start_time": "2021-11-03T17:25:02.725Z"
   },
   {
    "duration": -438,
    "start_time": "2021-11-03T17:25:02.729Z"
   },
   {
    "duration": -441,
    "start_time": "2021-11-03T17:25:02.733Z"
   },
   {
    "duration": -444,
    "start_time": "2021-11-03T17:25:02.738Z"
   },
   {
    "duration": -448,
    "start_time": "2021-11-03T17:25:02.743Z"
   },
   {
    "duration": -451,
    "start_time": "2021-11-03T17:25:02.748Z"
   },
   {
    "duration": -454,
    "start_time": "2021-11-03T17:25:02.752Z"
   },
   {
    "duration": -457,
    "start_time": "2021-11-03T17:25:02.757Z"
   },
   {
    "duration": -459,
    "start_time": "2021-11-03T17:25:02.760Z"
   },
   {
    "duration": -461,
    "start_time": "2021-11-03T17:25:02.764Z"
   },
   {
    "duration": -409,
    "start_time": "2021-11-03T17:25:02.768Z"
   },
   {
    "duration": -412,
    "start_time": "2021-11-03T17:25:02.772Z"
   },
   {
    "duration": -413,
    "start_time": "2021-11-03T17:25:02.775Z"
   },
   {
    "duration": -417,
    "start_time": "2021-11-03T17:25:02.781Z"
   },
   {
    "duration": -420,
    "start_time": "2021-11-03T17:25:02.785Z"
   },
   {
    "duration": -422,
    "start_time": "2021-11-03T17:25:02.790Z"
   },
   {
    "duration": -424,
    "start_time": "2021-11-03T17:25:02.795Z"
   },
   {
    "duration": -475,
    "start_time": "2021-11-03T17:25:02.847Z"
   },
   {
    "duration": -478,
    "start_time": "2021-11-03T17:25:02.851Z"
   },
   {
    "duration": -483,
    "start_time": "2021-11-03T17:25:02.857Z"
   },
   {
    "duration": -486,
    "start_time": "2021-11-03T17:25:02.862Z"
   },
   {
    "duration": -490,
    "start_time": "2021-11-03T17:25:02.867Z"
   },
   {
    "duration": -494,
    "start_time": "2021-11-03T17:25:02.872Z"
   },
   {
    "duration": -498,
    "start_time": "2021-11-03T17:25:02.878Z"
   },
   {
    "duration": -501,
    "start_time": "2021-11-03T17:25:02.882Z"
   },
   {
    "duration": -504,
    "start_time": "2021-11-03T17:25:02.887Z"
   },
   {
    "duration": 915,
    "start_time": "2021-11-03T17:25:27.464Z"
   },
   {
    "duration": 144,
    "start_time": "2021-11-03T17:25:28.382Z"
   },
   {
    "duration": 72,
    "start_time": "2021-11-03T17:25:28.529Z"
   },
   {
    "duration": 29,
    "start_time": "2021-11-03T17:25:28.605Z"
   },
   {
    "duration": 144,
    "start_time": "2021-11-03T17:25:28.636Z"
   },
   {
    "duration": 811,
    "start_time": "2021-11-03T17:25:28.782Z"
   },
   {
    "duration": 3822,
    "start_time": "2021-11-03T17:25:29.596Z"
   },
   {
    "duration": 17,
    "start_time": "2021-11-03T17:25:33.421Z"
   },
   {
    "duration": 22912,
    "start_time": "2021-11-03T17:25:33.459Z"
   },
   {
    "duration": 15,
    "start_time": "2021-11-03T17:25:56.375Z"
   },
   {
    "duration": 104,
    "start_time": "2021-11-03T17:25:56.392Z"
   },
   {
    "duration": 7,
    "start_time": "2021-11-03T17:25:56.499Z"
   },
   {
    "duration": 7,
    "start_time": "2021-11-03T17:25:56.509Z"
   },
   {
    "duration": 49,
    "start_time": "2021-11-03T17:25:56.518Z"
   },
   {
    "duration": 10,
    "start_time": "2021-11-03T17:25:56.569Z"
   },
   {
    "duration": 12,
    "start_time": "2021-11-03T17:25:56.581Z"
   },
   {
    "duration": 23,
    "start_time": "2021-11-03T17:25:56.595Z"
   },
   {
    "duration": 50,
    "start_time": "2021-11-03T17:25:56.620Z"
   },
   {
    "duration": 4,
    "start_time": "2021-11-03T17:25:56.672Z"
   },
   {
    "duration": 16,
    "start_time": "2021-11-03T17:25:56.678Z"
   },
   {
    "duration": 26,
    "start_time": "2021-11-03T17:25:56.696Z"
   },
   {
    "duration": 11,
    "start_time": "2021-11-03T17:25:56.725Z"
   },
   {
    "duration": 26,
    "start_time": "2021-11-03T17:25:56.739Z"
   },
   {
    "duration": 20,
    "start_time": "2021-11-03T17:25:56.768Z"
   },
   {
    "duration": 3,
    "start_time": "2021-11-03T17:25:56.791Z"
   },
   {
    "duration": 15,
    "start_time": "2021-11-03T17:25:56.796Z"
   },
   {
    "duration": 3,
    "start_time": "2021-11-03T17:25:56.818Z"
   },
   {
    "duration": 48,
    "start_time": "2021-11-03T17:25:56.825Z"
   },
   {
    "duration": 4,
    "start_time": "2021-11-03T17:25:56.875Z"
   },
   {
    "duration": 14,
    "start_time": "2021-11-03T17:25:56.881Z"
   },
   {
    "duration": 8,
    "start_time": "2021-11-03T17:25:56.897Z"
   },
   {
    "duration": 27,
    "start_time": "2021-11-03T17:25:56.907Z"
   },
   {
    "duration": 8,
    "start_time": "2021-11-03T17:25:56.960Z"
   },
   {
    "duration": 24,
    "start_time": "2021-11-03T17:25:56.972Z"
   },
   {
    "duration": 6,
    "start_time": "2021-11-03T17:25:56.998Z"
   },
   {
    "duration": 19,
    "start_time": "2021-11-03T17:25:57.007Z"
   },
   {
    "duration": 7,
    "start_time": "2021-11-03T17:25:57.028Z"
   },
   {
    "duration": 40,
    "start_time": "2021-11-03T17:25:57.037Z"
   },
   {
    "duration": 20,
    "start_time": "2021-11-03T17:25:57.079Z"
   },
   {
    "duration": 10,
    "start_time": "2021-11-03T17:25:57.102Z"
   },
   {
    "duration": 47,
    "start_time": "2021-11-03T17:25:57.115Z"
   },
   {
    "duration": 6,
    "start_time": "2021-11-03T17:25:57.164Z"
   },
   {
    "duration": 15,
    "start_time": "2021-11-03T17:25:57.173Z"
   },
   {
    "duration": 8,
    "start_time": "2021-11-03T17:25:57.190Z"
   },
   {
    "duration": 27,
    "start_time": "2021-11-03T17:25:57.201Z"
   },
   {
    "duration": 56,
    "start_time": "2021-11-03T17:25:57.230Z"
   },
   {
    "duration": 37,
    "start_time": "2021-11-03T17:25:57.288Z"
   },
   {
    "duration": 36,
    "start_time": "2021-11-03T17:25:57.327Z"
   },
   {
    "duration": 3,
    "start_time": "2021-11-03T17:25:57.366Z"
   },
   {
    "duration": 26,
    "start_time": "2021-11-03T17:25:57.371Z"
   },
   {
    "duration": 3,
    "start_time": "2021-11-03T17:25:57.400Z"
   },
   {
    "duration": 62,
    "start_time": "2021-11-03T17:25:57.406Z"
   },
   {
    "duration": 5,
    "start_time": "2021-11-03T17:25:57.471Z"
   },
   {
    "duration": 16,
    "start_time": "2021-11-03T17:25:57.479Z"
   },
   {
    "duration": 13,
    "start_time": "2021-11-03T17:25:57.497Z"
   },
   {
    "duration": 61,
    "start_time": "2021-11-03T17:25:57.512Z"
   },
   {
    "duration": 3,
    "start_time": "2021-11-03T17:25:57.575Z"
   },
   {
    "duration": 17,
    "start_time": "2021-11-03T17:25:57.580Z"
   },
   {
    "duration": 12,
    "start_time": "2021-11-03T17:25:57.599Z"
   },
   {
    "duration": 13,
    "start_time": "2021-11-03T17:25:57.613Z"
   },
   {
    "duration": 19228,
    "start_time": "2021-11-03T17:25:57.663Z"
   },
   {
    "duration": 6,
    "start_time": "2021-11-03T17:26:16.893Z"
   },
   {
    "duration": 21,
    "start_time": "2021-11-03T17:26:16.902Z"
   },
   {
    "duration": 6,
    "start_time": "2021-11-03T17:26:16.925Z"
   },
   {
    "duration": 60,
    "start_time": "2021-11-03T17:26:16.933Z"
   },
   {
    "duration": 4,
    "start_time": "2021-11-03T17:26:16.995Z"
   },
   {
    "duration": 74,
    "start_time": "2021-11-03T17:26:17.001Z"
   },
   {
    "duration": 11,
    "start_time": "2021-11-03T17:26:17.077Z"
   },
   {
    "duration": 463,
    "start_time": "2021-11-03T17:26:17.091Z"
   },
   {
    "duration": 14,
    "start_time": "2021-11-03T17:26:17.566Z"
   },
   {
    "duration": 460,
    "start_time": "2021-11-03T17:26:17.582Z"
   },
   {
    "duration": 32,
    "start_time": "2021-11-03T17:26:18.045Z"
   },
   {
    "duration": 422,
    "start_time": "2021-11-03T17:26:18.079Z"
   },
   {
    "duration": 12,
    "start_time": "2021-11-03T17:26:18.503Z"
   },
   {
    "duration": 315,
    "start_time": "2021-11-03T17:26:18.517Z"
   },
   {
    "duration": 8,
    "start_time": "2021-11-03T17:26:18.834Z"
   },
   {
    "duration": 288,
    "start_time": "2021-11-03T17:26:18.844Z"
   },
   {
    "duration": 41,
    "start_time": "2021-11-03T17:26:19.134Z"
   },
   {
    "duration": 38,
    "start_time": "2021-11-03T17:26:19.177Z"
   },
   {
    "duration": 5,
    "start_time": "2021-11-03T17:26:19.217Z"
   },
   {
    "duration": 4,
    "start_time": "2021-11-03T17:26:19.231Z"
   },
   {
    "duration": 5,
    "start_time": "2021-11-03T17:26:19.262Z"
   },
   {
    "duration": 726,
    "start_time": "2021-11-03T17:26:19.271Z"
   },
   {
    "duration": 717,
    "start_time": "2021-11-03T17:26:20.000Z"
   },
   {
    "duration": 825,
    "start_time": "2021-11-03T17:26:20.720Z"
   },
   {
    "duration": 786,
    "start_time": "2021-11-03T17:26:21.548Z"
   },
   {
    "duration": 697,
    "start_time": "2021-11-03T17:26:22.337Z"
   },
   {
    "duration": 530,
    "start_time": "2021-11-03T17:26:23.036Z"
   },
   {
    "duration": 7,
    "start_time": "2021-11-03T17:26:23.568Z"
   },
   {
    "duration": 9,
    "start_time": "2021-11-03T17:26:23.577Z"
   },
   {
    "duration": 11,
    "start_time": "2021-11-03T17:26:23.589Z"
   },
   {
    "duration": 7,
    "start_time": "2021-11-03T17:26:23.602Z"
   },
   {
    "duration": 86,
    "start_time": "2021-11-03T17:26:23.612Z"
   },
   {
    "duration": 46,
    "start_time": "2021-11-03T17:26:23.701Z"
   },
   {
    "duration": 16,
    "start_time": "2021-11-03T17:26:23.759Z"
   },
   {
    "duration": 38,
    "start_time": "2021-11-03T17:26:23.777Z"
   },
   {
    "duration": 357,
    "start_time": "2021-11-03T17:26:23.817Z"
   },
   {
    "duration": 43,
    "start_time": "2021-11-03T17:26:24.176Z"
   },
   {
    "duration": 9,
    "start_time": "2021-11-03T17:26:24.221Z"
   },
   {
    "duration": 302,
    "start_time": "2021-11-03T17:26:24.259Z"
   },
   {
    "duration": 12,
    "start_time": "2021-11-03T17:26:24.564Z"
   },
   {
    "duration": 635,
    "start_time": "2021-11-03T17:26:24.578Z"
   },
   {
    "duration": 688,
    "start_time": "2021-11-03T17:26:25.215Z"
   },
   {
    "duration": 693,
    "start_time": "2021-11-03T17:26:25.905Z"
   },
   {
    "duration": 777,
    "start_time": "2021-11-03T17:26:26.600Z"
   },
   {
    "duration": 385,
    "start_time": "2021-11-03T17:26:27.380Z"
   },
   {
    "duration": 8,
    "start_time": "2021-11-03T17:26:27.768Z"
   },
   {
    "duration": 13,
    "start_time": "2021-11-03T17:35:17.049Z"
   },
   {
    "duration": 13,
    "start_time": "2021-11-03T17:35:36.727Z"
   },
   {
    "duration": 12,
    "start_time": "2021-11-03T17:35:36.743Z"
   },
   {
    "duration": 3,
    "start_time": "2021-11-03T17:35:36.758Z"
   },
   {
    "duration": 23,
    "start_time": "2021-11-03T17:35:36.764Z"
   },
   {
    "duration": 11,
    "start_time": "2021-11-03T17:35:36.790Z"
   },
   {
    "duration": 11,
    "start_time": "2021-11-03T17:35:36.803Z"
   },
   {
    "duration": 16546,
    "start_time": "2021-11-03T17:35:36.816Z"
   },
   {
    "duration": 6,
    "start_time": "2021-11-03T17:35:53.364Z"
   },
   {
    "duration": 19,
    "start_time": "2021-11-03T17:35:53.374Z"
   },
   {
    "duration": 6,
    "start_time": "2021-11-03T17:35:53.396Z"
   },
   {
    "duration": 61,
    "start_time": "2021-11-03T17:35:53.405Z"
   },
   {
    "duration": 3,
    "start_time": "2021-11-03T17:35:53.468Z"
   },
   {
    "duration": 487,
    "start_time": "2021-11-03T17:35:53.474Z"
   },
   {
    "duration": -220,
    "start_time": "2021-11-03T17:35:54.186Z"
   },
   {
    "duration": -224,
    "start_time": "2021-11-03T17:35:54.191Z"
   },
   {
    "duration": -226,
    "start_time": "2021-11-03T17:35:54.195Z"
   },
   {
    "duration": -228,
    "start_time": "2021-11-03T17:35:54.198Z"
   },
   {
    "duration": -230,
    "start_time": "2021-11-03T17:35:54.202Z"
   },
   {
    "duration": -233,
    "start_time": "2021-11-03T17:35:54.206Z"
   },
   {
    "duration": -236,
    "start_time": "2021-11-03T17:35:54.210Z"
   },
   {
    "duration": -333,
    "start_time": "2021-11-03T17:35:54.309Z"
   },
   {
    "duration": -337,
    "start_time": "2021-11-03T17:35:54.314Z"
   },
   {
    "duration": -340,
    "start_time": "2021-11-03T17:35:54.319Z"
   },
   {
    "duration": -343,
    "start_time": "2021-11-03T17:35:54.323Z"
   },
   {
    "duration": -345,
    "start_time": "2021-11-03T17:35:54.327Z"
   },
   {
    "duration": -348,
    "start_time": "2021-11-03T17:35:54.331Z"
   },
   {
    "duration": -349,
    "start_time": "2021-11-03T17:35:54.334Z"
   },
   {
    "duration": -352,
    "start_time": "2021-11-03T17:35:54.338Z"
   },
   {
    "duration": -355,
    "start_time": "2021-11-03T17:35:54.342Z"
   },
   {
    "duration": -357,
    "start_time": "2021-11-03T17:35:54.346Z"
   },
   {
    "duration": -359,
    "start_time": "2021-11-03T17:35:54.349Z"
   },
   {
    "duration": -362,
    "start_time": "2021-11-03T17:35:54.353Z"
   },
   {
    "duration": -365,
    "start_time": "2021-11-03T17:35:54.357Z"
   },
   {
    "duration": -367,
    "start_time": "2021-11-03T17:35:54.361Z"
   },
   {
    "duration": -371,
    "start_time": "2021-11-03T17:35:54.366Z"
   },
   {
    "duration": -375,
    "start_time": "2021-11-03T17:35:54.371Z"
   },
   {
    "duration": -378,
    "start_time": "2021-11-03T17:35:54.375Z"
   },
   {
    "duration": -381,
    "start_time": "2021-11-03T17:35:54.379Z"
   },
   {
    "duration": -383,
    "start_time": "2021-11-03T17:35:54.383Z"
   },
   {
    "duration": -386,
    "start_time": "2021-11-03T17:35:54.387Z"
   },
   {
    "duration": -388,
    "start_time": "2021-11-03T17:35:54.390Z"
   },
   {
    "duration": -392,
    "start_time": "2021-11-03T17:35:54.395Z"
   },
   {
    "duration": -335,
    "start_time": "2021-11-03T17:35:54.398Z"
   },
   {
    "duration": -338,
    "start_time": "2021-11-03T17:35:54.402Z"
   },
   {
    "duration": -340,
    "start_time": "2021-11-03T17:35:54.406Z"
   },
   {
    "duration": -344,
    "start_time": "2021-11-03T17:35:54.411Z"
   },
   {
    "duration": -347,
    "start_time": "2021-11-03T17:35:54.415Z"
   },
   {
    "duration": -350,
    "start_time": "2021-11-03T17:35:54.419Z"
   },
   {
    "duration": -352,
    "start_time": "2021-11-03T17:35:54.423Z"
   },
   {
    "duration": -356,
    "start_time": "2021-11-03T17:35:54.428Z"
   },
   {
    "duration": -359,
    "start_time": "2021-11-03T17:35:54.432Z"
   },
   {
    "duration": -362,
    "start_time": "2021-11-03T17:35:54.437Z"
   },
   {
    "duration": -365,
    "start_time": "2021-11-03T17:35:54.441Z"
   },
   {
    "duration": 14,
    "start_time": "2021-11-03T17:37:45.536Z"
   },
   {
    "duration": 20,
    "start_time": "2021-11-03T17:37:45.554Z"
   },
   {
    "duration": 3,
    "start_time": "2021-11-03T17:37:45.578Z"
   },
   {
    "duration": 25,
    "start_time": "2021-11-03T17:37:45.585Z"
   },
   {
    "duration": 54,
    "start_time": "2021-11-03T17:37:45.612Z"
   },
   {
    "duration": 15,
    "start_time": "2021-11-03T17:37:45.668Z"
   },
   {
    "duration": 15592,
    "start_time": "2021-11-03T17:37:45.685Z"
   },
   {
    "duration": 6,
    "start_time": "2021-11-03T17:38:01.279Z"
   },
   {
    "duration": 15,
    "start_time": "2021-11-03T17:38:01.290Z"
   },
   {
    "duration": 5,
    "start_time": "2021-11-03T17:38:01.308Z"
   },
   {
    "duration": 14,
    "start_time": "2021-11-03T17:38:01.316Z"
   },
   {
    "duration": 30,
    "start_time": "2021-11-03T17:38:01.332Z"
   },
   {
    "duration": 20,
    "start_time": "2021-11-03T17:38:01.364Z"
   },
   {
    "duration": 11,
    "start_time": "2021-11-03T17:38:01.386Z"
   },
   {
    "duration": 406,
    "start_time": "2021-11-03T17:38:01.399Z"
   },
   {
    "duration": 10,
    "start_time": "2021-11-03T17:38:01.807Z"
   },
   {
    "duration": 386,
    "start_time": "2021-11-03T17:38:01.819Z"
   },
   {
    "duration": -102,
    "start_time": "2021-11-03T17:38:02.311Z"
   },
   {
    "duration": -105,
    "start_time": "2021-11-03T17:38:02.315Z"
   },
   {
    "duration": -107,
    "start_time": "2021-11-03T17:38:02.319Z"
   },
   {
    "duration": -110,
    "start_time": "2021-11-03T17:38:02.323Z"
   },
   {
    "duration": -113,
    "start_time": "2021-11-03T17:38:02.327Z"
   },
   {
    "duration": -114,
    "start_time": "2021-11-03T17:38:02.330Z"
   },
   {
    "duration": -117,
    "start_time": "2021-11-03T17:38:02.334Z"
   },
   {
    "duration": -120,
    "start_time": "2021-11-03T17:38:02.338Z"
   },
   {
    "duration": -123,
    "start_time": "2021-11-03T17:38:02.342Z"
   },
   {
    "duration": -124,
    "start_time": "2021-11-03T17:38:02.345Z"
   },
   {
    "duration": -127,
    "start_time": "2021-11-03T17:38:02.349Z"
   },
   {
    "duration": -130,
    "start_time": "2021-11-03T17:38:02.353Z"
   },
   {
    "duration": -133,
    "start_time": "2021-11-03T17:38:02.357Z"
   },
   {
    "duration": -235,
    "start_time": "2021-11-03T17:38:02.460Z"
   },
   {
    "duration": -238,
    "start_time": "2021-11-03T17:38:02.465Z"
   },
   {
    "duration": -241,
    "start_time": "2021-11-03T17:38:02.470Z"
   },
   {
    "duration": -245,
    "start_time": "2021-11-03T17:38:02.475Z"
   },
   {
    "duration": -248,
    "start_time": "2021-11-03T17:38:02.479Z"
   },
   {
    "duration": -251,
    "start_time": "2021-11-03T17:38:02.484Z"
   },
   {
    "duration": -255,
    "start_time": "2021-11-03T17:38:02.489Z"
   },
   {
    "duration": -259,
    "start_time": "2021-11-03T17:38:02.495Z"
   },
   {
    "duration": -263,
    "start_time": "2021-11-03T17:38:02.500Z"
   },
   {
    "duration": -267,
    "start_time": "2021-11-03T17:38:02.506Z"
   },
   {
    "duration": -272,
    "start_time": "2021-11-03T17:38:02.512Z"
   },
   {
    "duration": -276,
    "start_time": "2021-11-03T17:38:02.517Z"
   },
   {
    "duration": -278,
    "start_time": "2021-11-03T17:38:02.521Z"
   },
   {
    "duration": -281,
    "start_time": "2021-11-03T17:38:02.525Z"
   },
   {
    "duration": -282,
    "start_time": "2021-11-03T17:38:02.528Z"
   },
   {
    "duration": -274,
    "start_time": "2021-11-03T17:38:02.533Z"
   },
   {
    "duration": -277,
    "start_time": "2021-11-03T17:38:02.537Z"
   },
   {
    "duration": -280,
    "start_time": "2021-11-03T17:38:02.542Z"
   },
   {
    "duration": -282,
    "start_time": "2021-11-03T17:38:02.546Z"
   },
   {
    "duration": -285,
    "start_time": "2021-11-03T17:38:02.550Z"
   },
   {
    "duration": -288,
    "start_time": "2021-11-03T17:38:02.554Z"
   },
   {
    "duration": -290,
    "start_time": "2021-11-03T17:38:02.558Z"
   },
   {
    "duration": -293,
    "start_time": "2021-11-03T17:38:02.562Z"
   },
   {
    "duration": 841,
    "start_time": "2021-11-03T17:38:42.910Z"
   },
   {
    "duration": 141,
    "start_time": "2021-11-03T17:38:43.753Z"
   },
   {
    "duration": 71,
    "start_time": "2021-11-03T17:38:43.897Z"
   },
   {
    "duration": 26,
    "start_time": "2021-11-03T17:38:43.971Z"
   },
   {
    "duration": 134,
    "start_time": "2021-11-03T17:38:44.008Z"
   },
   {
    "duration": 736,
    "start_time": "2021-11-03T17:38:44.145Z"
   },
   {
    "duration": 4034,
    "start_time": "2021-11-03T17:38:44.883Z"
   },
   {
    "duration": 14,
    "start_time": "2021-11-03T17:38:48.921Z"
   },
   {
    "duration": 23503,
    "start_time": "2021-11-03T17:38:48.958Z"
   },
   {
    "duration": 17,
    "start_time": "2021-11-03T17:39:12.464Z"
   },
   {
    "duration": 120,
    "start_time": "2021-11-03T17:39:12.484Z"
   },
   {
    "duration": 7,
    "start_time": "2021-11-03T17:39:12.607Z"
   },
   {
    "duration": 8,
    "start_time": "2021-11-03T17:39:12.617Z"
   },
   {
    "duration": 40,
    "start_time": "2021-11-03T17:39:12.628Z"
   },
   {
    "duration": 12,
    "start_time": "2021-11-03T17:39:12.670Z"
   },
   {
    "duration": 12,
    "start_time": "2021-11-03T17:39:12.685Z"
   },
   {
    "duration": 22,
    "start_time": "2021-11-03T17:39:12.699Z"
   },
   {
    "duration": 42,
    "start_time": "2021-11-03T17:39:12.724Z"
   },
   {
    "duration": 4,
    "start_time": "2021-11-03T17:39:12.769Z"
   },
   {
    "duration": 23,
    "start_time": "2021-11-03T17:39:12.776Z"
   },
   {
    "duration": 24,
    "start_time": "2021-11-03T17:39:12.801Z"
   },
   {
    "duration": 38,
    "start_time": "2021-11-03T17:39:12.828Z"
   },
   {
    "duration": 5,
    "start_time": "2021-11-03T17:39:12.875Z"
   },
   {
    "duration": 14,
    "start_time": "2021-11-03T17:39:12.886Z"
   },
   {
    "duration": 3,
    "start_time": "2021-11-03T17:39:12.903Z"
   },
   {
    "duration": 52,
    "start_time": "2021-11-03T17:39:12.909Z"
   },
   {
    "duration": 3,
    "start_time": "2021-11-03T17:39:12.964Z"
   },
   {
    "duration": 23,
    "start_time": "2021-11-03T17:39:12.970Z"
   },
   {
    "duration": 3,
    "start_time": "2021-11-03T17:39:12.996Z"
   },
   {
    "duration": 18,
    "start_time": "2021-11-03T17:39:13.001Z"
   },
   {
    "duration": 8,
    "start_time": "2021-11-03T17:39:13.021Z"
   },
   {
    "duration": 37,
    "start_time": "2021-11-03T17:39:13.031Z"
   },
   {
    "duration": 3,
    "start_time": "2021-11-03T17:39:13.074Z"
   },
   {
    "duration": 17,
    "start_time": "2021-11-03T17:39:13.080Z"
   },
   {
    "duration": 8,
    "start_time": "2021-11-03T17:39:13.100Z"
   },
   {
    "duration": 14,
    "start_time": "2021-11-03T17:39:13.111Z"
   },
   {
    "duration": 3,
    "start_time": "2021-11-03T17:39:13.127Z"
   },
   {
    "duration": 16,
    "start_time": "2021-11-03T17:39:13.161Z"
   },
   {
    "duration": 19,
    "start_time": "2021-11-03T17:39:13.180Z"
   },
   {
    "duration": 10,
    "start_time": "2021-11-03T17:39:13.201Z"
   },
   {
    "duration": 67,
    "start_time": "2021-11-03T17:39:13.213Z"
   },
   {
    "duration": 3,
    "start_time": "2021-11-03T17:39:13.282Z"
   },
   {
    "duration": 12,
    "start_time": "2021-11-03T17:39:13.288Z"
   },
   {
    "duration": 3,
    "start_time": "2021-11-03T17:39:13.302Z"
   },
   {
    "duration": 51,
    "start_time": "2021-11-03T17:39:13.308Z"
   },
   {
    "duration": 36,
    "start_time": "2021-11-03T17:39:13.362Z"
   },
   {
    "duration": 37,
    "start_time": "2021-11-03T17:39:13.400Z"
   },
   {
    "duration": 21,
    "start_time": "2021-11-03T17:39:13.460Z"
   },
   {
    "duration": 3,
    "start_time": "2021-11-03T17:39:13.484Z"
   },
   {
    "duration": 25,
    "start_time": "2021-11-03T17:39:13.490Z"
   },
   {
    "duration": 4,
    "start_time": "2021-11-03T17:39:13.518Z"
   },
   {
    "duration": 69,
    "start_time": "2021-11-03T17:39:13.525Z"
   },
   {
    "duration": 3,
    "start_time": "2021-11-03T17:39:13.597Z"
   },
   {
    "duration": 15,
    "start_time": "2021-11-03T17:39:13.602Z"
   },
   {
    "duration": 39,
    "start_time": "2021-11-03T17:39:13.620Z"
   },
   {
    "duration": 15,
    "start_time": "2021-11-03T17:39:13.662Z"
   },
   {
    "duration": 19,
    "start_time": "2021-11-03T17:39:13.679Z"
   },
   {
    "duration": 7,
    "start_time": "2021-11-03T17:39:13.700Z"
   },
   {
    "duration": 21,
    "start_time": "2021-11-03T17:39:13.709Z"
   },
   {
    "duration": 38,
    "start_time": "2021-11-03T17:39:13.732Z"
   },
   {
    "duration": 17,
    "start_time": "2021-11-03T17:39:13.774Z"
   },
   {
    "duration": 18140,
    "start_time": "2021-11-03T17:39:13.794Z"
   },
   {
    "duration": 6,
    "start_time": "2021-11-03T17:39:31.937Z"
   },
   {
    "duration": 13,
    "start_time": "2021-11-03T17:39:31.960Z"
   },
   {
    "duration": 14,
    "start_time": "2021-11-03T17:39:31.975Z"
   },
   {
    "duration": 13,
    "start_time": "2021-11-03T17:39:31.991Z"
   },
   {
    "duration": 6,
    "start_time": "2021-11-03T17:39:32.006Z"
   },
   {
    "duration": 9,
    "start_time": "2021-11-03T17:39:32.021Z"
   },
   {
    "duration": 9,
    "start_time": "2021-11-03T17:39:32.060Z"
   },
   {
    "duration": 397,
    "start_time": "2021-11-03T17:39:32.072Z"
   },
   {
    "duration": 12,
    "start_time": "2021-11-03T17:39:32.472Z"
   },
   {
    "duration": 455,
    "start_time": "2021-11-03T17:39:32.487Z"
   },
   {
    "duration": -271,
    "start_time": "2021-11-03T17:39:33.216Z"
   },
   {
    "duration": -273,
    "start_time": "2021-11-03T17:39:33.220Z"
   },
   {
    "duration": -275,
    "start_time": "2021-11-03T17:39:33.224Z"
   },
   {
    "duration": -275,
    "start_time": "2021-11-03T17:39:33.227Z"
   },
   {
    "duration": -277,
    "start_time": "2021-11-03T17:39:33.231Z"
   },
   {
    "duration": -278,
    "start_time": "2021-11-03T17:39:33.234Z"
   },
   {
    "duration": -279,
    "start_time": "2021-11-03T17:39:33.238Z"
   },
   {
    "duration": -398,
    "start_time": "2021-11-03T17:39:33.359Z"
   },
   {
    "duration": -401,
    "start_time": "2021-11-03T17:39:33.364Z"
   },
   {
    "duration": -402,
    "start_time": "2021-11-03T17:39:33.368Z"
   },
   {
    "duration": -405,
    "start_time": "2021-11-03T17:39:33.373Z"
   },
   {
    "duration": -408,
    "start_time": "2021-11-03T17:39:33.378Z"
   },
   {
    "duration": -409,
    "start_time": "2021-11-03T17:39:33.382Z"
   },
   {
    "duration": -412,
    "start_time": "2021-11-03T17:39:33.387Z"
   },
   {
    "duration": -439,
    "start_time": "2021-11-03T17:39:33.416Z"
   },
   {
    "duration": -442,
    "start_time": "2021-11-03T17:39:33.421Z"
   },
   {
    "duration": -445,
    "start_time": "2021-11-03T17:39:33.427Z"
   },
   {
    "duration": -447,
    "start_time": "2021-11-03T17:39:33.431Z"
   },
   {
    "duration": -454,
    "start_time": "2021-11-03T17:39:33.440Z"
   },
   {
    "duration": -459,
    "start_time": "2021-11-03T17:39:33.447Z"
   },
   {
    "duration": -463,
    "start_time": "2021-11-03T17:39:33.453Z"
   },
   {
    "duration": -466,
    "start_time": "2021-11-03T17:39:33.458Z"
   },
   {
    "duration": -469,
    "start_time": "2021-11-03T17:39:33.463Z"
   },
   {
    "duration": -473,
    "start_time": "2021-11-03T17:39:33.470Z"
   },
   {
    "duration": -483,
    "start_time": "2021-11-03T17:39:33.482Z"
   },
   {
    "duration": -484,
    "start_time": "2021-11-03T17:39:33.486Z"
   },
   {
    "duration": -434,
    "start_time": "2021-11-03T17:39:33.493Z"
   },
   {
    "duration": -436,
    "start_time": "2021-11-03T17:39:33.498Z"
   },
   {
    "duration": -609,
    "start_time": "2021-11-03T17:39:33.673Z"
   },
   {
    "duration": -612,
    "start_time": "2021-11-03T17:39:33.678Z"
   },
   {
    "duration": -614,
    "start_time": "2021-11-03T17:39:33.682Z"
   },
   {
    "duration": -616,
    "start_time": "2021-11-03T17:39:33.686Z"
   },
   {
    "duration": -619,
    "start_time": "2021-11-03T17:39:33.691Z"
   },
   {
    "duration": -622,
    "start_time": "2021-11-03T17:39:33.696Z"
   },
   {
    "duration": -625,
    "start_time": "2021-11-03T17:39:33.701Z"
   },
   {
    "duration": -629,
    "start_time": "2021-11-03T17:39:33.707Z"
   },
   {
    "duration": 11,
    "start_time": "2021-11-03T17:40:19.163Z"
   },
   {
    "duration": 11,
    "start_time": "2021-11-03T17:40:23.369Z"
   },
   {
    "duration": 907,
    "start_time": "2021-11-03T17:40:49.784Z"
   },
   {
    "duration": 139,
    "start_time": "2021-11-03T17:40:50.694Z"
   },
   {
    "duration": 66,
    "start_time": "2021-11-03T17:40:50.836Z"
   },
   {
    "duration": 25,
    "start_time": "2021-11-03T17:40:50.905Z"
   },
   {
    "duration": 137,
    "start_time": "2021-11-03T17:40:50.932Z"
   },
   {
    "duration": 773,
    "start_time": "2021-11-03T17:40:51.072Z"
   },
   {
    "duration": 3704,
    "start_time": "2021-11-03T17:40:51.847Z"
   },
   {
    "duration": 14,
    "start_time": "2021-11-03T17:40:55.559Z"
   },
   {
    "duration": 23206,
    "start_time": "2021-11-03T17:40:55.577Z"
   },
   {
    "duration": 15,
    "start_time": "2021-11-03T17:41:18.786Z"
   },
   {
    "duration": 109,
    "start_time": "2021-11-03T17:41:18.803Z"
   },
   {
    "duration": 7,
    "start_time": "2021-11-03T17:41:18.915Z"
   },
   {
    "duration": 9,
    "start_time": "2021-11-03T17:41:18.924Z"
   },
   {
    "duration": 42,
    "start_time": "2021-11-03T17:41:18.935Z"
   },
   {
    "duration": 9,
    "start_time": "2021-11-03T17:41:18.979Z"
   },
   {
    "duration": 11,
    "start_time": "2021-11-03T17:41:18.990Z"
   },
   {
    "duration": 23,
    "start_time": "2021-11-03T17:41:19.004Z"
   },
   {
    "duration": 38,
    "start_time": "2021-11-03T17:41:19.029Z"
   },
   {
    "duration": 3,
    "start_time": "2021-11-03T17:41:19.069Z"
   },
   {
    "duration": 18,
    "start_time": "2021-11-03T17:41:19.074Z"
   },
   {
    "duration": 29,
    "start_time": "2021-11-03T17:41:19.094Z"
   },
   {
    "duration": 39,
    "start_time": "2021-11-03T17:41:19.125Z"
   },
   {
    "duration": 3,
    "start_time": "2021-11-03T17:41:19.166Z"
   },
   {
    "duration": 13,
    "start_time": "2021-11-03T17:41:19.171Z"
   },
   {
    "duration": 3,
    "start_time": "2021-11-03T17:41:19.186Z"
   },
   {
    "duration": 15,
    "start_time": "2021-11-03T17:41:19.191Z"
   },
   {
    "duration": 5,
    "start_time": "2021-11-03T17:41:19.212Z"
   },
   {
    "duration": 49,
    "start_time": "2021-11-03T17:41:19.221Z"
   },
   {
    "duration": 3,
    "start_time": "2021-11-03T17:41:19.272Z"
   },
   {
    "duration": 15,
    "start_time": "2021-11-03T17:41:19.278Z"
   },
   {
    "duration": 6,
    "start_time": "2021-11-03T17:41:19.295Z"
   },
   {
    "duration": 16,
    "start_time": "2021-11-03T17:41:19.303Z"
   },
   {
    "duration": 5,
    "start_time": "2021-11-03T17:41:19.321Z"
   },
   {
    "duration": 12,
    "start_time": "2021-11-03T17:41:19.361Z"
   },
   {
    "duration": 5,
    "start_time": "2021-11-03T17:41:19.375Z"
   },
   {
    "duration": 12,
    "start_time": "2021-11-03T17:41:19.382Z"
   },
   {
    "duration": 3,
    "start_time": "2021-11-03T17:41:19.396Z"
   },
   {
    "duration": 15,
    "start_time": "2021-11-03T17:41:19.401Z"
   },
   {
    "duration": 54,
    "start_time": "2021-11-03T17:41:19.419Z"
   },
   {
    "duration": 10,
    "start_time": "2021-11-03T17:41:19.475Z"
   },
   {
    "duration": 35,
    "start_time": "2021-11-03T17:41:19.487Z"
   },
   {
    "duration": 2,
    "start_time": "2021-11-03T17:41:19.525Z"
   },
   {
    "duration": 31,
    "start_time": "2021-11-03T17:41:19.530Z"
   },
   {
    "duration": 3,
    "start_time": "2021-11-03T17:41:19.563Z"
   },
   {
    "duration": 27,
    "start_time": "2021-11-03T17:41:19.569Z"
   },
   {
    "duration": 29,
    "start_time": "2021-11-03T17:41:19.599Z"
   },
   {
    "duration": 53,
    "start_time": "2021-11-03T17:41:19.658Z"
   },
   {
    "duration": 29,
    "start_time": "2021-11-03T17:41:19.720Z"
   },
   {
    "duration": 43,
    "start_time": "2021-11-03T17:41:19.760Z"
   },
   {
    "duration": 134,
    "start_time": "2021-11-03T17:41:19.806Z"
   },
   {
    "duration": 40,
    "start_time": "2021-11-03T17:41:19.943Z"
   },
   {
    "duration": 172,
    "start_time": "2021-11-03T17:41:19.987Z"
   },
   {
    "duration": 3,
    "start_time": "2021-11-03T17:41:20.162Z"
   },
   {
    "duration": 14,
    "start_time": "2021-11-03T17:41:20.168Z"
   },
   {
    "duration": 13,
    "start_time": "2021-11-03T17:41:20.185Z"
   },
   {
    "duration": 14,
    "start_time": "2021-11-03T17:41:20.200Z"
   },
   {
    "duration": 3,
    "start_time": "2021-11-03T17:41:20.260Z"
   },
   {
    "duration": 18,
    "start_time": "2021-11-03T17:41:20.265Z"
   },
   {
    "duration": 12,
    "start_time": "2021-11-03T17:41:20.285Z"
   },
   {
    "duration": 11,
    "start_time": "2021-11-03T17:41:20.299Z"
   },
   {
    "duration": 17431,
    "start_time": "2021-11-03T17:41:20.312Z"
   },
   {
    "duration": 15,
    "start_time": "2021-11-03T17:41:37.746Z"
   },
   {
    "duration": 22,
    "start_time": "2021-11-03T17:41:37.765Z"
   },
   {
    "duration": 8,
    "start_time": "2021-11-03T17:41:37.789Z"
   },
   {
    "duration": 60,
    "start_time": "2021-11-03T17:41:37.800Z"
   },
   {
    "duration": 4,
    "start_time": "2021-11-03T17:41:37.863Z"
   },
   {
    "duration": 7,
    "start_time": "2021-11-03T17:41:37.870Z"
   },
   {
    "duration": 36,
    "start_time": "2021-11-03T17:41:37.879Z"
   },
   {
    "duration": 49,
    "start_time": "2021-11-03T17:41:37.918Z"
   },
   {
    "duration": 431,
    "start_time": "2021-11-03T17:41:37.969Z"
   },
   {
    "duration": 11,
    "start_time": "2021-11-03T17:41:38.402Z"
   },
   {
    "duration": 458,
    "start_time": "2021-11-03T17:41:38.415Z"
   },
   {
    "duration": 12,
    "start_time": "2021-11-03T17:41:38.875Z"
   },
   {
    "duration": 420,
    "start_time": "2021-11-03T17:41:38.889Z"
   },
   {
    "duration": 11,
    "start_time": "2021-11-03T17:41:39.311Z"
   },
   {
    "duration": 313,
    "start_time": "2021-11-03T17:41:39.325Z"
   },
   {
    "duration": 22,
    "start_time": "2021-11-03T17:41:39.641Z"
   },
   {
    "duration": 275,
    "start_time": "2021-11-03T17:41:39.666Z"
   },
   {
    "duration": 33,
    "start_time": "2021-11-03T17:41:39.943Z"
   },
   {
    "duration": 37,
    "start_time": "2021-11-03T17:41:39.978Z"
   },
   {
    "duration": 33,
    "start_time": "2021-11-03T17:41:40.026Z"
   },
   {
    "duration": 4,
    "start_time": "2021-11-03T17:41:40.062Z"
   },
   {
    "duration": 7,
    "start_time": "2021-11-03T17:41:40.069Z"
   },
   {
    "duration": 694,
    "start_time": "2021-11-03T17:41:40.078Z"
   },
   {
    "duration": 703,
    "start_time": "2021-11-03T17:41:40.775Z"
   },
   {
    "duration": 697,
    "start_time": "2021-11-03T17:41:41.481Z"
   },
   {
    "duration": 689,
    "start_time": "2021-11-03T17:41:42.180Z"
   },
   {
    "duration": 673,
    "start_time": "2021-11-03T17:41:42.872Z"
   },
   {
    "duration": 643,
    "start_time": "2021-11-03T17:41:43.548Z"
   },
   {
    "duration": 6,
    "start_time": "2021-11-03T17:41:44.193Z"
   },
   {
    "duration": 15,
    "start_time": "2021-11-03T17:41:44.201Z"
   },
   {
    "duration": 17,
    "start_time": "2021-11-03T17:41:44.218Z"
   },
   {
    "duration": 28,
    "start_time": "2021-11-03T17:41:44.238Z"
   },
   {
    "duration": 49,
    "start_time": "2021-11-03T17:41:44.268Z"
   },
   {
    "duration": 66,
    "start_time": "2021-11-03T17:41:44.319Z"
   },
   {
    "duration": 13,
    "start_time": "2021-11-03T17:41:44.387Z"
   },
   {
    "duration": 61,
    "start_time": "2021-11-03T17:41:44.403Z"
   },
   {
    "duration": 343,
    "start_time": "2021-11-03T17:41:44.467Z"
   },
   {
    "duration": 55,
    "start_time": "2021-11-03T17:41:44.813Z"
   },
   {
    "duration": 10,
    "start_time": "2021-11-03T17:41:44.871Z"
   },
   {
    "duration": 324,
    "start_time": "2021-11-03T17:41:44.883Z"
   },
   {
    "duration": 10,
    "start_time": "2021-11-03T17:41:45.209Z"
   },
   {
    "duration": 611,
    "start_time": "2021-11-03T17:41:45.221Z"
   },
   {
    "duration": 716,
    "start_time": "2021-11-03T17:41:45.834Z"
   },
   {
    "duration": 721,
    "start_time": "2021-11-03T17:41:46.560Z"
   },
   {
    "duration": 786,
    "start_time": "2021-11-03T17:41:47.284Z"
   },
   {
    "duration": 374,
    "start_time": "2021-11-03T17:41:48.073Z"
   },
   {
    "duration": 13,
    "start_time": "2021-11-03T17:41:48.449Z"
   },
   {
    "duration": 13,
    "start_time": "2021-11-03T17:43:08.634Z"
   },
   {
    "duration": 12,
    "start_time": "2021-11-03T17:43:14.233Z"
   },
   {
    "duration": 13,
    "start_time": "2021-11-03T17:43:22.305Z"
   },
   {
    "duration": 14,
    "start_time": "2021-11-03T17:43:22.320Z"
   },
   {
    "duration": 3,
    "start_time": "2021-11-03T17:43:22.337Z"
   },
   {
    "duration": 17,
    "start_time": "2021-11-03T17:43:22.344Z"
   },
   {
    "duration": 14,
    "start_time": "2021-11-03T17:43:22.365Z"
   },
   {
    "duration": 12,
    "start_time": "2021-11-03T17:43:22.381Z"
   },
   {
    "duration": 16720,
    "start_time": "2021-11-03T17:43:22.395Z"
   },
   {
    "duration": 5,
    "start_time": "2021-11-03T17:43:39.117Z"
   },
   {
    "duration": 37,
    "start_time": "2021-11-03T17:43:39.126Z"
   },
   {
    "duration": 6,
    "start_time": "2021-11-03T17:43:39.166Z"
   },
   {
    "duration": 36,
    "start_time": "2021-11-03T17:43:39.174Z"
   },
   {
    "duration": 3,
    "start_time": "2021-11-03T17:43:39.212Z"
   },
   {
    "duration": 7,
    "start_time": "2021-11-03T17:43:39.217Z"
   },
   {
    "duration": 506,
    "start_time": "2021-11-03T17:43:39.227Z"
   },
   {
    "duration": -71,
    "start_time": "2021-11-03T17:43:39.808Z"
   },
   {
    "duration": -74,
    "start_time": "2021-11-03T17:43:39.812Z"
   },
   {
    "duration": -106,
    "start_time": "2021-11-03T17:43:39.845Z"
   },
   {
    "duration": -110,
    "start_time": "2021-11-03T17:43:39.850Z"
   },
   {
    "duration": -114,
    "start_time": "2021-11-03T17:43:39.856Z"
   },
   {
    "duration": -118,
    "start_time": "2021-11-03T17:43:39.861Z"
   },
   {
    "duration": -123,
    "start_time": "2021-11-03T17:43:39.867Z"
   },
   {
    "duration": -188,
    "start_time": "2021-11-03T17:43:39.934Z"
   },
   {
    "duration": -192,
    "start_time": "2021-11-03T17:43:39.939Z"
   },
   {
    "duration": -195,
    "start_time": "2021-11-03T17:43:39.943Z"
   },
   {
    "duration": -199,
    "start_time": "2021-11-03T17:43:39.948Z"
   },
   {
    "duration": -201,
    "start_time": "2021-11-03T17:43:39.952Z"
   },
   {
    "duration": -205,
    "start_time": "2021-11-03T17:43:39.957Z"
   },
   {
    "duration": -208,
    "start_time": "2021-11-03T17:43:39.961Z"
   },
   {
    "duration": -212,
    "start_time": "2021-11-03T17:43:39.966Z"
   },
   {
    "duration": -215,
    "start_time": "2021-11-03T17:43:39.970Z"
   },
   {
    "duration": -217,
    "start_time": "2021-11-03T17:43:39.974Z"
   },
   {
    "duration": -219,
    "start_time": "2021-11-03T17:43:39.977Z"
   },
   {
    "duration": -222,
    "start_time": "2021-11-03T17:43:39.981Z"
   },
   {
    "duration": -224,
    "start_time": "2021-11-03T17:43:39.984Z"
   },
   {
    "duration": -228,
    "start_time": "2021-11-03T17:43:39.990Z"
   },
   {
    "duration": -231,
    "start_time": "2021-11-03T17:43:39.994Z"
   },
   {
    "duration": -236,
    "start_time": "2021-11-03T17:43:40.000Z"
   },
   {
    "duration": -239,
    "start_time": "2021-11-03T17:43:40.004Z"
   },
   {
    "duration": -244,
    "start_time": "2021-11-03T17:43:40.010Z"
   },
   {
    "duration": -246,
    "start_time": "2021-11-03T17:43:40.014Z"
   },
   {
    "duration": -249,
    "start_time": "2021-11-03T17:43:40.018Z"
   },
   {
    "duration": -252,
    "start_time": "2021-11-03T17:43:40.022Z"
   },
   {
    "duration": -256,
    "start_time": "2021-11-03T17:43:40.027Z"
   },
   {
    "duration": -258,
    "start_time": "2021-11-03T17:43:40.031Z"
   },
   {
    "duration": -262,
    "start_time": "2021-11-03T17:43:40.036Z"
   },
   {
    "duration": -264,
    "start_time": "2021-11-03T17:43:40.040Z"
   },
   {
    "duration": -268,
    "start_time": "2021-11-03T17:43:40.045Z"
   },
   {
    "duration": -273,
    "start_time": "2021-11-03T17:43:40.051Z"
   },
   {
    "duration": -279,
    "start_time": "2021-11-03T17:43:40.058Z"
   },
   {
    "duration": -281,
    "start_time": "2021-11-03T17:43:40.062Z"
   },
   {
    "duration": -284,
    "start_time": "2021-11-03T17:43:40.067Z"
   },
   {
    "duration": -311,
    "start_time": "2021-11-03T17:43:40.095Z"
   },
   {
    "duration": -315,
    "start_time": "2021-11-03T17:43:40.100Z"
   },
   {
    "duration": -316,
    "start_time": "2021-11-03T17:43:40.103Z"
   },
   {
    "duration": 480,
    "start_time": "2021-11-03T17:47:55.536Z"
   },
   {
    "duration": 9728,
    "start_time": "2021-11-03T17:48:01.801Z"
   },
   {
    "duration": 14,
    "start_time": "2021-11-03T17:48:15.779Z"
   },
   {
    "duration": 15,
    "start_time": "2021-11-03T17:48:15.796Z"
   },
   {
    "duration": 9486,
    "start_time": "2021-11-03T17:48:15.815Z"
   },
   {
    "duration": -473,
    "start_time": "2021-11-03T17:48:25.779Z"
   },
   {
    "duration": -478,
    "start_time": "2021-11-03T17:48:25.785Z"
   },
   {
    "duration": -488,
    "start_time": "2021-11-03T17:48:25.797Z"
   },
   {
    "duration": -493,
    "start_time": "2021-11-03T17:48:25.803Z"
   },
   {
    "duration": -499,
    "start_time": "2021-11-03T17:48:25.810Z"
   },
   {
    "duration": -503,
    "start_time": "2021-11-03T17:48:25.815Z"
   },
   {
    "duration": -511,
    "start_time": "2021-11-03T17:48:25.825Z"
   },
   {
    "duration": -516,
    "start_time": "2021-11-03T17:48:25.831Z"
   },
   {
    "duration": -525,
    "start_time": "2021-11-03T17:48:25.842Z"
   },
   {
    "duration": -532,
    "start_time": "2021-11-03T17:48:25.850Z"
   },
   {
    "duration": -538,
    "start_time": "2021-11-03T17:48:25.858Z"
   },
   {
    "duration": -543,
    "start_time": "2021-11-03T17:48:25.864Z"
   },
   {
    "duration": -547,
    "start_time": "2021-11-03T17:48:25.869Z"
   },
   {
    "duration": -550,
    "start_time": "2021-11-03T17:48:25.874Z"
   },
   {
    "duration": -554,
    "start_time": "2021-11-03T17:48:25.879Z"
   },
   {
    "duration": -557,
    "start_time": "2021-11-03T17:48:25.884Z"
   },
   {
    "duration": -562,
    "start_time": "2021-11-03T17:48:25.890Z"
   },
   {
    "duration": -772,
    "start_time": "2021-11-03T17:48:26.101Z"
   },
   {
    "duration": -776,
    "start_time": "2021-11-03T17:48:26.107Z"
   },
   {
    "duration": -781,
    "start_time": "2021-11-03T17:48:26.113Z"
   },
   {
    "duration": -786,
    "start_time": "2021-11-03T17:48:26.119Z"
   },
   {
    "duration": -793,
    "start_time": "2021-11-03T17:48:26.127Z"
   },
   {
    "duration": -798,
    "start_time": "2021-11-03T17:48:26.134Z"
   },
   {
    "duration": -802,
    "start_time": "2021-11-03T17:48:26.139Z"
   },
   {
    "duration": -806,
    "start_time": "2021-11-03T17:48:26.145Z"
   },
   {
    "duration": -810,
    "start_time": "2021-11-03T17:48:26.150Z"
   },
   {
    "duration": -815,
    "start_time": "2021-11-03T17:48:26.156Z"
   },
   {
    "duration": -817,
    "start_time": "2021-11-03T17:48:26.160Z"
   },
   {
    "duration": -806,
    "start_time": "2021-11-03T17:48:26.165Z"
   },
   {
    "duration": -810,
    "start_time": "2021-11-03T17:48:26.170Z"
   },
   {
    "duration": -809,
    "start_time": "2021-11-03T17:48:26.175Z"
   },
   {
    "duration": -813,
    "start_time": "2021-11-03T17:48:26.181Z"
   },
   {
    "duration": -817,
    "start_time": "2021-11-03T17:48:26.187Z"
   },
   {
    "duration": -819,
    "start_time": "2021-11-03T17:48:26.191Z"
   },
   {
    "duration": -822,
    "start_time": "2021-11-03T17:48:26.196Z"
   },
   {
    "duration": -826,
    "start_time": "2021-11-03T17:48:26.202Z"
   },
   {
    "duration": -829,
    "start_time": "2021-11-03T17:48:26.207Z"
   },
   {
    "duration": -833,
    "start_time": "2021-11-03T17:48:26.212Z"
   },
   {
    "duration": -837,
    "start_time": "2021-11-03T17:48:26.218Z"
   },
   {
    "duration": -840,
    "start_time": "2021-11-03T17:48:26.223Z"
   },
   {
    "duration": -845,
    "start_time": "2021-11-03T17:48:26.229Z"
   },
   {
    "duration": -851,
    "start_time": "2021-11-03T17:48:26.237Z"
   },
   {
    "duration": -857,
    "start_time": "2021-11-03T17:48:26.244Z"
   },
   {
    "duration": -861,
    "start_time": "2021-11-03T17:48:26.250Z"
   },
   {
    "duration": -865,
    "start_time": "2021-11-03T17:48:26.255Z"
   },
   {
    "duration": -869,
    "start_time": "2021-11-03T17:48:26.261Z"
   },
   {
    "duration": -873,
    "start_time": "2021-11-03T17:48:26.266Z"
   },
   {
    "duration": -877,
    "start_time": "2021-11-03T17:48:26.271Z"
   },
   {
    "duration": -881,
    "start_time": "2021-11-03T17:48:26.277Z"
   },
   {
    "duration": -885,
    "start_time": "2021-11-03T17:48:26.283Z"
   },
   {
    "duration": -890,
    "start_time": "2021-11-03T17:48:26.289Z"
   },
   {
    "duration": -837,
    "start_time": "2021-11-03T17:48:26.295Z"
   },
   {
    "duration": 15,
    "start_time": "2021-11-03T17:48:51.157Z"
   },
   {
    "duration": 12,
    "start_time": "2021-11-03T17:48:51.176Z"
   },
   {
    "duration": 13,
    "start_time": "2021-11-03T17:48:51.191Z"
   },
   {
    "duration": 55,
    "start_time": "2021-11-03T17:48:51.207Z"
   },
   {
    "duration": 7,
    "start_time": "2021-11-03T17:48:51.266Z"
   },
   {
    "duration": 18,
    "start_time": "2021-11-03T17:48:51.276Z"
   },
   {
    "duration": 12,
    "start_time": "2021-11-03T17:48:51.296Z"
   },
   {
    "duration": 64,
    "start_time": "2021-11-03T17:48:51.310Z"
   },
   {
    "duration": 18929,
    "start_time": "2021-11-03T17:48:51.378Z"
   },
   {
    "duration": 6,
    "start_time": "2021-11-03T17:49:10.310Z"
   },
   {
    "duration": 24,
    "start_time": "2021-11-03T17:49:10.319Z"
   },
   {
    "duration": 20,
    "start_time": "2021-11-03T17:49:10.345Z"
   },
   {
    "duration": 45,
    "start_time": "2021-11-03T17:49:10.367Z"
   },
   {
    "duration": 3,
    "start_time": "2021-11-03T17:49:10.414Z"
   },
   {
    "duration": 6,
    "start_time": "2021-11-03T17:49:10.420Z"
   },
   {
    "duration": 427,
    "start_time": "2021-11-03T17:49:10.428Z"
   },
   {
    "duration": -125,
    "start_time": "2021-11-03T17:49:10.985Z"
   },
   {
    "duration": -128,
    "start_time": "2021-11-03T17:49:10.990Z"
   },
   {
    "duration": -131,
    "start_time": "2021-11-03T17:49:10.994Z"
   },
   {
    "duration": -135,
    "start_time": "2021-11-03T17:49:10.999Z"
   },
   {
    "duration": -138,
    "start_time": "2021-11-03T17:49:11.003Z"
   },
   {
    "duration": -177,
    "start_time": "2021-11-03T17:49:11.044Z"
   },
   {
    "duration": -181,
    "start_time": "2021-11-03T17:49:11.049Z"
   },
   {
    "duration": -186,
    "start_time": "2021-11-03T17:49:11.055Z"
   },
   {
    "duration": -189,
    "start_time": "2021-11-03T17:49:11.059Z"
   },
   {
    "duration": -194,
    "start_time": "2021-11-03T17:49:11.065Z"
   },
   {
    "duration": -197,
    "start_time": "2021-11-03T17:49:11.070Z"
   },
   {
    "duration": -202,
    "start_time": "2021-11-03T17:49:11.076Z"
   },
   {
    "duration": -206,
    "start_time": "2021-11-03T17:49:11.081Z"
   },
   {
    "duration": -210,
    "start_time": "2021-11-03T17:49:11.086Z"
   },
   {
    "duration": -212,
    "start_time": "2021-11-03T17:49:11.090Z"
   },
   {
    "duration": -215,
    "start_time": "2021-11-03T17:49:11.094Z"
   },
   {
    "duration": -218,
    "start_time": "2021-11-03T17:49:11.099Z"
   },
   {
    "duration": -222,
    "start_time": "2021-11-03T17:49:11.104Z"
   },
   {
    "duration": -223,
    "start_time": "2021-11-03T17:49:11.109Z"
   },
   {
    "duration": -228,
    "start_time": "2021-11-03T17:49:11.115Z"
   },
   {
    "duration": -232,
    "start_time": "2021-11-03T17:49:11.120Z"
   },
   {
    "duration": -235,
    "start_time": "2021-11-03T17:49:11.125Z"
   },
   {
    "duration": -238,
    "start_time": "2021-11-03T17:49:11.129Z"
   },
   {
    "duration": -242,
    "start_time": "2021-11-03T17:49:11.134Z"
   },
   {
    "duration": -245,
    "start_time": "2021-11-03T17:49:11.139Z"
   },
   {
    "duration": -281,
    "start_time": "2021-11-03T17:49:11.176Z"
   },
   {
    "duration": -284,
    "start_time": "2021-11-03T17:49:11.180Z"
   },
   {
    "duration": -287,
    "start_time": "2021-11-03T17:49:11.185Z"
   },
   {
    "duration": -292,
    "start_time": "2021-11-03T17:49:11.191Z"
   },
   {
    "duration": -295,
    "start_time": "2021-11-03T17:49:11.196Z"
   },
   {
    "duration": -297,
    "start_time": "2021-11-03T17:49:11.200Z"
   },
   {
    "duration": -300,
    "start_time": "2021-11-03T17:49:11.204Z"
   },
   {
    "duration": -249,
    "start_time": "2021-11-03T17:49:11.209Z"
   },
   {
    "duration": -253,
    "start_time": "2021-11-03T17:49:11.214Z"
   },
   {
    "duration": -251,
    "start_time": "2021-11-03T17:49:11.218Z"
   },
   {
    "duration": -254,
    "start_time": "2021-11-03T17:49:11.222Z"
   },
   {
    "duration": -256,
    "start_time": "2021-11-03T17:49:11.226Z"
   },
   {
    "duration": -258,
    "start_time": "2021-11-03T17:49:11.230Z"
   },
   {
    "duration": -260,
    "start_time": "2021-11-03T17:49:11.234Z"
   },
   {
    "duration": -262,
    "start_time": "2021-11-03T17:49:11.238Z"
   },
   {
    "duration": 389,
    "start_time": "2021-11-03T17:51:38.356Z"
   },
   {
    "duration": 7,
    "start_time": "2021-11-03T17:52:35.039Z"
   },
   {
    "duration": 1051,
    "start_time": "2021-11-03T17:52:52.630Z"
   },
   {
    "duration": 149,
    "start_time": "2021-11-03T17:52:53.684Z"
   },
   {
    "duration": 67,
    "start_time": "2021-11-03T17:52:53.836Z"
   },
   {
    "duration": 27,
    "start_time": "2021-11-03T17:52:53.906Z"
   },
   {
    "duration": 157,
    "start_time": "2021-11-03T17:52:53.936Z"
   },
   {
    "duration": 794,
    "start_time": "2021-11-03T17:52:54.096Z"
   },
   {
    "duration": 4426,
    "start_time": "2021-11-03T17:52:54.893Z"
   },
   {
    "duration": 14,
    "start_time": "2021-11-03T17:52:59.323Z"
   },
   {
    "duration": 25944,
    "start_time": "2021-11-03T17:52:59.340Z"
   },
   {
    "duration": 15,
    "start_time": "2021-11-03T17:53:25.287Z"
   },
   {
    "duration": 118,
    "start_time": "2021-11-03T17:53:25.305Z"
   },
   {
    "duration": 7,
    "start_time": "2021-11-03T17:53:25.426Z"
   },
   {
    "duration": 8,
    "start_time": "2021-11-03T17:53:25.436Z"
   },
   {
    "duration": 32,
    "start_time": "2021-11-03T17:53:25.459Z"
   },
   {
    "duration": 22,
    "start_time": "2021-11-03T17:53:25.493Z"
   },
   {
    "duration": 15,
    "start_time": "2021-11-03T17:53:25.518Z"
   },
   {
    "duration": 44,
    "start_time": "2021-11-03T17:53:25.536Z"
   },
   {
    "duration": 12,
    "start_time": "2021-11-03T17:53:25.583Z"
   },
   {
    "duration": 6,
    "start_time": "2021-11-03T17:53:25.597Z"
   },
   {
    "duration": 19,
    "start_time": "2021-11-03T17:53:25.605Z"
   },
   {
    "duration": 64,
    "start_time": "2021-11-03T17:53:25.626Z"
   },
   {
    "duration": 11,
    "start_time": "2021-11-03T17:53:25.693Z"
   },
   {
    "duration": 4,
    "start_time": "2021-11-03T17:53:25.710Z"
   },
   {
    "duration": 10,
    "start_time": "2021-11-03T17:53:25.717Z"
   },
   {
    "duration": 33,
    "start_time": "2021-11-03T17:53:25.730Z"
   },
   {
    "duration": 33,
    "start_time": "2021-11-03T17:53:25.765Z"
   },
   {
    "duration": 5,
    "start_time": "2021-11-03T17:53:25.800Z"
   },
   {
    "duration": 17,
    "start_time": "2021-11-03T17:53:25.808Z"
   },
   {
    "duration": 3,
    "start_time": "2021-11-03T17:53:25.828Z"
   },
   {
    "duration": 37,
    "start_time": "2021-11-03T17:53:25.834Z"
   },
   {
    "duration": 5,
    "start_time": "2021-11-03T17:53:25.874Z"
   },
   {
    "duration": 32,
    "start_time": "2021-11-03T17:53:25.882Z"
   },
   {
    "duration": 9,
    "start_time": "2021-11-03T17:53:25.916Z"
   },
   {
    "duration": 15,
    "start_time": "2021-11-03T17:53:25.928Z"
   },
   {
    "duration": 22,
    "start_time": "2021-11-03T17:53:25.946Z"
   },
   {
    "duration": 22,
    "start_time": "2021-11-03T17:53:25.971Z"
   },
   {
    "duration": 10,
    "start_time": "2021-11-03T17:53:25.996Z"
   },
   {
    "duration": 16,
    "start_time": "2021-11-03T17:53:26.009Z"
   },
   {
    "duration": 33,
    "start_time": "2021-11-03T17:53:26.028Z"
   },
   {
    "duration": 13,
    "start_time": "2021-11-03T17:53:26.065Z"
   },
   {
    "duration": 49,
    "start_time": "2021-11-03T17:53:26.080Z"
   },
   {
    "duration": 4,
    "start_time": "2021-11-03T17:53:26.131Z"
   },
   {
    "duration": 29,
    "start_time": "2021-11-03T17:53:26.137Z"
   },
   {
    "duration": 4,
    "start_time": "2021-11-03T17:53:26.169Z"
   },
   {
    "duration": 39,
    "start_time": "2021-11-03T17:53:26.176Z"
   },
   {
    "duration": 29,
    "start_time": "2021-11-03T17:53:26.217Z"
   },
   {
    "duration": 48,
    "start_time": "2021-11-03T17:53:26.260Z"
   },
   {
    "duration": 16,
    "start_time": "2021-11-03T17:53:26.311Z"
   },
   {
    "duration": 31,
    "start_time": "2021-11-03T17:53:26.330Z"
   },
   {
    "duration": 36,
    "start_time": "2021-11-03T17:53:26.364Z"
   },
   {
    "duration": 4,
    "start_time": "2021-11-03T17:53:26.403Z"
   },
   {
    "duration": 57,
    "start_time": "2021-11-03T17:53:26.410Z"
   },
   {
    "duration": 4,
    "start_time": "2021-11-03T17:53:26.470Z"
   },
   {
    "duration": 25,
    "start_time": "2021-11-03T17:53:26.477Z"
   },
   {
    "duration": 10,
    "start_time": "2021-11-03T17:53:26.504Z"
   },
   {
    "duration": 12,
    "start_time": "2021-11-03T17:53:26.516Z"
   },
   {
    "duration": 5,
    "start_time": "2021-11-03T17:53:26.559Z"
   },
   {
    "duration": 39,
    "start_time": "2021-11-03T17:53:26.567Z"
   },
   {
    "duration": 13,
    "start_time": "2021-11-03T17:53:26.608Z"
   },
   {
    "duration": 11,
    "start_time": "2021-11-03T17:53:26.623Z"
   },
   {
    "duration": 19881,
    "start_time": "2021-11-03T17:53:26.636Z"
   },
   {
    "duration": 7,
    "start_time": "2021-11-03T17:53:46.520Z"
   },
   {
    "duration": 49,
    "start_time": "2021-11-03T17:53:46.530Z"
   },
   {
    "duration": 11,
    "start_time": "2021-11-03T17:53:46.582Z"
   },
   {
    "duration": 34,
    "start_time": "2021-11-03T17:53:46.596Z"
   },
   {
    "duration": 3,
    "start_time": "2021-11-03T17:53:46.633Z"
   },
   {
    "duration": 28,
    "start_time": "2021-11-03T17:53:46.639Z"
   },
   {
    "duration": 15,
    "start_time": "2021-11-03T17:53:46.680Z"
   },
   {
    "duration": 41,
    "start_time": "2021-11-03T17:53:46.699Z"
   },
   {
    "duration": 16,
    "start_time": "2021-11-03T17:53:46.760Z"
   },
   {
    "duration": 515,
    "start_time": "2021-11-03T17:53:46.780Z"
   },
   {
    "duration": 13,
    "start_time": "2021-11-03T17:53:47.298Z"
   },
   {
    "duration": 525,
    "start_time": "2021-11-03T17:53:47.314Z"
   },
   {
    "duration": 20,
    "start_time": "2021-11-03T17:53:47.841Z"
   },
   {
    "duration": 476,
    "start_time": "2021-11-03T17:53:47.864Z"
   },
   {
    "duration": 30,
    "start_time": "2021-11-03T17:53:48.342Z"
   },
   {
    "duration": 324,
    "start_time": "2021-11-03T17:53:48.376Z"
   },
   {
    "duration": 7,
    "start_time": "2021-11-03T17:53:48.702Z"
   },
   {
    "duration": 315,
    "start_time": "2021-11-03T17:53:48.712Z"
   },
   {
    "duration": 44,
    "start_time": "2021-11-03T17:53:49.029Z"
   },
   {
    "duration": 41,
    "start_time": "2021-11-03T17:53:49.077Z"
   },
   {
    "duration": 4,
    "start_time": "2021-11-03T17:53:49.121Z"
   },
   {
    "duration": 9,
    "start_time": "2021-11-03T17:53:49.128Z"
   },
   {
    "duration": 6,
    "start_time": "2021-11-03T17:53:49.160Z"
   },
   {
    "duration": 774,
    "start_time": "2021-11-03T17:53:49.169Z"
   },
   {
    "duration": 777,
    "start_time": "2021-11-03T17:53:49.946Z"
   },
   {
    "duration": 805,
    "start_time": "2021-11-03T17:53:50.726Z"
   },
   {
    "duration": 786,
    "start_time": "2021-11-03T17:53:51.534Z"
   },
   {
    "duration": 827,
    "start_time": "2021-11-03T17:53:52.323Z"
   },
   {
    "duration": 748,
    "start_time": "2021-11-03T17:53:53.160Z"
   },
   {
    "duration": 6,
    "start_time": "2021-11-03T17:53:53.911Z"
   },
   {
    "duration": 10,
    "start_time": "2021-11-03T17:53:53.920Z"
   },
   {
    "duration": 16,
    "start_time": "2021-11-03T17:53:53.960Z"
   },
   {
    "duration": 12,
    "start_time": "2021-11-03T17:53:53.981Z"
   },
   {
    "duration": 70,
    "start_time": "2021-11-03T17:53:53.996Z"
   },
   {
    "duration": 52,
    "start_time": "2021-11-03T17:53:54.069Z"
   },
   {
    "duration": 39,
    "start_time": "2021-11-03T17:53:54.123Z"
   },
   {
    "duration": 45,
    "start_time": "2021-11-03T17:53:54.168Z"
   },
   {
    "duration": 432,
    "start_time": "2021-11-03T17:53:54.215Z"
   },
   {
    "duration": 64,
    "start_time": "2021-11-03T17:53:54.650Z"
   },
   {
    "duration": 11,
    "start_time": "2021-11-03T17:53:54.717Z"
   },
   {
    "duration": 376,
    "start_time": "2021-11-03T17:53:54.731Z"
   },
   {
    "duration": 10,
    "start_time": "2021-11-03T17:53:55.110Z"
   },
   {
    "duration": 728,
    "start_time": "2021-11-03T17:53:55.122Z"
   },
   {
    "duration": 795,
    "start_time": "2021-11-03T17:53:55.860Z"
   },
   {
    "duration": 806,
    "start_time": "2021-11-03T17:53:56.657Z"
   },
   {
    "duration": 805,
    "start_time": "2021-11-03T17:53:57.466Z"
   },
   {
    "duration": 407,
    "start_time": "2021-11-03T17:53:58.274Z"
   },
   {
    "duration": 10,
    "start_time": "2021-11-03T17:53:58.684Z"
   },
   {
    "duration": 363,
    "start_time": "2021-11-03T17:55:18.327Z"
   },
   {
    "duration": 8,
    "start_time": "2021-11-03T17:55:22.423Z"
   },
   {
    "duration": 10,
    "start_time": "2021-11-03T17:57:43.084Z"
   },
   {
    "duration": 647,
    "start_time": "2021-11-03T17:57:43.098Z"
   },
   {
    "duration": -471,
    "start_time": "2021-11-03T17:57:44.222Z"
   },
   {
    "duration": -474,
    "start_time": "2021-11-03T17:57:44.227Z"
   },
   {
    "duration": -476,
    "start_time": "2021-11-03T17:57:44.231Z"
   },
   {
    "duration": -478,
    "start_time": "2021-11-03T17:57:44.235Z"
   },
   {
    "duration": -480,
    "start_time": "2021-11-03T17:57:44.239Z"
   },
   {
    "duration": -483,
    "start_time": "2021-11-03T17:57:44.243Z"
   },
   {
    "duration": -485,
    "start_time": "2021-11-03T17:57:44.247Z"
   },
   {
    "duration": -488,
    "start_time": "2021-11-03T17:57:44.251Z"
   },
   {
    "duration": -490,
    "start_time": "2021-11-03T17:57:44.255Z"
   },
   {
    "duration": -491,
    "start_time": "2021-11-03T17:57:44.258Z"
   },
   {
    "duration": -494,
    "start_time": "2021-11-03T17:57:44.262Z"
   },
   {
    "duration": -496,
    "start_time": "2021-11-03T17:57:44.266Z"
   },
   {
    "duration": -495,
    "start_time": "2021-11-03T17:57:44.270Z"
   },
   {
    "duration": -556,
    "start_time": "2021-11-03T17:57:44.334Z"
   },
   {
    "duration": -559,
    "start_time": "2021-11-03T17:57:44.340Z"
   },
   {
    "duration": -560,
    "start_time": "2021-11-03T17:57:44.344Z"
   },
   {
    "duration": -563,
    "start_time": "2021-11-03T17:57:44.348Z"
   },
   {
    "duration": -566,
    "start_time": "2021-11-03T17:57:44.352Z"
   },
   {
    "duration": -568,
    "start_time": "2021-11-03T17:57:44.356Z"
   },
   {
    "duration": -571,
    "start_time": "2021-11-03T17:57:44.360Z"
   },
   {
    "duration": -574,
    "start_time": "2021-11-03T17:57:44.365Z"
   },
   {
    "duration": -577,
    "start_time": "2021-11-03T17:57:44.370Z"
   },
   {
    "duration": -602,
    "start_time": "2021-11-03T17:57:44.396Z"
   },
   {
    "duration": -604,
    "start_time": "2021-11-03T17:57:44.400Z"
   },
   {
    "duration": -608,
    "start_time": "2021-11-03T17:57:44.405Z"
   },
   {
    "duration": -611,
    "start_time": "2021-11-03T17:57:44.409Z"
   },
   {
    "duration": -614,
    "start_time": "2021-11-03T17:57:44.414Z"
   },
   {
    "duration": -617,
    "start_time": "2021-11-03T17:57:44.418Z"
   },
   {
    "duration": -620,
    "start_time": "2021-11-03T17:57:44.423Z"
   },
   {
    "duration": -623,
    "start_time": "2021-11-03T17:57:44.427Z"
   },
   {
    "duration": -626,
    "start_time": "2021-11-03T17:57:44.431Z"
   },
   {
    "duration": -630,
    "start_time": "2021-11-03T17:57:44.435Z"
   },
   {
    "duration": -581,
    "start_time": "2021-11-03T17:57:44.440Z"
   },
   {
    "duration": -584,
    "start_time": "2021-11-03T17:57:44.445Z"
   },
   {
    "duration": -588,
    "start_time": "2021-11-03T17:57:44.451Z"
   },
   {
    "duration": -590,
    "start_time": "2021-11-03T17:57:44.455Z"
   },
   {
    "duration": -593,
    "start_time": "2021-11-03T17:57:44.460Z"
   },
   {
    "duration": -595,
    "start_time": "2021-11-03T17:57:44.464Z"
   },
   {
    "duration": -597,
    "start_time": "2021-11-03T17:57:44.468Z"
   },
   {
    "duration": -600,
    "start_time": "2021-11-03T17:57:44.472Z"
   },
   {
    "duration": 1006,
    "start_time": "2021-11-03T17:58:40.380Z"
   },
   {
    "duration": 153,
    "start_time": "2021-11-03T17:58:41.389Z"
   },
   {
    "duration": 76,
    "start_time": "2021-11-03T17:58:41.544Z"
   },
   {
    "duration": 39,
    "start_time": "2021-11-03T17:58:41.624Z"
   },
   {
    "duration": 151,
    "start_time": "2021-11-03T17:58:41.667Z"
   },
   {
    "duration": 793,
    "start_time": "2021-11-03T17:58:41.821Z"
   },
   {
    "duration": 4311,
    "start_time": "2021-11-03T17:58:42.616Z"
   },
   {
    "duration": 29,
    "start_time": "2021-11-03T17:58:46.930Z"
   },
   {
    "duration": 26641,
    "start_time": "2021-11-03T17:58:46.963Z"
   },
   {
    "duration": 16,
    "start_time": "2021-11-03T17:59:13.609Z"
   },
   {
    "duration": 116,
    "start_time": "2021-11-03T17:59:13.628Z"
   },
   {
    "duration": 17,
    "start_time": "2021-11-03T17:59:13.746Z"
   },
   {
    "duration": 19,
    "start_time": "2021-11-03T17:59:13.767Z"
   },
   {
    "duration": 29,
    "start_time": "2021-11-03T17:59:13.788Z"
   },
   {
    "duration": 9,
    "start_time": "2021-11-03T17:59:13.819Z"
   },
   {
    "duration": 32,
    "start_time": "2021-11-03T17:59:13.830Z"
   },
   {
    "duration": 27,
    "start_time": "2021-11-03T17:59:13.865Z"
   },
   {
    "duration": 8,
    "start_time": "2021-11-03T17:59:13.895Z"
   },
   {
    "duration": 16,
    "start_time": "2021-11-03T17:59:13.905Z"
   },
   {
    "duration": 17,
    "start_time": "2021-11-03T17:59:13.923Z"
   },
   {
    "duration": 46,
    "start_time": "2021-11-03T17:59:13.961Z"
   },
   {
    "duration": 19,
    "start_time": "2021-11-03T17:59:14.010Z"
   },
   {
    "duration": 12,
    "start_time": "2021-11-03T17:59:14.031Z"
   },
   {
    "duration": 24,
    "start_time": "2021-11-03T17:59:14.046Z"
   },
   {
    "duration": 35,
    "start_time": "2021-11-03T17:59:14.073Z"
   },
   {
    "duration": 19,
    "start_time": "2021-11-03T17:59:14.110Z"
   },
   {
    "duration": 4,
    "start_time": "2021-11-03T17:59:14.136Z"
   },
   {
    "duration": 26,
    "start_time": "2021-11-03T17:59:14.143Z"
   },
   {
    "duration": 22,
    "start_time": "2021-11-03T17:59:14.172Z"
   },
   {
    "duration": 29,
    "start_time": "2021-11-03T17:59:14.196Z"
   },
   {
    "duration": 8,
    "start_time": "2021-11-03T17:59:14.227Z"
   },
   {
    "duration": 24,
    "start_time": "2021-11-03T17:59:14.237Z"
   },
   {
    "duration": 19,
    "start_time": "2021-11-03T17:59:14.265Z"
   },
   {
    "duration": 17,
    "start_time": "2021-11-03T17:59:14.287Z"
   },
   {
    "duration": 8,
    "start_time": "2021-11-03T17:59:14.306Z"
   },
   {
    "duration": 12,
    "start_time": "2021-11-03T17:59:14.317Z"
   },
   {
    "duration": 3,
    "start_time": "2021-11-03T17:59:14.332Z"
   },
   {
    "duration": 32,
    "start_time": "2021-11-03T17:59:14.338Z"
   },
   {
    "duration": 21,
    "start_time": "2021-11-03T17:59:14.373Z"
   },
   {
    "duration": 10,
    "start_time": "2021-11-03T17:59:14.397Z"
   },
   {
    "duration": 59,
    "start_time": "2021-11-03T17:59:14.410Z"
   },
   {
    "duration": 6,
    "start_time": "2021-11-03T17:59:14.471Z"
   },
   {
    "duration": 19,
    "start_time": "2021-11-03T17:59:14.482Z"
   },
   {
    "duration": 3,
    "start_time": "2021-11-03T17:59:14.504Z"
   },
   {
    "duration": 52,
    "start_time": "2021-11-03T17:59:14.509Z"
   },
   {
    "duration": 37,
    "start_time": "2021-11-03T17:59:14.565Z"
   },
   {
    "duration": 63,
    "start_time": "2021-11-03T17:59:14.605Z"
   },
   {
    "duration": 18,
    "start_time": "2021-11-03T17:59:14.671Z"
   },
   {
    "duration": 4,
    "start_time": "2021-11-03T17:59:14.692Z"
   },
   {
    "duration": 21,
    "start_time": "2021-11-03T17:59:14.698Z"
   },
   {
    "duration": 2,
    "start_time": "2021-11-03T17:59:14.721Z"
   },
   {
    "duration": 78,
    "start_time": "2021-11-03T17:59:14.725Z"
   },
   {
    "duration": 3,
    "start_time": "2021-11-03T17:59:14.805Z"
   },
   {
    "duration": 13,
    "start_time": "2021-11-03T17:59:14.811Z"
   },
   {
    "duration": 45,
    "start_time": "2021-11-03T17:59:14.826Z"
   },
   {
    "duration": 16,
    "start_time": "2021-11-03T17:59:14.874Z"
   },
   {
    "duration": 4,
    "start_time": "2021-11-03T17:59:14.893Z"
   },
   {
    "duration": 21,
    "start_time": "2021-11-03T17:59:14.900Z"
   },
   {
    "duration": 49,
    "start_time": "2021-11-03T17:59:14.924Z"
   },
   {
    "duration": 16,
    "start_time": "2021-11-03T17:59:14.976Z"
   },
   {
    "duration": 19423,
    "start_time": "2021-11-03T17:59:14.995Z"
   },
   {
    "duration": 7,
    "start_time": "2021-11-03T17:59:34.421Z"
   },
   {
    "duration": 35,
    "start_time": "2021-11-03T17:59:34.431Z"
   },
   {
    "duration": 8,
    "start_time": "2021-11-03T17:59:34.469Z"
   },
   {
    "duration": 40,
    "start_time": "2021-11-03T17:59:34.479Z"
   },
   {
    "duration": 3,
    "start_time": "2021-11-03T17:59:34.521Z"
   },
   {
    "duration": 61,
    "start_time": "2021-11-03T17:59:34.526Z"
   },
   {
    "duration": 10,
    "start_time": "2021-11-03T17:59:34.590Z"
   },
   {
    "duration": 587,
    "start_time": "2021-11-03T17:59:34.603Z"
   },
   {
    "duration": 10,
    "start_time": "2021-11-03T17:59:35.193Z"
   },
   {
    "duration": 512,
    "start_time": "2021-11-03T17:59:35.206Z"
   },
   {
    "duration": 11,
    "start_time": "2021-11-03T17:59:35.720Z"
   },
   {
    "duration": 549,
    "start_time": "2021-11-03T17:59:35.733Z"
   },
   {
    "duration": 11,
    "start_time": "2021-11-03T17:59:36.285Z"
   },
   {
    "duration": 353,
    "start_time": "2021-11-03T17:59:36.298Z"
   },
   {
    "duration": 10,
    "start_time": "2021-11-03T17:59:36.659Z"
   },
   {
    "duration": 314,
    "start_time": "2021-11-03T17:59:36.671Z"
   },
   {
    "duration": 24,
    "start_time": "2021-11-03T17:59:36.987Z"
   },
   {
    "duration": 51,
    "start_time": "2021-11-03T17:59:37.013Z"
   },
   {
    "duration": 7,
    "start_time": "2021-11-03T17:59:37.066Z"
   },
   {
    "duration": 27,
    "start_time": "2021-11-03T17:59:37.083Z"
   },
   {
    "duration": 17,
    "start_time": "2021-11-03T17:59:37.113Z"
   },
   {
    "duration": 778,
    "start_time": "2021-11-03T17:59:37.132Z"
   },
   {
    "duration": 773,
    "start_time": "2021-11-03T17:59:37.913Z"
   },
   {
    "duration": 811,
    "start_time": "2021-11-03T17:59:38.688Z"
   },
   {
    "duration": 790,
    "start_time": "2021-11-03T17:59:39.501Z"
   },
   {
    "duration": 768,
    "start_time": "2021-11-03T17:59:40.294Z"
   },
   {
    "duration": 739,
    "start_time": "2021-11-03T17:59:41.064Z"
   },
   {
    "duration": 6,
    "start_time": "2021-11-03T17:59:41.806Z"
   },
   {
    "duration": 18,
    "start_time": "2021-11-03T17:59:41.815Z"
   },
   {
    "duration": 31,
    "start_time": "2021-11-03T17:59:41.835Z"
   },
   {
    "duration": 7,
    "start_time": "2021-11-03T17:59:41.869Z"
   },
   {
    "duration": 83,
    "start_time": "2021-11-03T17:59:41.878Z"
   },
   {
    "duration": 60,
    "start_time": "2021-11-03T17:59:41.964Z"
   },
   {
    "duration": 35,
    "start_time": "2021-11-03T17:59:42.026Z"
   },
   {
    "duration": 51,
    "start_time": "2021-11-03T17:59:42.064Z"
   },
   {
    "duration": 413,
    "start_time": "2021-11-03T17:59:42.117Z"
   },
   {
    "duration": 67,
    "start_time": "2021-11-03T17:59:42.533Z"
   },
   {
    "duration": 12,
    "start_time": "2021-11-03T17:59:42.603Z"
   },
   {
    "duration": 353,
    "start_time": "2021-11-03T17:59:42.617Z"
   },
   {
    "duration": 11,
    "start_time": "2021-11-03T17:59:42.976Z"
   },
   {
    "duration": 693,
    "start_time": "2021-11-03T17:59:42.989Z"
   },
   {
    "duration": 809,
    "start_time": "2021-11-03T17:59:43.685Z"
   },
   {
    "duration": 849,
    "start_time": "2021-11-03T17:59:44.497Z"
   },
   {
    "duration": 829,
    "start_time": "2021-11-03T17:59:45.348Z"
   },
   {
    "duration": 421,
    "start_time": "2021-11-03T17:59:46.181Z"
   },
   {
    "duration": 9,
    "start_time": "2021-11-03T17:59:46.604Z"
   },
   {
    "duration": 39,
    "start_time": "2021-11-03T18:05:52.785Z"
   },
   {
    "duration": 39,
    "start_time": "2021-11-03T18:05:56.933Z"
   },
   {
    "duration": 8,
    "start_time": "2021-11-03T18:08:39.049Z"
   },
   {
    "duration": 9,
    "start_time": "2021-11-03T18:29:35.007Z"
   },
   {
    "duration": 9,
    "start_time": "2021-11-03T18:29:41.710Z"
   },
   {
    "duration": 505,
    "start_time": "2021-11-03T18:32:21.340Z"
   },
   {
    "duration": 19,
    "start_time": "2021-11-03T18:33:22.764Z"
   },
   {
    "duration": 1885,
    "start_time": "2021-11-03T18:37:34.699Z"
   },
   {
    "duration": 1522,
    "start_time": "2021-11-03T18:37:53.175Z"
   },
   {
    "duration": 397,
    "start_time": "2021-11-03T18:38:16.886Z"
   },
   {
    "duration": 18,
    "start_time": "2021-11-03T18:38:26.173Z"
   },
   {
    "duration": 27,
    "start_time": "2021-11-03T18:38:33.360Z"
   },
   {
    "duration": 18,
    "start_time": "2021-11-03T18:40:54.099Z"
   },
   {
    "duration": 765,
    "start_time": "2021-11-03T18:41:36.214Z"
   },
   {
    "duration": 574,
    "start_time": "2021-11-03T18:42:12.285Z"
   },
   {
    "duration": 537,
    "start_time": "2021-11-03T18:42:45.524Z"
   },
   {
    "duration": 557,
    "start_time": "2021-11-03T18:43:07.458Z"
   },
   {
    "duration": 558,
    "start_time": "2021-11-03T18:43:50.409Z"
   },
   {
    "duration": 378,
    "start_time": "2021-11-03T18:44:07.084Z"
   },
   {
    "duration": 50,
    "start_time": "2021-11-03T18:45:15.723Z"
   },
   {
    "duration": 9,
    "start_time": "2021-11-03T18:45:41.572Z"
   },
   {
    "duration": 308,
    "start_time": "2021-11-03T18:46:04.671Z"
   },
   {
    "duration": 9,
    "start_time": "2021-11-03T18:46:20.410Z"
   },
   {
    "duration": 18,
    "start_time": "2021-11-03T18:47:53.216Z"
   },
   {
    "duration": 563,
    "start_time": "2021-11-03T18:48:54.372Z"
   },
   {
    "duration": 612,
    "start_time": "2021-11-03T18:48:55.986Z"
   },
   {
    "duration": 809,
    "start_time": "2021-11-03T18:50:12.030Z"
   },
   {
    "duration": 706,
    "start_time": "2021-11-03T18:50:14.411Z"
   },
   {
    "duration": 392,
    "start_time": "2021-11-03T18:50:15.119Z"
   },
   {
    "duration": 568,
    "start_time": "2021-11-03T18:50:27.034Z"
   },
   {
    "duration": 421,
    "start_time": "2021-11-03T18:50:46.329Z"
   },
   {
    "duration": 8,
    "start_time": "2021-11-03T18:50:54.236Z"
   },
   {
    "duration": 298,
    "start_time": "2021-11-03T18:51:33.656Z"
   },
   {
    "duration": 1011,
    "start_time": "2021-11-03T18:53:08.106Z"
   },
   {
    "duration": 167,
    "start_time": "2021-11-03T18:53:09.119Z"
   },
   {
    "duration": 57,
    "start_time": "2021-11-03T18:53:09.289Z"
   },
   {
    "duration": 45,
    "start_time": "2021-11-03T18:53:09.349Z"
   },
   {
    "duration": 151,
    "start_time": "2021-11-03T18:53:09.396Z"
   },
   {
    "duration": 766,
    "start_time": "2021-11-03T18:53:09.550Z"
   },
   {
    "duration": 4050,
    "start_time": "2021-11-03T18:53:10.319Z"
   },
   {
    "duration": 16,
    "start_time": "2021-11-03T18:53:14.373Z"
   },
   {
    "duration": 23740,
    "start_time": "2021-11-03T18:53:14.392Z"
   },
   {
    "duration": 27,
    "start_time": "2021-11-03T18:53:38.134Z"
   },
   {
    "duration": 85,
    "start_time": "2021-11-03T18:53:38.163Z"
   },
   {
    "duration": 13,
    "start_time": "2021-11-03T18:53:38.250Z"
   },
   {
    "duration": 7,
    "start_time": "2021-11-03T18:53:38.265Z"
   },
   {
    "duration": 25,
    "start_time": "2021-11-03T18:53:38.275Z"
   },
   {
    "duration": 10,
    "start_time": "2021-11-03T18:53:38.302Z"
   },
   {
    "duration": 53,
    "start_time": "2021-11-03T18:53:38.315Z"
   },
   {
    "duration": 24,
    "start_time": "2021-11-03T18:53:38.371Z"
   },
   {
    "duration": 9,
    "start_time": "2021-11-03T18:53:38.397Z"
   },
   {
    "duration": 5,
    "start_time": "2021-11-03T18:53:38.408Z"
   },
   {
    "duration": 50,
    "start_time": "2021-11-03T18:53:38.415Z"
   },
   {
    "duration": 25,
    "start_time": "2021-11-03T18:53:38.467Z"
   },
   {
    "duration": 13,
    "start_time": "2021-11-03T18:53:38.494Z"
   },
   {
    "duration": 4,
    "start_time": "2021-11-03T18:53:38.512Z"
   },
   {
    "duration": 42,
    "start_time": "2021-11-03T18:53:38.519Z"
   },
   {
    "duration": 3,
    "start_time": "2021-11-03T18:53:38.564Z"
   },
   {
    "duration": 17,
    "start_time": "2021-11-03T18:53:38.569Z"
   },
   {
    "duration": 13,
    "start_time": "2021-11-03T18:53:38.589Z"
   },
   {
    "duration": 16,
    "start_time": "2021-11-03T18:53:38.605Z"
   },
   {
    "duration": 3,
    "start_time": "2021-11-03T18:53:38.623Z"
   },
   {
    "duration": 35,
    "start_time": "2021-11-03T18:53:38.629Z"
   },
   {
    "duration": 7,
    "start_time": "2021-11-03T18:53:38.666Z"
   },
   {
    "duration": 18,
    "start_time": "2021-11-03T18:53:38.675Z"
   },
   {
    "duration": 8,
    "start_time": "2021-11-03T18:53:38.695Z"
   },
   {
    "duration": 15,
    "start_time": "2021-11-03T18:53:38.705Z"
   },
   {
    "duration": 9,
    "start_time": "2021-11-03T18:53:38.722Z"
   },
   {
    "duration": 27,
    "start_time": "2021-11-03T18:53:38.733Z"
   },
   {
    "duration": 6,
    "start_time": "2021-11-03T18:53:38.763Z"
   },
   {
    "duration": 64,
    "start_time": "2021-11-03T18:53:38.771Z"
   },
   {
    "duration": 119,
    "start_time": "2021-11-03T18:53:38.838Z"
   },
   {
    "duration": 104,
    "start_time": "2021-11-03T18:53:38.960Z"
   },
   {
    "duration": 142,
    "start_time": "2021-11-03T18:53:39.068Z"
   },
   {
    "duration": 31,
    "start_time": "2021-11-03T18:53:39.213Z"
   },
   {
    "duration": 13,
    "start_time": "2021-11-03T18:53:39.247Z"
   },
   {
    "duration": 3,
    "start_time": "2021-11-03T18:53:39.263Z"
   },
   {
    "duration": 32,
    "start_time": "2021-11-03T18:53:39.269Z"
   },
   {
    "duration": 27,
    "start_time": "2021-11-03T18:53:39.304Z"
   },
   {
    "duration": 38,
    "start_time": "2021-11-03T18:53:39.360Z"
   },
   {
    "duration": 16,
    "start_time": "2021-11-03T18:53:39.401Z"
   },
   {
    "duration": 3,
    "start_time": "2021-11-03T18:53:39.419Z"
   },
   {
    "duration": 47,
    "start_time": "2021-11-03T18:53:39.424Z"
   },
   {
    "duration": 3,
    "start_time": "2021-11-03T18:53:39.474Z"
   },
   {
    "duration": 42,
    "start_time": "2021-11-03T18:53:39.480Z"
   },
   {
    "duration": 2,
    "start_time": "2021-11-03T18:53:39.525Z"
   },
   {
    "duration": 37,
    "start_time": "2021-11-03T18:53:39.530Z"
   },
   {
    "duration": 16,
    "start_time": "2021-11-03T18:53:39.570Z"
   },
   {
    "duration": 13,
    "start_time": "2021-11-03T18:53:39.588Z"
   },
   {
    "duration": 3,
    "start_time": "2021-11-03T18:53:39.604Z"
   },
   {
    "duration": 52,
    "start_time": "2021-11-03T18:53:39.609Z"
   },
   {
    "duration": 12,
    "start_time": "2021-11-03T18:53:39.663Z"
   },
   {
    "duration": 12,
    "start_time": "2021-11-03T18:53:39.677Z"
   },
   {
    "duration": 17292,
    "start_time": "2021-11-03T18:53:39.691Z"
   },
   {
    "duration": 7,
    "start_time": "2021-11-03T18:53:56.986Z"
   },
   {
    "duration": 25,
    "start_time": "2021-11-03T18:53:56.996Z"
   },
   {
    "duration": 7,
    "start_time": "2021-11-03T18:53:57.024Z"
   },
   {
    "duration": 32,
    "start_time": "2021-11-03T18:53:57.059Z"
   },
   {
    "duration": 3,
    "start_time": "2021-11-03T18:53:57.094Z"
   },
   {
    "duration": 9,
    "start_time": "2021-11-03T18:53:57.100Z"
   },
   {
    "duration": 68,
    "start_time": "2021-11-03T18:53:57.119Z"
   },
   {
    "duration": 11,
    "start_time": "2021-11-03T18:53:57.191Z"
   },
   {
    "duration": 441,
    "start_time": "2021-11-03T18:53:57.204Z"
   },
   {
    "duration": 20,
    "start_time": "2021-11-03T18:53:57.648Z"
   },
   {
    "duration": 450,
    "start_time": "2021-11-03T18:53:57.671Z"
   },
   {
    "duration": 13,
    "start_time": "2021-11-03T18:53:58.124Z"
   },
   {
    "duration": 526,
    "start_time": "2021-11-03T18:53:58.140Z"
   },
   {
    "duration": 13,
    "start_time": "2021-11-03T18:53:58.669Z"
   },
   {
    "duration": 312,
    "start_time": "2021-11-03T18:53:58.685Z"
   },
   {
    "duration": 8,
    "start_time": "2021-11-03T18:53:59.000Z"
   },
   {
    "duration": 280,
    "start_time": "2021-11-03T18:53:59.011Z"
   },
   {
    "duration": 26,
    "start_time": "2021-11-03T18:53:59.294Z"
   },
   {
    "duration": 58,
    "start_time": "2021-11-03T18:53:59.322Z"
   },
   {
    "duration": 5,
    "start_time": "2021-11-03T18:53:59.382Z"
   },
   {
    "duration": 8,
    "start_time": "2021-11-03T18:53:59.389Z"
   },
   {
    "duration": 5,
    "start_time": "2021-11-03T18:53:59.400Z"
   },
   {
    "duration": 675,
    "start_time": "2021-11-03T18:53:59.408Z"
   },
   {
    "duration": 694,
    "start_time": "2021-11-03T18:54:00.086Z"
   },
   {
    "duration": 808,
    "start_time": "2021-11-03T18:54:00.783Z"
   },
   {
    "duration": 677,
    "start_time": "2021-11-03T18:54:01.593Z"
   },
   {
    "duration": 640,
    "start_time": "2021-11-03T18:54:02.273Z"
   },
   {
    "duration": 3,
    "start_time": "2021-11-03T18:54:02.915Z"
   },
   {
    "duration": 609,
    "start_time": "2021-11-03T18:54:02.920Z"
   },
   {
    "duration": 5,
    "start_time": "2021-11-03T18:54:03.531Z"
   },
   {
    "duration": 21,
    "start_time": "2021-11-03T18:54:03.539Z"
   },
   {
    "duration": 11,
    "start_time": "2021-11-03T18:54:03.562Z"
   },
   {
    "duration": 7,
    "start_time": "2021-11-03T18:54:03.575Z"
   },
   {
    "duration": 60,
    "start_time": "2021-11-03T18:54:03.584Z"
   },
   {
    "duration": 59,
    "start_time": "2021-11-03T18:54:03.646Z"
   },
   {
    "duration": 10,
    "start_time": "2021-11-03T18:54:03.707Z"
   },
   {
    "duration": 65,
    "start_time": "2021-11-03T18:54:03.720Z"
   },
   {
    "duration": 334,
    "start_time": "2021-11-03T18:54:03.788Z"
   },
   {
    "duration": 56,
    "start_time": "2021-11-03T18:54:04.124Z"
   },
   {
    "duration": 8,
    "start_time": "2021-11-03T18:54:04.183Z"
   },
   {
    "duration": 286,
    "start_time": "2021-11-03T18:54:04.193Z"
   },
   {
    "duration": 8,
    "start_time": "2021-11-03T18:54:04.481Z"
   },
   {
    "duration": 20,
    "start_time": "2021-11-03T18:54:04.491Z"
   },
   {
    "duration": 549,
    "start_time": "2021-11-03T18:54:04.513Z"
   },
   {
    "duration": 518,
    "start_time": "2021-11-03T18:54:05.064Z"
   },
   {
    "duration": 582,
    "start_time": "2021-11-03T18:54:05.584Z"
   },
   {
    "duration": 523,
    "start_time": "2021-11-03T18:54:06.168Z"
   },
   {
    "duration": 461,
    "start_time": "2021-11-03T18:54:06.694Z"
   },
   {
    "duration": 10,
    "start_time": "2021-11-03T18:54:07.158Z"
   },
   {
    "duration": 42,
    "start_time": "2021-11-03T18:54:07.171Z"
   },
   {
    "duration": 10,
    "start_time": "2021-11-03T18:54:07.216Z"
   },
   {
    "duration": 294,
    "start_time": "2021-11-03T18:54:07.260Z"
   },
   {
    "duration": 9,
    "start_time": "2021-11-03T18:54:07.560Z"
   },
   {
    "duration": 20,
    "start_time": "2021-11-03T18:54:07.571Z"
   },
   {
    "duration": 636,
    "start_time": "2021-11-03T18:54:07.593Z"
   },
   {
    "duration": 532,
    "start_time": "2021-11-03T18:54:08.232Z"
   },
   {
    "duration": 502,
    "start_time": "2021-11-03T18:54:08.766Z"
   },
   {
    "duration": 502,
    "start_time": "2021-11-03T18:54:09.271Z"
   },
   {
    "duration": 374,
    "start_time": "2021-11-03T18:54:09.776Z"
   },
   {
    "duration": 12,
    "start_time": "2021-11-03T18:54:10.152Z"
   },
   {
    "duration": 990,
    "start_time": "2021-11-03T19:55:04.930Z"
   },
   {
    "duration": 159,
    "start_time": "2021-11-03T19:55:05.922Z"
   },
   {
    "duration": 83,
    "start_time": "2021-11-03T19:55:06.084Z"
   },
   {
    "duration": 26,
    "start_time": "2021-11-03T19:55:06.189Z"
   },
   {
    "duration": 128,
    "start_time": "2021-11-03T19:55:06.218Z"
   },
   {
    "duration": 776,
    "start_time": "2021-11-03T19:55:06.348Z"
   },
   {
    "duration": 4103,
    "start_time": "2021-11-03T19:55:07.127Z"
   },
   {
    "duration": 28,
    "start_time": "2021-11-03T19:55:11.232Z"
   },
   {
    "duration": 23802,
    "start_time": "2021-11-03T19:55:11.269Z"
   },
   {
    "duration": 16,
    "start_time": "2021-11-03T19:55:35.077Z"
   },
   {
    "duration": 110,
    "start_time": "2021-11-03T19:55:35.095Z"
   },
   {
    "duration": 7,
    "start_time": "2021-11-03T19:55:35.207Z"
   },
   {
    "duration": 8,
    "start_time": "2021-11-03T19:55:35.217Z"
   },
   {
    "duration": 44,
    "start_time": "2021-11-03T19:55:35.227Z"
   },
   {
    "duration": 9,
    "start_time": "2021-11-03T19:55:35.275Z"
   },
   {
    "duration": 11,
    "start_time": "2021-11-03T19:55:35.287Z"
   },
   {
    "duration": 22,
    "start_time": "2021-11-03T19:55:35.300Z"
   },
   {
    "duration": 44,
    "start_time": "2021-11-03T19:55:35.324Z"
   },
   {
    "duration": 4,
    "start_time": "2021-11-03T19:55:35.372Z"
   },
   {
    "duration": 16,
    "start_time": "2021-11-03T19:55:35.379Z"
   },
   {
    "duration": 36,
    "start_time": "2021-11-03T19:55:35.397Z"
   },
   {
    "duration": 45,
    "start_time": "2021-11-03T19:55:35.435Z"
   },
   {
    "duration": 10,
    "start_time": "2021-11-03T19:55:35.483Z"
   },
   {
    "duration": 15,
    "start_time": "2021-11-03T19:55:35.495Z"
   },
   {
    "duration": 4,
    "start_time": "2021-11-03T19:55:35.512Z"
   },
   {
    "duration": 17,
    "start_time": "2021-11-03T19:55:35.518Z"
   },
   {
    "duration": 12,
    "start_time": "2021-11-03T19:55:35.565Z"
   },
   {
    "duration": 12,
    "start_time": "2021-11-03T19:55:35.582Z"
   },
   {
    "duration": 2,
    "start_time": "2021-11-03T19:55:35.597Z"
   },
   {
    "duration": 14,
    "start_time": "2021-11-03T19:55:35.601Z"
   },
   {
    "duration": 9,
    "start_time": "2021-11-03T19:55:35.617Z"
   },
   {
    "duration": 45,
    "start_time": "2021-11-03T19:55:35.628Z"
   },
   {
    "duration": 7,
    "start_time": "2021-11-03T19:55:35.676Z"
   },
   {
    "duration": 16,
    "start_time": "2021-11-03T19:55:35.686Z"
   },
   {
    "duration": 5,
    "start_time": "2021-11-03T19:55:35.704Z"
   },
   {
    "duration": 14,
    "start_time": "2021-11-03T19:55:35.712Z"
   },
   {
    "duration": 35,
    "start_time": "2021-11-03T19:55:35.728Z"
   },
   {
    "duration": 15,
    "start_time": "2021-11-03T19:55:35.767Z"
   },
   {
    "duration": 25,
    "start_time": "2021-11-03T19:55:35.785Z"
   },
   {
    "duration": 9,
    "start_time": "2021-11-03T19:55:35.813Z"
   },
   {
    "duration": 63,
    "start_time": "2021-11-03T19:55:35.824Z"
   },
   {
    "duration": 3,
    "start_time": "2021-11-03T19:55:35.889Z"
   },
   {
    "duration": 14,
    "start_time": "2021-11-03T19:55:35.894Z"
   },
   {
    "duration": 6,
    "start_time": "2021-11-03T19:55:35.911Z"
   },
   {
    "duration": 54,
    "start_time": "2021-11-03T19:55:35.920Z"
   },
   {
    "duration": 32,
    "start_time": "2021-11-03T19:55:35.976Z"
   },
   {
    "duration": 61,
    "start_time": "2021-11-03T19:55:36.011Z"
   },
   {
    "duration": 17,
    "start_time": "2021-11-03T19:55:36.075Z"
   },
   {
    "duration": 3,
    "start_time": "2021-11-03T19:55:36.095Z"
   },
   {
    "duration": 21,
    "start_time": "2021-11-03T19:55:36.100Z"
   },
   {
    "duration": 36,
    "start_time": "2021-11-03T19:55:36.124Z"
   },
   {
    "duration": 50,
    "start_time": "2021-11-03T19:55:36.163Z"
   },
   {
    "duration": 3,
    "start_time": "2021-11-03T19:55:36.215Z"
   },
   {
    "duration": 44,
    "start_time": "2021-11-03T19:55:36.221Z"
   },
   {
    "duration": 17,
    "start_time": "2021-11-03T19:55:36.269Z"
   },
   {
    "duration": 12,
    "start_time": "2021-11-03T19:55:36.288Z"
   },
   {
    "duration": 3,
    "start_time": "2021-11-03T19:55:36.302Z"
   },
   {
    "duration": 16,
    "start_time": "2021-11-03T19:55:36.308Z"
   },
   {
    "duration": 50,
    "start_time": "2021-11-03T19:55:36.327Z"
   },
   {
    "duration": 13,
    "start_time": "2021-11-03T19:55:36.379Z"
   },
   {
    "duration": 19402,
    "start_time": "2021-11-03T19:55:36.394Z"
   },
   {
    "duration": 9,
    "start_time": "2021-11-03T19:55:55.799Z"
   },
   {
    "duration": 19,
    "start_time": "2021-11-03T19:55:55.810Z"
   },
   {
    "duration": 32,
    "start_time": "2021-11-03T19:55:55.831Z"
   },
   {
    "duration": 36,
    "start_time": "2021-11-03T19:55:55.866Z"
   },
   {
    "duration": 3,
    "start_time": "2021-11-03T19:55:55.904Z"
   },
   {
    "duration": 6,
    "start_time": "2021-11-03T19:55:55.910Z"
   },
   {
    "duration": 69,
    "start_time": "2021-11-03T19:55:55.919Z"
   },
   {
    "duration": 13,
    "start_time": "2021-11-03T19:55:55.991Z"
   },
   {
    "duration": 588,
    "start_time": "2021-11-03T19:55:56.007Z"
   },
   {
    "duration": 14,
    "start_time": "2021-11-03T19:55:56.598Z"
   },
   {
    "duration": 500,
    "start_time": "2021-11-03T19:55:56.615Z"
   },
   {
    "duration": 31,
    "start_time": "2021-11-03T19:55:57.118Z"
   },
   {
    "duration": 699,
    "start_time": "2021-11-03T19:55:57.153Z"
   },
   {
    "duration": 14,
    "start_time": "2021-11-03T19:55:57.854Z"
   },
   {
    "duration": 338,
    "start_time": "2021-11-03T19:55:57.871Z"
   },
   {
    "duration": 10,
    "start_time": "2021-11-03T19:55:58.212Z"
   },
   {
    "duration": 294,
    "start_time": "2021-11-03T19:55:58.225Z"
   },
   {
    "duration": 38,
    "start_time": "2021-11-03T19:55:58.521Z"
   },
   {
    "duration": 36,
    "start_time": "2021-11-03T19:55:58.561Z"
   },
   {
    "duration": 6,
    "start_time": "2021-11-03T19:55:58.610Z"
   },
   {
    "duration": 6,
    "start_time": "2021-11-03T19:55:58.621Z"
   },
   {
    "duration": 3,
    "start_time": "2021-11-03T19:55:58.662Z"
   },
   {
    "duration": 785,
    "start_time": "2021-11-03T19:55:58.667Z"
   },
   {
    "duration": 705,
    "start_time": "2021-11-03T19:55:59.458Z"
   },
   {
    "duration": 725,
    "start_time": "2021-11-03T19:56:00.166Z"
   },
   {
    "duration": 713,
    "start_time": "2021-11-03T19:56:00.894Z"
   },
   {
    "duration": 734,
    "start_time": "2021-11-03T19:56:01.610Z"
   },
   {
    "duration": 3,
    "start_time": "2021-11-03T19:56:02.346Z"
   },
   {
    "duration": 652,
    "start_time": "2021-11-03T19:56:02.359Z"
   },
   {
    "duration": 6,
    "start_time": "2021-11-03T19:56:03.014Z"
   },
   {
    "duration": 10,
    "start_time": "2021-11-03T19:56:03.022Z"
   },
   {
    "duration": 39,
    "start_time": "2021-11-03T19:56:03.034Z"
   },
   {
    "duration": 10,
    "start_time": "2021-11-03T19:56:03.077Z"
   },
   {
    "duration": 80,
    "start_time": "2021-11-03T19:56:03.090Z"
   },
   {
    "duration": 56,
    "start_time": "2021-11-03T19:56:03.173Z"
   },
   {
    "duration": 33,
    "start_time": "2021-11-03T19:56:03.231Z"
   },
   {
    "duration": 39,
    "start_time": "2021-11-03T19:56:03.266Z"
   },
   {
    "duration": 344,
    "start_time": "2021-11-03T19:56:03.308Z"
   },
   {
    "duration": 41,
    "start_time": "2021-11-03T19:56:03.660Z"
   },
   {
    "duration": 8,
    "start_time": "2021-11-03T19:56:03.703Z"
   },
   {
    "duration": 313,
    "start_time": "2021-11-03T19:56:03.713Z"
   },
   {
    "duration": 9,
    "start_time": "2021-11-03T19:56:04.029Z"
   },
   {
    "duration": 34,
    "start_time": "2021-11-03T19:56:04.041Z"
   },
   {
    "duration": 708,
    "start_time": "2021-11-03T19:56:04.077Z"
   },
   {
    "duration": 581,
    "start_time": "2021-11-03T19:56:04.788Z"
   },
   {
    "duration": 561,
    "start_time": "2021-11-03T19:56:05.371Z"
   }
  ],
  "kernelspec": {
   "display_name": "Python 3",
   "language": "python",
   "name": "python3"
  },
  "language_info": {
   "codemirror_mode": {
    "name": "ipython",
    "version": 3
   },
   "file_extension": ".py",
   "mimetype": "text/x-python",
   "name": "python",
   "nbconvert_exporter": "python",
   "pygments_lexer": "ipython3",
   "version": "3.8.8"
  },
  "toc": {
   "base_numbering": 1,
   "nav_menu": {},
   "number_sections": true,
   "sideBar": true,
   "skip_h1_title": true,
   "title_cell": "Table of Contents",
   "title_sidebar": "Contents",
   "toc_cell": false,
   "toc_position": {},
   "toc_section_display": true,
   "toc_window_display": true
  }
 },
 "nbformat": 4,
 "nbformat_minor": 2
}
